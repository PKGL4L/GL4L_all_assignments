{
 "cells": [
  {
   "cell_type": "code",
   "execution_count": 1,
   "metadata": {},
   "outputs": [],
   "source": [
    "##The dataset was used in the 1983 American Statistical Association Exposition. The data concerns city-cycle fuel consumption in miles per gallon, to be predicted in terms of 2 multivalued discrete and 4 continuous variables.\n",
    "\n",
    "##Dataset: cars-dataset.csvView in a new window\n",
    "\n",
    "##Attribute Information:\n",
    "\n",
    "##Car Name – Name of the car\n",
    "\n",
    "##Cyl – No of cylinders in the car – Multivalued discrete\n",
    "\n",
    "##Disp – Displacement – continuous\n",
    "\n",
    "##Hp – Horsepower – continuous\n",
    "\n",
    "##Wt – Weight – continuous\n",
    "\n",
    "##Acc – Accleration – continuous\n",
    "\n",
    "##Yr – Model of the car – Multivalued discrete"
   ]
  },
  {
   "cell_type": "code",
   "execution_count": 2,
   "metadata": {},
   "outputs": [],
   "source": [
    "###EDA & Pre-processing (Make sure to remove all non-numeric entries from numeric columns) – 2.5 points"
   ]
  },
  {
   "cell_type": "code",
   "execution_count": 3,
   "metadata": {},
   "outputs": [],
   "source": [
    "import numpy as np\n",
    "import pandas as pd\n",
    "import seaborn as sns\n",
    "from matplotlib import pyplot as plt\n",
    "from sklearn import metrics"
   ]
  },
  {
   "cell_type": "code",
   "execution_count": 4,
   "metadata": {},
   "outputs": [],
   "source": [
    "car_df=pd.DataFrame()\n",
    "car_df=pd.read_csv('cars-dataset.csv').rename(columns=lambda x : x.strip())"
   ]
  },
  {
   "cell_type": "code",
   "execution_count": 5,
   "metadata": {},
   "outputs": [
    {
     "data": {
      "text/html": [
       "<div>\n",
       "<style scoped>\n",
       "    .dataframe tbody tr th:only-of-type {\n",
       "        vertical-align: middle;\n",
       "    }\n",
       "\n",
       "    .dataframe tbody tr th {\n",
       "        vertical-align: top;\n",
       "    }\n",
       "\n",
       "    .dataframe thead th {\n",
       "        text-align: right;\n",
       "    }\n",
       "</style>\n",
       "<table border=\"1\" class=\"dataframe\">\n",
       "  <thead>\n",
       "    <tr style=\"text-align: right;\">\n",
       "      <th></th>\n",
       "      <th>car name</th>\n",
       "      <th>cyl</th>\n",
       "      <th>disp</th>\n",
       "      <th>hp</th>\n",
       "      <th>wt</th>\n",
       "      <th>acc</th>\n",
       "      <th>yr</th>\n",
       "      <th>mpg</th>\n",
       "    </tr>\n",
       "  </thead>\n",
       "  <tbody>\n",
       "    <tr>\n",
       "      <th>0</th>\n",
       "      <td>chevrolet chevelle malibu</td>\n",
       "      <td>8</td>\n",
       "      <td>307.0</td>\n",
       "      <td>130</td>\n",
       "      <td>3504</td>\n",
       "      <td>12.0</td>\n",
       "      <td>70</td>\n",
       "      <td>18.0</td>\n",
       "    </tr>\n",
       "    <tr>\n",
       "      <th>1</th>\n",
       "      <td>buick skylark 320</td>\n",
       "      <td>8</td>\n",
       "      <td>350.0</td>\n",
       "      <td>165</td>\n",
       "      <td>3693</td>\n",
       "      <td>11.5</td>\n",
       "      <td>70</td>\n",
       "      <td>15.0</td>\n",
       "    </tr>\n",
       "    <tr>\n",
       "      <th>2</th>\n",
       "      <td>plymouth satellite</td>\n",
       "      <td>8</td>\n",
       "      <td>318.0</td>\n",
       "      <td>150</td>\n",
       "      <td>3436</td>\n",
       "      <td>11.0</td>\n",
       "      <td>70</td>\n",
       "      <td>18.0</td>\n",
       "    </tr>\n",
       "    <tr>\n",
       "      <th>3</th>\n",
       "      <td>amc rebel sst</td>\n",
       "      <td>8</td>\n",
       "      <td>304.0</td>\n",
       "      <td>150</td>\n",
       "      <td>3433</td>\n",
       "      <td>12.0</td>\n",
       "      <td>70</td>\n",
       "      <td>16.0</td>\n",
       "    </tr>\n",
       "    <tr>\n",
       "      <th>4</th>\n",
       "      <td>ford torino</td>\n",
       "      <td>8</td>\n",
       "      <td>302.0</td>\n",
       "      <td>140</td>\n",
       "      <td>3449</td>\n",
       "      <td>10.5</td>\n",
       "      <td>70</td>\n",
       "      <td>17.0</td>\n",
       "    </tr>\n",
       "  </tbody>\n",
       "</table>\n",
       "</div>"
      ],
      "text/plain": [
       "                    car name  cyl   disp   hp    wt   acc  yr   mpg\n",
       "0  chevrolet chevelle malibu    8  307.0  130  3504  12.0  70  18.0\n",
       "1          buick skylark 320    8  350.0  165  3693  11.5  70  15.0\n",
       "2         plymouth satellite    8  318.0  150  3436  11.0  70  18.0\n",
       "3              amc rebel sst    8  304.0  150  3433  12.0  70  16.0\n",
       "4                ford torino    8  302.0  140  3449  10.5  70  17.0"
      ]
     },
     "execution_count": 5,
     "metadata": {},
     "output_type": "execute_result"
    }
   ],
   "source": [
    "car_df.head()"
   ]
  },
  {
   "cell_type": "code",
   "execution_count": 6,
   "metadata": {},
   "outputs": [
    {
     "name": "stdout",
     "output_type": "stream",
     "text": [
      "<class 'pandas.core.frame.DataFrame'>\n",
      "RangeIndex: 398 entries, 0 to 397\n",
      "Data columns (total 8 columns):\n",
      "car name    398 non-null object\n",
      "cyl         398 non-null int64\n",
      "disp        398 non-null float64\n",
      "hp          398 non-null object\n",
      "wt          398 non-null int64\n",
      "acc         398 non-null float64\n",
      "yr          398 non-null int64\n",
      "mpg         398 non-null float64\n",
      "dtypes: float64(3), int64(3), object(2)\n",
      "memory usage: 25.0+ KB\n"
     ]
    }
   ],
   "source": [
    "car_df.info()"
   ]
  },
  {
   "cell_type": "code",
   "execution_count": 7,
   "metadata": {},
   "outputs": [
    {
     "data": {
      "text/html": [
       "<div>\n",
       "<style scoped>\n",
       "    .dataframe tbody tr th:only-of-type {\n",
       "        vertical-align: middle;\n",
       "    }\n",
       "\n",
       "    .dataframe tbody tr th {\n",
       "        vertical-align: top;\n",
       "    }\n",
       "\n",
       "    .dataframe thead th {\n",
       "        text-align: right;\n",
       "    }\n",
       "</style>\n",
       "<table border=\"1\" class=\"dataframe\">\n",
       "  <thead>\n",
       "    <tr style=\"text-align: right;\">\n",
       "      <th></th>\n",
       "      <th>cyl</th>\n",
       "      <th>disp</th>\n",
       "      <th>wt</th>\n",
       "      <th>acc</th>\n",
       "      <th>yr</th>\n",
       "      <th>mpg</th>\n",
       "    </tr>\n",
       "  </thead>\n",
       "  <tbody>\n",
       "    <tr>\n",
       "      <th>count</th>\n",
       "      <td>398.000000</td>\n",
       "      <td>398.000000</td>\n",
       "      <td>398.000000</td>\n",
       "      <td>398.000000</td>\n",
       "      <td>398.000000</td>\n",
       "      <td>398.000000</td>\n",
       "    </tr>\n",
       "    <tr>\n",
       "      <th>mean</th>\n",
       "      <td>5.454774</td>\n",
       "      <td>193.425879</td>\n",
       "      <td>2970.424623</td>\n",
       "      <td>15.568090</td>\n",
       "      <td>76.010050</td>\n",
       "      <td>23.514573</td>\n",
       "    </tr>\n",
       "    <tr>\n",
       "      <th>std</th>\n",
       "      <td>1.701004</td>\n",
       "      <td>104.269838</td>\n",
       "      <td>846.841774</td>\n",
       "      <td>2.757689</td>\n",
       "      <td>3.697627</td>\n",
       "      <td>7.815984</td>\n",
       "    </tr>\n",
       "    <tr>\n",
       "      <th>min</th>\n",
       "      <td>3.000000</td>\n",
       "      <td>68.000000</td>\n",
       "      <td>1613.000000</td>\n",
       "      <td>8.000000</td>\n",
       "      <td>70.000000</td>\n",
       "      <td>9.000000</td>\n",
       "    </tr>\n",
       "    <tr>\n",
       "      <th>25%</th>\n",
       "      <td>4.000000</td>\n",
       "      <td>104.250000</td>\n",
       "      <td>2223.750000</td>\n",
       "      <td>13.825000</td>\n",
       "      <td>73.000000</td>\n",
       "      <td>17.500000</td>\n",
       "    </tr>\n",
       "    <tr>\n",
       "      <th>50%</th>\n",
       "      <td>4.000000</td>\n",
       "      <td>148.500000</td>\n",
       "      <td>2803.500000</td>\n",
       "      <td>15.500000</td>\n",
       "      <td>76.000000</td>\n",
       "      <td>23.000000</td>\n",
       "    </tr>\n",
       "    <tr>\n",
       "      <th>75%</th>\n",
       "      <td>8.000000</td>\n",
       "      <td>262.000000</td>\n",
       "      <td>3608.000000</td>\n",
       "      <td>17.175000</td>\n",
       "      <td>79.000000</td>\n",
       "      <td>29.000000</td>\n",
       "    </tr>\n",
       "    <tr>\n",
       "      <th>max</th>\n",
       "      <td>8.000000</td>\n",
       "      <td>455.000000</td>\n",
       "      <td>5140.000000</td>\n",
       "      <td>24.800000</td>\n",
       "      <td>82.000000</td>\n",
       "      <td>46.600000</td>\n",
       "    </tr>\n",
       "  </tbody>\n",
       "</table>\n",
       "</div>"
      ],
      "text/plain": [
       "              cyl        disp           wt         acc          yr         mpg\n",
       "count  398.000000  398.000000   398.000000  398.000000  398.000000  398.000000\n",
       "mean     5.454774  193.425879  2970.424623   15.568090   76.010050   23.514573\n",
       "std      1.701004  104.269838   846.841774    2.757689    3.697627    7.815984\n",
       "min      3.000000   68.000000  1613.000000    8.000000   70.000000    9.000000\n",
       "25%      4.000000  104.250000  2223.750000   13.825000   73.000000   17.500000\n",
       "50%      4.000000  148.500000  2803.500000   15.500000   76.000000   23.000000\n",
       "75%      8.000000  262.000000  3608.000000   17.175000   79.000000   29.000000\n",
       "max      8.000000  455.000000  5140.000000   24.800000   82.000000   46.600000"
      ]
     },
     "execution_count": 7,
     "metadata": {},
     "output_type": "execute_result"
    }
   ],
   "source": [
    "car_df.describe()"
   ]
  },
  {
   "cell_type": "code",
   "execution_count": 8,
   "metadata": {},
   "outputs": [
    {
     "data": {
      "text/plain": [
       "(398, 8)"
      ]
     },
     "execution_count": 8,
     "metadata": {},
     "output_type": "execute_result"
    }
   ],
   "source": [
    "car_df.shape"
   ]
  },
  {
   "cell_type": "code",
   "execution_count": 9,
   "metadata": {},
   "outputs": [
    {
     "name": "stdout",
     "output_type": "stream",
     "text": [
      "Find hp column missing in the describe. On observing , we see that some values in this column are ?. Will replace them with NaN\n"
     ]
    }
   ],
   "source": [
    "print(\"Find hp column missing in the describe. On observing , we see that some values in this column are ?. Will replace them with NaN\")"
   ]
  },
  {
   "cell_type": "code",
   "execution_count": 10,
   "metadata": {},
   "outputs": [],
   "source": [
    "car_df['hp']=car_df['hp'].replace({'?':None})"
   ]
  },
  {
   "cell_type": "code",
   "execution_count": 11,
   "metadata": {},
   "outputs": [
    {
     "data": {
      "text/html": [
       "<div>\n",
       "<style scoped>\n",
       "    .dataframe tbody tr th:only-of-type {\n",
       "        vertical-align: middle;\n",
       "    }\n",
       "\n",
       "    .dataframe tbody tr th {\n",
       "        vertical-align: top;\n",
       "    }\n",
       "\n",
       "    .dataframe thead th {\n",
       "        text-align: right;\n",
       "    }\n",
       "</style>\n",
       "<table border=\"1\" class=\"dataframe\">\n",
       "  <thead>\n",
       "    <tr style=\"text-align: right;\">\n",
       "      <th></th>\n",
       "      <th>car name</th>\n",
       "      <th>cyl</th>\n",
       "      <th>disp</th>\n",
       "      <th>hp</th>\n",
       "      <th>wt</th>\n",
       "      <th>acc</th>\n",
       "      <th>yr</th>\n",
       "      <th>mpg</th>\n",
       "    </tr>\n",
       "  </thead>\n",
       "  <tbody>\n",
       "    <tr>\n",
       "      <th>32</th>\n",
       "      <td>ford pinto</td>\n",
       "      <td>4</td>\n",
       "      <td>98.0</td>\n",
       "      <td>None</td>\n",
       "      <td>2046</td>\n",
       "      <td>19.0</td>\n",
       "      <td>71</td>\n",
       "      <td>25.0</td>\n",
       "    </tr>\n",
       "    <tr>\n",
       "      <th>126</th>\n",
       "      <td>ford maverick</td>\n",
       "      <td>6</td>\n",
       "      <td>200.0</td>\n",
       "      <td>None</td>\n",
       "      <td>2875</td>\n",
       "      <td>17.0</td>\n",
       "      <td>74</td>\n",
       "      <td>21.0</td>\n",
       "    </tr>\n",
       "    <tr>\n",
       "      <th>330</th>\n",
       "      <td>renault lecar deluxe</td>\n",
       "      <td>4</td>\n",
       "      <td>85.0</td>\n",
       "      <td>None</td>\n",
       "      <td>1835</td>\n",
       "      <td>17.3</td>\n",
       "      <td>80</td>\n",
       "      <td>40.9</td>\n",
       "    </tr>\n",
       "    <tr>\n",
       "      <th>336</th>\n",
       "      <td>ford mustang cobra</td>\n",
       "      <td>4</td>\n",
       "      <td>140.0</td>\n",
       "      <td>None</td>\n",
       "      <td>2905</td>\n",
       "      <td>14.3</td>\n",
       "      <td>80</td>\n",
       "      <td>23.6</td>\n",
       "    </tr>\n",
       "    <tr>\n",
       "      <th>354</th>\n",
       "      <td>renault 18i</td>\n",
       "      <td>4</td>\n",
       "      <td>100.0</td>\n",
       "      <td>None</td>\n",
       "      <td>2320</td>\n",
       "      <td>15.8</td>\n",
       "      <td>81</td>\n",
       "      <td>34.5</td>\n",
       "    </tr>\n",
       "    <tr>\n",
       "      <th>374</th>\n",
       "      <td>amc concord dl</td>\n",
       "      <td>4</td>\n",
       "      <td>151.0</td>\n",
       "      <td>None</td>\n",
       "      <td>3035</td>\n",
       "      <td>20.5</td>\n",
       "      <td>82</td>\n",
       "      <td>23.0</td>\n",
       "    </tr>\n",
       "  </tbody>\n",
       "</table>\n",
       "</div>"
      ],
      "text/plain": [
       "                 car name  cyl   disp    hp    wt   acc  yr   mpg\n",
       "32             ford pinto    4   98.0  None  2046  19.0  71  25.0\n",
       "126         ford maverick    6  200.0  None  2875  17.0  74  21.0\n",
       "330  renault lecar deluxe    4   85.0  None  1835  17.3  80  40.9\n",
       "336    ford mustang cobra    4  140.0  None  2905  14.3  80  23.6\n",
       "354           renault 18i    4  100.0  None  2320  15.8  81  34.5\n",
       "374        amc concord dl    4  151.0  None  3035  20.5  82  23.0"
      ]
     },
     "execution_count": 11,
     "metadata": {},
     "output_type": "execute_result"
    }
   ],
   "source": [
    "#Let us see if we can get those records with nan\n",
    "\n",
    "car_df[car_df.isnull().any(axis=1)]"
   ]
  },
  {
   "cell_type": "code",
   "execution_count": 12,
   "metadata": {},
   "outputs": [],
   "source": [
    "car_df=car_df.dropna()"
   ]
  },
  {
   "cell_type": "code",
   "execution_count": 13,
   "metadata": {},
   "outputs": [
    {
     "data": {
      "text/plain": [
       "(392, 8)"
      ]
     },
     "execution_count": 13,
     "metadata": {},
     "output_type": "execute_result"
    }
   ],
   "source": [
    "car_df.shape"
   ]
  },
  {
   "cell_type": "code",
   "execution_count": 14,
   "metadata": {},
   "outputs": [
    {
     "name": "stdout",
     "output_type": "stream",
     "text": [
      "hp is of type object. Converting to float type\n",
      "<class 'pandas.core.frame.DataFrame'>\n",
      "Int64Index: 392 entries, 0 to 397\n",
      "Data columns (total 8 columns):\n",
      "car name    392 non-null object\n",
      "cyl         392 non-null int64\n",
      "disp        392 non-null float64\n",
      "hp          392 non-null float64\n",
      "wt          392 non-null int64\n",
      "acc         392 non-null float64\n",
      "yr          392 non-null int64\n",
      "mpg         392 non-null float64\n",
      "dtypes: float64(4), int64(3), object(1)\n",
      "memory usage: 27.6+ KB\n"
     ]
    }
   ],
   "source": [
    "print(\"hp is of type object. Converting to float type\")\n",
    "car_df['hp']=car_df['hp'].astype('float64')\n",
    "car_df.info()"
   ]
  },
  {
   "cell_type": "code",
   "execution_count": 15,
   "metadata": {},
   "outputs": [
    {
     "data": {
      "text/html": [
       "<div>\n",
       "<style scoped>\n",
       "    .dataframe tbody tr th:only-of-type {\n",
       "        vertical-align: middle;\n",
       "    }\n",
       "\n",
       "    .dataframe tbody tr th {\n",
       "        vertical-align: top;\n",
       "    }\n",
       "\n",
       "    .dataframe thead th {\n",
       "        text-align: right;\n",
       "    }\n",
       "</style>\n",
       "<table border=\"1\" class=\"dataframe\">\n",
       "  <thead>\n",
       "    <tr style=\"text-align: right;\">\n",
       "      <th></th>\n",
       "      <th>count</th>\n",
       "      <th>mean</th>\n",
       "      <th>std</th>\n",
       "      <th>min</th>\n",
       "      <th>25%</th>\n",
       "      <th>50%</th>\n",
       "      <th>75%</th>\n",
       "      <th>max</th>\n",
       "    </tr>\n",
       "  </thead>\n",
       "  <tbody>\n",
       "    <tr>\n",
       "      <th>cyl</th>\n",
       "      <td>392.0</td>\n",
       "      <td>5.471939</td>\n",
       "      <td>1.705783</td>\n",
       "      <td>3.0</td>\n",
       "      <td>4.000</td>\n",
       "      <td>4.00</td>\n",
       "      <td>8.000</td>\n",
       "      <td>8.0</td>\n",
       "    </tr>\n",
       "    <tr>\n",
       "      <th>disp</th>\n",
       "      <td>392.0</td>\n",
       "      <td>194.411990</td>\n",
       "      <td>104.644004</td>\n",
       "      <td>68.0</td>\n",
       "      <td>105.000</td>\n",
       "      <td>151.00</td>\n",
       "      <td>275.750</td>\n",
       "      <td>455.0</td>\n",
       "    </tr>\n",
       "    <tr>\n",
       "      <th>hp</th>\n",
       "      <td>392.0</td>\n",
       "      <td>104.469388</td>\n",
       "      <td>38.491160</td>\n",
       "      <td>46.0</td>\n",
       "      <td>75.000</td>\n",
       "      <td>93.50</td>\n",
       "      <td>126.000</td>\n",
       "      <td>230.0</td>\n",
       "    </tr>\n",
       "    <tr>\n",
       "      <th>wt</th>\n",
       "      <td>392.0</td>\n",
       "      <td>2977.584184</td>\n",
       "      <td>849.402560</td>\n",
       "      <td>1613.0</td>\n",
       "      <td>2225.250</td>\n",
       "      <td>2803.50</td>\n",
       "      <td>3614.750</td>\n",
       "      <td>5140.0</td>\n",
       "    </tr>\n",
       "    <tr>\n",
       "      <th>acc</th>\n",
       "      <td>392.0</td>\n",
       "      <td>15.541327</td>\n",
       "      <td>2.758864</td>\n",
       "      <td>8.0</td>\n",
       "      <td>13.775</td>\n",
       "      <td>15.50</td>\n",
       "      <td>17.025</td>\n",
       "      <td>24.8</td>\n",
       "    </tr>\n",
       "    <tr>\n",
       "      <th>yr</th>\n",
       "      <td>392.0</td>\n",
       "      <td>75.979592</td>\n",
       "      <td>3.683737</td>\n",
       "      <td>70.0</td>\n",
       "      <td>73.000</td>\n",
       "      <td>76.00</td>\n",
       "      <td>79.000</td>\n",
       "      <td>82.0</td>\n",
       "    </tr>\n",
       "    <tr>\n",
       "      <th>mpg</th>\n",
       "      <td>392.0</td>\n",
       "      <td>23.445918</td>\n",
       "      <td>7.805007</td>\n",
       "      <td>9.0</td>\n",
       "      <td>17.000</td>\n",
       "      <td>22.75</td>\n",
       "      <td>29.000</td>\n",
       "      <td>46.6</td>\n",
       "    </tr>\n",
       "  </tbody>\n",
       "</table>\n",
       "</div>"
      ],
      "text/plain": [
       "      count         mean         std     min       25%      50%       75%  \\\n",
       "cyl   392.0     5.471939    1.705783     3.0     4.000     4.00     8.000   \n",
       "disp  392.0   194.411990  104.644004    68.0   105.000   151.00   275.750   \n",
       "hp    392.0   104.469388   38.491160    46.0    75.000    93.50   126.000   \n",
       "wt    392.0  2977.584184  849.402560  1613.0  2225.250  2803.50  3614.750   \n",
       "acc   392.0    15.541327    2.758864     8.0    13.775    15.50    17.025   \n",
       "yr    392.0    75.979592    3.683737    70.0    73.000    76.00    79.000   \n",
       "mpg   392.0    23.445918    7.805007     9.0    17.000    22.75    29.000   \n",
       "\n",
       "         max  \n",
       "cyl      8.0  \n",
       "disp   455.0  \n",
       "hp     230.0  \n",
       "wt    5140.0  \n",
       "acc     24.8  \n",
       "yr      82.0  \n",
       "mpg     46.6  "
      ]
     },
     "execution_count": 15,
     "metadata": {},
     "output_type": "execute_result"
    }
   ],
   "source": [
    "car_df.describe().T"
   ]
  },
  {
   "cell_type": "code",
   "execution_count": 16,
   "metadata": {},
   "outputs": [
    {
     "name": "stdout",
     "output_type": "stream",
     "text": [
      "Observing differences in mean and median of cyl,disp, hp and wt\n"
     ]
    }
   ],
   "source": [
    "print(\"Observing differences in mean and median of cyl,disp, hp and wt\")"
   ]
  },
  {
   "cell_type": "code",
   "execution_count": 17,
   "metadata": {},
   "outputs": [],
   "source": [
    "car_df=car_df.drop('car name',axis=1)"
   ]
  },
  {
   "cell_type": "code",
   "execution_count": 18,
   "metadata": {},
   "outputs": [
    {
     "data": {
      "text/html": [
       "<div>\n",
       "<style scoped>\n",
       "    .dataframe tbody tr th:only-of-type {\n",
       "        vertical-align: middle;\n",
       "    }\n",
       "\n",
       "    .dataframe tbody tr th {\n",
       "        vertical-align: top;\n",
       "    }\n",
       "\n",
       "    .dataframe thead th {\n",
       "        text-align: right;\n",
       "    }\n",
       "</style>\n",
       "<table border=\"1\" class=\"dataframe\">\n",
       "  <thead>\n",
       "    <tr style=\"text-align: right;\">\n",
       "      <th></th>\n",
       "      <th>cyl</th>\n",
       "      <th>disp</th>\n",
       "      <th>hp</th>\n",
       "      <th>wt</th>\n",
       "      <th>acc</th>\n",
       "      <th>yr</th>\n",
       "      <th>mpg</th>\n",
       "    </tr>\n",
       "  </thead>\n",
       "  <tbody>\n",
       "    <tr>\n",
       "      <th>0</th>\n",
       "      <td>8</td>\n",
       "      <td>307.0</td>\n",
       "      <td>130.0</td>\n",
       "      <td>3504</td>\n",
       "      <td>12.0</td>\n",
       "      <td>70</td>\n",
       "      <td>18.0</td>\n",
       "    </tr>\n",
       "    <tr>\n",
       "      <th>1</th>\n",
       "      <td>8</td>\n",
       "      <td>350.0</td>\n",
       "      <td>165.0</td>\n",
       "      <td>3693</td>\n",
       "      <td>11.5</td>\n",
       "      <td>70</td>\n",
       "      <td>15.0</td>\n",
       "    </tr>\n",
       "    <tr>\n",
       "      <th>2</th>\n",
       "      <td>8</td>\n",
       "      <td>318.0</td>\n",
       "      <td>150.0</td>\n",
       "      <td>3436</td>\n",
       "      <td>11.0</td>\n",
       "      <td>70</td>\n",
       "      <td>18.0</td>\n",
       "    </tr>\n",
       "    <tr>\n",
       "      <th>3</th>\n",
       "      <td>8</td>\n",
       "      <td>304.0</td>\n",
       "      <td>150.0</td>\n",
       "      <td>3433</td>\n",
       "      <td>12.0</td>\n",
       "      <td>70</td>\n",
       "      <td>16.0</td>\n",
       "    </tr>\n",
       "    <tr>\n",
       "      <th>4</th>\n",
       "      <td>8</td>\n",
       "      <td>302.0</td>\n",
       "      <td>140.0</td>\n",
       "      <td>3449</td>\n",
       "      <td>10.5</td>\n",
       "      <td>70</td>\n",
       "      <td>17.0</td>\n",
       "    </tr>\n",
       "  </tbody>\n",
       "</table>\n",
       "</div>"
      ],
      "text/plain": [
       "   cyl   disp     hp    wt   acc  yr   mpg\n",
       "0    8  307.0  130.0  3504  12.0  70  18.0\n",
       "1    8  350.0  165.0  3693  11.5  70  15.0\n",
       "2    8  318.0  150.0  3436  11.0  70  18.0\n",
       "3    8  304.0  150.0  3433  12.0  70  16.0\n",
       "4    8  302.0  140.0  3449  10.5  70  17.0"
      ]
     },
     "execution_count": 18,
     "metadata": {},
     "output_type": "execute_result"
    }
   ],
   "source": [
    "car_df.head()"
   ]
  },
  {
   "cell_type": "code",
   "execution_count": 19,
   "metadata": {},
   "outputs": [],
   "source": [
    "#creating derived column age from yr\n",
    "car_df['age']=car_df['yr'].max()-car_df['yr']"
   ]
  },
  {
   "cell_type": "code",
   "execution_count": 20,
   "metadata": {},
   "outputs": [
    {
     "data": {
      "text/html": [
       "<div>\n",
       "<style scoped>\n",
       "    .dataframe tbody tr th:only-of-type {\n",
       "        vertical-align: middle;\n",
       "    }\n",
       "\n",
       "    .dataframe tbody tr th {\n",
       "        vertical-align: top;\n",
       "    }\n",
       "\n",
       "    .dataframe thead th {\n",
       "        text-align: right;\n",
       "    }\n",
       "</style>\n",
       "<table border=\"1\" class=\"dataframe\">\n",
       "  <thead>\n",
       "    <tr style=\"text-align: right;\">\n",
       "      <th></th>\n",
       "      <th>cyl</th>\n",
       "      <th>disp</th>\n",
       "      <th>hp</th>\n",
       "      <th>wt</th>\n",
       "      <th>acc</th>\n",
       "      <th>yr</th>\n",
       "      <th>mpg</th>\n",
       "      <th>age</th>\n",
       "    </tr>\n",
       "  </thead>\n",
       "  <tbody>\n",
       "    <tr>\n",
       "      <th>0</th>\n",
       "      <td>8</td>\n",
       "      <td>307.0</td>\n",
       "      <td>130.0</td>\n",
       "      <td>3504</td>\n",
       "      <td>12.0</td>\n",
       "      <td>70</td>\n",
       "      <td>18.0</td>\n",
       "      <td>12</td>\n",
       "    </tr>\n",
       "    <tr>\n",
       "      <th>1</th>\n",
       "      <td>8</td>\n",
       "      <td>350.0</td>\n",
       "      <td>165.0</td>\n",
       "      <td>3693</td>\n",
       "      <td>11.5</td>\n",
       "      <td>70</td>\n",
       "      <td>15.0</td>\n",
       "      <td>12</td>\n",
       "    </tr>\n",
       "    <tr>\n",
       "      <th>2</th>\n",
       "      <td>8</td>\n",
       "      <td>318.0</td>\n",
       "      <td>150.0</td>\n",
       "      <td>3436</td>\n",
       "      <td>11.0</td>\n",
       "      <td>70</td>\n",
       "      <td>18.0</td>\n",
       "      <td>12</td>\n",
       "    </tr>\n",
       "    <tr>\n",
       "      <th>3</th>\n",
       "      <td>8</td>\n",
       "      <td>304.0</td>\n",
       "      <td>150.0</td>\n",
       "      <td>3433</td>\n",
       "      <td>12.0</td>\n",
       "      <td>70</td>\n",
       "      <td>16.0</td>\n",
       "      <td>12</td>\n",
       "    </tr>\n",
       "    <tr>\n",
       "      <th>4</th>\n",
       "      <td>8</td>\n",
       "      <td>302.0</td>\n",
       "      <td>140.0</td>\n",
       "      <td>3449</td>\n",
       "      <td>10.5</td>\n",
       "      <td>70</td>\n",
       "      <td>17.0</td>\n",
       "      <td>12</td>\n",
       "    </tr>\n",
       "  </tbody>\n",
       "</table>\n",
       "</div>"
      ],
      "text/plain": [
       "   cyl   disp     hp    wt   acc  yr   mpg  age\n",
       "0    8  307.0  130.0  3504  12.0  70  18.0   12\n",
       "1    8  350.0  165.0  3693  11.5  70  15.0   12\n",
       "2    8  318.0  150.0  3436  11.0  70  18.0   12\n",
       "3    8  304.0  150.0  3433  12.0  70  16.0   12\n",
       "4    8  302.0  140.0  3449  10.5  70  17.0   12"
      ]
     },
     "execution_count": 20,
     "metadata": {},
     "output_type": "execute_result"
    }
   ],
   "source": [
    "car_df.head()"
   ]
  },
  {
   "cell_type": "code",
   "execution_count": 21,
   "metadata": {},
   "outputs": [],
   "source": [
    "car_df.drop('yr',axis=1,inplace=True)"
   ]
  },
  {
   "cell_type": "code",
   "execution_count": 22,
   "metadata": {},
   "outputs": [],
   "source": [
    "##Use pair plot or scatter matrix to visualize how the different variables are related\n",
    "##(Hint: The amount of Gaussian curves in the plot should give a visual identification of different clusters \n",
    "##existing in the dataset) – 5 points"
   ]
  },
  {
   "cell_type": "code",
   "execution_count": 23,
   "metadata": {},
   "outputs": [
    {
     "data": {
      "text/plain": [
       "<seaborn.axisgrid.PairGrid at 0xb055da0>"
      ]
     },
     "execution_count": 23,
     "metadata": {},
     "output_type": "execute_result"
    },
    {
     "data": {
      "image/png": "[encoded data removed]",
      "text/plain": [
       "<Figure size 1260x1260 with 56 Axes>"
      ]
     },
     "metadata": {},
     "output_type": "display_data"
    }
   ],
   "source": [
    "sns.pairplot(car_df,diag_kind='kde')"
   ]
  },
  {
   "cell_type": "code",
   "execution_count": 24,
   "metadata": {},
   "outputs": [],
   "source": [
    "print(\"Looking at the diagonal line in the pairplot, we can see that there should be a minimum of 3 clusters as observed in the cyl  \")\n",
    "\n",
    "print(\"Number of cluster could be in the range 3-5. Need to see elbow curve to verify that\")"
   ]
  },
  {
   "cell_type": "code",
   "execution_count": 25,
   "metadata": {},
   "outputs": [],
   "source": [
    "##Use K Means or Hierarchical clustering to find out the optimal no of clusters in the data. \n",
    "##Identify and separate the clusters (15 points)"
   ]
  },
  {
   "cell_type": "code",
   "execution_count": 26,
   "metadata": {},
   "outputs": [
    {
     "name": "stdout",
     "output_type": "stream",
     "text": [
      "Looking at the diagonal line in the pairplot, we can see that there should be a minimum of 3 clusters as observed in the cyl  \n",
      "Number of cluster could be in the range 3-5. Need to see elbow curve to verify that\n"
     ]
    }
   ],
   "source": [
    "from sklearn.cluster import KMeans"
   ]
  },
  {
   "cell_type": "code",
   "execution_count": 27,
   "metadata": {},
   "outputs": [],
   "source": [
    "from scipy.stats import zscore\n",
    "\n",
    "car_df_z = car_df.apply(zscore)"
   ]
  },
  {
   "cell_type": "code",
   "execution_count": 28,
   "metadata": {},
   "outputs": [
    {
     "data": {
      "text/plain": [
       "(371, 7)"
      ]
     },
     "execution_count": 28,
     "metadata": {},
     "output_type": "execute_result"
    }
   ],
   "source": [
    "#Removing outliers based on 2.5 z-score\n",
    "car_df_z=car_df_z[(np.abs(car_df_z) < 2.5).all(axis=1)]\n",
    "car_df_z.shape"
   ]
  },
  {
   "cell_type": "code",
   "execution_count": 29,
   "metadata": {},
   "outputs": [
    {
     "data": {
      "text/html": [
       "<div>\n",
       "<style scoped>\n",
       "    .dataframe tbody tr th:only-of-type {\n",
       "        vertical-align: middle;\n",
       "    }\n",
       "\n",
       "    .dataframe tbody tr th {\n",
       "        vertical-align: top;\n",
       "    }\n",
       "\n",
       "    .dataframe thead th {\n",
       "        text-align: right;\n",
       "    }\n",
       "</style>\n",
       "<table border=\"1\" class=\"dataframe\">\n",
       "  <thead>\n",
       "    <tr style=\"text-align: right;\">\n",
       "      <th></th>\n",
       "      <th>num_clusters</th>\n",
       "      <th>cluster_errors</th>\n",
       "      <th>Avg Sil Score</th>\n",
       "    </tr>\n",
       "  </thead>\n",
       "  <tbody>\n",
       "    <tr>\n",
       "      <th>0</th>\n",
       "      <td>2</td>\n",
       "      <td>1087.702209</td>\n",
       "      <td>0.434814</td>\n",
       "    </tr>\n",
       "    <tr>\n",
       "      <th>1</th>\n",
       "      <td>3</td>\n",
       "      <td>789.111529</td>\n",
       "      <td>0.361379</td>\n",
       "    </tr>\n",
       "    <tr>\n",
       "      <th>2</th>\n",
       "      <td>4</td>\n",
       "      <td>601.351938</td>\n",
       "      <td>0.357964</td>\n",
       "    </tr>\n",
       "    <tr>\n",
       "      <th>3</th>\n",
       "      <td>5</td>\n",
       "      <td>540.981615</td>\n",
       "      <td>0.324011</td>\n",
       "    </tr>\n",
       "    <tr>\n",
       "      <th>4</th>\n",
       "      <td>6</td>\n",
       "      <td>492.222864</td>\n",
       "      <td>0.304813</td>\n",
       "    </tr>\n",
       "    <tr>\n",
       "      <th>5</th>\n",
       "      <td>7</td>\n",
       "      <td>446.772105</td>\n",
       "      <td>0.271989</td>\n",
       "    </tr>\n",
       "  </tbody>\n",
       "</table>\n",
       "</div>"
      ],
      "text/plain": [
       "   num_clusters  cluster_errors  Avg Sil Score\n",
       "0             2     1087.702209       0.434814\n",
       "1             3      789.111529       0.361379\n",
       "2             4      601.351938       0.357964\n",
       "3             5      540.981615       0.324011\n",
       "4             6      492.222864       0.304813\n",
       "5             7      446.772105       0.271989"
      ]
     },
     "execution_count": 29,
     "metadata": {},
     "output_type": "execute_result"
    }
   ],
   "source": [
    "cluster_range = range( 2, 8)   # expect 3 to four clusters from the pair panel visual inspection hence restricting from 2 to 6\n",
    "cluster_errors = []\n",
    "cluster_sil_scores = []\n",
    "for num_clusters in cluster_range:\n",
    "  clusters = KMeans( num_clusters, n_init = 10)\n",
    "  clusters.fit(car_df_z)\n",
    "  labels = clusters.labels_                     # capture the cluster lables\n",
    "  centroids = clusters.cluster_centers_         # capture the centroids\n",
    "  cluster_errors.append( clusters.inertia_ )    # capture the intertia\n",
    "  cluster_sil_scores.append(metrics.silhouette_score(car_df_z, labels, metric='euclidean'))\n",
    "\n",
    "\n",
    "\n",
    "\n",
    "\n",
    "\n",
    "# combine the cluster_range and cluster_errors into a dataframe by combining them\n",
    "clusters_df = pd.DataFrame( { \"num_clusters\":cluster_range, \"cluster_errors\": cluster_errors , \"Avg Sil Score\": cluster_sil_scores } )\n",
    "clusters_df"
   ]
  },
  {
   "cell_type": "code",
   "execution_count": 30,
   "metadata": {},
   "outputs": [
    {
     "data": {
      "text/plain": [
       "[<matplotlib.lines.Line2D at 0xdf8bb00>]"
      ]
     },
     "execution_count": 30,
     "metadata": {},
     "output_type": "execute_result"
    },
    {
     "data": {
      "image/png": "[encoded data removed]",
      "text/plain": [
       "<Figure size 864x432 with 1 Axes>"
      ]
     },
     "metadata": {},
     "output_type": "display_data"
    }
   ],
   "source": [
    "# Elbow plot\n",
    "\n",
    "plt.figure(figsize=(12,6))\n",
    "plt.plot( clusters_df.num_clusters, clusters_df.cluster_errors, marker = \"o\" )"
   ]
  },
  {
   "cell_type": "code",
   "execution_count": 31,
   "metadata": {},
   "outputs": [
    {
     "name": "stdout",
     "output_type": "stream",
     "text": [
      "From the above elbow plot, we can consider 4 or 5 as the number of clusters. Will start analysis with K value as 5 \n"
     ]
    }
   ],
   "source": [
    "print(\"From the above elbow plot, we can consider 4 or 5 as the number of clusters. Will start analysis with K value as 5 \")"
   ]
  },
  {
   "cell_type": "code",
   "execution_count": 32,
   "metadata": {},
   "outputs": [],
   "source": [
    "def cluster_KMEANS(n) :\n",
    "    cluster = KMeans( n_clusters = n, random_state = 1 )\n",
    "    cluster.fit(car_df_z)\n",
    "    centroids = cluster.cluster_centers_\n",
    "    print(centroids)\n",
    "    centroid_df = pd.DataFrame(centroids, columns = list(car_df_z) )\n",
    "    print(centroid_df)\n",
    "    prediction=cluster.predict(car_df_z)\n",
    "    car_df_z['GROUP']=prediction"
   ]
  },
  {
   "cell_type": "code",
   "execution_count": 33,
   "metadata": {},
   "outputs": [
    {
     "name": "stdout",
     "output_type": "stream",
     "text": [
      "[[-0.68258024 -0.5458627  -0.23545076 -0.40728981 -0.3152418   0.35307855\n",
      "  -0.77650033]\n",
      " [ 1.46997107  1.37732792  1.30269467  1.33987657 -0.93010387 -1.11663895\n",
      "   0.52513032]\n",
      " [-0.82488088 -0.85706257 -0.85607824 -0.89180054  0.461651    1.31101411\n",
      "  -1.13265434]\n",
      " [ 0.39067788  0.32114503 -0.11236107  0.36381187  0.45000695 -0.54629806\n",
      "   0.11676754]\n",
      " [-0.87926005 -0.86441658 -0.63078372 -0.86044909  0.41156334  0.26517723\n",
      "   0.8134141 ]]\n",
      "        cyl      disp        hp        wt       acc       mpg       age\n",
      "0 -0.682580 -0.545863 -0.235451 -0.407290 -0.315242  0.353079 -0.776500\n",
      "1  1.469971  1.377328  1.302695  1.339877 -0.930104 -1.116639  0.525130\n",
      "2 -0.824881 -0.857063 -0.856078 -0.891801  0.461651  1.311014 -1.132654\n",
      "3  0.390678  0.321145 -0.112361  0.363812  0.450007 -0.546298  0.116768\n",
      "4 -0.879260 -0.864417 -0.630784 -0.860449  0.411563  0.265177  0.813414\n"
     ]
    }
   ],
   "source": [
    "cluster_KMEANS(5)"
   ]
  },
  {
   "cell_type": "code",
   "execution_count": 34,
   "metadata": {},
   "outputs": [
    {
     "data": {
      "text/html": [
       "<div>\n",
       "<style scoped>\n",
       "    .dataframe tbody tr th:only-of-type {\n",
       "        vertical-align: middle;\n",
       "    }\n",
       "\n",
       "    .dataframe tbody tr th {\n",
       "        vertical-align: top;\n",
       "    }\n",
       "\n",
       "    .dataframe thead th {\n",
       "        text-align: right;\n",
       "    }\n",
       "</style>\n",
       "<table border=\"1\" class=\"dataframe\">\n",
       "  <thead>\n",
       "    <tr style=\"text-align: right;\">\n",
       "      <th></th>\n",
       "      <th>cyl</th>\n",
       "      <th>disp</th>\n",
       "      <th>hp</th>\n",
       "      <th>wt</th>\n",
       "      <th>acc</th>\n",
       "      <th>mpg</th>\n",
       "      <th>age</th>\n",
       "      <th>GROUP</th>\n",
       "    </tr>\n",
       "  </thead>\n",
       "  <tbody>\n",
       "    <tr>\n",
       "      <th>0</th>\n",
       "      <td>1.483947</td>\n",
       "      <td>1.077290</td>\n",
       "      <td>0.664133</td>\n",
       "      <td>0.620540</td>\n",
       "      <td>-1.285258</td>\n",
       "      <td>-0.698638</td>\n",
       "      <td>1.625315</td>\n",
       "      <td>1</td>\n",
       "    </tr>\n",
       "    <tr>\n",
       "      <th>1</th>\n",
       "      <td>1.483947</td>\n",
       "      <td>1.488732</td>\n",
       "      <td>1.574594</td>\n",
       "      <td>0.843334</td>\n",
       "      <td>-1.466724</td>\n",
       "      <td>-1.083498</td>\n",
       "      <td>1.625315</td>\n",
       "      <td>1</td>\n",
       "    </tr>\n",
       "    <tr>\n",
       "      <th>2</th>\n",
       "      <td>1.483947</td>\n",
       "      <td>1.182542</td>\n",
       "      <td>1.184397</td>\n",
       "      <td>0.540382</td>\n",
       "      <td>-1.648189</td>\n",
       "      <td>-0.698638</td>\n",
       "      <td>1.625315</td>\n",
       "      <td>1</td>\n",
       "    </tr>\n",
       "    <tr>\n",
       "      <th>3</th>\n",
       "      <td>1.483947</td>\n",
       "      <td>1.048584</td>\n",
       "      <td>1.184397</td>\n",
       "      <td>0.536845</td>\n",
       "      <td>-1.285258</td>\n",
       "      <td>-0.955212</td>\n",
       "      <td>1.625315</td>\n",
       "      <td>1</td>\n",
       "    </tr>\n",
       "    <tr>\n",
       "      <th>4</th>\n",
       "      <td>1.483947</td>\n",
       "      <td>1.029447</td>\n",
       "      <td>0.924265</td>\n",
       "      <td>0.555706</td>\n",
       "      <td>-1.829655</td>\n",
       "      <td>-0.826925</td>\n",
       "      <td>1.625315</td>\n",
       "      <td>1</td>\n",
       "    </tr>\n",
       "  </tbody>\n",
       "</table>\n",
       "</div>"
      ],
      "text/plain": [
       "        cyl      disp        hp        wt       acc       mpg       age  GROUP\n",
       "0  1.483947  1.077290  0.664133  0.620540 -1.285258 -0.698638  1.625315      1\n",
       "1  1.483947  1.488732  1.574594  0.843334 -1.466724 -1.083498  1.625315      1\n",
       "2  1.483947  1.182542  1.184397  0.540382 -1.648189 -0.698638  1.625315      1\n",
       "3  1.483947  1.048584  1.184397  0.536845 -1.285258 -0.955212  1.625315      1\n",
       "4  1.483947  1.029447  0.924265  0.555706 -1.829655 -0.826925  1.625315      1"
      ]
     },
     "execution_count": 34,
     "metadata": {},
     "output_type": "execute_result"
    }
   ],
   "source": [
    "car_df_z.head()"
   ]
  },
  {
   "cell_type": "code",
   "execution_count": 35,
   "metadata": {},
   "outputs": [
    {
     "data": {
      "text/html": [
       "<div>\n",
       "<style scoped>\n",
       "    .dataframe tbody tr th:only-of-type {\n",
       "        vertical-align: middle;\n",
       "    }\n",
       "\n",
       "    .dataframe tbody tr th {\n",
       "        vertical-align: top;\n",
       "    }\n",
       "\n",
       "    .dataframe thead th {\n",
       "        text-align: right;\n",
       "    }\n",
       "</style>\n",
       "<table border=\"1\" class=\"dataframe\">\n",
       "  <thead>\n",
       "    <tr style=\"text-align: right;\">\n",
       "      <th></th>\n",
       "      <th>cyl</th>\n",
       "      <th>disp</th>\n",
       "      <th>hp</th>\n",
       "      <th>wt</th>\n",
       "      <th>acc</th>\n",
       "      <th>mpg</th>\n",
       "      <th>age</th>\n",
       "    </tr>\n",
       "    <tr>\n",
       "      <th>GROUP</th>\n",
       "      <th></th>\n",
       "      <th></th>\n",
       "      <th></th>\n",
       "      <th></th>\n",
       "      <th></th>\n",
       "      <th></th>\n",
       "      <th></th>\n",
       "    </tr>\n",
       "  </thead>\n",
       "  <tbody>\n",
       "    <tr>\n",
       "      <th>0</th>\n",
       "      <td>55</td>\n",
       "      <td>55</td>\n",
       "      <td>55</td>\n",
       "      <td>55</td>\n",
       "      <td>55</td>\n",
       "      <td>55</td>\n",
       "      <td>55</td>\n",
       "    </tr>\n",
       "    <tr>\n",
       "      <th>1</th>\n",
       "      <td>84</td>\n",
       "      <td>84</td>\n",
       "      <td>84</td>\n",
       "      <td>84</td>\n",
       "      <td>84</td>\n",
       "      <td>84</td>\n",
       "      <td>84</td>\n",
       "    </tr>\n",
       "    <tr>\n",
       "      <th>2</th>\n",
       "      <td>75</td>\n",
       "      <td>75</td>\n",
       "      <td>75</td>\n",
       "      <td>75</td>\n",
       "      <td>75</td>\n",
       "      <td>75</td>\n",
       "      <td>75</td>\n",
       "    </tr>\n",
       "    <tr>\n",
       "      <th>3</th>\n",
       "      <td>80</td>\n",
       "      <td>80</td>\n",
       "      <td>80</td>\n",
       "      <td>80</td>\n",
       "      <td>80</td>\n",
       "      <td>80</td>\n",
       "      <td>80</td>\n",
       "    </tr>\n",
       "    <tr>\n",
       "      <th>4</th>\n",
       "      <td>77</td>\n",
       "      <td>77</td>\n",
       "      <td>77</td>\n",
       "      <td>77</td>\n",
       "      <td>77</td>\n",
       "      <td>77</td>\n",
       "      <td>77</td>\n",
       "    </tr>\n",
       "  </tbody>\n",
       "</table>\n",
       "</div>"
      ],
      "text/plain": [
       "       cyl  disp  hp  wt  acc  mpg  age\n",
       "GROUP                                  \n",
       "0       55    55  55  55   55   55   55\n",
       "1       84    84  84  84   84   84   84\n",
       "2       75    75  75  75   75   75   75\n",
       "3       80    80  80  80   80   80   80\n",
       "4       77    77  77  77   77   77   77"
      ]
     },
     "execution_count": 35,
     "metadata": {},
     "output_type": "execute_result"
    }
   ],
   "source": [
    "car_df_z.groupby(\"GROUP\").count()"
   ]
  },
  {
   "cell_type": "code",
   "execution_count": 36,
   "metadata": {},
   "outputs": [
    {
     "name": "stdout",
     "output_type": "stream",
     "text": [
      "Observing class imbalance in the distribution of group counts\n"
     ]
    }
   ],
   "source": [
    "print(\"Observing class imbalance in the distribution of group counts\")"
   ]
  },
  {
   "cell_type": "code",
   "execution_count": 37,
   "metadata": {},
   "outputs": [
    {
     "data": {
      "text/plain": [
       "array([[<matplotlib.axes._subplots.AxesSubplot object at 0x000000000DFD9DA0>,\n",
       "        <matplotlib.axes._subplots.AxesSubplot object at 0x000000000E200780>,\n",
       "        <matplotlib.axes._subplots.AxesSubplot object at 0x000000000E229B00>,\n",
       "        <matplotlib.axes._subplots.AxesSubplot object at 0x000000000E252EF0>],\n",
       "       [<matplotlib.axes._subplots.AxesSubplot object at 0x000000000E284320>,\n",
       "        <matplotlib.axes._subplots.AxesSubplot object at 0x000000000E284358>,\n",
       "        <matplotlib.axes._subplots.AxesSubplot object at 0x000000000E2D6B00>,\n",
       "        <matplotlib.axes._subplots.AxesSubplot object at 0x000000000E300EF0>]],\n",
       "      dtype=object)"
      ]
     },
     "execution_count": 37,
     "metadata": {},
     "output_type": "execute_result"
    },
    {
     "data": {
      "image/png": "[encoded data removed]",
      "text/plain": [
       "<Figure size 720x720 with 8 Axes>"
      ]
     },
     "metadata": {},
     "output_type": "display_data"
    }
   ],
   "source": [
    "car_df_z.boxplot(by='GROUP', layout=(2,4), figsize=(10, 10))"
   ]
  },
  {
   "cell_type": "code",
   "execution_count": 38,
   "metadata": {},
   "outputs": [
    {
     "name": "stdout",
     "output_type": "stream",
     "text": [
      "Unable to see clear clusters\n",
      "Looks like older vehicles are giving less mileage as compared to the newer vehicles,although group 4 seems contradictory\n",
      "Lesser number of cylinders in cars provide better mileage\n",
      "Lighter cars (less wt group) provides better mileage\n",
      "Horsepower has an inverse relation with mileage\n",
      "disp and mpg also show inverse relation\n",
      "Will try with 3 clusters now\n"
     ]
    }
   ],
   "source": [
    "#print(\"We see clear clusters only in mpg box plots. Rest all the features are showing overlapping clusters \")\n",
    "print(\"Unable to see clear clusters\")\n",
    "print(\"Looks like older vehicles are giving less mileage as compared to the newer vehicles,although group 4 seems contradictory\")\n",
    "print(\"Lesser number of cylinders in cars provide better mileage\")\n",
    "print(\"Lighter cars (less wt group) provides better mileage\")\n",
    "print(\"Horsepower has an inverse relation with mileage\")\n",
    "print(\"disp and mpg also show inverse relation\")\n",
    "print(\"Will try with 3 clusters now\")"
   ]
  },
  {
   "cell_type": "code",
   "execution_count": 39,
   "metadata": {},
   "outputs": [
    {
     "name": "stdout",
     "output_type": "stream",
     "text": [
      "[[-0.87926005 -0.86441658 -0.63078372 -0.86044909  0.41156334  0.26517723\n",
      "   0.8134141   4.        ]\n",
      " [-0.76467676 -0.72540109 -0.59350508 -0.68681523  0.13296558  0.90573368\n",
      "  -0.98197379  1.15384615]\n",
      " [ 1.46997107  1.37732792  1.30269467  1.33987657 -0.93010387 -1.11663895\n",
      "   0.52513032  1.        ]\n",
      " [ 0.39067788  0.32114503 -0.11236107  0.36381187  0.45000695 -0.54629806\n",
      "   0.11676754  3.        ]]\n",
      "        cyl      disp        hp        wt       acc       mpg       age  \\\n",
      "0 -0.879260 -0.864417 -0.630784 -0.860449  0.411563  0.265177  0.813414   \n",
      "1 -0.764677 -0.725401 -0.593505 -0.686815  0.132966  0.905734 -0.981974   \n",
      "2  1.469971  1.377328  1.302695  1.339877 -0.930104 -1.116639  0.525130   \n",
      "3  0.390678  0.321145 -0.112361  0.363812  0.450007 -0.546298  0.116768   \n",
      "\n",
      "      GROUP  \n",
      "0  4.000000  \n",
      "1  1.153846  \n",
      "2  1.000000  \n",
      "3  3.000000  \n"
     ]
    }
   ],
   "source": [
    "cluster_KMEANS(4)"
   ]
  },
  {
   "cell_type": "code",
   "execution_count": 40,
   "metadata": {},
   "outputs": [
    {
     "data": {
      "text/html": [
       "<div>\n",
       "<style scoped>\n",
       "    .dataframe tbody tr th:only-of-type {\n",
       "        vertical-align: middle;\n",
       "    }\n",
       "\n",
       "    .dataframe tbody tr th {\n",
       "        vertical-align: top;\n",
       "    }\n",
       "\n",
       "    .dataframe thead th {\n",
       "        text-align: right;\n",
       "    }\n",
       "</style>\n",
       "<table border=\"1\" class=\"dataframe\">\n",
       "  <thead>\n",
       "    <tr style=\"text-align: right;\">\n",
       "      <th></th>\n",
       "      <th>cyl</th>\n",
       "      <th>disp</th>\n",
       "      <th>hp</th>\n",
       "      <th>wt</th>\n",
       "      <th>acc</th>\n",
       "      <th>mpg</th>\n",
       "      <th>age</th>\n",
       "      <th>GROUP</th>\n",
       "    </tr>\n",
       "  </thead>\n",
       "  <tbody>\n",
       "    <tr>\n",
       "      <th>0</th>\n",
       "      <td>1.483947</td>\n",
       "      <td>1.077290</td>\n",
       "      <td>0.664133</td>\n",
       "      <td>0.620540</td>\n",
       "      <td>-1.285258</td>\n",
       "      <td>-0.698638</td>\n",
       "      <td>1.625315</td>\n",
       "      <td>2</td>\n",
       "    </tr>\n",
       "    <tr>\n",
       "      <th>1</th>\n",
       "      <td>1.483947</td>\n",
       "      <td>1.488732</td>\n",
       "      <td>1.574594</td>\n",
       "      <td>0.843334</td>\n",
       "      <td>-1.466724</td>\n",
       "      <td>-1.083498</td>\n",
       "      <td>1.625315</td>\n",
       "      <td>2</td>\n",
       "    </tr>\n",
       "    <tr>\n",
       "      <th>2</th>\n",
       "      <td>1.483947</td>\n",
       "      <td>1.182542</td>\n",
       "      <td>1.184397</td>\n",
       "      <td>0.540382</td>\n",
       "      <td>-1.648189</td>\n",
       "      <td>-0.698638</td>\n",
       "      <td>1.625315</td>\n",
       "      <td>2</td>\n",
       "    </tr>\n",
       "    <tr>\n",
       "      <th>3</th>\n",
       "      <td>1.483947</td>\n",
       "      <td>1.048584</td>\n",
       "      <td>1.184397</td>\n",
       "      <td>0.536845</td>\n",
       "      <td>-1.285258</td>\n",
       "      <td>-0.955212</td>\n",
       "      <td>1.625315</td>\n",
       "      <td>2</td>\n",
       "    </tr>\n",
       "    <tr>\n",
       "      <th>4</th>\n",
       "      <td>1.483947</td>\n",
       "      <td>1.029447</td>\n",
       "      <td>0.924265</td>\n",
       "      <td>0.555706</td>\n",
       "      <td>-1.829655</td>\n",
       "      <td>-0.826925</td>\n",
       "      <td>1.625315</td>\n",
       "      <td>2</td>\n",
       "    </tr>\n",
       "  </tbody>\n",
       "</table>\n",
       "</div>"
      ],
      "text/plain": [
       "        cyl      disp        hp        wt       acc       mpg       age  GROUP\n",
       "0  1.483947  1.077290  0.664133  0.620540 -1.285258 -0.698638  1.625315      2\n",
       "1  1.483947  1.488732  1.574594  0.843334 -1.466724 -1.083498  1.625315      2\n",
       "2  1.483947  1.182542  1.184397  0.540382 -1.648189 -0.698638  1.625315      2\n",
       "3  1.483947  1.048584  1.184397  0.536845 -1.285258 -0.955212  1.625315      2\n",
       "4  1.483947  1.029447  0.924265  0.555706 -1.829655 -0.826925  1.625315      2"
      ]
     },
     "execution_count": 40,
     "metadata": {},
     "output_type": "execute_result"
    }
   ],
   "source": [
    "car_df_z.head()"
   ]
  },
  {
   "cell_type": "code",
   "execution_count": 41,
   "metadata": {},
   "outputs": [
    {
     "data": {
      "text/html": [
       "<div>\n",
       "<style scoped>\n",
       "    .dataframe tbody tr th:only-of-type {\n",
       "        vertical-align: middle;\n",
       "    }\n",
       "\n",
       "    .dataframe tbody tr th {\n",
       "        vertical-align: top;\n",
       "    }\n",
       "\n",
       "    .dataframe thead th {\n",
       "        text-align: right;\n",
       "    }\n",
       "</style>\n",
       "<table border=\"1\" class=\"dataframe\">\n",
       "  <thead>\n",
       "    <tr style=\"text-align: right;\">\n",
       "      <th></th>\n",
       "      <th>cyl</th>\n",
       "      <th>disp</th>\n",
       "      <th>hp</th>\n",
       "      <th>wt</th>\n",
       "      <th>acc</th>\n",
       "      <th>mpg</th>\n",
       "      <th>age</th>\n",
       "    </tr>\n",
       "    <tr>\n",
       "      <th>GROUP</th>\n",
       "      <th></th>\n",
       "      <th></th>\n",
       "      <th></th>\n",
       "      <th></th>\n",
       "      <th></th>\n",
       "      <th></th>\n",
       "      <th></th>\n",
       "    </tr>\n",
       "  </thead>\n",
       "  <tbody>\n",
       "    <tr>\n",
       "      <th>0</th>\n",
       "      <td>77</td>\n",
       "      <td>77</td>\n",
       "      <td>77</td>\n",
       "      <td>77</td>\n",
       "      <td>77</td>\n",
       "      <td>77</td>\n",
       "      <td>77</td>\n",
       "    </tr>\n",
       "    <tr>\n",
       "      <th>1</th>\n",
       "      <td>130</td>\n",
       "      <td>130</td>\n",
       "      <td>130</td>\n",
       "      <td>130</td>\n",
       "      <td>130</td>\n",
       "      <td>130</td>\n",
       "      <td>130</td>\n",
       "    </tr>\n",
       "    <tr>\n",
       "      <th>2</th>\n",
       "      <td>84</td>\n",
       "      <td>84</td>\n",
       "      <td>84</td>\n",
       "      <td>84</td>\n",
       "      <td>84</td>\n",
       "      <td>84</td>\n",
       "      <td>84</td>\n",
       "    </tr>\n",
       "    <tr>\n",
       "      <th>3</th>\n",
       "      <td>80</td>\n",
       "      <td>80</td>\n",
       "      <td>80</td>\n",
       "      <td>80</td>\n",
       "      <td>80</td>\n",
       "      <td>80</td>\n",
       "      <td>80</td>\n",
       "    </tr>\n",
       "  </tbody>\n",
       "</table>\n",
       "</div>"
      ],
      "text/plain": [
       "       cyl  disp   hp   wt  acc  mpg  age\n",
       "GROUP                                    \n",
       "0       77    77   77   77   77   77   77\n",
       "1      130   130  130  130  130  130  130\n",
       "2       84    84   84   84   84   84   84\n",
       "3       80    80   80   80   80   80   80"
      ]
     },
     "execution_count": 41,
     "metadata": {},
     "output_type": "execute_result"
    }
   ],
   "source": [
    "car_df_z.groupby('GROUP').count()"
   ]
  },
  {
   "cell_type": "code",
   "execution_count": 42,
   "metadata": {},
   "outputs": [
    {
     "name": "stdout",
     "output_type": "stream",
     "text": [
      "Observing fairly even distribution here wrt to the count\n"
     ]
    }
   ],
   "source": [
    "print(\"Observing fairly even distribution here wrt to the count\")"
   ]
  },
  {
   "cell_type": "code",
   "execution_count": 43,
   "metadata": {},
   "outputs": [
    {
     "data": {
      "text/plain": [
       "array([[<matplotlib.axes._subplots.AxesSubplot object at 0x000000000F9CC828>,\n",
       "        <matplotlib.axes._subplots.AxesSubplot object at 0x000000000FD7E080>,\n",
       "        <matplotlib.axes._subplots.AxesSubplot object at 0x000000000FDA6710>,\n",
       "        <matplotlib.axes._subplots.AxesSubplot object at 0x000000000FA4BB00>],\n",
       "       [<matplotlib.axes._subplots.AxesSubplot object at 0x000000000FA74EF0>,\n",
       "        <matplotlib.axes._subplots.AxesSubplot object at 0x000000000FA74F28>,\n",
       "        <matplotlib.axes._subplots.AxesSubplot object at 0x000000000FACF710>,\n",
       "        <matplotlib.axes._subplots.AxesSubplot object at 0x000000000FAF8B00>]],\n",
       "      dtype=object)"
      ]
     },
     "execution_count": 43,
     "metadata": {},
     "output_type": "execute_result"
    },
    {
     "data": {
      "image/png": "[encoded data removed]",
      "text/plain": [
       "<Figure size 720x720 with 8 Axes>"
      ]
     },
     "metadata": {},
     "output_type": "display_data"
    }
   ],
   "source": [
    "car_df_z.boxplot(by='GROUP', layout=(2,4), figsize=(10, 10))"
   ]
  },
  {
   "cell_type": "code",
   "execution_count": 44,
   "metadata": {},
   "outputs": [
    {
     "name": "stdout",
     "output_type": "stream",
     "text": [
      "Observing clear clusters wrt to mpg feature. Rest of the features show overlaps in clusters\n",
      "acc doesn't seem to show any steady impact on the mpg \n",
      "age seems to impact mpg inversely. Newer cars should ideally give higher mileage.\n",
      "But group 2 and 3 are cars of same age group providing different mileages. Could be attributed to different cylinders,hp and wt.\n",
      "Group 3 has more cylinders and higher hp and wt which brings down mpg whereas group 2 has less cylinders and less hp and wt which increases it's mileage \n"
     ]
    }
   ],
   "source": [
    "print(\"Observing clear clusters wrt to mpg feature. Rest of the features show overlaps in clusters\")\n",
    "print(\"acc doesn't seem to show any steady impact on the mpg \")\n",
    "print(\"age seems to impact mpg inversely. Newer cars should ideally give higher mileage.\")\n",
    "print(\"But group 2 and 3 are cars of same age group providing different mileages. Could be attributed to different cylinders,hp and wt.\")\n",
    "print(\"Group 3 has more cylinders and higher hp and wt which brings down mpg whereas group 2 has less cylinders and less hp and wt which increases it's mileage \")"
   ]
  },
  {
   "cell_type": "code",
   "execution_count": 48,
   "metadata": {},
   "outputs": [],
   "source": [
    "#Use linear regression model on different clusters separately and print the coefficients of the models individually (7.5 points)"
   ]
  },
  {
   "cell_type": "code",
   "execution_count": 47,
   "metadata": {},
   "outputs": [],
   "source": [
    "car_df_0=car_df_z.loc[car_df_z['GROUP']==0]\n",
    "car_df_1=car_df_z.loc[car_df_z['GROUP']==1]\n",
    "car_df_2=car_df_z.loc[car_df_z['GROUP']==2]\n",
    "car_df_3=car_df_z.loc[car_df_z['GROUP']==3]"
   ]
  },
  {
   "cell_type": "code",
   "execution_count": 50,
   "metadata": {},
   "outputs": [
    {
     "name": "stdout",
     "output_type": "stream",
     "text": [
      "(77, 8) (130, 8) (84, 8) (80, 8)\n"
     ]
    }
   ],
   "source": [
    "print(car_df_0.shape,car_df_1.shape,car_df_2.shape,car_df_3.shape)"
   ]
  },
  {
   "cell_type": "code",
   "execution_count": 52,
   "metadata": {},
   "outputs": [
    {
     "name": "stderr",
     "output_type": "stream",
     "text": [
      "C:\\Users\\pokrishn\\AppData\\Local\\Continuum\\anaconda2\\lib\\site-packages\\pandas\\core\\frame.py:3694: SettingWithCopyWarning: \n",
      "A value is trying to be set on a copy of a slice from a DataFrame\n",
      "\n",
      "See the caveats in the documentation: http://pandas.pydata.org/pandas-docs/stable/indexing.html#indexing-view-versus-copy\n",
      "  errors=errors)\n"
     ]
    }
   ],
   "source": [
    "car_df_0.drop('GROUP',axis=1,inplace=True)\n",
    "car_df_1.drop('GROUP',axis=1,inplace=True)\n",
    "car_df_2.drop('GROUP',axis=1,inplace=True)\n",
    "car_df_3.drop('GROUP',axis=1,inplace=True)"
   ]
  },
  {
   "cell_type": "code",
   "execution_count": 57,
   "metadata": {},
   "outputs": [
    {
     "data": {
      "text/html": [
       "<div>\n",
       "<style scoped>\n",
       "    .dataframe tbody tr th:only-of-type {\n",
       "        vertical-align: middle;\n",
       "    }\n",
       "\n",
       "    .dataframe tbody tr th {\n",
       "        vertical-align: top;\n",
       "    }\n",
       "\n",
       "    .dataframe thead th {\n",
       "        text-align: right;\n",
       "    }\n",
       "</style>\n",
       "<table border=\"1\" class=\"dataframe\">\n",
       "  <thead>\n",
       "    <tr style=\"text-align: right;\">\n",
       "      <th></th>\n",
       "      <th>cyl</th>\n",
       "      <th>disp</th>\n",
       "      <th>hp</th>\n",
       "      <th>wt</th>\n",
       "      <th>acc</th>\n",
       "      <th>mpg</th>\n",
       "      <th>age</th>\n",
       "    </tr>\n",
       "  </thead>\n",
       "  <tbody>\n",
       "    <tr>\n",
       "      <th>15</th>\n",
       "      <td>0.309967</td>\n",
       "      <td>0.034332</td>\n",
       "      <td>-0.246329</td>\n",
       "      <td>-0.170436</td>\n",
       "      <td>-0.014999</td>\n",
       "      <td>-0.185492</td>\n",
       "      <td>1.625315</td>\n",
       "    </tr>\n",
       "    <tr>\n",
       "      <th>16</th>\n",
       "      <td>0.309967</td>\n",
       "      <td>0.043900</td>\n",
       "      <td>-0.194303</td>\n",
       "      <td>-0.239986</td>\n",
       "      <td>-0.014999</td>\n",
       "      <td>-0.698638</td>\n",
       "      <td>1.625315</td>\n",
       "    </tr>\n",
       "    <tr>\n",
       "      <th>17</th>\n",
       "      <td>0.309967</td>\n",
       "      <td>0.053468</td>\n",
       "      <td>-0.506461</td>\n",
       "      <td>-0.460422</td>\n",
       "      <td>0.166467</td>\n",
       "      <td>-0.313779</td>\n",
       "      <td>1.625315</td>\n",
       "    </tr>\n",
       "    <tr>\n",
       "      <th>24</th>\n",
       "      <td>0.309967</td>\n",
       "      <td>0.043900</td>\n",
       "      <td>-0.376395</td>\n",
       "      <td>-0.388515</td>\n",
       "      <td>-0.196464</td>\n",
       "      <td>-0.313779</td>\n",
       "      <td>1.625315</td>\n",
       "    </tr>\n",
       "    <tr>\n",
       "      <th>33</th>\n",
       "      <td>0.309967</td>\n",
       "      <td>0.359658</td>\n",
       "      <td>-0.116263</td>\n",
       "      <td>-0.405018</td>\n",
       "      <td>-0.922327</td>\n",
       "      <td>-0.570352</td>\n",
       "      <td>1.353505</td>\n",
       "    </tr>\n",
       "  </tbody>\n",
       "</table>\n",
       "</div>"
      ],
      "text/plain": [
       "         cyl      disp        hp        wt       acc       mpg       age\n",
       "15  0.309967  0.034332 -0.246329 -0.170436 -0.014999 -0.185492  1.625315\n",
       "16  0.309967  0.043900 -0.194303 -0.239986 -0.014999 -0.698638  1.625315\n",
       "17  0.309967  0.053468 -0.506461 -0.460422  0.166467 -0.313779  1.625315\n",
       "24  0.309967  0.043900 -0.376395 -0.388515 -0.196464 -0.313779  1.625315\n",
       "33  0.309967  0.359658 -0.116263 -0.405018 -0.922327 -0.570352  1.353505"
      ]
     },
     "execution_count": 57,
     "metadata": {},
     "output_type": "execute_result"
    }
   ],
   "source": [
    "car_df_3.head()"
   ]
  },
  {
   "cell_type": "code",
   "execution_count": 58,
   "metadata": {},
   "outputs": [
    {
     "data": {
      "text/html": [
       "<div>\n",
       "<style scoped>\n",
       "    .dataframe tbody tr th:only-of-type {\n",
       "        vertical-align: middle;\n",
       "    }\n",
       "\n",
       "    .dataframe tbody tr th {\n",
       "        vertical-align: top;\n",
       "    }\n",
       "\n",
       "    .dataframe thead th {\n",
       "        text-align: right;\n",
       "    }\n",
       "</style>\n",
       "<table border=\"1\" class=\"dataframe\">\n",
       "  <thead>\n",
       "    <tr style=\"text-align: right;\">\n",
       "      <th></th>\n",
       "      <th>count</th>\n",
       "      <th>mean</th>\n",
       "      <th>std</th>\n",
       "      <th>min</th>\n",
       "      <th>25%</th>\n",
       "      <th>50%</th>\n",
       "      <th>75%</th>\n",
       "      <th>max</th>\n",
       "    </tr>\n",
       "  </thead>\n",
       "  <tbody>\n",
       "    <tr>\n",
       "      <th>cyl</th>\n",
       "      <td>77.0</td>\n",
       "      <td>-0.879260</td>\n",
       "      <td>0.093978</td>\n",
       "      <td>-1.451004</td>\n",
       "      <td>-0.864014</td>\n",
       "      <td>-0.864014</td>\n",
       "      <td>-0.864014</td>\n",
       "      <td>-0.864014</td>\n",
       "    </tr>\n",
       "    <tr>\n",
       "      <th>disp</th>\n",
       "      <td>77.0</td>\n",
       "      <td>-0.864417</td>\n",
       "      <td>0.183186</td>\n",
       "      <td>-1.209563</td>\n",
       "      <td>-0.989490</td>\n",
       "      <td>-0.922511</td>\n",
       "      <td>-0.712005</td>\n",
       "      <td>-0.520637</td>\n",
       "    </tr>\n",
       "    <tr>\n",
       "      <th>hp</th>\n",
       "      <td>77.0</td>\n",
       "      <td>-0.630784</td>\n",
       "      <td>0.387947</td>\n",
       "      <td>-1.520975</td>\n",
       "      <td>-0.896659</td>\n",
       "      <td>-0.636527</td>\n",
       "      <td>-0.376395</td>\n",
       "      <td>0.221908</td>\n",
       "    </tr>\n",
       "    <tr>\n",
       "      <th>wt</th>\n",
       "      <td>77.0</td>\n",
       "      <td>-0.860449</td>\n",
       "      <td>0.337855</td>\n",
       "      <td>-1.608575</td>\n",
       "      <td>-1.034499</td>\n",
       "      <td>-0.885969</td>\n",
       "      <td>-0.679679</td>\n",
       "      <td>0.001669</td>\n",
       "    </tr>\n",
       "    <tr>\n",
       "      <th>acc</th>\n",
       "      <td>77.0</td>\n",
       "      <td>0.411563</td>\n",
       "      <td>0.805605</td>\n",
       "      <td>-1.103792</td>\n",
       "      <td>-0.196464</td>\n",
       "      <td>0.347933</td>\n",
       "      <td>0.964916</td>\n",
       "      <td>2.416641</td>\n",
       "    </tr>\n",
       "    <tr>\n",
       "      <th>mpg</th>\n",
       "      <td>77.0</td>\n",
       "      <td>0.265177</td>\n",
       "      <td>0.469049</td>\n",
       "      <td>-0.698638</td>\n",
       "      <td>-0.057205</td>\n",
       "      <td>0.327654</td>\n",
       "      <td>0.584228</td>\n",
       "      <td>1.482234</td>\n",
       "    </tr>\n",
       "    <tr>\n",
       "      <th>age</th>\n",
       "      <td>77.0</td>\n",
       "      <td>0.813414</td>\n",
       "      <td>0.497873</td>\n",
       "      <td>-0.277358</td>\n",
       "      <td>0.538074</td>\n",
       "      <td>0.809884</td>\n",
       "      <td>1.081695</td>\n",
       "      <td>1.625315</td>\n",
       "    </tr>\n",
       "  </tbody>\n",
       "</table>\n",
       "</div>"
      ],
      "text/plain": [
       "      count      mean       std       min       25%       50%       75%  \\\n",
       "cyl    77.0 -0.879260  0.093978 -1.451004 -0.864014 -0.864014 -0.864014   \n",
       "disp   77.0 -0.864417  0.183186 -1.209563 -0.989490 -0.922511 -0.712005   \n",
       "hp     77.0 -0.630784  0.387947 -1.520975 -0.896659 -0.636527 -0.376395   \n",
       "wt     77.0 -0.860449  0.337855 -1.608575 -1.034499 -0.885969 -0.679679   \n",
       "acc    77.0  0.411563  0.805605 -1.103792 -0.196464  0.347933  0.964916   \n",
       "mpg    77.0  0.265177  0.469049 -0.698638 -0.057205  0.327654  0.584228   \n",
       "age    77.0  0.813414  0.497873 -0.277358  0.538074  0.809884  1.081695   \n",
       "\n",
       "           max  \n",
       "cyl  -0.864014  \n",
       "disp -0.520637  \n",
       "hp    0.221908  \n",
       "wt    0.001669  \n",
       "acc   2.416641  \n",
       "mpg   1.482234  \n",
       "age   1.625315  "
      ]
     },
     "execution_count": 58,
     "metadata": {},
     "output_type": "execute_result"
    }
   ],
   "source": [
    "car_df_0.describe().T"
   ]
  },
  {
   "cell_type": "code",
   "execution_count": 84,
   "metadata": {},
   "outputs": [],
   "source": [
    "from sklearn.model_selection import train_test_split\n",
    "from sklearn.linear_model import LinearRegression\n",
    "from sklearn import model_selection"
   ]
  },
  {
   "cell_type": "code",
   "execution_count": 63,
   "metadata": {},
   "outputs": [],
   "source": [
    "def create_linear_regression_model(df):\n",
    "    # Copy all the predictor variables into X dataframe. Since 'mpg' is dependent variable drop it\n",
    "    X = df.drop('mpg', axis=1)\n",
    "    # Copy the 'mpg' column alone into the y dataframe. This is the dependent variable\n",
    "    y = df[['mpg']]\n",
    "    X_train, X_test, y_train, y_test = train_test_split(X, y, test_size=0.30 , random_state=1)\n",
    "    lr_model=LinearRegression()\n",
    "    lr_model.fit(X_train,y_train)\n",
    "    for idx, col_name in enumerate(X_train.columns):\n",
    "        print(\"The coefficient for {} is {}\".format(col_name, lr_model.coef_[0][idx]))\n",
    "    intercept = lr_model.intercept_[0]\n",
    "    print(\"The intercept for our model is {}\".format(intercept))\n",
    "    print(\"training score\",lr_model.score(X_train, y_train))\n",
    "    print(\"test score\",lr_model.score(X_test, y_test))"
   ]
  },
  {
   "cell_type": "code",
   "execution_count": 64,
   "metadata": {},
   "outputs": [
    {
     "name": "stdout",
     "output_type": "stream",
     "text": [
      "The coefficient for cyl is 2.2719327478914075\n",
      "The coefficient for disp is -0.9940824615611084\n",
      "The coefficient for hp is 0.04759156588254987\n",
      "The coefficient for wt is -0.6683872960655175\n",
      "The coefficient for acc is -0.04315961689853143\n",
      "The coefficient for age is -0.05939534158423475\n",
      "The intercept for our model is 0.9251033310094555\n",
      "training score 0.6861253674846652\n",
      "test score 0.6799097913116423\n"
     ]
    }
   ],
   "source": [
    "create_linear_regression_model(car_df_0)"
   ]
  },
  {
   "cell_type": "code",
   "execution_count": 65,
   "metadata": {},
   "outputs": [
    {
     "name": "stdout",
     "output_type": "stream",
     "text": [
      "The coefficient for cyl is 0.29384496070793553\n",
      "The coefficient for disp is -0.05265463756069233\n",
      "The coefficient for hp is -0.7025462409387575\n",
      "The coefficient for wt is -0.5562377798656238\n",
      "The coefficient for acc is -0.015939777575420977\n",
      "The coefficient for age is -0.38162135980634265\n",
      "The intercept for our model is -0.12218646816885836\n",
      "training score 0.6260627526857347\n",
      "test score 0.6355244899801992\n"
     ]
    }
   ],
   "source": [
    "create_linear_regression_model(car_df_1)"
   ]
  },
  {
   "cell_type": "code",
   "execution_count": 66,
   "metadata": {},
   "outputs": [
    {
     "name": "stdout",
     "output_type": "stream",
     "text": [
      "The coefficient for cyl is -0.06905842697173022\n",
      "The coefficient for disp is -0.13327100020735078\n",
      "The coefficient for hp is -0.16596711163490752\n",
      "The coefficient for wt is -0.02555930093713589\n",
      "The coefficient for acc is -0.2321471671116307\n",
      "The coefficient for age is -0.19226998920363192\n",
      "The intercept for our model is -0.679650641957151\n",
      "training score 0.5796525735081146\n",
      "test score 0.44990201169550204\n"
     ]
    }
   ],
   "source": [
    "create_linear_regression_model(car_df_2)"
   ]
  },
  {
   "cell_type": "code",
   "execution_count": 67,
   "metadata": {},
   "outputs": [
    {
     "name": "stdout",
     "output_type": "stream",
     "text": [
      "The coefficient for cyl is 0.1595236494451113\n",
      "The coefficient for disp is -0.021697156088846675\n",
      "The coefficient for hp is -0.12279522763605624\n",
      "The coefficient for wt is -0.35442824946275203\n",
      "The coefficient for acc is -0.011153264693734849\n",
      "The coefficient for age is -0.184280052623504\n",
      "The intercept for our model is -0.48110270710413616\n",
      "training score 0.29587760187503664\n",
      "test score 0.25487727331272003\n"
     ]
    }
   ],
   "source": [
    "create_linear_regression_model(car_df_3)"
   ]
  },
  {
   "cell_type": "code",
   "execution_count": 68,
   "metadata": {},
   "outputs": [
    {
     "name": "stdout",
     "output_type": "stream",
     "text": [
      "All models are giving very bad performances. Will try again with K as 3\n"
     ]
    }
   ],
   "source": [
    "print(\"All models are giving very bad performances. Will try again with K as 3\")"
   ]
  },
  {
   "cell_type": "code",
   "execution_count": 69,
   "metadata": {},
   "outputs": [
    {
     "name": "stdout",
     "output_type": "stream",
     "text": [
      "[[-0.80729953 -0.77711217 -0.60737201 -0.75140367  0.23659857  0.66745906\n",
      "  -0.31412419  0.62801932]\n",
      " [ 0.39067788  0.32114503 -0.11236107  0.36381187  0.45000695 -0.54629806\n",
      "   0.11676754  3.        ]\n",
      " [ 1.46997107  1.37732792  1.30269467  1.33987657 -0.93010387 -1.11663895\n",
      "   0.52513032  2.        ]]\n",
      "        cyl      disp        hp        wt       acc       mpg       age  \\\n",
      "0 -0.807300 -0.777112 -0.607372 -0.751404  0.236599  0.667459 -0.314124   \n",
      "1  0.390678  0.321145 -0.112361  0.363812  0.450007 -0.546298  0.116768   \n",
      "2  1.469971  1.377328  1.302695  1.339877 -0.930104 -1.116639  0.525130   \n",
      "\n",
      "      GROUP  \n",
      "0  0.628019  \n",
      "1  3.000000  \n",
      "2  2.000000  \n"
     ]
    }
   ],
   "source": [
    "cluster_KMEANS(3)"
   ]
  },
  {
   "cell_type": "code",
   "execution_count": 70,
   "metadata": {},
   "outputs": [
    {
     "data": {
      "text/html": [
       "<div>\n",
       "<style scoped>\n",
       "    .dataframe tbody tr th:only-of-type {\n",
       "        vertical-align: middle;\n",
       "    }\n",
       "\n",
       "    .dataframe tbody tr th {\n",
       "        vertical-align: top;\n",
       "    }\n",
       "\n",
       "    .dataframe thead th {\n",
       "        text-align: right;\n",
       "    }\n",
       "</style>\n",
       "<table border=\"1\" class=\"dataframe\">\n",
       "  <thead>\n",
       "    <tr style=\"text-align: right;\">\n",
       "      <th></th>\n",
       "      <th>cyl</th>\n",
       "      <th>disp</th>\n",
       "      <th>hp</th>\n",
       "      <th>wt</th>\n",
       "      <th>acc</th>\n",
       "      <th>mpg</th>\n",
       "      <th>age</th>\n",
       "      <th>GROUP</th>\n",
       "    </tr>\n",
       "  </thead>\n",
       "  <tbody>\n",
       "    <tr>\n",
       "      <th>0</th>\n",
       "      <td>1.483947</td>\n",
       "      <td>1.077290</td>\n",
       "      <td>0.664133</td>\n",
       "      <td>0.620540</td>\n",
       "      <td>-1.285258</td>\n",
       "      <td>-0.698638</td>\n",
       "      <td>1.625315</td>\n",
       "      <td>2</td>\n",
       "    </tr>\n",
       "    <tr>\n",
       "      <th>1</th>\n",
       "      <td>1.483947</td>\n",
       "      <td>1.488732</td>\n",
       "      <td>1.574594</td>\n",
       "      <td>0.843334</td>\n",
       "      <td>-1.466724</td>\n",
       "      <td>-1.083498</td>\n",
       "      <td>1.625315</td>\n",
       "      <td>2</td>\n",
       "    </tr>\n",
       "    <tr>\n",
       "      <th>2</th>\n",
       "      <td>1.483947</td>\n",
       "      <td>1.182542</td>\n",
       "      <td>1.184397</td>\n",
       "      <td>0.540382</td>\n",
       "      <td>-1.648189</td>\n",
       "      <td>-0.698638</td>\n",
       "      <td>1.625315</td>\n",
       "      <td>2</td>\n",
       "    </tr>\n",
       "    <tr>\n",
       "      <th>3</th>\n",
       "      <td>1.483947</td>\n",
       "      <td>1.048584</td>\n",
       "      <td>1.184397</td>\n",
       "      <td>0.536845</td>\n",
       "      <td>-1.285258</td>\n",
       "      <td>-0.955212</td>\n",
       "      <td>1.625315</td>\n",
       "      <td>2</td>\n",
       "    </tr>\n",
       "    <tr>\n",
       "      <th>4</th>\n",
       "      <td>1.483947</td>\n",
       "      <td>1.029447</td>\n",
       "      <td>0.924265</td>\n",
       "      <td>0.555706</td>\n",
       "      <td>-1.829655</td>\n",
       "      <td>-0.826925</td>\n",
       "      <td>1.625315</td>\n",
       "      <td>2</td>\n",
       "    </tr>\n",
       "  </tbody>\n",
       "</table>\n",
       "</div>"
      ],
      "text/plain": [
       "        cyl      disp        hp        wt       acc       mpg       age  GROUP\n",
       "0  1.483947  1.077290  0.664133  0.620540 -1.285258 -0.698638  1.625315      2\n",
       "1  1.483947  1.488732  1.574594  0.843334 -1.466724 -1.083498  1.625315      2\n",
       "2  1.483947  1.182542  1.184397  0.540382 -1.648189 -0.698638  1.625315      2\n",
       "3  1.483947  1.048584  1.184397  0.536845 -1.285258 -0.955212  1.625315      2\n",
       "4  1.483947  1.029447  0.924265  0.555706 -1.829655 -0.826925  1.625315      2"
      ]
     },
     "execution_count": 70,
     "metadata": {},
     "output_type": "execute_result"
    }
   ],
   "source": [
    "car_df_z.head()"
   ]
  },
  {
   "cell_type": "code",
   "execution_count": 71,
   "metadata": {},
   "outputs": [
    {
     "data": {
      "text/html": [
       "<div>\n",
       "<style scoped>\n",
       "    .dataframe tbody tr th:only-of-type {\n",
       "        vertical-align: middle;\n",
       "    }\n",
       "\n",
       "    .dataframe tbody tr th {\n",
       "        vertical-align: top;\n",
       "    }\n",
       "\n",
       "    .dataframe thead th {\n",
       "        text-align: right;\n",
       "    }\n",
       "</style>\n",
       "<table border=\"1\" class=\"dataframe\">\n",
       "  <thead>\n",
       "    <tr style=\"text-align: right;\">\n",
       "      <th></th>\n",
       "      <th>cyl</th>\n",
       "      <th>disp</th>\n",
       "      <th>hp</th>\n",
       "      <th>wt</th>\n",
       "      <th>acc</th>\n",
       "      <th>mpg</th>\n",
       "      <th>age</th>\n",
       "    </tr>\n",
       "    <tr>\n",
       "      <th>GROUP</th>\n",
       "      <th></th>\n",
       "      <th></th>\n",
       "      <th></th>\n",
       "      <th></th>\n",
       "      <th></th>\n",
       "      <th></th>\n",
       "      <th></th>\n",
       "    </tr>\n",
       "  </thead>\n",
       "  <tbody>\n",
       "    <tr>\n",
       "      <th>0</th>\n",
       "      <td>207</td>\n",
       "      <td>207</td>\n",
       "      <td>207</td>\n",
       "      <td>207</td>\n",
       "      <td>207</td>\n",
       "      <td>207</td>\n",
       "      <td>207</td>\n",
       "    </tr>\n",
       "    <tr>\n",
       "      <th>1</th>\n",
       "      <td>80</td>\n",
       "      <td>80</td>\n",
       "      <td>80</td>\n",
       "      <td>80</td>\n",
       "      <td>80</td>\n",
       "      <td>80</td>\n",
       "      <td>80</td>\n",
       "    </tr>\n",
       "    <tr>\n",
       "      <th>2</th>\n",
       "      <td>84</td>\n",
       "      <td>84</td>\n",
       "      <td>84</td>\n",
       "      <td>84</td>\n",
       "      <td>84</td>\n",
       "      <td>84</td>\n",
       "      <td>84</td>\n",
       "    </tr>\n",
       "  </tbody>\n",
       "</table>\n",
       "</div>"
      ],
      "text/plain": [
       "       cyl  disp   hp   wt  acc  mpg  age\n",
       "GROUP                                    \n",
       "0      207   207  207  207  207  207  207\n",
       "1       80    80   80   80   80   80   80\n",
       "2       84    84   84   84   84   84   84"
      ]
     },
     "execution_count": 71,
     "metadata": {},
     "output_type": "execute_result"
    }
   ],
   "source": [
    "car_df_z.groupby('GROUP').count()"
   ]
  },
  {
   "cell_type": "code",
   "execution_count": 72,
   "metadata": {},
   "outputs": [
    {
     "name": "stdout",
     "output_type": "stream",
     "text": [
      "Still observing class imbalance\n"
     ]
    }
   ],
   "source": [
    "print(\"Still observing class imbalance\")"
   ]
  },
  {
   "cell_type": "code",
   "execution_count": 73,
   "metadata": {},
   "outputs": [
    {
     "data": {
      "text/plain": [
       "array([[<matplotlib.axes._subplots.AxesSubplot object at 0x00000000067A8BE0>,\n",
       "        <matplotlib.axes._subplots.AxesSubplot object at 0x00000000067D0BE0>,\n",
       "        <matplotlib.axes._subplots.AxesSubplot object at 0x00000000067F7F60>,\n",
       "        <matplotlib.axes._subplots.AxesSubplot object at 0x0000000006828390>],\n",
       "       [<matplotlib.axes._subplots.AxesSubplot object at 0x0000000006853780>,\n",
       "        <matplotlib.axes._subplots.AxesSubplot object at 0x00000000068537B8>,\n",
       "        <matplotlib.axes._subplots.AxesSubplot object at 0x0000000006964F60>,\n",
       "        <matplotlib.axes._subplots.AxesSubplot object at 0x0000000006994390>]],\n",
       "      dtype=object)"
      ]
     },
     "execution_count": 73,
     "metadata": {},
     "output_type": "execute_result"
    },
    {
     "data": {
      "image/png": "[encoded data removed]",
      "text/plain": [
       "<Figure size 720x720 with 8 Axes>"
      ]
     },
     "metadata": {},
     "output_type": "display_data"
    }
   ],
   "source": [
    "car_df_z.boxplot(by='GROUP', layout=(2,4), figsize=(10, 10))"
   ]
  },
  {
   "cell_type": "code",
   "execution_count": 74,
   "metadata": {},
   "outputs": [
    {
     "name": "stdout",
     "output_type": "stream",
     "text": [
      "Seeing fairly unique clusters from disp,hp,mpg and wt features perspective\n",
      "Can clearly see inverse relation of cyl,disp,wt and hp with mpg\n"
     ]
    }
   ],
   "source": [
    "print(\"Seeing fairly unique clusters from disp,hp,mpg and wt features perspective\")\n",
    "print(\"Can clearly see inverse relation of cyl,disp,wt and hp with mpg\")"
   ]
  },
  {
   "cell_type": "code",
   "execution_count": 75,
   "metadata": {},
   "outputs": [],
   "source": [
    "car_df_0=car_df_z.loc[car_df_z['GROUP']==0]\n",
    "car_df_1=car_df_z.loc[car_df_z['GROUP']==1]\n",
    "car_df_2=car_df_z.loc[car_df_z['GROUP']==2]\n",
    "#car_df_3=car_df_z.loc[car_df_z['GROUP']==3]"
   ]
  },
  {
   "cell_type": "code",
   "execution_count": 102,
   "metadata": {},
   "outputs": [
    {
     "name": "stderr",
     "output_type": "stream",
     "text": [
      "C:\\Users\\pokrishn\\AppData\\Local\\Continuum\\anaconda2\\lib\\site-packages\\pandas\\core\\frame.py:3694: SettingWithCopyWarning: \n",
      "A value is trying to be set on a copy of a slice from a DataFrame\n",
      "\n",
      "See the caveats in the documentation: http://pandas.pydata.org/pandas-docs/stable/indexing.html#indexing-view-versus-copy\n",
      "  errors=errors)\n"
     ]
    }
   ],
   "source": [
    "car_df_0.drop('GROUP',axis=1,inplace=True)\n",
    "car_df_1.drop('GROUP',axis=1,inplace=True)\n",
    "car_df_2.drop('GROUP',axis=1,inplace=True)"
   ]
  },
  {
   "cell_type": "code",
   "execution_count": 103,
   "metadata": {},
   "outputs": [
    {
     "name": "stdout",
     "output_type": "stream",
     "text": [
      "The coefficient for cyl is 0.32515967249518485\n",
      "The coefficient for disp is 0.11106997437194141\n",
      "The coefficient for hp is -0.4053629670349478\n",
      "The coefficient for wt is -0.743764536506415\n",
      "The coefficient for acc is 0.020418471235091464\n",
      "The coefficient for age is -0.3690105979760522\n",
      "The intercept for our model is 0.10128525029043134\n",
      "training score 0.686567572942553\n",
      "test score 0.58804960053752\n"
     ]
    }
   ],
   "source": [
    "create_linear_regression_model(car_df_0)"
   ]
  },
  {
   "cell_type": "code",
   "execution_count": 104,
   "metadata": {},
   "outputs": [
    {
     "name": "stdout",
     "output_type": "stream",
     "text": [
      "The coefficient for cyl is 0.1595236494451113\n",
      "The coefficient for disp is -0.021697156088846675\n",
      "The coefficient for hp is -0.12279522763605624\n",
      "The coefficient for wt is -0.35442824946275203\n",
      "The coefficient for acc is -0.011153264693734849\n",
      "The coefficient for age is -0.184280052623504\n",
      "The intercept for our model is -0.48110270710413616\n",
      "training score 0.29587760187503664\n",
      "test score 0.25487727331272003\n"
     ]
    }
   ],
   "source": [
    "create_linear_regression_model(car_df_1)"
   ]
  },
  {
   "cell_type": "code",
   "execution_count": 105,
   "metadata": {},
   "outputs": [
    {
     "name": "stdout",
     "output_type": "stream",
     "text": [
      "The coefficient for cyl is -0.06905842697173022\n",
      "The coefficient for disp is -0.13327100020735078\n",
      "The coefficient for hp is -0.16596711163490752\n",
      "The coefficient for wt is -0.02555930093713589\n",
      "The coefficient for acc is -0.2321471671116307\n",
      "The coefficient for age is -0.19226998920363192\n",
      "The intercept for our model is -0.679650641957151\n",
      "training score 0.5796525735081146\n",
      "test score 0.44990201169550204\n"
     ]
    }
   ],
   "source": [
    "create_linear_regression_model(car_df_2)"
   ]
  },
  {
   "cell_type": "code",
   "execution_count": 106,
   "metadata": {},
   "outputs": [
    {
     "name": "stdout",
     "output_type": "stream",
     "text": [
      "Still seeing very poor results of models\n",
      "Trying K-fold cross validation \n"
     ]
    }
   ],
   "source": [
    "print(\"Still seeing very poor results of models\")\n",
    "print(\"Trying K-fold cross validation \")"
   ]
  },
  {
   "cell_type": "code",
   "execution_count": 109,
   "metadata": {},
   "outputs": [],
   "source": [
    "def create_linear_regression_model_with_k_fold(df):\n",
    "    # Copy all the predictor variables into X dataframe. Since 'mpg' is dependent variable drop it\n",
    "    X = df.drop('mpg', axis=1)\n",
    "    # Copy the 'mpg' column alone into the y dataframe. This is the dependent variable\n",
    "    y = df[['mpg']]\n",
    "    X_train, X_test, y_train, y_test = train_test_split(X, y, test_size=0.30 , random_state=1)\n",
    "    seed = 6\n",
    "    kfold = model_selection.KFold(n_splits=10, random_state=seed)\n",
    "    lr_model=LinearRegression()\n",
    "    results = model_selection.cross_val_score(lr_model, X, y, scoring='mean_squared_error', cv=kfold)\n",
    "    print(\"Mean Square Error: %.3f (%.3f)\" % (-results.mean(), results.std()))"
   ]
  },
  {
   "cell_type": "code",
   "execution_count": 110,
   "metadata": {},
   "outputs": [
    {
     "name": "stdout",
     "output_type": "stream",
     "text": [
      "Mean Square Error: 0.178 (0.086)\n"
     ]
    },
    {
     "name": "stderr",
     "output_type": "stream",
     "text": [
      "C:\\Users\\pokrishn\\AppData\\Local\\Continuum\\anaconda2\\lib\\site-packages\\sklearn\\metrics\\scorer.py:100: DeprecationWarning: Scoring method mean_squared_error was renamed to neg_mean_squared_error in version 0.18 and will be removed in 0.20.\n",
      "  sample_weight=sample_weight)\n",
      "C:\\Users\\pokrishn\\AppData\\Local\\Continuum\\anaconda2\\lib\\site-packages\\sklearn\\metrics\\scorer.py:100: DeprecationWarning: Scoring method mean_squared_error was renamed to neg_mean_squared_error in version 0.18 and will be removed in 0.20.\n",
      "  sample_weight=sample_weight)\n",
      "C:\\Users\\pokrishn\\AppData\\Local\\Continuum\\anaconda2\\lib\\site-packages\\sklearn\\metrics\\scorer.py:100: DeprecationWarning: Scoring method mean_squared_error was renamed to neg_mean_squared_error in version 0.18 and will be removed in 0.20.\n",
      "  sample_weight=sample_weight)\n",
      "C:\\Users\\pokrishn\\AppData\\Local\\Continuum\\anaconda2\\lib\\site-packages\\sklearn\\metrics\\scorer.py:100: DeprecationWarning: Scoring method mean_squared_error was renamed to neg_mean_squared_error in version 0.18 and will be removed in 0.20.\n",
      "  sample_weight=sample_weight)\n",
      "C:\\Users\\pokrishn\\AppData\\Local\\Continuum\\anaconda2\\lib\\site-packages\\sklearn\\metrics\\scorer.py:100: DeprecationWarning: Scoring method mean_squared_error was renamed to neg_mean_squared_error in version 0.18 and will be removed in 0.20.\n",
      "  sample_weight=sample_weight)\n",
      "C:\\Users\\pokrishn\\AppData\\Local\\Continuum\\anaconda2\\lib\\site-packages\\sklearn\\metrics\\scorer.py:100: DeprecationWarning: Scoring method mean_squared_error was renamed to neg_mean_squared_error in version 0.18 and will be removed in 0.20.\n",
      "  sample_weight=sample_weight)\n",
      "C:\\Users\\pokrishn\\AppData\\Local\\Continuum\\anaconda2\\lib\\site-packages\\sklearn\\metrics\\scorer.py:100: DeprecationWarning: Scoring method mean_squared_error was renamed to neg_mean_squared_error in version 0.18 and will be removed in 0.20.\n",
      "  sample_weight=sample_weight)\n",
      "C:\\Users\\pokrishn\\AppData\\Local\\Continuum\\anaconda2\\lib\\site-packages\\sklearn\\metrics\\scorer.py:100: DeprecationWarning: Scoring method mean_squared_error was renamed to neg_mean_squared_error in version 0.18 and will be removed in 0.20.\n",
      "  sample_weight=sample_weight)\n",
      "C:\\Users\\pokrishn\\AppData\\Local\\Continuum\\anaconda2\\lib\\site-packages\\sklearn\\metrics\\scorer.py:100: DeprecationWarning: Scoring method mean_squared_error was renamed to neg_mean_squared_error in version 0.18 and will be removed in 0.20.\n",
      "  sample_weight=sample_weight)\n",
      "C:\\Users\\pokrishn\\AppData\\Local\\Continuum\\anaconda2\\lib\\site-packages\\sklearn\\metrics\\scorer.py:100: DeprecationWarning: Scoring method mean_squared_error was renamed to neg_mean_squared_error in version 0.18 and will be removed in 0.20.\n",
      "  sample_weight=sample_weight)\n"
     ]
    }
   ],
   "source": [
    "create_linear_regression_model_with_k_fold(car_df_0)"
   ]
  },
  {
   "cell_type": "code",
   "execution_count": 111,
   "metadata": {},
   "outputs": [
    {
     "name": "stdout",
     "output_type": "stream",
     "text": [
      "Mean Square Error: 0.099 (0.107)\n"
     ]
    },
    {
     "name": "stderr",
     "output_type": "stream",
     "text": [
      "C:\\Users\\pokrishn\\AppData\\Local\\Continuum\\anaconda2\\lib\\site-packages\\sklearn\\metrics\\scorer.py:100: DeprecationWarning: Scoring method mean_squared_error was renamed to neg_mean_squared_error in version 0.18 and will be removed in 0.20.\n",
      "  sample_weight=sample_weight)\n",
      "C:\\Users\\pokrishn\\AppData\\Local\\Continuum\\anaconda2\\lib\\site-packages\\sklearn\\metrics\\scorer.py:100: DeprecationWarning: Scoring method mean_squared_error was renamed to neg_mean_squared_error in version 0.18 and will be removed in 0.20.\n",
      "  sample_weight=sample_weight)\n",
      "C:\\Users\\pokrishn\\AppData\\Local\\Continuum\\anaconda2\\lib\\site-packages\\sklearn\\metrics\\scorer.py:100: DeprecationWarning: Scoring method mean_squared_error was renamed to neg_mean_squared_error in version 0.18 and will be removed in 0.20.\n",
      "  sample_weight=sample_weight)\n",
      "C:\\Users\\pokrishn\\AppData\\Local\\Continuum\\anaconda2\\lib\\site-packages\\sklearn\\metrics\\scorer.py:100: DeprecationWarning: Scoring method mean_squared_error was renamed to neg_mean_squared_error in version 0.18 and will be removed in 0.20.\n",
      "  sample_weight=sample_weight)\n",
      "C:\\Users\\pokrishn\\AppData\\Local\\Continuum\\anaconda2\\lib\\site-packages\\sklearn\\metrics\\scorer.py:100: DeprecationWarning: Scoring method mean_squared_error was renamed to neg_mean_squared_error in version 0.18 and will be removed in 0.20.\n",
      "  sample_weight=sample_weight)\n",
      "C:\\Users\\pokrishn\\AppData\\Local\\Continuum\\anaconda2\\lib\\site-packages\\sklearn\\metrics\\scorer.py:100: DeprecationWarning: Scoring method mean_squared_error was renamed to neg_mean_squared_error in version 0.18 and will be removed in 0.20.\n",
      "  sample_weight=sample_weight)\n",
      "C:\\Users\\pokrishn\\AppData\\Local\\Continuum\\anaconda2\\lib\\site-packages\\sklearn\\metrics\\scorer.py:100: DeprecationWarning: Scoring method mean_squared_error was renamed to neg_mean_squared_error in version 0.18 and will be removed in 0.20.\n",
      "  sample_weight=sample_weight)\n",
      "C:\\Users\\pokrishn\\AppData\\Local\\Continuum\\anaconda2\\lib\\site-packages\\sklearn\\metrics\\scorer.py:100: DeprecationWarning: Scoring method mean_squared_error was renamed to neg_mean_squared_error in version 0.18 and will be removed in 0.20.\n",
      "  sample_weight=sample_weight)\n",
      "C:\\Users\\pokrishn\\AppData\\Local\\Continuum\\anaconda2\\lib\\site-packages\\sklearn\\metrics\\scorer.py:100: DeprecationWarning: Scoring method mean_squared_error was renamed to neg_mean_squared_error in version 0.18 and will be removed in 0.20.\n",
      "  sample_weight=sample_weight)\n",
      "C:\\Users\\pokrishn\\AppData\\Local\\Continuum\\anaconda2\\lib\\site-packages\\sklearn\\metrics\\scorer.py:100: DeprecationWarning: Scoring method mean_squared_error was renamed to neg_mean_squared_error in version 0.18 and will be removed in 0.20.\n",
      "  sample_weight=sample_weight)\n"
     ]
    }
   ],
   "source": [
    "create_linear_regression_model_with_k_fold(car_df_1)"
   ]
  },
  {
   "cell_type": "code",
   "execution_count": 112,
   "metadata": {},
   "outputs": [
    {
     "name": "stdout",
     "output_type": "stream",
     "text": [
      "Mean Square Error: 0.070 (0.064)\n"
     ]
    },
    {
     "name": "stderr",
     "output_type": "stream",
     "text": [
      "C:\\Users\\pokrishn\\AppData\\Local\\Continuum\\anaconda2\\lib\\site-packages\\sklearn\\metrics\\scorer.py:100: DeprecationWarning: Scoring method mean_squared_error was renamed to neg_mean_squared_error in version 0.18 and will be removed in 0.20.\n",
      "  sample_weight=sample_weight)\n",
      "C:\\Users\\pokrishn\\AppData\\Local\\Continuum\\anaconda2\\lib\\site-packages\\sklearn\\metrics\\scorer.py:100: DeprecationWarning: Scoring method mean_squared_error was renamed to neg_mean_squared_error in version 0.18 and will be removed in 0.20.\n",
      "  sample_weight=sample_weight)\n",
      "C:\\Users\\pokrishn\\AppData\\Local\\Continuum\\anaconda2\\lib\\site-packages\\sklearn\\metrics\\scorer.py:100: DeprecationWarning: Scoring method mean_squared_error was renamed to neg_mean_squared_error in version 0.18 and will be removed in 0.20.\n",
      "  sample_weight=sample_weight)\n",
      "C:\\Users\\pokrishn\\AppData\\Local\\Continuum\\anaconda2\\lib\\site-packages\\sklearn\\metrics\\scorer.py:100: DeprecationWarning: Scoring method mean_squared_error was renamed to neg_mean_squared_error in version 0.18 and will be removed in 0.20.\n",
      "  sample_weight=sample_weight)\n",
      "C:\\Users\\pokrishn\\AppData\\Local\\Continuum\\anaconda2\\lib\\site-packages\\sklearn\\metrics\\scorer.py:100: DeprecationWarning: Scoring method mean_squared_error was renamed to neg_mean_squared_error in version 0.18 and will be removed in 0.20.\n",
      "  sample_weight=sample_weight)\n",
      "C:\\Users\\pokrishn\\AppData\\Local\\Continuum\\anaconda2\\lib\\site-packages\\sklearn\\metrics\\scorer.py:100: DeprecationWarning: Scoring method mean_squared_error was renamed to neg_mean_squared_error in version 0.18 and will be removed in 0.20.\n",
      "  sample_weight=sample_weight)\n",
      "C:\\Users\\pokrishn\\AppData\\Local\\Continuum\\anaconda2\\lib\\site-packages\\sklearn\\metrics\\scorer.py:100: DeprecationWarning: Scoring method mean_squared_error was renamed to neg_mean_squared_error in version 0.18 and will be removed in 0.20.\n",
      "  sample_weight=sample_weight)\n",
      "C:\\Users\\pokrishn\\AppData\\Local\\Continuum\\anaconda2\\lib\\site-packages\\sklearn\\metrics\\scorer.py:100: DeprecationWarning: Scoring method mean_squared_error was renamed to neg_mean_squared_error in version 0.18 and will be removed in 0.20.\n",
      "  sample_weight=sample_weight)\n",
      "C:\\Users\\pokrishn\\AppData\\Local\\Continuum\\anaconda2\\lib\\site-packages\\sklearn\\metrics\\scorer.py:100: DeprecationWarning: Scoring method mean_squared_error was renamed to neg_mean_squared_error in version 0.18 and will be removed in 0.20.\n",
      "  sample_weight=sample_weight)\n",
      "C:\\Users\\pokrishn\\AppData\\Local\\Continuum\\anaconda2\\lib\\site-packages\\sklearn\\metrics\\scorer.py:100: DeprecationWarning: Scoring method mean_squared_error was renamed to neg_mean_squared_error in version 0.18 and will be removed in 0.20.\n",
      "  sample_weight=sample_weight)\n"
     ]
    }
   ],
   "source": [
    "create_linear_regression_model_with_k_fold(car_df_2)"
   ]
  },
  {
   "cell_type": "code",
   "execution_count": null,
   "metadata": {},
   "outputs": [],
   "source": [
    "print(\"Still seeing low performance. Below are my observations :\")\n",
    "print(\"Looks like the data set is missing some important features, those that might help in improving the model accuracy\")\n",
    "print(\"On further investigation, dataset itself seems faulty. On searching the pecifications of some cars, the values didn't add up \")\n",
    "print(\"https://www.automobile-catalog.com/make/chevrolet_usa/chevelle_malibu_1gen/chevelle_malibu_1gen_2_hardtop_coupe_malibu/1970.html\")\n",
    "print(\"Above reference doesn't agree with the very 1st row of data\")\n",
    "print(\"Maybe we should go back and \")"
   ]
  }
 ],
 "metadata": {
  "kernelspec": {
   "display_name": "Python 3",
   "language": "python",
   "name": "python3"
  },
  "language_info": {
   "codemirror_mode": {
    "name": "ipython",
    "version": 3
   },
   "file_extension": ".py",
   "mimetype": "text/x-python",
   "name": "python",
   "nbconvert_exporter": "python",
   "pygments_lexer": "ipython3",
   "version": "3.6.5"
  }
 },
 "nbformat": 4,
 "nbformat_minor": 2
}
