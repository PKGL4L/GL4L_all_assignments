{
 "cells": [
  {
   "cell_type": "markdown",
   "metadata": {},
   "source": [
    "### This file was run in Google Collab"
   ]
  },
  {
   "cell_type": "code",
   "execution_count": 0,
   "metadata": {
    "colab": {},
    "colab_type": "code",
    "id": "d6-qSt7uAtS2"
   },
   "outputs": [],
   "source": [
    "import pandas as pd\n",
    "import numpy as np\n",
    "from sklearn.model_selection import train_test_split\n",
    "from sklearn.preprocessing import StandardScaler\n",
    "from sklearn.preprocessing import LabelEncoder\n",
    "import matplotlib.pyplot as plt\n",
    "from sklearn import metrics\n",
    "from sklearn.metrics import accuracy_score"
   ]
  },
  {
   "cell_type": "code",
   "execution_count": 0,
   "metadata": {
    "colab": {},
    "colab_type": "code",
    "id": "2gxu1Q-CBIVK"
   },
   "outputs": [],
   "source": [
    "bank_df = pd.read_csv(\"bank-1.csv\")"
   ]
  },
  {
   "cell_type": "code",
   "execution_count": 3,
   "metadata": {
    "colab": {
     "base_uri": "https://localhost:8080/",
     "height": 34
    },
    "colab_type": "code",
    "id": "Hpmo4_g2BTHX",
    "outputId": "68fee44c-b19d-455e-b5e9-e90d26072be1"
   },
   "outputs": [
    {
     "data": {
      "text/plain": [
       "(10000, 14)"
      ]
     },
     "execution_count": 3,
     "metadata": {
      "tags": []
     },
     "output_type": "execute_result"
    }
   ],
   "source": [
    "bank_df.shape"
   ]
  },
  {
   "cell_type": "code",
   "execution_count": 4,
   "metadata": {
    "colab": {
     "base_uri": "https://localhost:8080/",
     "height": 69
    },
    "colab_type": "code",
    "id": "9hnDHVCLBWwG",
    "outputId": "77c74b8d-8800-40ca-de7f-836b20ad0b8a"
   },
   "outputs": [
    {
     "data": {
      "text/html": [
       "<div>\n",
       "<style scoped>\n",
       "    .dataframe tbody tr th:only-of-type {\n",
       "        vertical-align: middle;\n",
       "    }\n",
       "\n",
       "    .dataframe tbody tr th {\n",
       "        vertical-align: top;\n",
       "    }\n",
       "\n",
       "    .dataframe thead th {\n",
       "        text-align: right;\n",
       "    }\n",
       "</style>\n",
       "<table border=\"1\" class=\"dataframe\">\n",
       "  <thead>\n",
       "    <tr style=\"text-align: right;\">\n",
       "      <th></th>\n",
       "      <th>RowNumber</th>\n",
       "      <th>CustomerId</th>\n",
       "      <th>Surname</th>\n",
       "      <th>CreditScore</th>\n",
       "      <th>Geography</th>\n",
       "      <th>Gender</th>\n",
       "      <th>Age</th>\n",
       "      <th>Tenure</th>\n",
       "      <th>Balance</th>\n",
       "      <th>NumOfProducts</th>\n",
       "      <th>HasCrCard</th>\n",
       "      <th>IsActiveMember</th>\n",
       "      <th>EstimatedSalary</th>\n",
       "      <th>Exited</th>\n",
       "    </tr>\n",
       "  </thead>\n",
       "  <tbody>\n",
       "  </tbody>\n",
       "</table>\n",
       "</div>"
      ],
      "text/plain": [
       "Empty DataFrame\n",
       "Columns: [RowNumber, CustomerId, Surname, CreditScore, Geography, Gender, Age, Tenure, Balance, NumOfProducts, HasCrCard, IsActiveMember, EstimatedSalary, Exited]\n",
       "Index: []"
      ]
     },
     "execution_count": 4,
     "metadata": {
      "tags": []
     },
     "output_type": "execute_result"
    }
   ],
   "source": [
    "#checking for nan values\n",
    "bank_df[bank_df.isnull().any(axis=1)]"
   ]
  },
  {
   "cell_type": "markdown",
   "metadata": {},
   "source": [
    "### Drop the columns which are unique for all users like IDs"
   ]
  },
  {
   "cell_type": "code",
   "execution_count": 0,
   "metadata": {
    "colab": {},
    "colab_type": "code",
    "id": "JfeUwXdnCBs-"
   },
   "outputs": [],
   "source": [
    "bank_df = bank_df.drop(['RowNumber','Surname','CustomerId'],axis=1)"
   ]
  },
  {
   "cell_type": "code",
   "execution_count": 6,
   "metadata": {
    "colab": {
     "base_uri": "https://localhost:8080/",
     "height": 34
    },
    "colab_type": "code",
    "id": "94j_YL6OCcq-",
    "outputId": "f1d686ee-6e30-46f9-c336-848f618b83f6"
   },
   "outputs": [
    {
     "data": {
      "text/plain": [
       "(10000, 11)"
      ]
     },
     "execution_count": 6,
     "metadata": {
      "tags": []
     },
     "output_type": "execute_result"
    }
   ],
   "source": [
    "bank_df.shape"
   ]
  },
  {
   "cell_type": "code",
   "execution_count": 7,
   "metadata": {
    "colab": {
     "base_uri": "https://localhost:8080/",
     "height": 221
    },
    "colab_type": "code",
    "id": "fnMqw-qdEgyK",
    "outputId": "e7b7d2ba-263f-40f2-e36f-267d5d005ac7"
   },
   "outputs": [
    {
     "data": {
      "text/plain": [
       "CreditScore          int64\n",
       "Geography           object\n",
       "Gender              object\n",
       "Age                  int64\n",
       "Tenure               int64\n",
       "Balance            float64\n",
       "NumOfProducts        int64\n",
       "HasCrCard            int64\n",
       "IsActiveMember       int64\n",
       "EstimatedSalary    float64\n",
       "Exited               int64\n",
       "dtype: object"
      ]
     },
     "execution_count": 7,
     "metadata": {
      "tags": []
     },
     "output_type": "execute_result"
    }
   ],
   "source": [
    "bank_df.dtypes"
   ]
  },
  {
   "cell_type": "markdown",
   "metadata": {
    "colab_type": "text",
    "id": "7GSIkZLyEvlC"
   },
   "source": []
  },
  {
   "cell_type": "code",
   "execution_count": 8,
   "metadata": {
    "colab": {
     "base_uri": "https://localhost:8080/",
     "height": 68
    },
    "colab_type": "code",
    "id": "7RPPoAgbEkdt",
    "outputId": "2ace3d64-361e-489f-dd6a-14917f9f04c6"
   },
   "outputs": [
    {
     "data": {
      "text/plain": [
       "1    5457\n",
       "0    4543\n",
       "Name: Gender, dtype: int64"
      ]
     },
     "execution_count": 8,
     "metadata": {
      "tags": []
     },
     "output_type": "execute_result"
    }
   ],
   "source": [
    "le_class = LabelEncoder()\n",
    "bank_df[\"Gender\"] = le_class.fit_transform(bank_df[\"Gender\"])\n",
    "bank_df[\"Gender\"].value_counts()"
   ]
  },
  {
   "cell_type": "code",
   "execution_count": 9,
   "metadata": {
    "colab": {
     "base_uri": "https://localhost:8080/",
     "height": 85
    },
    "colab_type": "code",
    "id": "-YODkRTSFb17",
    "outputId": "db47a313-0ed7-467b-8378-94b0f4dfe81d"
   },
   "outputs": [
    {
     "data": {
      "text/plain": [
       "0    5014\n",
       "1    2509\n",
       "2    2477\n",
       "Name: Geography, dtype: int64"
      ]
     },
     "execution_count": 9,
     "metadata": {
      "tags": []
     },
     "output_type": "execute_result"
    }
   ],
   "source": [
    "bank_df[\"Geography\"] = le_class.fit_transform(bank_df[\"Geography\"])\n",
    "bank_df[\"Geography\"].value_counts()"
   ]
  },
  {
   "cell_type": "markdown",
   "metadata": {
    "colab_type": "text",
    "id": "2pqxS9tjFZTG"
   },
   "source": []
  },
  {
   "cell_type": "code",
   "execution_count": 10,
   "metadata": {
    "colab": {
     "base_uri": "https://localhost:8080/",
     "height": 221
    },
    "colab_type": "code",
    "id": "tPWGQOjhFkDJ",
    "outputId": "8c1d0754-89be-4c87-8f38-90392fd459f9"
   },
   "outputs": [
    {
     "data": {
      "text/plain": [
       "CreditScore          int64\n",
       "Geography            int64\n",
       "Gender               int64\n",
       "Age                  int64\n",
       "Tenure               int64\n",
       "Balance            float64\n",
       "NumOfProducts        int64\n",
       "HasCrCard            int64\n",
       "IsActiveMember       int64\n",
       "EstimatedSalary    float64\n",
       "Exited               int64\n",
       "dtype: object"
      ]
     },
     "execution_count": 10,
     "metadata": {
      "tags": []
     },
     "output_type": "execute_result"
    }
   ],
   "source": [
    "bank_df.dtypes"
   ]
  },
  {
   "cell_type": "code",
   "execution_count": 11,
   "metadata": {
    "colab": {
     "base_uri": "https://localhost:8080/",
     "height": 34
    },
    "colab_type": "code",
    "id": "VSaiLHmmAObk",
    "outputId": "a230a0f7-ba27-41c8-9300-c37e329a9b8b"
   },
   "outputs": [
    {
     "data": {
      "text/plain": [
       "False"
      ]
     },
     "execution_count": 11,
     "metadata": {
      "tags": []
     },
     "output_type": "execute_result"
    }
   ],
   "source": [
    "bank_df.duplicated().any()"
   ]
  },
  {
   "cell_type": "markdown",
   "metadata": {},
   "source": [
    "### removal of outliers removes all the 1's hence dropped out the idea of outlier removal"
   ]
  },
  {
   "cell_type": "code",
   "execution_count": 12,
   "metadata": {
    "colab": {
     "base_uri": "https://localhost:8080/",
     "height": 390
    },
    "colab_type": "code",
    "id": "9zrdDZxsA6jY",
    "outputId": "14d15c7c-6ef8-4118-84b5-3835540a71a3"
   },
   "outputs": [
    {
     "data": {
      "text/html": [
       "<div>\n",
       "<style scoped>\n",
       "    .dataframe tbody tr th:only-of-type {\n",
       "        vertical-align: middle;\n",
       "    }\n",
       "\n",
       "    .dataframe tbody tr th {\n",
       "        vertical-align: top;\n",
       "    }\n",
       "\n",
       "    .dataframe thead th {\n",
       "        text-align: right;\n",
       "    }\n",
       "</style>\n",
       "<table border=\"1\" class=\"dataframe\">\n",
       "  <thead>\n",
       "    <tr style=\"text-align: right;\">\n",
       "      <th></th>\n",
       "      <th>Exited</th>\n",
       "    </tr>\n",
       "  </thead>\n",
       "  <tbody>\n",
       "    <tr>\n",
       "      <th>CreditScore</th>\n",
       "      <td>-0.027094</td>\n",
       "    </tr>\n",
       "    <tr>\n",
       "      <th>Geography</th>\n",
       "      <td>0.035943</td>\n",
       "    </tr>\n",
       "    <tr>\n",
       "      <th>Gender</th>\n",
       "      <td>-0.106512</td>\n",
       "    </tr>\n",
       "    <tr>\n",
       "      <th>Age</th>\n",
       "      <td>0.285323</td>\n",
       "    </tr>\n",
       "    <tr>\n",
       "      <th>Tenure</th>\n",
       "      <td>-0.014001</td>\n",
       "    </tr>\n",
       "    <tr>\n",
       "      <th>Balance</th>\n",
       "      <td>0.118533</td>\n",
       "    </tr>\n",
       "    <tr>\n",
       "      <th>NumOfProducts</th>\n",
       "      <td>-0.047820</td>\n",
       "    </tr>\n",
       "    <tr>\n",
       "      <th>HasCrCard</th>\n",
       "      <td>-0.007138</td>\n",
       "    </tr>\n",
       "    <tr>\n",
       "      <th>IsActiveMember</th>\n",
       "      <td>-0.156128</td>\n",
       "    </tr>\n",
       "    <tr>\n",
       "      <th>EstimatedSalary</th>\n",
       "      <td>0.012097</td>\n",
       "    </tr>\n",
       "    <tr>\n",
       "      <th>Exited</th>\n",
       "      <td>1.000000</td>\n",
       "    </tr>\n",
       "  </tbody>\n",
       "</table>\n",
       "</div>"
      ],
      "text/plain": [
       "                   Exited\n",
       "CreditScore     -0.027094\n",
       "Geography        0.035943\n",
       "Gender          -0.106512\n",
       "Age              0.285323\n",
       "Tenure          -0.014001\n",
       "Balance          0.118533\n",
       "NumOfProducts   -0.047820\n",
       "HasCrCard       -0.007138\n",
       "IsActiveMember  -0.156128\n",
       "EstimatedSalary  0.012097\n",
       "Exited           1.000000"
      ]
     },
     "execution_count": 12,
     "metadata": {
      "tags": []
     },
     "output_type": "execute_result"
    }
   ],
   "source": [
    "bank_df1 = bank_df.corr(method = \"pearson\")\n",
    "bank_df1.iloc[:,10:11]"
   ]
  },
  {
   "cell_type": "markdown",
   "metadata": {},
   "source": [
    "### correlation of the features looks poor"
   ]
  },
  {
   "cell_type": "markdown",
   "metadata": {},
   "source": [
    "### Distinguish the feature and target set"
   ]
  },
  {
   "cell_type": "code",
   "execution_count": 0,
   "metadata": {
    "colab": {},
    "colab_type": "code",
    "id": "wKN6xwSVCfGG"
   },
   "outputs": [],
   "source": [
    "#exited is the target and rest are independent features\n",
    "Y=bank_df[['Exited']]\n",
    "X=bank_df.drop(['Exited'],axis=1)"
   ]
  },
  {
   "cell_type": "markdown",
   "metadata": {},
   "source": [
    "### There is a imbalance in the data, there are 7963 0's and 2037 1's"
   ]
  },
  {
   "cell_type": "code",
   "execution_count": 14,
   "metadata": {
    "colab": {
     "base_uri": "https://localhost:8080/",
     "height": 68
    },
    "colab_type": "code",
    "id": "i03wJNDTJZWv",
    "outputId": "bb23592d-a4f9-4db3-efed-26665c59fb02"
   },
   "outputs": [
    {
     "data": {
      "text/plain": [
       "0    7963\n",
       "1    2037\n",
       "Name: Exited, dtype: int64"
      ]
     },
     "execution_count": 14,
     "metadata": {
      "tags": []
     },
     "output_type": "execute_result"
    }
   ],
   "source": [
    "Y['Exited'].value_counts()"
   ]
  },
  {
   "cell_type": "code",
   "execution_count": 15,
   "metadata": {
    "colab": {
     "base_uri": "https://localhost:8080/",
     "height": 34
    },
    "colab_type": "code",
    "id": "SW6cdsPTCfJ9",
    "outputId": "a32c69d3-7ed3-4f11-d921-ca4ecd7c149b"
   },
   "outputs": [
    {
     "name": "stdout",
     "output_type": "stream",
     "text": [
      "X_train = (8000, 10) y_train = (8000, 1) X_test = (2000, 10) y_test = (2000, 1)\n"
     ]
    }
   ],
   "source": [
    "X_train, X_test, y_train, y_test = train_test_split(X, Y,test_size=.2, \n",
    "                                                    random_state=42)\n",
    "print(\"X_train =\", X_train.shape, \"y_train =\", y_train.shape,\"X_test =\", X_test.shape,\"y_test =\", y_test.shape)"
   ]
  },
  {
   "cell_type": "markdown",
   "metadata": {},
   "source": [
    "### balancing the data using class_weight method"
   ]
  },
  {
   "cell_type": "markdown",
   "metadata": {},
   "source": [
    "### tried to form the dictionary of weighted 1's and 0's but that is reducing the accuracy and increasing the loss"
   ]
  },
  {
   "cell_type": "code",
   "execution_count": 0,
   "metadata": {
    "colab": {},
    "colab_type": "code",
    "id": "u8LwRx7AGOX8"
   },
   "outputs": [],
   "source": [
    "from sklearn.utils import class_weight"
   ]
  },
  {
   "cell_type": "code",
   "execution_count": 0,
   "metadata": {
    "colab": {},
    "colab_type": "code",
    "id": "Pffj90qQGVON"
   },
   "outputs": [],
   "source": [
    "\n",
    "class_weights = class_weight.compute_sample_weight('balanced', y_train)"
   ]
  },
  {
   "cell_type": "code",
   "execution_count": 20,
   "metadata": {
    "colab": {
     "base_uri": "https://localhost:8080/",
     "height": 139
    },
    "colab_type": "code",
    "id": "vo6o-fgsEAeW",
    "outputId": "30b6c8f7-2968-4371-c00c-db3ebcc4d001"
   },
   "outputs": [
    {
     "name": "stderr",
     "output_type": "stream",
     "text": [
      "/usr/local/lib/python3.6/dist-packages/sklearn/preprocessing/data.py:625: DataConversionWarning: Data with input dtype int64, float64 were all converted to float64 by StandardScaler.\n",
      "  return self.partial_fit(X, y)\n",
      "/usr/local/lib/python3.6/dist-packages/sklearn/base.py:462: DataConversionWarning: Data with input dtype int64, float64 were all converted to float64 by StandardScaler.\n",
      "  return self.fit(X, **fit_params).transform(X)\n",
      "/usr/local/lib/python3.6/dist-packages/ipykernel_launcher.py:4: DataConversionWarning: Data with input dtype int64, float64 were all converted to float64 by StandardScaler.\n",
      "  after removing the cwd from sys.path.\n"
     ]
    }
   ],
   "source": [
    "# Perform scaling of the data using Standard Scaler\n",
    "scaler = StandardScaler()\n",
    "X_train_scaled = scaler.fit_transform(X_train)\n",
    "X_train_scaled = pd.DataFrame(X_train_scaled) # Creating dataframe\n",
    "X_test_scaled = scaler.transform(X_test)\n",
    "X_test_scaled = pd.DataFrame(X_test_scaled) # Creating dataframe"
   ]
  },
  {
   "cell_type": "code",
   "execution_count": 21,
   "metadata": {
    "colab": {
     "base_uri": "https://localhost:8080/",
     "height": 34
    },
    "colab_type": "code",
    "id": "uO__VhfAEAko",
    "outputId": "546a6a04-3e6b-4f45-9421-f025d1835c3f"
   },
   "outputs": [
    {
     "name": "stderr",
     "output_type": "stream",
     "text": [
      "Using TensorFlow backend.\n"
     ]
    }
   ],
   "source": [
    "#building the model\n",
    "from keras.utils import to_categorical\n",
    "from keras.models import Sequential\n",
    "from keras.layers import Dense\n",
    "from keras.callbacks import EarlyStopping\n",
    "from sklearn.model_selection import GridSearchCV\n",
    "from sklearn.metrics import accuracy_score\n",
    "from sklearn.metrics import make_scorer\n",
    "from keras.wrappers.scikit_learn import KerasClassifier"
   ]
  },
  {
   "cell_type": "code",
   "execution_count": 0,
   "metadata": {
    "colab": {},
    "colab_type": "code",
    "id": "O3t8HE3iDEQx"
   },
   "outputs": [],
   "source": [
    "\n",
    "train_Y = to_categorical(y_train)\n",
    "test_Y = to_categorical(y_test)"
   ]
  },
  {
   "cell_type": "code",
   "execution_count": 0,
   "metadata": {
    "colab": {},
    "colab_type": "code",
    "id": "323v53rxJcrJ"
   },
   "outputs": [],
   "source": [
    "#create model\n",
    "model_2 = Sequential()\n",
    "\n",
    "#get number of columns in training data\n",
    "n_cols_2 = X_train_scaled.shape[1]\n",
    "\n",
    "#add layers to model\n",
    "model_2.add(Dense(250, activation='relu', input_shape=(n_cols_2,)))\n",
    "model_2.add(Dense(250, activation='relu'))\n",
    "model_2.add(Dense(250, activation='relu'))\n",
    "model_2.add(Dense(2, activation='softmax'))"
   ]
  },
  {
   "cell_type": "code",
   "execution_count": 0,
   "metadata": {
    "colab": {},
    "colab_type": "code",
    "id": "dJ6D_NFlLDBi"
   },
   "outputs": [],
   "source": [
    "early_stopping_monitor = EarlyStopping(patience=3)"
   ]
  },
  {
   "cell_type": "code",
   "execution_count": 0,
   "metadata": {
    "colab": {},
    "colab_type": "code",
    "id": "HSBqUcXYJcyF"
   },
   "outputs": [],
   "source": [
    "#compile model using accuracy to measure model performance\n",
    "model_2.compile(optimizer='adam', loss='categorical_crossentropy', metrics=['accuracy'])"
   ]
  },
  {
   "cell_type": "code",
   "execution_count": 35,
   "metadata": {
    "colab": {
     "base_uri": "https://localhost:8080/",
     "height": 326
    },
    "colab_type": "code",
    "id": "ssvcHfJaJcv7",
    "outputId": "0846281b-61d6-4442-d7bc-52954e4dad42"
   },
   "outputs": [
    {
     "name": "stdout",
     "output_type": "stream",
     "text": [
      "Train on 6400 samples, validate on 1600 samples\n",
      "Epoch 1/30\n",
      "6400/6400 [==============================] - 1s 164us/step - loss: 0.4049 - acc: 0.8298 - val_loss: 0.3617 - val_acc: 0.8488\n",
      "Epoch 2/30\n",
      "6400/6400 [==============================] - 1s 125us/step - loss: 0.3549 - acc: 0.8552 - val_loss: 0.3779 - val_acc: 0.8344\n",
      "Epoch 3/30\n",
      "6400/6400 [==============================] - 1s 124us/step - loss: 0.3444 - acc: 0.8597 - val_loss: 0.3726 - val_acc: 0.8488\n",
      "Epoch 4/30\n",
      "6400/6400 [==============================] - 1s 124us/step - loss: 0.3376 - acc: 0.8619 - val_loss: 0.3529 - val_acc: 0.8488\n",
      "Epoch 5/30\n",
      "6400/6400 [==============================] - 1s 124us/step - loss: 0.3295 - acc: 0.8647 - val_loss: 0.3502 - val_acc: 0.8562\n",
      "Epoch 6/30\n",
      "6400/6400 [==============================] - 1s 120us/step - loss: 0.3222 - acc: 0.8720 - val_loss: 0.3581 - val_acc: 0.8488\n",
      "Epoch 7/30\n",
      "6400/6400 [==============================] - 1s 122us/step - loss: 0.3160 - acc: 0.8680 - val_loss: 0.3536 - val_acc: 0.8525\n",
      "Epoch 8/30\n",
      "6400/6400 [==============================] - 1s 123us/step - loss: 0.3108 - acc: 0.8731 - val_loss: 0.3523 - val_acc: 0.8562\n"
     ]
    }
   ],
   "source": [
    "#train model\n",
    "history = model_2.fit(X_train_scaled, train_Y, epochs=30, validation_split=0.2, callbacks=[early_stopping_monitor],class_weight=class_weights)"
   ]
  },
  {
   "cell_type": "code",
   "execution_count": 0,
   "metadata": {
    "colab": {},
    "colab_type": "code",
    "id": "Ief_wZewJ7l3"
   },
   "outputs": [],
   "source": [
    "test_y_predictions = model_2.predict(X_test_scaled)"
   ]
  },
  {
   "cell_type": "code",
   "execution_count": 37,
   "metadata": {
    "colab": {
     "base_uri": "https://localhost:8080/",
     "height": 136
    },
    "colab_type": "code",
    "id": "8WAmMhfRJ7jQ",
    "outputId": "3bb41bc8-d5e8-4176-a959-84f98bfeace4"
   },
   "outputs": [
    {
     "data": {
      "text/plain": [
       "array([[0.9901273 , 0.00987267],\n",
       "       [0.9856705 , 0.01432947],\n",
       "       [0.88890904, 0.11109098],\n",
       "       ...,\n",
       "       [0.4220302 , 0.57796973],\n",
       "       [0.8921759 , 0.10782414],\n",
       "       [0.7578358 , 0.2421642 ]], dtype=float32)"
      ]
     },
     "execution_count": 37,
     "metadata": {
      "tags": []
     },
     "output_type": "execute_result"
    }
   ],
   "source": [
    "test_y_predictions"
   ]
  },
  {
   "cell_type": "code",
   "execution_count": 38,
   "metadata": {
    "colab": {
     "base_uri": "https://localhost:8080/",
     "height": 34
    },
    "colab_type": "code",
    "id": "oqcQoSMTM1ws",
    "outputId": "3b21d939-e138-4f52-9227-73a22f2ce407"
   },
   "outputs": [
    {
     "name": "stdout",
     "output_type": "stream",
     "text": [
      "87.64999999999999\n"
     ]
    }
   ],
   "source": [
    "scores = model_2.evaluate(X_train_scaled, train_Y, verbose=0)\n",
    "print(scores[1]*100)"
   ]
  },
  {
   "cell_type": "code",
   "execution_count": 39,
   "metadata": {
    "colab": {
     "base_uri": "https://localhost:8080/",
     "height": 34
    },
    "colab_type": "code",
    "id": "gMsGixrJNvpz",
    "outputId": "2d5bb8b3-c662-48be-9852-e97e671282dc"
   },
   "outputs": [
    {
     "name": "stdout",
     "output_type": "stream",
     "text": [
      "86.15\n"
     ]
    }
   ],
   "source": [
    "scores = model_2.evaluate(X_test_scaled, test_Y, verbose=0)\n",
    "print(scores[1]*100)"
   ]
  },
  {
   "cell_type": "code",
   "execution_count": 40,
   "metadata": {
    "colab": {
     "base_uri": "https://localhost:8080/",
     "height": 71
    },
    "colab_type": "code",
    "id": "y2iUBOQQQIIG",
    "outputId": "77defc94-dcc6-4b9a-c18b-6b54be361f85"
   },
   "outputs": [
    {
     "name": "stdout",
     "output_type": "stream",
     "text": [
      "[0.82984375, 0.85515625, 0.8596875, 0.861875, 0.8646875, 0.87203125, 0.86796875, 0.873125]\n",
      "[0.84875, 0.834375, 0.84875, 0.84875, 0.85625, 0.84875, 0.8525, 0.85625]\n"
     ]
    }
   ],
   "source": [
    "print(history.history['acc'])\n",
    "print(history.history['val_acc'])"
   ]
  },
  {
   "cell_type": "code",
   "execution_count": 43,
   "metadata": {
    "colab": {
     "base_uri": "https://localhost:8080/",
     "height": 347
    },
    "colab_type": "code",
    "id": "xSM5vkvlO97k",
    "outputId": "da88bfef-b7b3-4b56-88f7-aa5526aec58d"
   },
   "outputs": [
    {
     "data": {
      "image/png": "[encoded data removed]",
      "text/plain": [
       "<Figure size 576x396 with 1 Axes>"
      ]
     },
     "metadata": {
      "tags": []
     },
     "output_type": "display_data"
    }
   ],
   "source": [
    "plt.plot(history.history['acc'])\n",
    "plt.show()"
   ]
  },
  {
   "cell_type": "code",
   "execution_count": 44,
   "metadata": {
    "colab": {
     "base_uri": "https://localhost:8080/",
     "height": 272
    },
    "colab_type": "code",
    "id": "38FjUR72P5mx",
    "outputId": "88929dd7-fe0a-46af-a0c1-54d969ec6f04"
   },
   "outputs": [
    {
     "name": "stdout",
     "output_type": "stream",
     "text": [
      "_________________________________________________________________\n",
      "Layer (type)                 Output Shape              Param #   \n",
      "=================================================================\n",
      "dense_5 (Dense)              (None, 250)               2750      \n",
      "_________________________________________________________________\n",
      "dense_6 (Dense)              (None, 250)               62750     \n",
      "_________________________________________________________________\n",
      "dense_7 (Dense)              (None, 250)               62750     \n",
      "_________________________________________________________________\n",
      "dense_8 (Dense)              (None, 2)                 502       \n",
      "=================================================================\n",
      "Total params: 128,752\n",
      "Trainable params: 128,752\n",
      "Non-trainable params: 0\n",
      "_________________________________________________________________\n"
     ]
    }
   ],
   "source": [
    "model_2.summary()"
   ]
  },
  {
   "cell_type": "markdown",
   "metadata": {},
   "source": [
    "### optimizing the model"
   ]
  },
  {
   "cell_type": "markdown",
   "metadata": {
    "colab": {},
    "colab_type": "code",
    "id": "2kQQd723dvpA"
   },
   "source": [
    "from sklearn.model_selection import cross_validate\n",
    "from sklearn.metrics import confusion_matrix\n"
   ]
  },
  {
   "cell_type": "markdown",
   "metadata": {},
   "source": [
    "### adagrad and addelta also can be used as optimizer but taking lot of time to run. hence restricting to SGD,Adam and RMSprop"
   ]
  },
  {
   "cell_type": "code",
   "execution_count": 0,
   "metadata": {
    "colab": {},
    "colab_type": "code",
    "id": "qkzYpXqaFYPt"
   },
   "outputs": [],
   "source": [
    "batch_size = [10, 20, 40, 60, 80, 100]\n",
    "epochs = [10, 50, 100]\n",
    "optimizer = ['SGD', 'RMSprop', 'Adam']\n",
    "params = dict(epochs = epochs,batch_size=batch_size,optimizer=optimizer)\n",
    "seed = 7\n",
    "np.random.seed(seed)"
   ]
  },
  {
   "cell_type": "code",
   "execution_count": 0,
   "metadata": {
    "colab": {},
    "colab_type": "code",
    "id": "MU4GCV1yFba_"
   },
   "outputs": [],
   "source": [
    "def create_model(optimizer='SGD'): \n",
    "    model = Sequential()\n",
    "    n_cols_2 = X_train_scaled.shape[1]\n",
    "    model.add(Dense(250, activation='relu', input_shape=(n_cols_2,)))\n",
    "    model.add(Dense(250, activation='relu'))\n",
    "    model.add(Dense(250, activation='relu'))\n",
    "    model.add(Dense(2, activation='softmax'))\n",
    "    model.compile(loss='categorical_crossentropy', optimizer=optimizer, metrics=['accuracy'])\n",
    "    return model\n"
   ]
  },
  {
   "cell_type": "code",
   "execution_count": 0,
   "metadata": {
    "colab": {},
    "colab_type": "code",
    "id": "UcVSasFeQWZ-"
   },
   "outputs": [],
   "source": [
    "\n",
    "\n",
    "model1 = KerasClassifier(build_fn=create_model,verbose=0)\n",
    "grid = GridSearchCV(estimator=model1, param_grid=params, n_jobs=-1)"
   ]
  },
  {
   "cell_type": "code",
   "execution_count": 49,
   "metadata": {
    "colab": {
     "base_uri": "https://localhost:8080/",
     "height": 105
    },
    "colab_type": "code",
    "id": "VpfqtTLqF2Ou",
    "outputId": "df717b86-bf58-4f49-dea9-1e2d87756dc4"
   },
   "outputs": [
    {
     "name": "stderr",
     "output_type": "stream",
     "text": [
      "/usr/local/lib/python3.6/dist-packages/sklearn/model_selection/_split.py:2053: FutureWarning: You should specify a value for 'cv' instead of relying on the default value. The default value will change from 3 to 5 in version 0.22.\n",
      "  warnings.warn(CV_WARNING, FutureWarning)\n",
      "/usr/local/lib/python3.6/dist-packages/sklearn/externals/joblib/externals/loky/process_executor.py:706: UserWarning: A worker stopped while some jobs were given to the executor. This can be caused by a too short worker timeout or by a memory leak.\n",
      "  \"timeout or by a memory leak.\", UserWarning\n"
     ]
    }
   ],
   "source": [
    "grid_result = grid.fit(X_train_scaled, train_Y,class_weight=class_weights, \n",
    "                      validation_data=(X_test_scaled, test_Y))"
   ]
  },
  {
   "cell_type": "code",
   "execution_count": 50,
   "metadata": {
    "colab": {
     "base_uri": "https://localhost:8080/",
     "height": 952
    },
    "colab_type": "code",
    "id": "yDZcgZujygAx",
    "outputId": "6abfe656-8104-46f6-84c2-5b42e142044e"
   },
   "outputs": [
    {
     "name": "stdout",
     "output_type": "stream",
     "text": [
      "Best: 0.856375 using {'batch_size': 80, 'epochs': 100, 'optimizer': 'SGD'}\n",
      "0.855250 with: {'batch_size': 10, 'epochs': 10, 'optimizer': 'SGD'}\n",
      "0.205500 with: {'batch_size': 10, 'epochs': 10, 'optimizer': 'RMSprop'}\n",
      "0.852875 with: {'batch_size': 10, 'epochs': 10, 'optimizer': 'Adam'}\n",
      "0.843500 with: {'batch_size': 10, 'epochs': 50, 'optimizer': 'SGD'}\n",
      "0.205500 with: {'batch_size': 10, 'epochs': 50, 'optimizer': 'RMSprop'}\n",
      "0.812375 with: {'batch_size': 10, 'epochs': 50, 'optimizer': 'Adam'}\n",
      "0.786250 with: {'batch_size': 10, 'epochs': 100, 'optimizer': 'SGD'}\n",
      "0.205500 with: {'batch_size': 10, 'epochs': 100, 'optimizer': 'RMSprop'}\n",
      "0.811250 with: {'batch_size': 10, 'epochs': 100, 'optimizer': 'Adam'}\n",
      "0.848625 with: {'batch_size': 20, 'epochs': 10, 'optimizer': 'SGD'}\n",
      "0.205500 with: {'batch_size': 20, 'epochs': 10, 'optimizer': 'RMSprop'}\n",
      "0.847625 with: {'batch_size': 20, 'epochs': 10, 'optimizer': 'Adam'}\n",
      "0.855875 with: {'batch_size': 20, 'epochs': 50, 'optimizer': 'SGD'}\n",
      "0.205500 with: {'batch_size': 20, 'epochs': 50, 'optimizer': 'RMSprop'}\n",
      "0.817375 with: {'batch_size': 20, 'epochs': 50, 'optimizer': 'Adam'}\n",
      "0.821500 with: {'batch_size': 20, 'epochs': 100, 'optimizer': 'SGD'}\n",
      "0.205500 with: {'batch_size': 20, 'epochs': 100, 'optimizer': 'RMSprop'}\n",
      "0.808000 with: {'batch_size': 20, 'epochs': 100, 'optimizer': 'Adam'}\n",
      "0.836000 with: {'batch_size': 40, 'epochs': 10, 'optimizer': 'SGD'}\n",
      "0.838000 with: {'batch_size': 40, 'epochs': 10, 'optimizer': 'RMSprop'}\n",
      "0.845000 with: {'batch_size': 40, 'epochs': 10, 'optimizer': 'Adam'}\n",
      "0.855125 with: {'batch_size': 40, 'epochs': 50, 'optimizer': 'SGD'}\n",
      "0.205500 with: {'batch_size': 40, 'epochs': 50, 'optimizer': 'RMSprop'}\n",
      "0.810375 with: {'batch_size': 40, 'epochs': 50, 'optimizer': 'Adam'}\n",
      "0.844000 with: {'batch_size': 40, 'epochs': 100, 'optimizer': 'SGD'}\n",
      "0.205500 with: {'batch_size': 40, 'epochs': 100, 'optimizer': 'RMSprop'}\n",
      "0.805250 with: {'batch_size': 40, 'epochs': 100, 'optimizer': 'Adam'}\n",
      "0.825500 with: {'batch_size': 60, 'epochs': 10, 'optimizer': 'SGD'}\n",
      "0.849500 with: {'batch_size': 60, 'epochs': 10, 'optimizer': 'RMSprop'}\n",
      "0.847875 with: {'batch_size': 60, 'epochs': 10, 'optimizer': 'Adam'}\n",
      "0.853000 with: {'batch_size': 60, 'epochs': 50, 'optimizer': 'SGD'}\n",
      "0.618375 with: {'batch_size': 60, 'epochs': 50, 'optimizer': 'RMSprop'}\n",
      "0.816875 with: {'batch_size': 60, 'epochs': 50, 'optimizer': 'Adam'}\n",
      "0.853625 with: {'batch_size': 60, 'epochs': 100, 'optimizer': 'SGD'}\n",
      "0.615125 with: {'batch_size': 60, 'epochs': 100, 'optimizer': 'RMSprop'}\n",
      "0.811625 with: {'batch_size': 60, 'epochs': 100, 'optimizer': 'Adam'}\n",
      "0.814750 with: {'batch_size': 80, 'epochs': 10, 'optimizer': 'SGD'}\n",
      "0.847250 with: {'batch_size': 80, 'epochs': 10, 'optimizer': 'RMSprop'}\n",
      "0.843750 with: {'batch_size': 80, 'epochs': 10, 'optimizer': 'Adam'}\n",
      "0.851875 with: {'batch_size': 80, 'epochs': 50, 'optimizer': 'SGD'}\n",
      "0.730625 with: {'batch_size': 80, 'epochs': 50, 'optimizer': 'RMSprop'}\n",
      "0.810125 with: {'batch_size': 80, 'epochs': 50, 'optimizer': 'Adam'}\n",
      "0.856375 with: {'batch_size': 80, 'epochs': 100, 'optimizer': 'SGD'}\n",
      "0.847500 with: {'batch_size': 80, 'epochs': 100, 'optimizer': 'RMSprop'}\n",
      "0.810750 with: {'batch_size': 80, 'epochs': 100, 'optimizer': 'Adam'}\n",
      "0.809000 with: {'batch_size': 100, 'epochs': 10, 'optimizer': 'SGD'}\n",
      "0.844125 with: {'batch_size': 100, 'epochs': 10, 'optimizer': 'RMSprop'}\n",
      "0.846000 with: {'batch_size': 100, 'epochs': 10, 'optimizer': 'Adam'}\n",
      "0.851375 with: {'batch_size': 100, 'epochs': 50, 'optimizer': 'SGD'}\n",
      "0.830000 with: {'batch_size': 100, 'epochs': 50, 'optimizer': 'RMSprop'}\n",
      "0.816875 with: {'batch_size': 100, 'epochs': 50, 'optimizer': 'Adam'}\n",
      "0.854875 with: {'batch_size': 100, 'epochs': 100, 'optimizer': 'SGD'}\n",
      "0.827750 with: {'batch_size': 100, 'epochs': 100, 'optimizer': 'RMSprop'}\n",
      "0.814375 with: {'batch_size': 100, 'epochs': 100, 'optimizer': 'Adam'}\n"
     ]
    }
   ],
   "source": [
    "print(\"Best: %f using %s\" % (grid_result.best_score_, grid_result.best_params_))\n",
    "means = grid_result.cv_results_['mean_test_score']\n",
    "params = grid_result.cv_results_['params']\n",
    "for mean, param in zip(means, params):\n",
    "    print(\"%f with: %r\" % (mean, param))"
   ]
  },
  {
   "cell_type": "markdown",
   "metadata": {},
   "source": [
    "### Best model is 0.856375 using {'batch_size': 80, 'epochs': 100, 'optimizer': 'SGD'}"
   ]
  },
  {
   "cell_type": "code",
   "execution_count": 0,
   "metadata": {
    "colab": {},
    "colab_type": "code",
    "id": "Ou0ESgwsiEQp"
   },
   "outputs": [],
   "source": [
    "from keras.optimizers import SGD"
   ]
  },
  {
   "cell_type": "code",
   "execution_count": 0,
   "metadata": {
    "colab": {},
    "colab_type": "code",
    "id": "_OLHpfWoFuXE"
   },
   "outputs": [],
   "source": [
    "\n",
    "def create_model(learn_rate=0.01, momentum=0):\n",
    "    model2 = Sequential()\n",
    "    n_cols_2 = X_train_scaled.shape[1]\n",
    "    model2.add(Dense(250, activation='sigmoid', input_shape=(n_cols_2,)))\n",
    "    model2.add(Dense(units=250,activation=\"relu\"))\n",
    "    model2.add(Dense(units=250,activation=\"relu\"))\n",
    "    model2.add(Dense(units=2,activation=\"softmax\"))\n",
    "    optimizer = SGD(lr=learn_rate, momentum=momentum)\n",
    "    model2.compile(optimizer=optimizer, loss='categorical_crossentropy', metrics=['accuracy'])\n",
    "    return model2"
   ]
  },
  {
   "cell_type": "code",
   "execution_count": 0,
   "metadata": {
    "colab": {},
    "colab_type": "code",
    "id": "QGiVyq6bf_ZA"
   },
   "outputs": [],
   "source": [
    "learn_rate = [0.001, 0.01, 0.1, 0.2, 0.3]\n",
    "momentum = [0.0, 0.2, 0.4, 0.6, 0.8, 0.9]\n",
    "param_grid = dict(learn_rate=learn_rate, momentum=momentum)"
   ]
  },
  {
   "cell_type": "code",
   "execution_count": 0,
   "metadata": {
    "colab": {},
    "colab_type": "code",
    "id": "Ez_Eyxz1gH5Q"
   },
   "outputs": [],
   "source": [
    "# fix random seed for reproducibility\n",
    "seed = 7\n",
    "np.random.seed(seed)"
   ]
  },
  {
   "cell_type": "code",
   "execution_count": 0,
   "metadata": {
    "colab": {},
    "colab_type": "code",
    "id": "KpVKHhEfgLbo"
   },
   "outputs": [],
   "source": [
    "model2 = KerasClassifier(build_fn=create_model,epochs = 100, batch_size = 20,verbose=0)\n",
    "grid = GridSearchCV(estimator=model2, param_grid=param_grid, n_jobs=-1)"
   ]
  },
  {
   "cell_type": "code",
   "execution_count": 57,
   "metadata": {
    "colab": {
     "base_uri": "https://localhost:8080/",
     "height": 105
    },
    "colab_type": "code",
    "id": "czxxCeMegRFi",
    "outputId": "3febf0b1-2d34-4a79-9bda-ee5f4fa70655"
   },
   "outputs": [
    {
     "name": "stderr",
     "output_type": "stream",
     "text": [
      "/usr/local/lib/python3.6/dist-packages/sklearn/model_selection/_split.py:2053: FutureWarning: You should specify a value for 'cv' instead of relying on the default value. The default value will change from 3 to 5 in version 0.22.\n",
      "  warnings.warn(CV_WARNING, FutureWarning)\n",
      "/usr/local/lib/python3.6/dist-packages/sklearn/externals/joblib/externals/loky/process_executor.py:706: UserWarning: A worker stopped while some jobs were given to the executor. This can be caused by a too short worker timeout or by a memory leak.\n",
      "  \"timeout or by a memory leak.\", UserWarning\n"
     ]
    }
   ],
   "source": [
    "grid_result = grid.fit(X_train_scaled, train_Y,class_weight=class_weights,\n",
    "                      validation_data=(X_test_scaled, test_Y))"
   ]
  },
  {
   "cell_type": "markdown",
   "metadata": {
    "colab": {},
    "colab_type": "code",
    "id": "MT98GYNjHzo3"
   },
   "source": [
    "### After fine tuning the SGD model the best result is : 0.859500 using {'batch_size': 20, 'epochs': 100, 'optimizer': 'SGD','learn_rate': 0.001, 'momentum': 0.8}\n"
   ]
  },
  {
   "cell_type": "code",
   "execution_count": 0,
   "metadata": {
    "colab": {},
    "colab_type": "code",
    "id": "2cPQTNOpH5S7"
   },
   "outputs": [],
   "source": [
    "# Finalize the Model\n",
    "batch_size = 20\n",
    "epochs = 100\n",
    "optimizer = SGD\n",
    "learning_rate = 0.001\n",
    "momentum = 0.8\n",
    "\n",
    "model3 = Sequential()\n",
    "n_cols_2 = X_train_scaled.shape[1]\n",
    "model3.add(Dense(250, activation='sigmoid', input_shape=(n_cols_2,)))\n",
    "model3.add(Dense(units=250,activation=\"relu\"))\n",
    "model3.add(Dense(units=250,activation=\"relu\"))\n",
    "model3.add(Dense(units=2,activation=\"softmax\"))\n",
    "optimizer = SGD(lr=learn_rate, momentum=momentum)\n",
    "model3.compile(optimizer=optimizer, loss='categorical_crossentropy', metrics=['accuracy'])"
   ]
  },
  {
   "cell_type": "code",
   "execution_count": 0,
   "metadata": {
    "colab": {},
    "colab_type": "code",
    "id": "B7ftBxz-H8Fk"
   },
   "outputs": [],
   "source": [
    "sgd = SGD(lr=learning_rate, momentum=momentum, nesterov=False)\n",
    "model3.compile(optimizer='sgd', loss='categorical_crossentropy', metrics=['accuracy'])"
   ]
  },
  {
   "cell_type": "code",
   "execution_count": 60,
   "metadata": {
    "colab": {
     "base_uri": "https://localhost:8080/",
     "height": 3434
    },
    "colab_type": "code",
    "id": "JmLDpBnlH-Zm",
    "outputId": "407e109e-ac73-4113-ca74-576497555541"
   },
   "outputs": [
    {
     "name": "stdout",
     "output_type": "stream",
     "text": [
      "Train on 8000 samples, validate on 2000 samples\n",
      "Epoch 1/100\n",
      " - 1s - loss: 0.4916 - acc: 0.7933 - val_loss: 0.4556 - val_acc: 0.8035\n",
      "Epoch 2/100\n",
      " - 1s - loss: 0.4621 - acc: 0.7968 - val_loss: 0.4321 - val_acc: 0.8065\n",
      "Epoch 3/100\n",
      " - 1s - loss: 0.4462 - acc: 0.8016 - val_loss: 0.4256 - val_acc: 0.8130\n",
      "Epoch 4/100\n",
      " - 1s - loss: 0.4424 - acc: 0.8055 - val_loss: 0.4231 - val_acc: 0.8170\n",
      "Epoch 5/100\n",
      " - 1s - loss: 0.4372 - acc: 0.8069 - val_loss: 0.4254 - val_acc: 0.8105\n",
      "Epoch 6/100\n",
      " - 1s - loss: 0.4369 - acc: 0.8075 - val_loss: 0.4200 - val_acc: 0.8130\n",
      "Epoch 7/100\n",
      " - 1s - loss: 0.4349 - acc: 0.8109 - val_loss: 0.4116 - val_acc: 0.8125\n",
      "Epoch 8/100\n",
      " - 1s - loss: 0.4291 - acc: 0.8130 - val_loss: 0.4082 - val_acc: 0.8265\n",
      "Epoch 9/100\n",
      " - 1s - loss: 0.4245 - acc: 0.8140 - val_loss: 0.4213 - val_acc: 0.8155\n",
      "Epoch 10/100\n",
      " - 1s - loss: 0.4182 - acc: 0.8175 - val_loss: 0.4008 - val_acc: 0.8215\n",
      "Epoch 11/100\n",
      " - 1s - loss: 0.4133 - acc: 0.8199 - val_loss: 0.3902 - val_acc: 0.8330\n",
      "Epoch 12/100\n",
      " - 1s - loss: 0.4054 - acc: 0.8266 - val_loss: 0.4073 - val_acc: 0.8270\n",
      "Epoch 13/100\n",
      " - 1s - loss: 0.3981 - acc: 0.8321 - val_loss: 0.3797 - val_acc: 0.8465\n",
      "Epoch 14/100\n",
      " - 1s - loss: 0.3892 - acc: 0.8355 - val_loss: 0.4062 - val_acc: 0.8320\n",
      "Epoch 15/100\n",
      " - 1s - loss: 0.3830 - acc: 0.8408 - val_loss: 0.3798 - val_acc: 0.8390\n",
      "Epoch 16/100\n",
      " - 1s - loss: 0.3786 - acc: 0.8423 - val_loss: 0.3616 - val_acc: 0.8580\n",
      "Epoch 17/100\n",
      " - 1s - loss: 0.3740 - acc: 0.8469 - val_loss: 0.3714 - val_acc: 0.8400\n",
      "Epoch 18/100\n",
      " - 1s - loss: 0.3703 - acc: 0.8469 - val_loss: 0.3949 - val_acc: 0.8335\n",
      "Epoch 19/100\n",
      " - 1s - loss: 0.3676 - acc: 0.8463 - val_loss: 0.3541 - val_acc: 0.8595\n",
      "Epoch 20/100\n",
      " - 1s - loss: 0.3643 - acc: 0.8510 - val_loss: 0.3725 - val_acc: 0.8435\n",
      "Epoch 21/100\n",
      " - 1s - loss: 0.3621 - acc: 0.8511 - val_loss: 0.3652 - val_acc: 0.8440\n",
      "Epoch 22/100\n",
      " - 1s - loss: 0.3637 - acc: 0.8511 - val_loss: 0.3503 - val_acc: 0.8610\n",
      "Epoch 23/100\n",
      " - 1s - loss: 0.3625 - acc: 0.8509 - val_loss: 0.3493 - val_acc: 0.8615\n",
      "Epoch 24/100\n",
      " - 1s - loss: 0.3604 - acc: 0.8546 - val_loss: 0.3503 - val_acc: 0.8610\n",
      "Epoch 25/100\n",
      " - 1s - loss: 0.3591 - acc: 0.8532 - val_loss: 0.3538 - val_acc: 0.8605\n",
      "Epoch 26/100\n",
      " - 1s - loss: 0.3582 - acc: 0.8529 - val_loss: 0.3529 - val_acc: 0.8580\n",
      "Epoch 27/100\n",
      " - 1s - loss: 0.3563 - acc: 0.8532 - val_loss: 0.3502 - val_acc: 0.8575\n",
      "Epoch 28/100\n",
      " - 1s - loss: 0.3570 - acc: 0.8521 - val_loss: 0.3586 - val_acc: 0.8505\n",
      "Epoch 29/100\n",
      " - 1s - loss: 0.3565 - acc: 0.8500 - val_loss: 0.3648 - val_acc: 0.8495\n",
      "Epoch 30/100\n",
      " - 1s - loss: 0.3533 - acc: 0.8526 - val_loss: 0.3625 - val_acc: 0.8485\n",
      "Epoch 31/100\n",
      " - 1s - loss: 0.3534 - acc: 0.8531 - val_loss: 0.3683 - val_acc: 0.8465\n",
      "Epoch 32/100\n",
      " - 1s - loss: 0.3534 - acc: 0.8540 - val_loss: 0.3543 - val_acc: 0.8505\n",
      "Epoch 33/100\n",
      " - 1s - loss: 0.3512 - acc: 0.8563 - val_loss: 0.3510 - val_acc: 0.8570\n",
      "Epoch 34/100\n",
      " - 1s - loss: 0.3528 - acc: 0.8545 - val_loss: 0.3471 - val_acc: 0.8600\n",
      "Epoch 35/100\n",
      " - 1s - loss: 0.3529 - acc: 0.8544 - val_loss: 0.3443 - val_acc: 0.8615\n",
      "Epoch 36/100\n",
      " - 1s - loss: 0.3521 - acc: 0.8524 - val_loss: 0.3537 - val_acc: 0.8535\n",
      "Epoch 37/100\n",
      " - 1s - loss: 0.3523 - acc: 0.8542 - val_loss: 0.3475 - val_acc: 0.8615\n",
      "Epoch 38/100\n",
      " - 1s - loss: 0.3506 - acc: 0.8554 - val_loss: 0.3448 - val_acc: 0.8590\n",
      "Epoch 39/100\n",
      " - 1s - loss: 0.3498 - acc: 0.8566 - val_loss: 0.3531 - val_acc: 0.8540\n",
      "Epoch 40/100\n",
      " - 1s - loss: 0.3502 - acc: 0.8550 - val_loss: 0.3453 - val_acc: 0.8615\n",
      "Epoch 41/100\n",
      " - 1s - loss: 0.3495 - acc: 0.8561 - val_loss: 0.3462 - val_acc: 0.8595\n",
      "Epoch 42/100\n",
      " - 1s - loss: 0.3494 - acc: 0.8602 - val_loss: 0.3433 - val_acc: 0.8610\n",
      "Epoch 43/100\n",
      " - 1s - loss: 0.3488 - acc: 0.8569 - val_loss: 0.3429 - val_acc: 0.8560\n",
      "Epoch 44/100\n",
      " - 1s - loss: 0.3487 - acc: 0.8595 - val_loss: 0.3446 - val_acc: 0.8595\n",
      "Epoch 45/100\n",
      " - 1s - loss: 0.3475 - acc: 0.8585 - val_loss: 0.3443 - val_acc: 0.8580\n",
      "Epoch 46/100\n",
      " - 1s - loss: 0.3486 - acc: 0.8577 - val_loss: 0.3395 - val_acc: 0.8660\n",
      "Epoch 47/100\n",
      " - 1s - loss: 0.3474 - acc: 0.8569 - val_loss: 0.3421 - val_acc: 0.8630\n",
      "Epoch 48/100\n",
      " - 1s - loss: 0.3480 - acc: 0.8566 - val_loss: 0.3532 - val_acc: 0.8570\n",
      "Epoch 49/100\n",
      " - 1s - loss: 0.3476 - acc: 0.8559 - val_loss: 0.3429 - val_acc: 0.8590\n",
      "Epoch 50/100\n",
      " - 1s - loss: 0.3456 - acc: 0.8588 - val_loss: 0.3419 - val_acc: 0.8615\n",
      "Epoch 51/100\n",
      " - 1s - loss: 0.3458 - acc: 0.8577 - val_loss: 0.3461 - val_acc: 0.8570\n",
      "Epoch 52/100\n",
      " - 1s - loss: 0.3446 - acc: 0.8586 - val_loss: 0.3485 - val_acc: 0.8545\n",
      "Epoch 53/100\n",
      " - 1s - loss: 0.3457 - acc: 0.8566 - val_loss: 0.3420 - val_acc: 0.8590\n",
      "Epoch 54/100\n",
      " - 1s - loss: 0.3458 - acc: 0.8565 - val_loss: 0.3405 - val_acc: 0.8605\n",
      "Epoch 55/100\n",
      " - 1s - loss: 0.3450 - acc: 0.8556 - val_loss: 0.3501 - val_acc: 0.8545\n",
      "Epoch 56/100\n",
      " - 1s - loss: 0.3451 - acc: 0.8599 - val_loss: 0.3412 - val_acc: 0.8640\n",
      "Epoch 57/100\n",
      " - 1s - loss: 0.3448 - acc: 0.8594 - val_loss: 0.3406 - val_acc: 0.8585\n",
      "Epoch 58/100\n",
      " - 1s - loss: 0.3448 - acc: 0.8595 - val_loss: 0.3393 - val_acc: 0.8590\n",
      "Epoch 59/100\n",
      " - 1s - loss: 0.3440 - acc: 0.8589 - val_loss: 0.3400 - val_acc: 0.8570\n",
      "Epoch 60/100\n",
      " - 1s - loss: 0.3425 - acc: 0.8596 - val_loss: 0.3407 - val_acc: 0.8595\n",
      "Epoch 61/100\n",
      " - 1s - loss: 0.3438 - acc: 0.8583 - val_loss: 0.3412 - val_acc: 0.8630\n",
      "Epoch 62/100\n",
      " - 1s - loss: 0.3426 - acc: 0.8574 - val_loss: 0.3488 - val_acc: 0.8565\n",
      "Epoch 63/100\n",
      " - 1s - loss: 0.3436 - acc: 0.8592 - val_loss: 0.3486 - val_acc: 0.8555\n",
      "Epoch 64/100\n",
      " - 1s - loss: 0.3419 - acc: 0.8611 - val_loss: 0.3400 - val_acc: 0.8590\n",
      "Epoch 65/100\n",
      " - 1s - loss: 0.3417 - acc: 0.8590 - val_loss: 0.3422 - val_acc: 0.8595\n",
      "Epoch 66/100\n",
      " - 1s - loss: 0.3423 - acc: 0.8581 - val_loss: 0.3401 - val_acc: 0.8625\n",
      "Epoch 67/100\n",
      " - 1s - loss: 0.3419 - acc: 0.8609 - val_loss: 0.3481 - val_acc: 0.8590\n",
      "Epoch 68/100\n",
      " - 1s - loss: 0.3415 - acc: 0.8595 - val_loss: 0.3455 - val_acc: 0.8580\n",
      "Epoch 69/100\n",
      " - 1s - loss: 0.3415 - acc: 0.8583 - val_loss: 0.3449 - val_acc: 0.8555\n",
      "Epoch 70/100\n",
      " - 1s - loss: 0.3404 - acc: 0.8623 - val_loss: 0.3378 - val_acc: 0.8640\n",
      "Epoch 71/100\n",
      " - 1s - loss: 0.3397 - acc: 0.8615 - val_loss: 0.3525 - val_acc: 0.8530\n",
      "Epoch 72/100\n",
      " - 1s - loss: 0.3404 - acc: 0.8599 - val_loss: 0.3394 - val_acc: 0.8590\n",
      "Epoch 73/100\n",
      " - 1s - loss: 0.3389 - acc: 0.8602 - val_loss: 0.3364 - val_acc: 0.8635\n",
      "Epoch 74/100\n",
      " - 1s - loss: 0.3394 - acc: 0.8596 - val_loss: 0.3372 - val_acc: 0.8610\n",
      "Epoch 75/100\n",
      " - 1s - loss: 0.3391 - acc: 0.8617 - val_loss: 0.3355 - val_acc: 0.8610\n",
      "Epoch 76/100\n",
      " - 1s - loss: 0.3382 - acc: 0.8594 - val_loss: 0.3398 - val_acc: 0.8645\n",
      "Epoch 77/100\n",
      " - 1s - loss: 0.3374 - acc: 0.8610 - val_loss: 0.3341 - val_acc: 0.8645\n",
      "Epoch 78/100\n",
      " - 1s - loss: 0.3383 - acc: 0.8620 - val_loss: 0.3374 - val_acc: 0.8600\n",
      "Epoch 79/100\n",
      " - 1s - loss: 0.3373 - acc: 0.8615 - val_loss: 0.3392 - val_acc: 0.8575\n",
      "Epoch 80/100\n",
      " - 1s - loss: 0.3375 - acc: 0.8600 - val_loss: 0.3371 - val_acc: 0.8640\n",
      "Epoch 81/100\n",
      " - 1s - loss: 0.3386 - acc: 0.8621 - val_loss: 0.3440 - val_acc: 0.8590\n",
      "Epoch 82/100\n",
      " - 1s - loss: 0.3370 - acc: 0.8625 - val_loss: 0.3336 - val_acc: 0.8650\n",
      "Epoch 83/100\n",
      " - 1s - loss: 0.3375 - acc: 0.8607 - val_loss: 0.3383 - val_acc: 0.8645\n",
      "Epoch 84/100\n",
      " - 1s - loss: 0.3352 - acc: 0.8631 - val_loss: 0.3371 - val_acc: 0.8580\n",
      "Epoch 85/100\n",
      " - 1s - loss: 0.3368 - acc: 0.8618 - val_loss: 0.3324 - val_acc: 0.8660\n",
      "Epoch 86/100\n",
      " - 1s - loss: 0.3356 - acc: 0.8620 - val_loss: 0.3334 - val_acc: 0.8600\n",
      "Epoch 87/100\n",
      " - 1s - loss: 0.3360 - acc: 0.8627 - val_loss: 0.3459 - val_acc: 0.8575\n",
      "Epoch 88/100\n",
      " - 1s - loss: 0.3361 - acc: 0.8630 - val_loss: 0.3332 - val_acc: 0.8640\n",
      "Epoch 89/100\n",
      " - 1s - loss: 0.3356 - acc: 0.8614 - val_loss: 0.3504 - val_acc: 0.8560\n",
      "Epoch 90/100\n",
      " - 1s - loss: 0.3340 - acc: 0.8614 - val_loss: 0.3394 - val_acc: 0.8605\n",
      "Epoch 91/100\n",
      " - 1s - loss: 0.3348 - acc: 0.8609 - val_loss: 0.3373 - val_acc: 0.8605\n",
      "Epoch 92/100\n",
      " - 1s - loss: 0.3338 - acc: 0.8636 - val_loss: 0.3384 - val_acc: 0.8630\n",
      "Epoch 93/100\n",
      " - 1s - loss: 0.3341 - acc: 0.8604 - val_loss: 0.3338 - val_acc: 0.8660\n",
      "Epoch 94/100\n",
      " - 1s - loss: 0.3351 - acc: 0.8597 - val_loss: 0.3308 - val_acc: 0.8650\n",
      "Epoch 95/100\n",
      " - 1s - loss: 0.3346 - acc: 0.8615 - val_loss: 0.3330 - val_acc: 0.8650\n",
      "Epoch 96/100\n",
      " - 1s - loss: 0.3331 - acc: 0.8642 - val_loss: 0.3310 - val_acc: 0.8640\n",
      "Epoch 97/100\n",
      " - 1s - loss: 0.3327 - acc: 0.8632 - val_loss: 0.3368 - val_acc: 0.8615\n",
      "Epoch 98/100\n",
      " - 1s - loss: 0.3338 - acc: 0.8635 - val_loss: 0.3337 - val_acc: 0.8645\n",
      "Epoch 99/100\n",
      " - 1s - loss: 0.3345 - acc: 0.8618 - val_loss: 0.3477 - val_acc: 0.8585\n",
      "Epoch 100/100\n",
      " - 1s - loss: 0.3343 - acc: 0.8614 - val_loss: 0.3368 - val_acc: 0.8625\n"
     ]
    }
   ],
   "source": [
    "history = model3.fit(X_train_scaled, train_Y, \n",
    "          validation_data=(X_test_scaled, test_Y), \n",
    "          epochs=epochs,\n",
    "          batch_size = batch_size,\n",
    "          verbose = 2)"
   ]
  },
  {
   "cell_type": "code",
   "execution_count": 61,
   "metadata": {
    "colab": {
     "base_uri": "https://localhost:8080/",
     "height": 735
    },
    "colab_type": "code",
    "id": "si_edUh-IC-3",
    "outputId": "8842956e-0fd0-4764-cec7-edaa368334d4"
   },
   "outputs": [
    {
     "data": {
      "image/png": "[encoded data removed]",
      "text/plain": [
       "<Figure size 576x396 with 1 Axes>"
      ]
     },
     "metadata": {
      "tags": []
     },
     "output_type": "display_data"
    },
    {
     "data": {
      "image/png": "[encoded data removed]",
      "text/plain": [
       "<Figure size 576x396 with 1 Axes>"
      ]
     },
     "metadata": {
      "tags": []
     },
     "output_type": "display_data"
    }
   ],
   "source": [
    "# Get training and test loss histories and also accuracies\n",
    "training_loss = history.history['loss']\n",
    "test_loss = history.history['val_loss']\n",
    "\n",
    "training_acc = history.history['acc']\n",
    "test_acc = history.history['val_acc']\n",
    "\n",
    "# Create count of the number of epochs\n",
    "epoch_count = range(1, len(training_loss) + 1)\n",
    "\n",
    "# Visualize loss history\n",
    "plt.plot(epoch_count, training_loss, 'r--')\n",
    "plt.plot(epoch_count, test_loss, 'b-')\n",
    "plt.legend(['Training Loss', 'Test Loss'])\n",
    "plt.title('Visualize loss history')\n",
    "plt.xlabel('Epoch')\n",
    "plt.ylabel('Loss')\n",
    "plt.show();\n",
    "\n",
    "# Visualize accuracy history\n",
    "plt.plot(epoch_count, training_acc, 'r--')\n",
    "plt.plot(epoch_count, test_acc, 'b-')\n",
    "plt.legend(['Training Accuracy', 'Test Accuracy'])\n",
    "plt.title('Visualize accuracy history')\n",
    "plt.xlabel('Epoch')\n",
    "plt.ylabel('Accuracy')\n",
    "plt.show();\n"
   ]
  },
  {
   "cell_type": "code",
   "execution_count": 62,
   "metadata": {
    "colab": {
     "base_uri": "https://localhost:8080/",
     "height": 102
    },
    "colab_type": "code",
    "id": "midDayvNIDbj",
    "outputId": "cb8deb6a-aed7-4722-aeb0-cd11c43103ab"
   },
   "outputs": [
    {
     "data": {
      "text/plain": [
       "array([[0.93539447, 0.06460558],\n",
       "       [0.96459365, 0.03540639],\n",
       "       [0.9037528 , 0.09624721],\n",
       "       [0.8783329 , 0.12166711],\n",
       "       [0.93866175, 0.06133821]], dtype=float32)"
      ]
     },
     "execution_count": 62,
     "metadata": {
      "tags": []
     },
     "output_type": "execute_result"
    }
   ],
   "source": [
    "y_pred=model3.predict(X_test_scaled)\n",
    "y_pred[0:5]\n"
   ]
  },
  {
   "cell_type": "code",
   "execution_count": 63,
   "metadata": {
    "colab": {
     "base_uri": "https://localhost:8080/",
     "height": 34
    },
    "colab_type": "code",
    "id": "2xrSDZTDJRtZ",
    "outputId": "b791dca2-e485-44f6-85aa-975c68a3f900"
   },
   "outputs": [
    {
     "name": "stdout",
     "output_type": "stream",
     "text": [
      "[0.06460558 0.03540639 0.09624721 ... 0.6818479  0.13658789 0.27119774]\n"
     ]
    }
   ],
   "source": [
    "y_pred_prob = y_pred[:, 1]\n",
    "print(y_pred_prob)"
   ]
  },
  {
   "cell_type": "code",
   "execution_count": 65,
   "metadata": {
    "colab": {
     "base_uri": "https://localhost:8080/",
     "height": 51
    },
    "colab_type": "code",
    "id": "QvEVk6hkJXnn",
    "outputId": "73d21e66-1c99-4831-e111-0751308ef3fb"
   },
   "outputs": [
    {
     "name": "stdout",
     "output_type": "stream",
     "text": [
      "Training Model Accuracy:  0.863875\n",
      "Test Model Accuracy:  0.8625\n"
     ]
    }
   ],
   "source": [
    "accuracy = model3.evaluate(x=X_train_scaled,y=train_Y,verbose=0)\n",
    "print(\"Training Model Accuracy: \", accuracy[1])\n",
    "accuracy = model3.evaluate(x=X_test_scaled,y=test_Y,verbose=0)\n",
    "print(\"Test Model Accuracy: \", accuracy[1])"
   ]
  },
  {
   "cell_type": "code",
   "execution_count": 66,
   "metadata": {
    "colab": {
     "base_uri": "https://localhost:8080/",
     "height": 68
    },
    "colab_type": "code",
    "id": "ECzzBS5VJaLJ",
    "outputId": "1269d36f-7b5e-4efe-f52c-4861055184f9"
   },
   "outputs": [
    {
     "name": "stdout",
     "output_type": "stream",
     "text": [
      "Confusion Matrix\n",
      "[[1546   61]\n",
      " [ 214  179]]\n"
     ]
    }
   ],
   "source": [
    "matrix = metrics.confusion_matrix(test_Y.argmax(axis=1), y_pred.argmax(axis=1))\n",
    "print(\"Confusion Matrix\")\n",
    "print(matrix)"
   ]
  },
  {
   "cell_type": "markdown",
   "metadata": {},
   "source": [
    "### The model predicts 0's better than 1's"
   ]
  }
 ],
 "metadata": {
  "colab": {
   "name": "IntroductiontoNeuralNetworksAndDeepLearning_R6_Project1.ipynb",
   "provenance": [],
   "version": "0.3.2"
  },
  "kernelspec": {
   "display_name": "Python 3",
   "language": "python",
   "name": "python3"
  },
  "language_info": {
   "codemirror_mode": {
    "name": "ipython",
    "version": 3
   },
   "file_extension": ".py",
   "mimetype": "text/x-python",
   "name": "python",
   "nbconvert_exporter": "python",
   "pygments_lexer": "ipython3",
   "version": "3.6.4"
  }
 },
 "nbformat": 4,
 "nbformat_minor": 1
}
