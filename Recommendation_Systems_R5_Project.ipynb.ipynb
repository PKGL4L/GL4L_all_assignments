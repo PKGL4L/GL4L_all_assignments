{
 "cells": [
  {
   "cell_type": "markdown",
   "metadata": {},
   "source": [
    "## Along with this file two other files has been submitted that is Recommenders.py and Evaluation.py"
   ]
  },
  {
   "cell_type": "code",
   "execution_count": 1,
   "metadata": {
    "colab": {},
    "colab_type": "code",
    "id": "HcDCjLaeXnZk"
   },
   "outputs": [],
   "source": [
    "import pandas as pd\n",
    "%matplotlib inline\n",
    "import matplotlib\n",
    "import matplotlib.pyplot as plt\n",
    "import numpy as np\n",
    "from sklearn.model_selection import train_test_split"
   ]
  },
  {
   "cell_type": "markdown",
   "metadata": {
    "colab": {},
    "colab_type": "code",
    "id": "NDimI32nomhX"
   },
   "source": [
    "### Read and explore the dataset. (Rename column, plot histograms, find data characteristics)"
   ]
  },
  {
   "cell_type": "code",
   "execution_count": 2,
   "metadata": {
    "colab": {},
    "colab_type": "code",
    "id": "NzwzWpKoXnZ1"
   },
   "outputs": [],
   "source": [
    "cols = ['user_id', 'product_id', 'ratings', 'timestamp']"
   ]
  },
  {
   "cell_type": "code",
   "execution_count": 3,
   "metadata": {
    "colab": {},
    "colab_type": "code",
    "id": "Gn5_X5giXnZ5"
   },
   "outputs": [],
   "source": [
    "df = pd.read_csv('ratings_Electronics.csv',header = None)"
   ]
  },
  {
   "cell_type": "code",
   "execution_count": 4,
   "metadata": {
    "colab": {},
    "colab_type": "code",
    "id": "ogZ8qr-kXnZ8"
   },
   "outputs": [],
   "source": [
    "df.columns = ['user_id', 'product_id', 'ratings', 'timestamp']"
   ]
  },
  {
   "cell_type": "code",
   "execution_count": 5,
   "metadata": {
    "colab": {
     "base_uri": "https://localhost:8080/",
     "height": 204
    },
    "colab_type": "code",
    "id": "O6M6GgNPXnZ8",
    "outputId": "719e09ba-3021-45cd-b059-1c383560bf94"
   },
   "outputs": [
    {
     "data": {
      "text/html": [
       "<div>\n",
       "<style scoped>\n",
       "    .dataframe tbody tr th:only-of-type {\n",
       "        vertical-align: middle;\n",
       "    }\n",
       "\n",
       "    .dataframe tbody tr th {\n",
       "        vertical-align: top;\n",
       "    }\n",
       "\n",
       "    .dataframe thead th {\n",
       "        text-align: right;\n",
       "    }\n",
       "</style>\n",
       "<table border=\"1\" class=\"dataframe\">\n",
       "  <thead>\n",
       "    <tr style=\"text-align: right;\">\n",
       "      <th></th>\n",
       "      <th>user_id</th>\n",
       "      <th>product_id</th>\n",
       "      <th>ratings</th>\n",
       "      <th>timestamp</th>\n",
       "    </tr>\n",
       "  </thead>\n",
       "  <tbody>\n",
       "    <tr>\n",
       "      <th>0</th>\n",
       "      <td>AKM1MP6P0OYPR</td>\n",
       "      <td>0132793040</td>\n",
       "      <td>5.0</td>\n",
       "      <td>1365811200</td>\n",
       "    </tr>\n",
       "    <tr>\n",
       "      <th>1</th>\n",
       "      <td>A2CX7LUOHB2NDG</td>\n",
       "      <td>0321732944</td>\n",
       "      <td>5.0</td>\n",
       "      <td>1341100800</td>\n",
       "    </tr>\n",
       "    <tr>\n",
       "      <th>2</th>\n",
       "      <td>A2NWSAGRHCP8N5</td>\n",
       "      <td>0439886341</td>\n",
       "      <td>1.0</td>\n",
       "      <td>1367193600</td>\n",
       "    </tr>\n",
       "    <tr>\n",
       "      <th>3</th>\n",
       "      <td>A2WNBOD3WNDNKT</td>\n",
       "      <td>0439886341</td>\n",
       "      <td>3.0</td>\n",
       "      <td>1374451200</td>\n",
       "    </tr>\n",
       "    <tr>\n",
       "      <th>4</th>\n",
       "      <td>A1GI0U4ZRJA8WN</td>\n",
       "      <td>0439886341</td>\n",
       "      <td>1.0</td>\n",
       "      <td>1334707200</td>\n",
       "    </tr>\n",
       "  </tbody>\n",
       "</table>\n",
       "</div>"
      ],
      "text/plain": [
       "          user_id  product_id  ratings   timestamp\n",
       "0   AKM1MP6P0OYPR  0132793040      5.0  1365811200\n",
       "1  A2CX7LUOHB2NDG  0321732944      5.0  1341100800\n",
       "2  A2NWSAGRHCP8N5  0439886341      1.0  1367193600\n",
       "3  A2WNBOD3WNDNKT  0439886341      3.0  1374451200\n",
       "4  A1GI0U4ZRJA8WN  0439886341      1.0  1334707200"
      ]
     },
     "execution_count": 5,
     "metadata": {},
     "output_type": "execute_result"
    }
   ],
   "source": [
    "df.head()"
   ]
  },
  {
   "cell_type": "code",
   "execution_count": 6,
   "metadata": {
    "colab": {
     "base_uri": "https://localhost:8080/",
     "height": 34
    },
    "colab_type": "code",
    "id": "h_SAzF4GXnZ8",
    "outputId": "940d8cd9-cc3c-42b2-c361-406ef5aac016"
   },
   "outputs": [
    {
     "data": {
      "text/plain": [
       "(7824482, 4)"
      ]
     },
     "execution_count": 6,
     "metadata": {},
     "output_type": "execute_result"
    }
   ],
   "source": [
    "df.shape"
   ]
  },
  {
   "cell_type": "code",
   "execution_count": 7,
   "metadata": {
    "colab": {},
    "colab_type": "code",
    "id": "Psi75IE3XnZ8"
   },
   "outputs": [],
   "source": [
    "#dropping the timestamp column\n",
    "df = df.drop(['timestamp'],axis=1)"
   ]
  },
  {
   "cell_type": "code",
   "execution_count": 8,
   "metadata": {
    "colab": {
     "base_uri": "https://localhost:8080/",
     "height": 204
    },
    "colab_type": "code",
    "id": "0sdSLPoDXnaM",
    "outputId": "2fb4521f-d83d-40c8-e310-0fc9c297f2cf"
   },
   "outputs": [
    {
     "data": {
      "text/html": [
       "<div>\n",
       "<style scoped>\n",
       "    .dataframe tbody tr th:only-of-type {\n",
       "        vertical-align: middle;\n",
       "    }\n",
       "\n",
       "    .dataframe tbody tr th {\n",
       "        vertical-align: top;\n",
       "    }\n",
       "\n",
       "    .dataframe thead th {\n",
       "        text-align: right;\n",
       "    }\n",
       "</style>\n",
       "<table border=\"1\" class=\"dataframe\">\n",
       "  <thead>\n",
       "    <tr style=\"text-align: right;\">\n",
       "      <th></th>\n",
       "      <th>user_id</th>\n",
       "      <th>product_id</th>\n",
       "      <th>ratings</th>\n",
       "    </tr>\n",
       "  </thead>\n",
       "  <tbody>\n",
       "    <tr>\n",
       "      <th>0</th>\n",
       "      <td>AKM1MP6P0OYPR</td>\n",
       "      <td>0132793040</td>\n",
       "      <td>5.0</td>\n",
       "    </tr>\n",
       "    <tr>\n",
       "      <th>1</th>\n",
       "      <td>A2CX7LUOHB2NDG</td>\n",
       "      <td>0321732944</td>\n",
       "      <td>5.0</td>\n",
       "    </tr>\n",
       "    <tr>\n",
       "      <th>2</th>\n",
       "      <td>A2NWSAGRHCP8N5</td>\n",
       "      <td>0439886341</td>\n",
       "      <td>1.0</td>\n",
       "    </tr>\n",
       "    <tr>\n",
       "      <th>3</th>\n",
       "      <td>A2WNBOD3WNDNKT</td>\n",
       "      <td>0439886341</td>\n",
       "      <td>3.0</td>\n",
       "    </tr>\n",
       "    <tr>\n",
       "      <th>4</th>\n",
       "      <td>A1GI0U4ZRJA8WN</td>\n",
       "      <td>0439886341</td>\n",
       "      <td>1.0</td>\n",
       "    </tr>\n",
       "  </tbody>\n",
       "</table>\n",
       "</div>"
      ],
      "text/plain": [
       "          user_id  product_id  ratings\n",
       "0   AKM1MP6P0OYPR  0132793040      5.0\n",
       "1  A2CX7LUOHB2NDG  0321732944      5.0\n",
       "2  A2NWSAGRHCP8N5  0439886341      1.0\n",
       "3  A2WNBOD3WNDNKT  0439886341      3.0\n",
       "4  A1GI0U4ZRJA8WN  0439886341      1.0"
      ]
     },
     "execution_count": 8,
     "metadata": {},
     "output_type": "execute_result"
    }
   ],
   "source": [
    "df.head()"
   ]
  },
  {
   "cell_type": "code",
   "execution_count": 9,
   "metadata": {
    "colab": {
     "base_uri": "https://localhost:8080/",
     "height": 314
    },
    "colab_type": "code",
    "id": "xi2mHL0rXnaM",
    "outputId": "de55de00-a620-4f1a-d425-007155972425"
   },
   "outputs": [
    {
     "data": {
      "text/plain": [
       "array([[<matplotlib.axes._subplots.AxesSubplot object at 0x000002A20E6C6A90>]],\n",
       "      dtype=object)"
      ]
     },
     "execution_count": 9,
     "metadata": {},
     "output_type": "execute_result"
    },
    {
     "data": {
      "image/png": "[encoded data removed]",
      "text/plain": [
       "<matplotlib.figure.Figure at 0x2a20e6c65c0>"
      ]
     },
     "metadata": {},
     "output_type": "display_data"
    }
   ],
   "source": [
    "df.hist()"
   ]
  },
  {
   "cell_type": "code",
   "execution_count": 10,
   "metadata": {
    "colab": {
     "base_uri": "https://localhost:8080/",
     "height": 119
    },
    "colab_type": "code",
    "id": "cqcoWVwzXnaM",
    "outputId": "5ac0da76-b462-4866-8c08-261a0683b22d"
   },
   "outputs": [
    {
     "data": {
      "text/plain": [
       "5.0    4347541\n",
       "4.0    1485781\n",
       "1.0     901765\n",
       "3.0     633073\n",
       "2.0     456322\n",
       "Name: ratings, dtype: int64"
      ]
     },
     "execution_count": 10,
     "metadata": {},
     "output_type": "execute_result"
    }
   ],
   "source": [
    "#forming the subset of the dataset with highest rating\n",
    "df['ratings'].value_counts()"
   ]
  },
  {
   "cell_type": "code",
   "execution_count": 11,
   "metadata": {
    "colab": {
     "base_uri": "https://localhost:8080/",
     "height": 102
    },
    "colab_type": "code",
    "id": "3tfCjY89nobK",
    "outputId": "6ee67eac-9173-42bd-e5db-a2ee59ae06a6"
   },
   "outputs": [
    {
     "data": {
      "text/plain": [
       "count           7824482\n",
       "unique          4201696\n",
       "top       A5JLAU2ARJ0BO\n",
       "freq                520\n",
       "Name: user_id, dtype: object"
      ]
     },
     "execution_count": 11,
     "metadata": {},
     "output_type": "execute_result"
    }
   ],
   "source": [
    "#user statistics\n",
    "df['user_id'].describe()"
   ]
  },
  {
   "cell_type": "code",
   "execution_count": 12,
   "metadata": {
    "colab": {
     "base_uri": "https://localhost:8080/",
     "height": 102
    },
    "colab_type": "code",
    "id": "DxYu5XOFnokf",
    "outputId": "f36f8cba-8afa-4766-a1e5-19fd37245857"
   },
   "outputs": [
    {
     "data": {
      "text/plain": [
       "count        7824482\n",
       "unique        476002\n",
       "top       B0074BW614\n",
       "freq           18244\n",
       "Name: product_id, dtype: object"
      ]
     },
     "execution_count": 12,
     "metadata": {},
     "output_type": "execute_result"
    }
   ],
   "source": [
    "#product statistics\n",
    "df['product_id'].describe()"
   ]
  },
  {
   "cell_type": "code",
   "execution_count": 13,
   "metadata": {
    "colab": {},
    "colab_type": "code",
    "id": "rhvtoU5ooXqC"
   },
   "outputs": [],
   "source": [
    "#there are 4 million unique users but there are only 4 lakhs products."
   ]
  },
  {
   "cell_type": "code",
   "execution_count": 14,
   "metadata": {
    "colab": {
     "base_uri": "https://localhost:8080/",
     "height": 1969
    },
    "colab_type": "code",
    "id": "KrjaHItVt6Ig",
    "outputId": "226c9800-1ca9-4066-adde-b3c45167e00d"
   },
   "outputs": [
    {
     "data": {
      "text/html": [
       "<div>\n",
       "<style scoped>\n",
       "    .dataframe tbody tr th:only-of-type {\n",
       "        vertical-align: middle;\n",
       "    }\n",
       "\n",
       "    .dataframe tbody tr th {\n",
       "        vertical-align: top;\n",
       "    }\n",
       "\n",
       "    .dataframe thead th {\n",
       "        text-align: right;\n",
       "    }\n",
       "</style>\n",
       "<table border=\"1\" class=\"dataframe\">\n",
       "  <thead>\n",
       "    <tr style=\"text-align: right;\">\n",
       "      <th></th>\n",
       "      <th>product_id</th>\n",
       "      <th>ratings</th>\n",
       "      <th>percentage</th>\n",
       "    </tr>\n",
       "  </thead>\n",
       "  <tbody>\n",
       "    <tr>\n",
       "      <th>308398</th>\n",
       "      <td>B0074BW614</td>\n",
       "      <td>18244</td>\n",
       "      <td>0.233166</td>\n",
       "    </tr>\n",
       "    <tr>\n",
       "      <th>429572</th>\n",
       "      <td>B00DR0PDNE</td>\n",
       "      <td>16454</td>\n",
       "      <td>0.210289</td>\n",
       "    </tr>\n",
       "    <tr>\n",
       "      <th>327308</th>\n",
       "      <td>B007WTAJTO</td>\n",
       "      <td>14172</td>\n",
       "      <td>0.181124</td>\n",
       "    </tr>\n",
       "    <tr>\n",
       "      <th>102804</th>\n",
       "      <td>B0019EHU8G</td>\n",
       "      <td>12285</td>\n",
       "      <td>0.157007</td>\n",
       "    </tr>\n",
       "    <tr>\n",
       "      <th>296625</th>\n",
       "      <td>B006GWO5WK</td>\n",
       "      <td>12226</td>\n",
       "      <td>0.156253</td>\n",
       "    </tr>\n",
       "    <tr>\n",
       "      <th>178601</th>\n",
       "      <td>B003ELYQGG</td>\n",
       "      <td>11617</td>\n",
       "      <td>0.148470</td>\n",
       "    </tr>\n",
       "    <tr>\n",
       "      <th>178813</th>\n",
       "      <td>B003ES5ZUU</td>\n",
       "      <td>10276</td>\n",
       "      <td>0.131331</td>\n",
       "    </tr>\n",
       "    <tr>\n",
       "      <th>323013</th>\n",
       "      <td>B007R5YDYA</td>\n",
       "      <td>9907</td>\n",
       "      <td>0.126615</td>\n",
       "    </tr>\n",
       "    <tr>\n",
       "      <th>289775</th>\n",
       "      <td>B00622AG6S</td>\n",
       "      <td>9823</td>\n",
       "      <td>0.125542</td>\n",
       "    </tr>\n",
       "    <tr>\n",
       "      <th>30276</th>\n",
       "      <td>B0002L5R78</td>\n",
       "      <td>9487</td>\n",
       "      <td>0.121248</td>\n",
       "    </tr>\n",
       "    <tr>\n",
       "      <th>350267</th>\n",
       "      <td>B008OHNZI0</td>\n",
       "      <td>8966</td>\n",
       "      <td>0.114589</td>\n",
       "    </tr>\n",
       "    <tr>\n",
       "      <th>186026</th>\n",
       "      <td>B003LR7ME6</td>\n",
       "      <td>8840</td>\n",
       "      <td>0.112979</td>\n",
       "    </tr>\n",
       "    <tr>\n",
       "      <th>67438</th>\n",
       "      <td>B000LRMS66</td>\n",
       "      <td>8715</td>\n",
       "      <td>0.111381</td>\n",
       "    </tr>\n",
       "    <tr>\n",
       "      <th>372967</th>\n",
       "      <td>B009SYZ8OC</td>\n",
       "      <td>8370</td>\n",
       "      <td>0.106972</td>\n",
       "    </tr>\n",
       "    <tr>\n",
       "      <th>401632</th>\n",
       "      <td>B00BGA9WK2</td>\n",
       "      <td>7561</td>\n",
       "      <td>0.096633</td>\n",
       "    </tr>\n",
       "    <tr>\n",
       "      <th>239502</th>\n",
       "      <td>B004QK7HI8</td>\n",
       "      <td>7060</td>\n",
       "      <td>0.090230</td>\n",
       "    </tr>\n",
       "    <tr>\n",
       "      <th>362459</th>\n",
       "      <td>B009A5204K</td>\n",
       "      <td>7059</td>\n",
       "      <td>0.090217</td>\n",
       "    </tr>\n",
       "    <tr>\n",
       "      <th>401749</th>\n",
       "      <td>B00BGGDVOO</td>\n",
       "      <td>6893</td>\n",
       "      <td>0.088095</td>\n",
       "    </tr>\n",
       "    <tr>\n",
       "      <th>361273</th>\n",
       "      <td>B0098F5W0Q</td>\n",
       "      <td>6616</td>\n",
       "      <td>0.084555</td>\n",
       "    </tr>\n",
       "    <tr>\n",
       "      <th>147929</th>\n",
       "      <td>B002MAPRYU</td>\n",
       "      <td>6599</td>\n",
       "      <td>0.084338</td>\n",
       "    </tr>\n",
       "    <tr>\n",
       "      <th>158901</th>\n",
       "      <td>B002WE6D44</td>\n",
       "      <td>6509</td>\n",
       "      <td>0.083188</td>\n",
       "    </tr>\n",
       "    <tr>\n",
       "      <th>274153</th>\n",
       "      <td>B005HMKKH4</td>\n",
       "      <td>6134</td>\n",
       "      <td>0.078395</td>\n",
       "    </tr>\n",
       "    <tr>\n",
       "      <th>92806</th>\n",
       "      <td>B0012S4APK</td>\n",
       "      <td>5642</td>\n",
       "      <td>0.072107</td>\n",
       "    </tr>\n",
       "    <tr>\n",
       "      <th>256751</th>\n",
       "      <td>B0052YFYFK</td>\n",
       "      <td>5521</td>\n",
       "      <td>0.070561</td>\n",
       "    </tr>\n",
       "    <tr>\n",
       "      <th>24439</th>\n",
       "      <td>B0001FTVEK</td>\n",
       "      <td>5345</td>\n",
       "      <td>0.068311</td>\n",
       "    </tr>\n",
       "    <tr>\n",
       "      <th>209160</th>\n",
       "      <td>B0044YU60M</td>\n",
       "      <td>5239</td>\n",
       "      <td>0.066957</td>\n",
       "    </tr>\n",
       "    <tr>\n",
       "      <th>163557</th>\n",
       "      <td>B00316263Y</td>\n",
       "      <td>5038</td>\n",
       "      <td>0.064388</td>\n",
       "    </tr>\n",
       "    <tr>\n",
       "      <th>61285</th>\n",
       "      <td>B000I68BD4</td>\n",
       "      <td>4903</td>\n",
       "      <td>0.062662</td>\n",
       "    </tr>\n",
       "    <tr>\n",
       "      <th>305332</th>\n",
       "      <td>B006ZP8UOW</td>\n",
       "      <td>4842</td>\n",
       "      <td>0.061883</td>\n",
       "    </tr>\n",
       "    <tr>\n",
       "      <th>204813</th>\n",
       "      <td>B0041Q38NU</td>\n",
       "      <td>4774</td>\n",
       "      <td>0.061014</td>\n",
       "    </tr>\n",
       "    <tr>\n",
       "      <th>...</th>\n",
       "      <td>...</td>\n",
       "      <td>...</td>\n",
       "      <td>...</td>\n",
       "    </tr>\n",
       "    <tr>\n",
       "      <th>475963</th>\n",
       "      <td>B00LDWXYRA</td>\n",
       "      <td>1</td>\n",
       "      <td>0.000013</td>\n",
       "    </tr>\n",
       "    <tr>\n",
       "      <th>475964</th>\n",
       "      <td>B00LE58W6Y</td>\n",
       "      <td>1</td>\n",
       "      <td>0.000013</td>\n",
       "    </tr>\n",
       "    <tr>\n",
       "      <th>475965</th>\n",
       "      <td>B00LED02VY</td>\n",
       "      <td>1</td>\n",
       "      <td>0.000013</td>\n",
       "    </tr>\n",
       "    <tr>\n",
       "      <th>475966</th>\n",
       "      <td>B00LEWDSRU</td>\n",
       "      <td>1</td>\n",
       "      <td>0.000013</td>\n",
       "    </tr>\n",
       "    <tr>\n",
       "      <th>475967</th>\n",
       "      <td>B00LFWLOCU</td>\n",
       "      <td>1</td>\n",
       "      <td>0.000013</td>\n",
       "    </tr>\n",
       "    <tr>\n",
       "      <th>475969</th>\n",
       "      <td>B00LG6AMIM</td>\n",
       "      <td>1</td>\n",
       "      <td>0.000013</td>\n",
       "    </tr>\n",
       "    <tr>\n",
       "      <th>475970</th>\n",
       "      <td>B00LG80VHM</td>\n",
       "      <td>1</td>\n",
       "      <td>0.000013</td>\n",
       "    </tr>\n",
       "    <tr>\n",
       "      <th>475971</th>\n",
       "      <td>B00LGFA0U8</td>\n",
       "      <td>1</td>\n",
       "      <td>0.000013</td>\n",
       "    </tr>\n",
       "    <tr>\n",
       "      <th>475972</th>\n",
       "      <td>B00LGN7Y3G</td>\n",
       "      <td>1</td>\n",
       "      <td>0.000013</td>\n",
       "    </tr>\n",
       "    <tr>\n",
       "      <th>475974</th>\n",
       "      <td>B00LH4U5JO</td>\n",
       "      <td>1</td>\n",
       "      <td>0.000013</td>\n",
       "    </tr>\n",
       "    <tr>\n",
       "      <th>475976</th>\n",
       "      <td>B00LH9OL5I</td>\n",
       "      <td>1</td>\n",
       "      <td>0.000013</td>\n",
       "    </tr>\n",
       "    <tr>\n",
       "      <th>475977</th>\n",
       "      <td>B00LHPXVBW</td>\n",
       "      <td>1</td>\n",
       "      <td>0.000013</td>\n",
       "    </tr>\n",
       "    <tr>\n",
       "      <th>475978</th>\n",
       "      <td>B00LI4U2B4</td>\n",
       "      <td>1</td>\n",
       "      <td>0.000013</td>\n",
       "    </tr>\n",
       "    <tr>\n",
       "      <th>475980</th>\n",
       "      <td>B00LI8Y9Y6</td>\n",
       "      <td>1</td>\n",
       "      <td>0.000013</td>\n",
       "    </tr>\n",
       "    <tr>\n",
       "      <th>475981</th>\n",
       "      <td>B00LITPNRC</td>\n",
       "      <td>1</td>\n",
       "      <td>0.000013</td>\n",
       "    </tr>\n",
       "    <tr>\n",
       "      <th>475983</th>\n",
       "      <td>B00LJZWBK2</td>\n",
       "      <td>1</td>\n",
       "      <td>0.000013</td>\n",
       "    </tr>\n",
       "    <tr>\n",
       "      <th>475984</th>\n",
       "      <td>B00LKG1MC8</td>\n",
       "      <td>1</td>\n",
       "      <td>0.000013</td>\n",
       "    </tr>\n",
       "    <tr>\n",
       "      <th>475985</th>\n",
       "      <td>B00LKWBN0I</td>\n",
       "      <td>1</td>\n",
       "      <td>0.000013</td>\n",
       "    </tr>\n",
       "    <tr>\n",
       "      <th>475986</th>\n",
       "      <td>B00LKWZKH0</td>\n",
       "      <td>1</td>\n",
       "      <td>0.000013</td>\n",
       "    </tr>\n",
       "    <tr>\n",
       "      <th>475988</th>\n",
       "      <td>B00LMKAUU2</td>\n",
       "      <td>1</td>\n",
       "      <td>0.000013</td>\n",
       "    </tr>\n",
       "    <tr>\n",
       "      <th>475989</th>\n",
       "      <td>B00LMMIQ4C</td>\n",
       "      <td>1</td>\n",
       "      <td>0.000013</td>\n",
       "    </tr>\n",
       "    <tr>\n",
       "      <th>475991</th>\n",
       "      <td>B00LNUH5X6</td>\n",
       "      <td>1</td>\n",
       "      <td>0.000013</td>\n",
       "    </tr>\n",
       "    <tr>\n",
       "      <th>475993</th>\n",
       "      <td>B00LPQRT34</td>\n",
       "      <td>1</td>\n",
       "      <td>0.000013</td>\n",
       "    </tr>\n",
       "    <tr>\n",
       "      <th>475994</th>\n",
       "      <td>B00LS5WBYE</td>\n",
       "      <td>1</td>\n",
       "      <td>0.000013</td>\n",
       "    </tr>\n",
       "    <tr>\n",
       "      <th>475995</th>\n",
       "      <td>B00LTAUTHE</td>\n",
       "      <td>1</td>\n",
       "      <td>0.000013</td>\n",
       "    </tr>\n",
       "    <tr>\n",
       "      <th>475996</th>\n",
       "      <td>B00LXEC8CU</td>\n",
       "      <td>1</td>\n",
       "      <td>0.000013</td>\n",
       "    </tr>\n",
       "    <tr>\n",
       "      <th>475997</th>\n",
       "      <td>BT008G3W52</td>\n",
       "      <td>1</td>\n",
       "      <td>0.000013</td>\n",
       "    </tr>\n",
       "    <tr>\n",
       "      <th>475998</th>\n",
       "      <td>BT008SXQ4C</td>\n",
       "      <td>1</td>\n",
       "      <td>0.000013</td>\n",
       "    </tr>\n",
       "    <tr>\n",
       "      <th>475999</th>\n",
       "      <td>BT008T2BGK</td>\n",
       "      <td>1</td>\n",
       "      <td>0.000013</td>\n",
       "    </tr>\n",
       "    <tr>\n",
       "      <th>476001</th>\n",
       "      <td>BT008V9J9U</td>\n",
       "      <td>1</td>\n",
       "      <td>0.000013</td>\n",
       "    </tr>\n",
       "  </tbody>\n",
       "</table>\n",
       "<p>476002 rows × 3 columns</p>\n",
       "</div>"
      ],
      "text/plain": [
       "        product_id  ratings  percentage\n",
       "308398  B0074BW614    18244    0.233166\n",
       "429572  B00DR0PDNE    16454    0.210289\n",
       "327308  B007WTAJTO    14172    0.181124\n",
       "102804  B0019EHU8G    12285    0.157007\n",
       "296625  B006GWO5WK    12226    0.156253\n",
       "178601  B003ELYQGG    11617    0.148470\n",
       "178813  B003ES5ZUU    10276    0.131331\n",
       "323013  B007R5YDYA     9907    0.126615\n",
       "289775  B00622AG6S     9823    0.125542\n",
       "30276   B0002L5R78     9487    0.121248\n",
       "350267  B008OHNZI0     8966    0.114589\n",
       "186026  B003LR7ME6     8840    0.112979\n",
       "67438   B000LRMS66     8715    0.111381\n",
       "372967  B009SYZ8OC     8370    0.106972\n",
       "401632  B00BGA9WK2     7561    0.096633\n",
       "239502  B004QK7HI8     7060    0.090230\n",
       "362459  B009A5204K     7059    0.090217\n",
       "401749  B00BGGDVOO     6893    0.088095\n",
       "361273  B0098F5W0Q     6616    0.084555\n",
       "147929  B002MAPRYU     6599    0.084338\n",
       "158901  B002WE6D44     6509    0.083188\n",
       "274153  B005HMKKH4     6134    0.078395\n",
       "92806   B0012S4APK     5642    0.072107\n",
       "256751  B0052YFYFK     5521    0.070561\n",
       "24439   B0001FTVEK     5345    0.068311\n",
       "209160  B0044YU60M     5239    0.066957\n",
       "163557  B00316263Y     5038    0.064388\n",
       "61285   B000I68BD4     4903    0.062662\n",
       "305332  B006ZP8UOW     4842    0.061883\n",
       "204813  B0041Q38NU     4774    0.061014\n",
       "...            ...      ...         ...\n",
       "475963  B00LDWXYRA        1    0.000013\n",
       "475964  B00LE58W6Y        1    0.000013\n",
       "475965  B00LED02VY        1    0.000013\n",
       "475966  B00LEWDSRU        1    0.000013\n",
       "475967  B00LFWLOCU        1    0.000013\n",
       "475969  B00LG6AMIM        1    0.000013\n",
       "475970  B00LG80VHM        1    0.000013\n",
       "475971  B00LGFA0U8        1    0.000013\n",
       "475972  B00LGN7Y3G        1    0.000013\n",
       "475974  B00LH4U5JO        1    0.000013\n",
       "475976  B00LH9OL5I        1    0.000013\n",
       "475977  B00LHPXVBW        1    0.000013\n",
       "475978  B00LI4U2B4        1    0.000013\n",
       "475980  B00LI8Y9Y6        1    0.000013\n",
       "475981  B00LITPNRC        1    0.000013\n",
       "475983  B00LJZWBK2        1    0.000013\n",
       "475984  B00LKG1MC8        1    0.000013\n",
       "475985  B00LKWBN0I        1    0.000013\n",
       "475986  B00LKWZKH0        1    0.000013\n",
       "475988  B00LMKAUU2        1    0.000013\n",
       "475989  B00LMMIQ4C        1    0.000013\n",
       "475991  B00LNUH5X6        1    0.000013\n",
       "475993  B00LPQRT34        1    0.000013\n",
       "475994  B00LS5WBYE        1    0.000013\n",
       "475995  B00LTAUTHE        1    0.000013\n",
       "475996  B00LXEC8CU        1    0.000013\n",
       "475997  BT008G3W52        1    0.000013\n",
       "475998  BT008SXQ4C        1    0.000013\n",
       "475999  BT008T2BGK        1    0.000013\n",
       "476001  BT008V9J9U        1    0.000013\n",
       "\n",
       "[476002 rows x 3 columns]"
      ]
     },
     "execution_count": 14,
     "metadata": {},
     "output_type": "execute_result"
    }
   ],
   "source": [
    "#product popularity based on ratings\n",
    "product_grouped = df.groupby(['product_id']).agg({'ratings': 'count'}).reset_index()\n",
    "grouped_sum = product_grouped['ratings'].sum()\n",
    "product_grouped['percentage']  = product_grouped['ratings'].div(grouped_sum)*100\n",
    "product_grouped.sort_values(['ratings', 'product_id'], ascending = [0,1])"
   ]
  },
  {
   "cell_type": "code",
   "execution_count": 15,
   "metadata": {
    "colab": {
     "base_uri": "https://localhost:8080/",
     "height": 1969
    },
    "colab_type": "code",
    "id": "4HpohHpnrM97",
    "outputId": "87559c2b-ef4b-4664-b16c-3d350a78b50c"
   },
   "outputs": [
    {
     "data": {
      "text/html": [
       "<div>\n",
       "<style scoped>\n",
       "    .dataframe tbody tr th:only-of-type {\n",
       "        vertical-align: middle;\n",
       "    }\n",
       "\n",
       "    .dataframe tbody tr th {\n",
       "        vertical-align: top;\n",
       "    }\n",
       "\n",
       "    .dataframe thead th {\n",
       "        text-align: right;\n",
       "    }\n",
       "</style>\n",
       "<table border=\"1\" class=\"dataframe\">\n",
       "  <thead>\n",
       "    <tr style=\"text-align: right;\">\n",
       "      <th></th>\n",
       "      <th>user_id</th>\n",
       "      <th>product_id</th>\n",
       "      <th>percentage</th>\n",
       "    </tr>\n",
       "  </thead>\n",
       "  <tbody>\n",
       "    <tr>\n",
       "      <th>4201695</th>\n",
       "      <td>AZZZY1W55XHZR</td>\n",
       "      <td>1</td>\n",
       "      <td>0.000013</td>\n",
       "    </tr>\n",
       "    <tr>\n",
       "      <th>4201694</th>\n",
       "      <td>AZZZWXXUPZ1F3</td>\n",
       "      <td>1</td>\n",
       "      <td>0.000013</td>\n",
       "    </tr>\n",
       "    <tr>\n",
       "      <th>4201693</th>\n",
       "      <td>AZZZSIK7NFFVP</td>\n",
       "      <td>1</td>\n",
       "      <td>0.000013</td>\n",
       "    </tr>\n",
       "    <tr>\n",
       "      <th>4201692</th>\n",
       "      <td>AZZZRS1YZ8HVP</td>\n",
       "      <td>2</td>\n",
       "      <td>0.000026</td>\n",
       "    </tr>\n",
       "    <tr>\n",
       "      <th>4201691</th>\n",
       "      <td>AZZZOVIBXHGDR</td>\n",
       "      <td>3</td>\n",
       "      <td>0.000038</td>\n",
       "    </tr>\n",
       "    <tr>\n",
       "      <th>4201690</th>\n",
       "      <td>AZZZMSZI9LKE6</td>\n",
       "      <td>1</td>\n",
       "      <td>0.000013</td>\n",
       "    </tr>\n",
       "    <tr>\n",
       "      <th>4201689</th>\n",
       "      <td>AZZZM2FO19RUO</td>\n",
       "      <td>1</td>\n",
       "      <td>0.000013</td>\n",
       "    </tr>\n",
       "    <tr>\n",
       "      <th>4201688</th>\n",
       "      <td>AZZZJXM9GW3C5</td>\n",
       "      <td>1</td>\n",
       "      <td>0.000013</td>\n",
       "    </tr>\n",
       "    <tr>\n",
       "      <th>4201687</th>\n",
       "      <td>AZZZEWADNFNUM</td>\n",
       "      <td>2</td>\n",
       "      <td>0.000026</td>\n",
       "    </tr>\n",
       "    <tr>\n",
       "      <th>4201686</th>\n",
       "      <td>AZZZDSAJ757Z4</td>\n",
       "      <td>1</td>\n",
       "      <td>0.000013</td>\n",
       "    </tr>\n",
       "    <tr>\n",
       "      <th>4201685</th>\n",
       "      <td>AZZZBMD2MDOQR</td>\n",
       "      <td>1</td>\n",
       "      <td>0.000013</td>\n",
       "    </tr>\n",
       "    <tr>\n",
       "      <th>4201684</th>\n",
       "      <td>AZZZBHHLU1CMM</td>\n",
       "      <td>1</td>\n",
       "      <td>0.000013</td>\n",
       "    </tr>\n",
       "    <tr>\n",
       "      <th>4201683</th>\n",
       "      <td>AZZZBEVIZYROM</td>\n",
       "      <td>1</td>\n",
       "      <td>0.000013</td>\n",
       "    </tr>\n",
       "    <tr>\n",
       "      <th>4201682</th>\n",
       "      <td>AZZZ9NB3TEH8F</td>\n",
       "      <td>1</td>\n",
       "      <td>0.000013</td>\n",
       "    </tr>\n",
       "    <tr>\n",
       "      <th>4201681</th>\n",
       "      <td>AZZZ3LGTCGUZF</td>\n",
       "      <td>1</td>\n",
       "      <td>0.000013</td>\n",
       "    </tr>\n",
       "    <tr>\n",
       "      <th>4201680</th>\n",
       "      <td>AZZYYPNQ2ZYH6</td>\n",
       "      <td>1</td>\n",
       "      <td>0.000013</td>\n",
       "    </tr>\n",
       "    <tr>\n",
       "      <th>4201679</th>\n",
       "      <td>AZZYYC8OX8ELM</td>\n",
       "      <td>2</td>\n",
       "      <td>0.000026</td>\n",
       "    </tr>\n",
       "    <tr>\n",
       "      <th>4201678</th>\n",
       "      <td>AZZYXVW7BAJVD</td>\n",
       "      <td>1</td>\n",
       "      <td>0.000013</td>\n",
       "    </tr>\n",
       "    <tr>\n",
       "      <th>4201677</th>\n",
       "      <td>AZZYWDOD33FFE</td>\n",
       "      <td>1</td>\n",
       "      <td>0.000013</td>\n",
       "    </tr>\n",
       "    <tr>\n",
       "      <th>4201676</th>\n",
       "      <td>AZZYW8JCAHAQY</td>\n",
       "      <td>1</td>\n",
       "      <td>0.000013</td>\n",
       "    </tr>\n",
       "    <tr>\n",
       "      <th>4201675</th>\n",
       "      <td>AZZYW4YOE1B6E</td>\n",
       "      <td>35</td>\n",
       "      <td>0.000447</td>\n",
       "    </tr>\n",
       "    <tr>\n",
       "      <th>4201674</th>\n",
       "      <td>AZZYVKZGCY2MQ</td>\n",
       "      <td>1</td>\n",
       "      <td>0.000013</td>\n",
       "    </tr>\n",
       "    <tr>\n",
       "      <th>4201673</th>\n",
       "      <td>AZZYUA6JI1MO0</td>\n",
       "      <td>2</td>\n",
       "      <td>0.000026</td>\n",
       "    </tr>\n",
       "    <tr>\n",
       "      <th>4201672</th>\n",
       "      <td>AZZYTPFG6JF1K</td>\n",
       "      <td>1</td>\n",
       "      <td>0.000013</td>\n",
       "    </tr>\n",
       "    <tr>\n",
       "      <th>4201671</th>\n",
       "      <td>AZZYQ6753ZHTK</td>\n",
       "      <td>1</td>\n",
       "      <td>0.000013</td>\n",
       "    </tr>\n",
       "    <tr>\n",
       "      <th>4201670</th>\n",
       "      <td>AZZYO4XQYE89O</td>\n",
       "      <td>1</td>\n",
       "      <td>0.000013</td>\n",
       "    </tr>\n",
       "    <tr>\n",
       "      <th>4201669</th>\n",
       "      <td>AZZYMQZHES0KT</td>\n",
       "      <td>1</td>\n",
       "      <td>0.000013</td>\n",
       "    </tr>\n",
       "    <tr>\n",
       "      <th>4201668</th>\n",
       "      <td>AZZYKX2KZ0Q82</td>\n",
       "      <td>1</td>\n",
       "      <td>0.000013</td>\n",
       "    </tr>\n",
       "    <tr>\n",
       "      <th>4201667</th>\n",
       "      <td>AZZYK2BT6EU8V</td>\n",
       "      <td>2</td>\n",
       "      <td>0.000026</td>\n",
       "    </tr>\n",
       "    <tr>\n",
       "      <th>4201666</th>\n",
       "      <td>AZZYJH0XNZ896</td>\n",
       "      <td>1</td>\n",
       "      <td>0.000013</td>\n",
       "    </tr>\n",
       "    <tr>\n",
       "      <th>...</th>\n",
       "      <td>...</td>\n",
       "      <td>...</td>\n",
       "      <td>...</td>\n",
       "    </tr>\n",
       "    <tr>\n",
       "      <th>29</th>\n",
       "      <td>A00059641RDIAMDC7IJRZ</td>\n",
       "      <td>1</td>\n",
       "      <td>0.000013</td>\n",
       "    </tr>\n",
       "    <tr>\n",
       "      <th>28</th>\n",
       "      <td>A00045341JXVKNK93M6JE</td>\n",
       "      <td>1</td>\n",
       "      <td>0.000013</td>\n",
       "    </tr>\n",
       "    <tr>\n",
       "      <th>27</th>\n",
       "      <td>A0004478EF5NFPHLGCWG</td>\n",
       "      <td>1</td>\n",
       "      <td>0.000013</td>\n",
       "    </tr>\n",
       "    <tr>\n",
       "      <th>26</th>\n",
       "      <td>A000428226SAAAIBK8I36</td>\n",
       "      <td>1</td>\n",
       "      <td>0.000013</td>\n",
       "    </tr>\n",
       "    <tr>\n",
       "      <th>25</th>\n",
       "      <td>A00038802J7X43YTW44TD</td>\n",
       "      <td>2</td>\n",
       "      <td>0.000026</td>\n",
       "    </tr>\n",
       "    <tr>\n",
       "      <th>24</th>\n",
       "      <td>A00037441I8XOQJSUWCAG</td>\n",
       "      <td>3</td>\n",
       "      <td>0.000038</td>\n",
       "    </tr>\n",
       "    <tr>\n",
       "      <th>23</th>\n",
       "      <td>A00033481VZEEGYXEN32T</td>\n",
       "      <td>3</td>\n",
       "      <td>0.000038</td>\n",
       "    </tr>\n",
       "    <tr>\n",
       "      <th>22</th>\n",
       "      <td>A00029825UMZ6N0ETLHY</td>\n",
       "      <td>1</td>\n",
       "      <td>0.000013</td>\n",
       "    </tr>\n",
       "    <tr>\n",
       "      <th>21</th>\n",
       "      <td>A000294826HEMAY5L3K1H</td>\n",
       "      <td>1</td>\n",
       "      <td>0.000013</td>\n",
       "    </tr>\n",
       "    <tr>\n",
       "      <th>20</th>\n",
       "      <td>A00029263J863WSR0TDRS</td>\n",
       "      <td>1</td>\n",
       "      <td>0.000013</td>\n",
       "    </tr>\n",
       "    <tr>\n",
       "      <th>19</th>\n",
       "      <td>A00028781NF0U7YEN9U19</td>\n",
       "      <td>1</td>\n",
       "      <td>0.000013</td>\n",
       "    </tr>\n",
       "    <tr>\n",
       "      <th>18</th>\n",
       "      <td>A00027561NC7JTXEP3EOD</td>\n",
       "      <td>1</td>\n",
       "      <td>0.000013</td>\n",
       "    </tr>\n",
       "    <tr>\n",
       "      <th>17</th>\n",
       "      <td>A00027081JC8NE8X6TD5</td>\n",
       "      <td>1</td>\n",
       "      <td>0.000013</td>\n",
       "    </tr>\n",
       "    <tr>\n",
       "      <th>16</th>\n",
       "      <td>A0002550196XWX0PEOZND</td>\n",
       "      <td>1</td>\n",
       "      <td>0.000013</td>\n",
       "    </tr>\n",
       "    <tr>\n",
       "      <th>15</th>\n",
       "      <td>A0002032ZFQKDVHYKGWR</td>\n",
       "      <td>1</td>\n",
       "      <td>0.000013</td>\n",
       "    </tr>\n",
       "    <tr>\n",
       "      <th>14</th>\n",
       "      <td>A0002012T7HVDB2EF4RH</td>\n",
       "      <td>1</td>\n",
       "      <td>0.000013</td>\n",
       "    </tr>\n",
       "    <tr>\n",
       "      <th>13</th>\n",
       "      <td>A00019466UY2KR1IPXQN</td>\n",
       "      <td>1</td>\n",
       "      <td>0.000013</td>\n",
       "    </tr>\n",
       "    <tr>\n",
       "      <th>12</th>\n",
       "      <td>A000187635I595IAVSQLH</td>\n",
       "      <td>2</td>\n",
       "      <td>0.000026</td>\n",
       "    </tr>\n",
       "    <tr>\n",
       "      <th>11</th>\n",
       "      <td>A000186437REL8X2RW8UW</td>\n",
       "      <td>1</td>\n",
       "      <td>0.000013</td>\n",
       "    </tr>\n",
       "    <tr>\n",
       "      <th>10</th>\n",
       "      <td>A00018041RRVMCICCAP79</td>\n",
       "      <td>2</td>\n",
       "      <td>0.000026</td>\n",
       "    </tr>\n",
       "    <tr>\n",
       "      <th>9</th>\n",
       "      <td>A0001528BGUBOEVR6T5U</td>\n",
       "      <td>4</td>\n",
       "      <td>0.000051</td>\n",
       "    </tr>\n",
       "    <tr>\n",
       "      <th>8</th>\n",
       "      <td>A00015228CUPGPF957DS</td>\n",
       "      <td>1</td>\n",
       "      <td>0.000013</td>\n",
       "    </tr>\n",
       "    <tr>\n",
       "      <th>7</th>\n",
       "      <td>A00015222LZ55IJSVL5IX</td>\n",
       "      <td>1</td>\n",
       "      <td>0.000013</td>\n",
       "    </tr>\n",
       "    <tr>\n",
       "      <th>6</th>\n",
       "      <td>A000145014WOTZJ5NSKOR</td>\n",
       "      <td>1</td>\n",
       "      <td>0.000013</td>\n",
       "    </tr>\n",
       "    <tr>\n",
       "      <th>5</th>\n",
       "      <td>A00014061C2IZNE0YEILY</td>\n",
       "      <td>1</td>\n",
       "      <td>0.000013</td>\n",
       "    </tr>\n",
       "    <tr>\n",
       "      <th>4</th>\n",
       "      <td>A00010809P09NUU6ZP6H</td>\n",
       "      <td>1</td>\n",
       "      <td>0.000013</td>\n",
       "    </tr>\n",
       "    <tr>\n",
       "      <th>3</th>\n",
       "      <td>A00009661LC9LQPGKJ24G</td>\n",
       "      <td>1</td>\n",
       "      <td>0.000013</td>\n",
       "    </tr>\n",
       "    <tr>\n",
       "      <th>2</th>\n",
       "      <td>A00009182QVLSWIGHLS1B</td>\n",
       "      <td>1</td>\n",
       "      <td>0.000013</td>\n",
       "    </tr>\n",
       "    <tr>\n",
       "      <th>1</th>\n",
       "      <td>A000063614T1OE0BUSKUT</td>\n",
       "      <td>2</td>\n",
       "      <td>0.000026</td>\n",
       "    </tr>\n",
       "    <tr>\n",
       "      <th>0</th>\n",
       "      <td>A00000262KYZUE4J55XGL</td>\n",
       "      <td>1</td>\n",
       "      <td>0.000013</td>\n",
       "    </tr>\n",
       "  </tbody>\n",
       "</table>\n",
       "<p>4201696 rows × 3 columns</p>\n",
       "</div>"
      ],
      "text/plain": [
       "                       user_id  product_id  percentage\n",
       "4201695          AZZZY1W55XHZR           1    0.000013\n",
       "4201694          AZZZWXXUPZ1F3           1    0.000013\n",
       "4201693          AZZZSIK7NFFVP           1    0.000013\n",
       "4201692          AZZZRS1YZ8HVP           2    0.000026\n",
       "4201691          AZZZOVIBXHGDR           3    0.000038\n",
       "4201690          AZZZMSZI9LKE6           1    0.000013\n",
       "4201689          AZZZM2FO19RUO           1    0.000013\n",
       "4201688          AZZZJXM9GW3C5           1    0.000013\n",
       "4201687          AZZZEWADNFNUM           2    0.000026\n",
       "4201686          AZZZDSAJ757Z4           1    0.000013\n",
       "4201685          AZZZBMD2MDOQR           1    0.000013\n",
       "4201684          AZZZBHHLU1CMM           1    0.000013\n",
       "4201683          AZZZBEVIZYROM           1    0.000013\n",
       "4201682          AZZZ9NB3TEH8F           1    0.000013\n",
       "4201681          AZZZ3LGTCGUZF           1    0.000013\n",
       "4201680          AZZYYPNQ2ZYH6           1    0.000013\n",
       "4201679          AZZYYC8OX8ELM           2    0.000026\n",
       "4201678          AZZYXVW7BAJVD           1    0.000013\n",
       "4201677          AZZYWDOD33FFE           1    0.000013\n",
       "4201676          AZZYW8JCAHAQY           1    0.000013\n",
       "4201675          AZZYW4YOE1B6E          35    0.000447\n",
       "4201674          AZZYVKZGCY2MQ           1    0.000013\n",
       "4201673          AZZYUA6JI1MO0           2    0.000026\n",
       "4201672          AZZYTPFG6JF1K           1    0.000013\n",
       "4201671          AZZYQ6753ZHTK           1    0.000013\n",
       "4201670          AZZYO4XQYE89O           1    0.000013\n",
       "4201669          AZZYMQZHES0KT           1    0.000013\n",
       "4201668          AZZYKX2KZ0Q82           1    0.000013\n",
       "4201667          AZZYK2BT6EU8V           2    0.000026\n",
       "4201666          AZZYJH0XNZ896           1    0.000013\n",
       "...                        ...         ...         ...\n",
       "29       A00059641RDIAMDC7IJRZ           1    0.000013\n",
       "28       A00045341JXVKNK93M6JE           1    0.000013\n",
       "27        A0004478EF5NFPHLGCWG           1    0.000013\n",
       "26       A000428226SAAAIBK8I36           1    0.000013\n",
       "25       A00038802J7X43YTW44TD           2    0.000026\n",
       "24       A00037441I8XOQJSUWCAG           3    0.000038\n",
       "23       A00033481VZEEGYXEN32T           3    0.000038\n",
       "22        A00029825UMZ6N0ETLHY           1    0.000013\n",
       "21       A000294826HEMAY5L3K1H           1    0.000013\n",
       "20       A00029263J863WSR0TDRS           1    0.000013\n",
       "19       A00028781NF0U7YEN9U19           1    0.000013\n",
       "18       A00027561NC7JTXEP3EOD           1    0.000013\n",
       "17        A00027081JC8NE8X6TD5           1    0.000013\n",
       "16       A0002550196XWX0PEOZND           1    0.000013\n",
       "15        A0002032ZFQKDVHYKGWR           1    0.000013\n",
       "14        A0002012T7HVDB2EF4RH           1    0.000013\n",
       "13        A00019466UY2KR1IPXQN           1    0.000013\n",
       "12       A000187635I595IAVSQLH           2    0.000026\n",
       "11       A000186437REL8X2RW8UW           1    0.000013\n",
       "10       A00018041RRVMCICCAP79           2    0.000026\n",
       "9         A0001528BGUBOEVR6T5U           4    0.000051\n",
       "8         A00015228CUPGPF957DS           1    0.000013\n",
       "7        A00015222LZ55IJSVL5IX           1    0.000013\n",
       "6        A000145014WOTZJ5NSKOR           1    0.000013\n",
       "5        A00014061C2IZNE0YEILY           1    0.000013\n",
       "4         A00010809P09NUU6ZP6H           1    0.000013\n",
       "3        A00009661LC9LQPGKJ24G           1    0.000013\n",
       "2        A00009182QVLSWIGHLS1B           1    0.000013\n",
       "1        A000063614T1OE0BUSKUT           2    0.000026\n",
       "0        A00000262KYZUE4J55XGL           1    0.000013\n",
       "\n",
       "[4201696 rows x 3 columns]"
      ]
     },
     "execution_count": 15,
     "metadata": {},
     "output_type": "execute_result"
    }
   ],
   "source": [
    "#which user has bought how many products.\n",
    "user_grouped = df.groupby(['user_id']).agg({'product_id': 'count'}).reset_index()\n",
    "grouped_sum = user_grouped['product_id'].sum()\n",
    "user_grouped['percentage']  = user_grouped['product_id'].div(grouped_sum)*100\n",
    "user_grouped.sort_values(['user_id', 'product_id'], ascending = [0,1])"
   ]
  },
  {
   "cell_type": "code",
   "execution_count": null,
   "metadata": {
    "colab": {},
    "colab_type": "code",
    "id": "XzW2-p3ZrNEd"
   },
   "outputs": [],
   "source": []
  },
  {
   "cell_type": "markdown",
   "metadata": {
    "colab": {},
    "colab_type": "code",
    "id": "hx8WbP3poXww"
   },
   "source": [
    "### Take subset of dataset to make it less sparse/more dense. (For example, keep the users only who has given 50 or more number of ratings )"
   ]
  },
  {
   "cell_type": "code",
   "execution_count": 16,
   "metadata": {
    "colab": {},
    "colab_type": "code",
    "id": "xLnsnmY0Xnab"
   },
   "outputs": [],
   "source": [
    "df1 = df['user_id'].value_counts()"
   ]
  },
  {
   "cell_type": "code",
   "execution_count": 17,
   "metadata": {
    "colab": {},
    "colab_type": "code",
    "id": "c1o-cWW4Xnar"
   },
   "outputs": [],
   "source": [
    "df2 = df1[df1>150].index.tolist()"
   ]
  },
  {
   "cell_type": "code",
   "execution_count": 18,
   "metadata": {
    "colab": {},
    "colab_type": "code",
    "id": "DsYcnLh2Xnar"
   },
   "outputs": [],
   "source": [
    "df3 = df[df['user_id'].isin(df2)]"
   ]
  },
  {
   "cell_type": "code",
   "execution_count": 19,
   "metadata": {
    "colab": {
     "base_uri": "https://localhost:8080/",
     "height": 34
    },
    "colab_type": "code",
    "id": "96yWnEi4Xna7",
    "outputId": "b0dae861-5345-455e-a4f1-cc453cc45df4"
   },
   "outputs": [
    {
     "data": {
      "text/plain": [
       "(21810, 3)"
      ]
     },
     "execution_count": 19,
     "metadata": {},
     "output_type": "execute_result"
    }
   ],
   "source": [
    "df3.shape"
   ]
  },
  {
   "cell_type": "markdown",
   "metadata": {
    "colab": {},
    "colab_type": "code",
    "id": "9FIc-33eXna7"
   },
   "source": [
    "### collaberative filtering using Surprise package"
   ]
  },
  {
   "cell_type": "code",
   "execution_count": 20,
   "metadata": {
    "colab": {
     "base_uri": "https://localhost:8080/",
     "height": 316
    },
    "colab_type": "code",
    "id": "DqJ5vYs6Xna7",
    "outputId": "3d59f13e-99a9-459a-a421-37bc05f24fcc"
   },
   "outputs": [],
   "source": [
    "from surprise import Dataset,Reader\n",
    "reader = Reader(rating_scale=(1, 5))"
   ]
  },
  {
   "cell_type": "code",
   "execution_count": 21,
   "metadata": {
    "colab": {},
    "colab_type": "code",
    "id": "jQtmIgBiXnbK"
   },
   "outputs": [],
   "source": [
    "data = Dataset.load_from_df(df3, reader)"
   ]
  },
  {
   "cell_type": "code",
   "execution_count": 22,
   "metadata": {
    "colab": {},
    "colab_type": "code",
    "id": "U0Zd_QhbXnbK"
   },
   "outputs": [
    {
     "data": {
      "text/plain": [
       "<surprise.dataset.DatasetAutoFolds at 0x2a200ae41d0>"
      ]
     },
     "execution_count": 22,
     "metadata": {},
     "output_type": "execute_result"
    }
   ],
   "source": [
    "data"
   ]
  },
  {
   "cell_type": "code",
   "execution_count": 23,
   "metadata": {
    "colab": {},
    "colab_type": "code",
    "id": "eESnsqxXXnbK"
   },
   "outputs": [],
   "source": [
    "# Split data to train and test\n",
    "from surprise.model_selection import train_test_split\n",
    "trainset, testset = train_test_split(data, test_size=.25,random_state=123)"
   ]
  },
  {
   "cell_type": "code",
   "execution_count": 24,
   "metadata": {
    "colab": {},
    "colab_type": "code",
    "id": "7wwuq8I1XnbK"
   },
   "outputs": [
    {
     "data": {
      "text/plain": [
       "surprise.trainset.Trainset"
      ]
     },
     "execution_count": 24,
     "metadata": {},
     "output_type": "execute_result"
    }
   ],
   "source": [
    "type(trainset)"
   ]
  },
  {
   "cell_type": "code",
   "execution_count": 25,
   "metadata": {
    "colab": {},
    "colab_type": "code",
    "id": "vzHHADZ_XnbK"
   },
   "outputs": [
    {
     "data": {
      "text/plain": [
       "collections.defaultdict"
      ]
     },
     "execution_count": 25,
     "metadata": {},
     "output_type": "execute_result"
    }
   ],
   "source": [
    "user_records = trainset.ur\n",
    "type(user_records)"
   ]
  },
  {
   "cell_type": "code",
   "execution_count": 26,
   "metadata": {
    "colab": {},
    "colab_type": "code",
    "id": "_3llkfARXnba"
   },
   "outputs": [
    {
     "name": "stdout",
     "output_type": "stream",
     "text": [
      "0\n",
      "1\n",
      "2\n",
      "3\n",
      "4\n",
      "5\n",
      "6\n",
      "7\n",
      "8\n",
      "9\n",
      "10\n",
      "11\n",
      "12\n",
      "13\n",
      "14\n",
      "15\n",
      "16\n",
      "17\n",
      "18\n",
      "19\n",
      "20\n",
      "21\n",
      "22\n",
      "23\n",
      "24\n",
      "25\n",
      "26\n",
      "27\n",
      "28\n",
      "29\n",
      "30\n",
      "31\n",
      "32\n",
      "33\n",
      "34\n",
      "35\n",
      "36\n",
      "37\n",
      "38\n",
      "39\n",
      "40\n",
      "41\n",
      "42\n",
      "43\n",
      "44\n",
      "45\n",
      "46\n",
      "47\n",
      "48\n",
      "49\n",
      "50\n",
      "51\n",
      "52\n",
      "53\n",
      "54\n",
      "55\n",
      "56\n",
      "57\n",
      "58\n",
      "59\n",
      "60\n",
      "61\n",
      "62\n",
      "63\n",
      "64\n",
      "65\n",
      "66\n",
      "67\n",
      "68\n",
      "69\n",
      "70\n",
      "71\n",
      "72\n",
      "73\n",
      "74\n",
      "75\n",
      "76\n",
      "77\n",
      "78\n",
      "79\n",
      "80\n",
      "81\n",
      "82\n",
      "83\n",
      "84\n",
      "85\n",
      "86\n",
      "87\n",
      "88\n",
      "89\n",
      "90\n",
      "91\n",
      "92\n",
      "93\n",
      "94\n",
      "95\n",
      "96\n",
      "97\n"
     ]
    }
   ],
   "source": [
    "for keys in user_records.keys():\n",
    "    print(keys)"
   ]
  },
  {
   "cell_type": "code",
   "execution_count": 27,
   "metadata": {
    "colab": {},
    "colab_type": "code",
    "id": "NzcK5kPJXnba"
   },
   "outputs": [
    {
     "data": {
      "text/plain": [
       "[(0, 4.0),\n",
       " (81, 4.0),\n",
       " (195, 3.0),\n",
       " (278, 4.0),\n",
       " (306, 4.0),\n",
       " (445, 4.0),\n",
       " (501, 5.0),\n",
       " (897, 4.0),\n",
       " (957, 4.0),\n",
       " (1071, 3.0),\n",
       " (1363, 4.0),\n",
       " (1480, 4.0),\n",
       " (1530, 4.0),\n",
       " (1592, 4.0),\n",
       " (1691, 4.0),\n",
       " (1789, 3.0),\n",
       " (2013, 2.0),\n",
       " (2060, 3.0),\n",
       " (237, 4.0),\n",
       " (2958, 4.0),\n",
       " (457, 4.0),\n",
       " (3249, 4.0),\n",
       " (3319, 4.0),\n",
       " (3538, 4.0),\n",
       " (1621, 4.0),\n",
       " (3713, 4.0),\n",
       " (3842, 4.0),\n",
       " (654, 4.0),\n",
       " (3986, 4.0),\n",
       " (4003, 4.0),\n",
       " (4036, 4.0),\n",
       " (4153, 4.0),\n",
       " (3483, 5.0),\n",
       " (4247, 2.0),\n",
       " (4371, 5.0),\n",
       " (4394, 4.0),\n",
       " (4533, 3.0),\n",
       " (4573, 3.0),\n",
       " (4600, 3.0),\n",
       " (4657, 4.0),\n",
       " (4798, 3.0),\n",
       " (4825, 4.0),\n",
       " (4858, 4.0),\n",
       " (4873, 4.0),\n",
       " (5009, 4.0),\n",
       " (5111, 5.0),\n",
       " (5149, 4.0),\n",
       " (5168, 3.0),\n",
       " (5235, 4.0),\n",
       " (5271, 4.0),\n",
       " (5332, 4.0),\n",
       " (5495, 4.0),\n",
       " (5507, 4.0),\n",
       " (5778, 4.0),\n",
       " (4658, 2.0),\n",
       " (5935, 5.0),\n",
       " (5974, 5.0),\n",
       " (2433, 3.0),\n",
       " (6209, 4.0),\n",
       " (5630, 5.0),\n",
       " (6251, 5.0),\n",
       " (6350, 4.0),\n",
       " (6412, 4.0),\n",
       " (6604, 4.0),\n",
       " (2124, 4.0),\n",
       " (2903, 4.0),\n",
       " (6763, 5.0),\n",
       " (6994, 3.0),\n",
       " (4521, 4.0),\n",
       " (7083, 4.0),\n",
       " (7111, 4.0),\n",
       " (425, 4.0),\n",
       " (7258, 2.0),\n",
       " (7348, 4.0),\n",
       " (7459, 4.0),\n",
       " (7466, 4.0),\n",
       " (7691, 2.0),\n",
       " (7129, 4.0),\n",
       " (7761, 4.0),\n",
       " (7771, 4.0),\n",
       " (7775, 3.0),\n",
       " (7859, 3.0),\n",
       " (7871, 1.0),\n",
       " (7959, 2.0),\n",
       " (8022, 4.0),\n",
       " (27, 4.0),\n",
       " (8058, 4.0),\n",
       " (8128, 4.0),\n",
       " (6976, 4.0),\n",
       " (6165, 4.0),\n",
       " (8405, 4.0),\n",
       " (8793, 5.0),\n",
       " (9025, 4.0),\n",
       " (2734, 3.0),\n",
       " (8319, 4.0),\n",
       " (9430, 2.0),\n",
       " (585, 4.0),\n",
       " (8486, 3.0),\n",
       " (9698, 5.0),\n",
       " (9760, 4.0),\n",
       " (9858, 5.0),\n",
       " (9877, 4.0),\n",
       " (9899, 4.0),\n",
       " (9947, 4.0),\n",
       " (1338, 4.0),\n",
       " (10057, 4.0),\n",
       " (4179, 3.0),\n",
       " (10273, 4.0),\n",
       " (7321, 4.0),\n",
       " (10729, 4.0),\n",
       " (9786, 4.0),\n",
       " (10763, 4.0),\n",
       " (10767, 4.0),\n",
       " (10772, 4.0),\n",
       " (1596, 4.0)]"
      ]
     },
     "execution_count": 27,
     "metadata": {},
     "output_type": "execute_result"
    }
   ],
   "source": [
    "user_records[0]"
   ]
  },
  {
   "cell_type": "markdown",
   "metadata": {},
   "source": [
    "### KNN Model"
   ]
  },
  {
   "cell_type": "code",
   "execution_count": 28,
   "metadata": {
    "colab": {},
    "colab_type": "code",
    "id": "XFzAo8lGXnba"
   },
   "outputs": [],
   "source": [
    "from surprise import KNNWithMeans\n",
    "from surprise import accuracy"
   ]
  },
  {
   "cell_type": "code",
   "execution_count": 29,
   "metadata": {
    "colab": {},
    "colab_type": "code",
    "id": "rGqUpdbpXnbq"
   },
   "outputs": [
    {
     "name": "stdout",
     "output_type": "stream",
     "text": [
      "Computing the pearson similarity matrix...\n",
      "Done computing similarity matrix.\n"
     ]
    },
    {
     "data": {
      "text/plain": [
       "<surprise.prediction_algorithms.knns.KNNWithMeans at 0x2a202e51e10>"
      ]
     },
     "execution_count": 29,
     "metadata": {},
     "output_type": "execute_result"
    }
   ],
   "source": [
    "algo = KNNWithMeans(k=50, sim_options={'name': 'pearson', 'user_based': False})\n",
    "algo.fit(trainset)"
   ]
  },
  {
   "cell_type": "code",
   "execution_count": 30,
   "metadata": {
    "colab": {},
    "colab_type": "code",
    "id": "ZYFdTJc4Xnbq"
   },
   "outputs": [
    {
     "data": {
      "text/plain": [
       "5453"
      ]
     },
     "execution_count": 30,
     "metadata": {},
     "output_type": "execute_result"
    }
   ],
   "source": [
    "len(testset)"
   ]
  },
  {
   "cell_type": "code",
   "execution_count": 31,
   "metadata": {
    "colab": {},
    "colab_type": "code",
    "id": "n9BBHWfuXnbq"
   },
   "outputs": [
    {
     "data": {
      "text/plain": [
       "[('A1ODOGXEYECQQ8', 'B008R7EWEI', 5.0),\n",
       " ('ARBKYIVNYWK3C', 'B000E120E4', 2.0),\n",
       " ('A1J75JJ0Q2OEJN', 'B006MBP7T0', 4.0),\n",
       " ('ABQWMANK4AR63', 'B00AR95ESC', 5.0),\n",
       " ('A250AXLRBVYKB4', 'B0008IV3XC', 5.0)]"
      ]
     },
     "execution_count": 31,
     "metadata": {},
     "output_type": "execute_result"
    }
   ],
   "source": [
    "testset[0:5]"
   ]
  },
  {
   "cell_type": "code",
   "execution_count": 32,
   "metadata": {
    "colab": {},
    "colab_type": "code",
    "id": "Zks2bZYvXnbq"
   },
   "outputs": [
    {
     "name": "stdout",
     "output_type": "stream",
     "text": [
      "RMSE: 1.0276\n"
     ]
    },
    {
     "data": {
      "text/plain": [
       "1.0276270492948614"
      ]
     },
     "execution_count": 32,
     "metadata": {},
     "output_type": "execute_result"
    }
   ],
   "source": [
    "# Evalute on test set\n",
    "test_pred = algo.test(testset)\n",
    "\n",
    "# compute RMSE\n",
    "accuracy.rmse(test_pred)"
   ]
  },
  {
   "cell_type": "code",
   "execution_count": 33,
   "metadata": {
    "colab": {},
    "colab_type": "code",
    "id": "h9hDcWHSXnb5"
   },
   "outputs": [
    {
     "data": {
      "text/plain": [
       "Prediction(uid='AIJQU979J6UFY', iid='B00HR7FWUC', r_ui=4.0, est=4.314238552301767, details={'was_impossible': True, 'reason': 'User and/or item is unkown.'})"
      ]
     },
     "execution_count": 33,
     "metadata": {},
     "output_type": "execute_result"
    }
   ],
   "source": [
    "test_pred[12]"
   ]
  },
  {
   "cell_type": "code",
   "execution_count": 34,
   "metadata": {
    "colab": {},
    "colab_type": "code",
    "id": "xoekzzZBXnb5"
   },
   "outputs": [
    {
     "data": {
      "text/html": [
       "<div>\n",
       "<style scoped>\n",
       "    .dataframe tbody tr th:only-of-type {\n",
       "        vertical-align: middle;\n",
       "    }\n",
       "\n",
       "    .dataframe tbody tr th {\n",
       "        vertical-align: top;\n",
       "    }\n",
       "\n",
       "    .dataframe thead th {\n",
       "        text-align: right;\n",
       "    }\n",
       "</style>\n",
       "<table border=\"1\" class=\"dataframe\">\n",
       "  <thead>\n",
       "    <tr style=\"text-align: right;\">\n",
       "      <th></th>\n",
       "      <th>uid</th>\n",
       "      <th>iid</th>\n",
       "      <th>r_ui</th>\n",
       "      <th>est</th>\n",
       "      <th>details</th>\n",
       "      <th>was_impossible</th>\n",
       "    </tr>\n",
       "  </thead>\n",
       "  <tbody>\n",
       "    <tr>\n",
       "      <th>1</th>\n",
       "      <td>ARBKYIVNYWK3C</td>\n",
       "      <td>B000E120E4</td>\n",
       "      <td>2.0</td>\n",
       "      <td>4.314239</td>\n",
       "      <td>{'was_impossible': True, 'reason': 'User and/o...</td>\n",
       "      <td>True</td>\n",
       "    </tr>\n",
       "    <tr>\n",
       "      <th>4</th>\n",
       "      <td>A250AXLRBVYKB4</td>\n",
       "      <td>B0008IV3XC</td>\n",
       "      <td>5.0</td>\n",
       "      <td>4.314239</td>\n",
       "      <td>{'was_impossible': True, 'reason': 'User and/o...</td>\n",
       "      <td>True</td>\n",
       "    </tr>\n",
       "    <tr>\n",
       "      <th>5</th>\n",
       "      <td>A1RPTVW5VEOSI</td>\n",
       "      <td>B00793MIGK</td>\n",
       "      <td>4.0</td>\n",
       "      <td>4.314239</td>\n",
       "      <td>{'was_impossible': True, 'reason': 'User and/o...</td>\n",
       "      <td>True</td>\n",
       "    </tr>\n",
       "    <tr>\n",
       "      <th>6</th>\n",
       "      <td>A5JLAU2ARJ0BO</td>\n",
       "      <td>B0000659UB</td>\n",
       "      <td>5.0</td>\n",
       "      <td>4.314239</td>\n",
       "      <td>{'was_impossible': True, 'reason': 'User and/o...</td>\n",
       "      <td>True</td>\n",
       "    </tr>\n",
       "    <tr>\n",
       "      <th>7</th>\n",
       "      <td>A19W47CXJJP1MI</td>\n",
       "      <td>B00BIK06JG</td>\n",
       "      <td>5.0</td>\n",
       "      <td>4.314239</td>\n",
       "      <td>{'was_impossible': True, 'reason': 'User and/o...</td>\n",
       "      <td>True</td>\n",
       "    </tr>\n",
       "  </tbody>\n",
       "</table>\n",
       "</div>"
      ],
      "text/plain": [
       "              uid         iid  r_ui       est  \\\n",
       "1   ARBKYIVNYWK3C  B000E120E4   2.0  4.314239   \n",
       "4  A250AXLRBVYKB4  B0008IV3XC   5.0  4.314239   \n",
       "5   A1RPTVW5VEOSI  B00793MIGK   4.0  4.314239   \n",
       "6   A5JLAU2ARJ0BO  B0000659UB   5.0  4.314239   \n",
       "7  A19W47CXJJP1MI  B00BIK06JG   5.0  4.314239   \n",
       "\n",
       "                                             details  was_impossible  \n",
       "1  {'was_impossible': True, 'reason': 'User and/o...            True  \n",
       "4  {'was_impossible': True, 'reason': 'User and/o...            True  \n",
       "5  {'was_impossible': True, 'reason': 'User and/o...            True  \n",
       "6  {'was_impossible': True, 'reason': 'User and/o...            True  \n",
       "7  {'was_impossible': True, 'reason': 'User and/o...            True  "
      ]
     },
     "execution_count": 34,
     "metadata": {},
     "output_type": "execute_result"
    }
   ],
   "source": [
    "# convert results to dataframe\n",
    "test_pred_df = pd.DataFrame(test_pred)\n",
    "test_pred_df[\"was_impossible\"] = [x[\"was_impossible\"] for x in test_pred_df[\"details\"]]\n",
    "test_pred_df.loc[test_pred_df.was_impossible].head(5)"
   ]
  },
  {
   "cell_type": "code",
   "execution_count": 35,
   "metadata": {
    "colab": {},
    "colab_type": "code",
    "id": "jrtOsYuCXnb5"
   },
   "outputs": [],
   "source": [
    "#generating top 10 recommendations"
   ]
  },
  {
   "cell_type": "code",
   "execution_count": 36,
   "metadata": {
    "colab": {},
    "colab_type": "code",
    "id": "Dxd6S1TfXncK"
   },
   "outputs": [],
   "source": [
    "testset_new = trainset.build_anti_testset()\n",
    "len(testset_new)\n",
    "testset_new[0:5]\n",
    "predictions = algo.test(testset_new[0:10000])\n",
    "predictions_df = pd.DataFrame([[x.uid,x.est] for x in predictions])\n",
    "predictions_df.columns = [\"userId\",\"est_rating\"]\n",
    "predictions_df.sort_values(by = [\"userId\", \"est_rating\"],ascending=False,inplace=True)\n",
    "predictions_df.head()\n",
    "top_10_recos = predictions_df.groupby(\"userId\").head(10).reset_index(drop=True)"
   ]
  },
  {
   "cell_type": "code",
   "execution_count": 37,
   "metadata": {
    "colab": {},
    "colab_type": "code",
    "id": "btwYThwpXncO"
   },
   "outputs": [
    {
     "data": {
      "text/html": [
       "<div>\n",
       "<style scoped>\n",
       "    .dataframe tbody tr th:only-of-type {\n",
       "        vertical-align: middle;\n",
       "    }\n",
       "\n",
       "    .dataframe tbody tr th {\n",
       "        vertical-align: top;\n",
       "    }\n",
       "\n",
       "    .dataframe thead th {\n",
       "        text-align: right;\n",
       "    }\n",
       "</style>\n",
       "<table border=\"1\" class=\"dataframe\">\n",
       "  <thead>\n",
       "    <tr style=\"text-align: right;\">\n",
       "      <th></th>\n",
       "      <th>userId</th>\n",
       "      <th>est_rating</th>\n",
       "    </tr>\n",
       "  </thead>\n",
       "  <tbody>\n",
       "    <tr>\n",
       "      <th>0</th>\n",
       "      <td>A3W4D8XOGLWUN5</td>\n",
       "      <td>5.0</td>\n",
       "    </tr>\n",
       "    <tr>\n",
       "      <th>1</th>\n",
       "      <td>A3W4D8XOGLWUN5</td>\n",
       "      <td>5.0</td>\n",
       "    </tr>\n",
       "    <tr>\n",
       "      <th>2</th>\n",
       "      <td>A3W4D8XOGLWUN5</td>\n",
       "      <td>5.0</td>\n",
       "    </tr>\n",
       "    <tr>\n",
       "      <th>3</th>\n",
       "      <td>A3W4D8XOGLWUN5</td>\n",
       "      <td>5.0</td>\n",
       "    </tr>\n",
       "    <tr>\n",
       "      <th>4</th>\n",
       "      <td>A3W4D8XOGLWUN5</td>\n",
       "      <td>5.0</td>\n",
       "    </tr>\n",
       "    <tr>\n",
       "      <th>5</th>\n",
       "      <td>A3W4D8XOGLWUN5</td>\n",
       "      <td>5.0</td>\n",
       "    </tr>\n",
       "    <tr>\n",
       "      <th>6</th>\n",
       "      <td>A3W4D8XOGLWUN5</td>\n",
       "      <td>5.0</td>\n",
       "    </tr>\n",
       "    <tr>\n",
       "      <th>7</th>\n",
       "      <td>A3W4D8XOGLWUN5</td>\n",
       "      <td>5.0</td>\n",
       "    </tr>\n",
       "    <tr>\n",
       "      <th>8</th>\n",
       "      <td>A3W4D8XOGLWUN5</td>\n",
       "      <td>5.0</td>\n",
       "    </tr>\n",
       "    <tr>\n",
       "      <th>9</th>\n",
       "      <td>A3W4D8XOGLWUN5</td>\n",
       "      <td>5.0</td>\n",
       "    </tr>\n",
       "  </tbody>\n",
       "</table>\n",
       "</div>"
      ],
      "text/plain": [
       "           userId  est_rating\n",
       "0  A3W4D8XOGLWUN5         5.0\n",
       "1  A3W4D8XOGLWUN5         5.0\n",
       "2  A3W4D8XOGLWUN5         5.0\n",
       "3  A3W4D8XOGLWUN5         5.0\n",
       "4  A3W4D8XOGLWUN5         5.0\n",
       "5  A3W4D8XOGLWUN5         5.0\n",
       "6  A3W4D8XOGLWUN5         5.0\n",
       "7  A3W4D8XOGLWUN5         5.0\n",
       "8  A3W4D8XOGLWUN5         5.0\n",
       "9  A3W4D8XOGLWUN5         5.0"
      ]
     },
     "execution_count": 37,
     "metadata": {},
     "output_type": "execute_result"
    }
   ],
   "source": [
    "top_10_recos"
   ]
  },
  {
   "cell_type": "code",
   "execution_count": null,
   "metadata": {
    "colab": {},
    "colab_type": "code",
    "id": "htFXrSdmXncR"
   },
   "outputs": [],
   "source": []
  },
  {
   "cell_type": "code",
   "execution_count": null,
   "metadata": {
    "colab": {},
    "colab_type": "code",
    "id": "e1avMdxkXncY"
   },
   "outputs": [],
   "source": []
  },
  {
   "cell_type": "markdown",
   "metadata": {
    "colab": {},
    "colab_type": "code",
    "id": "JzWIikaIXnce"
   },
   "source": [
    "### SVD based approach"
   ]
  },
  {
   "cell_type": "code",
   "execution_count": 39,
   "metadata": {
    "colab": {},
    "colab_type": "code",
    "id": "_Gr4B5ohXnci"
   },
   "outputs": [],
   "source": [
    "from surprise import Dataset,Reader\n",
    "reader = Reader(rating_scale=(1, 5))\n",
    "data = Dataset.load_from_df(df3, reader)"
   ]
  },
  {
   "cell_type": "code",
   "execution_count": 40,
   "metadata": {
    "colab": {},
    "colab_type": "code",
    "id": "W2-YNrwqXncs"
   },
   "outputs": [],
   "source": [
    "# Split data to train and test\n",
    "from surprise.model_selection import train_test_split\n",
    "trainset, testset = train_test_split(data, test_size=.25,random_state=123)"
   ]
  },
  {
   "cell_type": "code",
   "execution_count": 41,
   "metadata": {
    "colab": {},
    "colab_type": "code",
    "id": "dI9BkuXgXnc3"
   },
   "outputs": [],
   "source": [
    "from surprise import SVD\n",
    "from surprise import accuracy"
   ]
  },
  {
   "cell_type": "code",
   "execution_count": 42,
   "metadata": {
    "colab": {},
    "colab_type": "code",
    "id": "A5YS8Cv8Xnc8"
   },
   "outputs": [
    {
     "data": {
      "text/plain": [
       "<surprise.prediction_algorithms.matrix_factorization.SVD at 0x2a22e5428d0>"
      ]
     },
     "execution_count": 42,
     "metadata": {},
     "output_type": "execute_result"
    }
   ],
   "source": [
    "svd_model = SVD(n_factors=50,biased=False)\n",
    "svd_model.fit(trainset)"
   ]
  },
  {
   "cell_type": "code",
   "execution_count": 43,
   "metadata": {
    "colab": {},
    "colab_type": "code",
    "id": "cjvaep1VXndF"
   },
   "outputs": [
    {
     "name": "stdout",
     "output_type": "stream",
     "text": [
      "RMSE: 2.0790\n"
     ]
    },
    {
     "data": {
      "text/plain": [
       "2.0789737383505895"
      ]
     },
     "execution_count": 43,
     "metadata": {},
     "output_type": "execute_result"
    }
   ],
   "source": [
    "test_pred = svd_model.test(testset)\n",
    "accuracy.rmse(test_pred)"
   ]
  },
  {
   "cell_type": "code",
   "execution_count": 44,
   "metadata": {
    "colab": {},
    "colab_type": "code",
    "id": "YSRQXiouXndJ"
   },
   "outputs": [
    {
     "data": {
      "text/plain": [
       "(10837, 50)"
      ]
     },
     "execution_count": 44,
     "metadata": {},
     "output_type": "execute_result"
    }
   ],
   "source": [
    "user_factors = svd_model.pu\n",
    "user_factors.shape\n",
    "item_factors = svd_model.qi\n",
    "item_factors.shape"
   ]
  },
  {
   "cell_type": "code",
   "execution_count": 45,
   "metadata": {
    "colab": {},
    "colab_type": "code",
    "id": "7AXo7w3XXndV"
   },
   "outputs": [],
   "source": [
    "pred = np.dot(user_factors,np.transpose(item_factors))"
   ]
  },
  {
   "cell_type": "code",
   "execution_count": 48,
   "metadata": {
    "colab": {},
    "colab_type": "code",
    "id": "4XTE2ywDXndc"
   },
   "outputs": [
    {
     "data": {
      "text/plain": [
       "array([-0.05328144,  0.28858021,  1.4766942 , -0.44389751,  0.00832313])"
      ]
     },
     "execution_count": 48,
     "metadata": {},
     "output_type": "execute_result"
    }
   ],
   "source": [
    "pred[95,0:5]"
   ]
  },
  {
   "cell_type": "code",
   "execution_count": 50,
   "metadata": {
    "colab": {},
    "colab_type": "code",
    "id": "zLyobCT8Xndi"
   },
   "outputs": [
    {
     "data": {
      "text/plain": [
       "Prediction(uid='A3NHUQ33CFH3VM', iid='B00KC7VY3S', r_ui=None, est=1, details={'was_impossible': False})"
      ]
     },
     "execution_count": 50,
     "metadata": {},
     "output_type": "execute_result"
    }
   ],
   "source": [
    "svd_model.predict(uid = trainset.to_raw_uid(95), iid = trainset.to_raw_iid(0))"
   ]
  },
  {
   "cell_type": "code",
   "execution_count": null,
   "metadata": {
    "colab": {},
    "colab_type": "code",
    "id": "YK2xxB2WXndp"
   },
   "outputs": [],
   "source": [
    "#SVD parameter tuning"
   ]
  },
  {
   "cell_type": "code",
   "execution_count": null,
   "metadata": {
    "colab": {},
    "colab_type": "code",
    "id": "8fO0-FkxXndw"
   },
   "outputs": [],
   "source": [
    "from surprise.model_selection import GridSearchCV\n",
    "param_grid = {'n_factors' : [5,10,15], \"reg_all\":[0.01,0.02]}\n",
    "gs = GridSearchCV(SVD, param_grid, measures=['rmse'], cv=3,refit = True)"
   ]
  },
  {
   "cell_type": "code",
   "execution_count": null,
   "metadata": {
    "colab": {},
    "colab_type": "code",
    "id": "NAk8cpl3Xnd4"
   },
   "outputs": [],
   "source": [
    "gs.fit(data)"
   ]
  },
  {
   "cell_type": "code",
   "execution_count": null,
   "metadata": {
    "colab": {},
    "colab_type": "code",
    "id": "jBUuLTQuXnd7"
   },
   "outputs": [],
   "source": [
    "gs.param_combinations"
   ]
  },
  {
   "cell_type": "code",
   "execution_count": null,
   "metadata": {
    "colab": {},
    "colab_type": "code",
    "id": "h17bz8ahXnd-"
   },
   "outputs": [],
   "source": [
    "gs.best_params"
   ]
  },
  {
   "cell_type": "code",
   "execution_count": null,
   "metadata": {
    "colab": {},
    "colab_type": "code",
    "id": "44EZlBh-XneB"
   },
   "outputs": [],
   "source": [
    "gs.test(testset)"
   ]
  },
  {
   "cell_type": "markdown",
   "metadata": {
    "colab": {},
    "colab_type": "code",
    "id": "ECajpNhzXneG"
   },
   "source": [
    "### popularity Recommender model"
   ]
  },
  {
   "cell_type": "code",
   "execution_count": 51,
   "metadata": {},
   "outputs": [],
   "source": [
    "import time\n",
    "from sklearn.externals import joblib\n",
    "import Recommenders as Recommenders\n",
    "import Evaluation as Evaluation"
   ]
  },
  {
   "cell_type": "markdown",
   "metadata": {},
   "source": [
    "##### importing the class REcommenders and evalution which is submitted along with this file"
   ]
  },
  {
   "cell_type": "code",
   "execution_count": 52,
   "metadata": {
    "colab": {
     "base_uri": "https://localhost:8080/",
     "height": 204
    },
    "colab_type": "code",
    "id": "oQf2I3oMXneI",
    "outputId": "efa1bdda-3d90-4e47-938a-716344e23977"
   },
   "outputs": [
    {
     "data": {
      "text/html": [
       "<div>\n",
       "<style scoped>\n",
       "    .dataframe tbody tr th:only-of-type {\n",
       "        vertical-align: middle;\n",
       "    }\n",
       "\n",
       "    .dataframe tbody tr th {\n",
       "        vertical-align: top;\n",
       "    }\n",
       "\n",
       "    .dataframe thead th {\n",
       "        text-align: right;\n",
       "    }\n",
       "</style>\n",
       "<table border=\"1\" class=\"dataframe\">\n",
       "  <thead>\n",
       "    <tr style=\"text-align: right;\">\n",
       "      <th></th>\n",
       "      <th>user_id</th>\n",
       "      <th>product_id</th>\n",
       "      <th>ratings</th>\n",
       "    </tr>\n",
       "  </thead>\n",
       "  <tbody>\n",
       "    <tr>\n",
       "      <th>178</th>\n",
       "      <td>A17HMM1M7T9PJ1</td>\n",
       "      <td>0970407998</td>\n",
       "      <td>4.0</td>\n",
       "    </tr>\n",
       "    <tr>\n",
       "      <th>631</th>\n",
       "      <td>A3TAS1AG6FMBQW</td>\n",
       "      <td>0972683275</td>\n",
       "      <td>5.0</td>\n",
       "    </tr>\n",
       "    <tr>\n",
       "      <th>2162</th>\n",
       "      <td>A5JLAU2ARJ0BO</td>\n",
       "      <td>1400532655</td>\n",
       "      <td>1.0</td>\n",
       "    </tr>\n",
       "    <tr>\n",
       "      <th>3383</th>\n",
       "      <td>A3PD8JD9L4WEII</td>\n",
       "      <td>1400699169</td>\n",
       "      <td>5.0</td>\n",
       "    </tr>\n",
       "    <tr>\n",
       "      <th>4495</th>\n",
       "      <td>A1ZU55TM45Y2R8</td>\n",
       "      <td>8862936826</td>\n",
       "      <td>2.0</td>\n",
       "    </tr>\n",
       "  </tbody>\n",
       "</table>\n",
       "</div>"
      ],
      "text/plain": [
       "             user_id  product_id  ratings\n",
       "178   A17HMM1M7T9PJ1  0970407998      4.0\n",
       "631   A3TAS1AG6FMBQW  0972683275      5.0\n",
       "2162   A5JLAU2ARJ0BO  1400532655      1.0\n",
       "3383  A3PD8JD9L4WEII  1400699169      5.0\n",
       "4495  A1ZU55TM45Y2R8  8862936826      2.0"
      ]
     },
     "execution_count": 52,
     "metadata": {},
     "output_type": "execute_result"
    }
   ],
   "source": [
    "df3.head()"
   ]
  },
  {
   "cell_type": "code",
   "execution_count": 53,
   "metadata": {
    "colab": {
     "base_uri": "https://localhost:8080/",
     "height": 34
    },
    "colab_type": "code",
    "id": "oav0GfO8XneS",
    "outputId": "8224e0b3-345a-41da-90e1-906f1d7f32c0"
   },
   "outputs": [
    {
     "data": {
      "text/plain": [
       "(21810, 3)"
      ]
     },
     "execution_count": 53,
     "metadata": {},
     "output_type": "execute_result"
    }
   ],
   "source": [
    "df3.shape"
   ]
  },
  {
   "cell_type": "code",
   "execution_count": 54,
   "metadata": {},
   "outputs": [],
   "source": [
    "df3 = df3.drop_duplicates()"
   ]
  },
  {
   "cell_type": "code",
   "execution_count": 55,
   "metadata": {
    "colab": {
     "base_uri": "https://localhost:8080/",
     "height": 34
    },
    "colab_type": "code",
    "id": "O4jgyeHoXnea",
    "outputId": "10f64e8d-ec41-4fd0-d9e7-fd7aa32ac563"
   },
   "outputs": [
    {
     "data": {
      "text/plain": [
       "98"
      ]
     },
     "execution_count": 55,
     "metadata": {},
     "output_type": "execute_result"
    }
   ],
   "source": [
    "users = df3['user_id'].unique()\n",
    "len(users)"
   ]
  },
  {
   "cell_type": "code",
   "execution_count": 56,
   "metadata": {
    "colab": {
     "base_uri": "https://localhost:8080/",
     "height": 34
    },
    "colab_type": "code",
    "id": "3FA3O1O4Xned",
    "outputId": "c926b0bd-a598-4e3b-f6fb-f613021f7f4d"
   },
   "outputs": [
    {
     "data": {
      "text/plain": [
       "13405"
      ]
     },
     "execution_count": 56,
     "metadata": {},
     "output_type": "execute_result"
    }
   ],
   "source": [
    "items = df3['product_id'].unique()\n",
    "len(items)"
   ]
  },
  {
   "cell_type": "code",
   "execution_count": 57,
   "metadata": {
    "colab": {},
    "colab_type": "code",
    "id": "i_9N3EXBXnef"
   },
   "outputs": [],
   "source": [
    "from sklearn.model_selection import train_test_split\n",
    "train_data, test_data = train_test_split(df3, test_size = 0.20, random_state=0)"
   ]
  },
  {
   "cell_type": "code",
   "execution_count": 58,
   "metadata": {
    "colab": {},
    "colab_type": "code",
    "id": "wQIQC8KIXnel"
   },
   "outputs": [],
   "source": [
    "pr =  Recommenders.popularity_recommender_py()\n",
    "pr.create(train_data, 'user_id', 'product_id')\n"
   ]
  },
  {
   "cell_type": "code",
   "execution_count": 59,
   "metadata": {
    "colab": {
     "base_uri": "https://localhost:8080/",
     "height": 514
    },
    "colab_type": "code",
    "id": "3gON7ROvXnen",
    "outputId": "b4c7f7e2-a9bb-401a-e203-6457ccc7e553"
   },
   "outputs": [
    {
     "data": {
      "text/html": [
       "<div>\n",
       "<style scoped>\n",
       "    .dataframe tbody tr th:only-of-type {\n",
       "        vertical-align: middle;\n",
       "    }\n",
       "\n",
       "    .dataframe tbody tr th {\n",
       "        vertical-align: top;\n",
       "    }\n",
       "\n",
       "    .dataframe thead th {\n",
       "        text-align: right;\n",
       "    }\n",
       "</style>\n",
       "<table border=\"1\" class=\"dataframe\">\n",
       "  <thead>\n",
       "    <tr style=\"text-align: right;\">\n",
       "      <th></th>\n",
       "      <th>user_id</th>\n",
       "      <th>product_id</th>\n",
       "      <th>score</th>\n",
       "      <th>Rank</th>\n",
       "    </tr>\n",
       "  </thead>\n",
       "  <tbody>\n",
       "    <tr>\n",
       "      <th>6124</th>\n",
       "      <td>A1VQHH85U7PX0</td>\n",
       "      <td>B003ES5ZUU</td>\n",
       "      <td>25</td>\n",
       "      <td>1.0</td>\n",
       "    </tr>\n",
       "    <tr>\n",
       "      <th>6903</th>\n",
       "      <td>A1VQHH85U7PX0</td>\n",
       "      <td>B004CLYEDC</td>\n",
       "      <td>23</td>\n",
       "      <td>2.0</td>\n",
       "    </tr>\n",
       "    <tr>\n",
       "      <th>8843</th>\n",
       "      <td>A1VQHH85U7PX0</td>\n",
       "      <td>B00829TIEK</td>\n",
       "      <td>21</td>\n",
       "      <td>3.0</td>\n",
       "    </tr>\n",
       "    <tr>\n",
       "      <th>6905</th>\n",
       "      <td>A1VQHH85U7PX0</td>\n",
       "      <td>B004CLYEFK</td>\n",
       "      <td>19</td>\n",
       "      <td>4.0</td>\n",
       "    </tr>\n",
       "    <tr>\n",
       "      <th>8847</th>\n",
       "      <td>A1VQHH85U7PX0</td>\n",
       "      <td>B0082E9K7U</td>\n",
       "      <td>19</td>\n",
       "      <td>5.0</td>\n",
       "    </tr>\n",
       "    <tr>\n",
       "      <th>8901</th>\n",
       "      <td>A1VQHH85U7PX0</td>\n",
       "      <td>B0088CJT4U</td>\n",
       "      <td>19</td>\n",
       "      <td>6.0</td>\n",
       "    </tr>\n",
       "    <tr>\n",
       "      <th>9916</th>\n",
       "      <td>A1VQHH85U7PX0</td>\n",
       "      <td>B00BOHNYTW</td>\n",
       "      <td>19</td>\n",
       "      <td>7.0</td>\n",
       "    </tr>\n",
       "    <tr>\n",
       "      <th>5516</th>\n",
       "      <td>A1VQHH85U7PX0</td>\n",
       "      <td>B002R5AM7C</td>\n",
       "      <td>18</td>\n",
       "      <td>8.0</td>\n",
       "    </tr>\n",
       "    <tr>\n",
       "      <th>6904</th>\n",
       "      <td>A1VQHH85U7PX0</td>\n",
       "      <td>B004CLYEE6</td>\n",
       "      <td>18</td>\n",
       "      <td>9.0</td>\n",
       "    </tr>\n",
       "    <tr>\n",
       "      <th>2675</th>\n",
       "      <td>A1VQHH85U7PX0</td>\n",
       "      <td>B000JMJWV2</td>\n",
       "      <td>17</td>\n",
       "      <td>10.0</td>\n",
       "    </tr>\n",
       "  </tbody>\n",
       "</table>\n",
       "</div>"
      ],
      "text/plain": [
       "            user_id  product_id  score  Rank\n",
       "6124  A1VQHH85U7PX0  B003ES5ZUU     25   1.0\n",
       "6903  A1VQHH85U7PX0  B004CLYEDC     23   2.0\n",
       "8843  A1VQHH85U7PX0  B00829TIEK     21   3.0\n",
       "6905  A1VQHH85U7PX0  B004CLYEFK     19   4.0\n",
       "8847  A1VQHH85U7PX0  B0082E9K7U     19   5.0\n",
       "8901  A1VQHH85U7PX0  B0088CJT4U     19   6.0\n",
       "9916  A1VQHH85U7PX0  B00BOHNYTW     19   7.0\n",
       "5516  A1VQHH85U7PX0  B002R5AM7C     18   8.0\n",
       "6904  A1VQHH85U7PX0  B004CLYEE6     18   9.0\n",
       "2675  A1VQHH85U7PX0  B000JMJWV2     17  10.0"
      ]
     },
     "execution_count": 59,
     "metadata": {},
     "output_type": "execute_result"
    }
   ],
   "source": [
    "pr.recommend(users[5])"
   ]
  },
  {
   "cell_type": "markdown",
   "metadata": {
    "colab": {},
    "colab_type": "code",
    "id": "yh8VrVjD5Fi1"
   },
   "source": [
    "### item similarity recommender class"
   ]
  },
  {
   "cell_type": "code",
   "execution_count": 101,
   "metadata": {
    "colab": {
     "base_uri": "https://localhost:8080/",
     "height": 514
    },
    "colab_type": "code",
    "id": "hwZvMkxQ366a",
    "outputId": "d0a0d70e-9702-48e9-9d99-f9894952c498"
   },
   "outputs": [
    {
     "data": {
      "text/html": [
       "<div>\n",
       "<style scoped>\n",
       "    .dataframe tbody tr th:only-of-type {\n",
       "        vertical-align: middle;\n",
       "    }\n",
       "\n",
       "    .dataframe tbody tr th {\n",
       "        vertical-align: top;\n",
       "    }\n",
       "\n",
       "    .dataframe thead th {\n",
       "        text-align: right;\n",
       "    }\n",
       "</style>\n",
       "<table border=\"1\" class=\"dataframe\">\n",
       "  <thead>\n",
       "    <tr style=\"text-align: right;\">\n",
       "      <th></th>\n",
       "      <th>user_id</th>\n",
       "      <th>product_id</th>\n",
       "      <th>score</th>\n",
       "      <th>Rank</th>\n",
       "    </tr>\n",
       "  </thead>\n",
       "  <tbody>\n",
       "    <tr>\n",
       "      <th>6124</th>\n",
       "      <td>A34BZM6S9L7QI4</td>\n",
       "      <td>B003ES5ZUU</td>\n",
       "      <td>25</td>\n",
       "      <td>1.0</td>\n",
       "    </tr>\n",
       "    <tr>\n",
       "      <th>6903</th>\n",
       "      <td>A34BZM6S9L7QI4</td>\n",
       "      <td>B004CLYEDC</td>\n",
       "      <td>23</td>\n",
       "      <td>2.0</td>\n",
       "    </tr>\n",
       "    <tr>\n",
       "      <th>8843</th>\n",
       "      <td>A34BZM6S9L7QI4</td>\n",
       "      <td>B00829TIEK</td>\n",
       "      <td>21</td>\n",
       "      <td>3.0</td>\n",
       "    </tr>\n",
       "    <tr>\n",
       "      <th>6905</th>\n",
       "      <td>A34BZM6S9L7QI4</td>\n",
       "      <td>B004CLYEFK</td>\n",
       "      <td>19</td>\n",
       "      <td>4.0</td>\n",
       "    </tr>\n",
       "    <tr>\n",
       "      <th>8847</th>\n",
       "      <td>A34BZM6S9L7QI4</td>\n",
       "      <td>B0082E9K7U</td>\n",
       "      <td>19</td>\n",
       "      <td>5.0</td>\n",
       "    </tr>\n",
       "    <tr>\n",
       "      <th>8901</th>\n",
       "      <td>A34BZM6S9L7QI4</td>\n",
       "      <td>B0088CJT4U</td>\n",
       "      <td>19</td>\n",
       "      <td>6.0</td>\n",
       "    </tr>\n",
       "    <tr>\n",
       "      <th>9916</th>\n",
       "      <td>A34BZM6S9L7QI4</td>\n",
       "      <td>B00BOHNYTW</td>\n",
       "      <td>19</td>\n",
       "      <td>7.0</td>\n",
       "    </tr>\n",
       "    <tr>\n",
       "      <th>5516</th>\n",
       "      <td>A34BZM6S9L7QI4</td>\n",
       "      <td>B002R5AM7C</td>\n",
       "      <td>18</td>\n",
       "      <td>8.0</td>\n",
       "    </tr>\n",
       "    <tr>\n",
       "      <th>6904</th>\n",
       "      <td>A34BZM6S9L7QI4</td>\n",
       "      <td>B004CLYEE6</td>\n",
       "      <td>18</td>\n",
       "      <td>9.0</td>\n",
       "    </tr>\n",
       "    <tr>\n",
       "      <th>2675</th>\n",
       "      <td>A34BZM6S9L7QI4</td>\n",
       "      <td>B000JMJWV2</td>\n",
       "      <td>17</td>\n",
       "      <td>10.0</td>\n",
       "    </tr>\n",
       "  </tbody>\n",
       "</table>\n",
       "</div>"
      ],
      "text/plain": [
       "             user_id  product_id  score  Rank\n",
       "6124  A34BZM6S9L7QI4  B003ES5ZUU     25   1.0\n",
       "6903  A34BZM6S9L7QI4  B004CLYEDC     23   2.0\n",
       "8843  A34BZM6S9L7QI4  B00829TIEK     21   3.0\n",
       "6905  A34BZM6S9L7QI4  B004CLYEFK     19   4.0\n",
       "8847  A34BZM6S9L7QI4  B0082E9K7U     19   5.0\n",
       "8901  A34BZM6S9L7QI4  B0088CJT4U     19   6.0\n",
       "9916  A34BZM6S9L7QI4  B00BOHNYTW     19   7.0\n",
       "5516  A34BZM6S9L7QI4  B002R5AM7C     18   8.0\n",
       "6904  A34BZM6S9L7QI4  B004CLYEE6     18   9.0\n",
       "2675  A34BZM6S9L7QI4  B000JMJWV2     17  10.0"
      ]
     },
     "execution_count": 101,
     "metadata": {},
     "output_type": "execute_result"
    }
   ],
   "source": [
    "#predictions(there are 165 unique users. so vaue can be 0-164)\n",
    "user_id = users[97]\n",
    "pr.recommend(user_id)"
   ]
  },
  {
   "cell_type": "code",
   "execution_count": 102,
   "metadata": {},
   "outputs": [
    {
     "data": {
      "text/html": [
       "<div>\n",
       "<style scoped>\n",
       "    .dataframe tbody tr th:only-of-type {\n",
       "        vertical-align: middle;\n",
       "    }\n",
       "\n",
       "    .dataframe tbody tr th {\n",
       "        vertical-align: top;\n",
       "    }\n",
       "\n",
       "    .dataframe thead th {\n",
       "        text-align: right;\n",
       "    }\n",
       "</style>\n",
       "<table border=\"1\" class=\"dataframe\">\n",
       "  <thead>\n",
       "    <tr style=\"text-align: right;\">\n",
       "      <th></th>\n",
       "      <th>user_id</th>\n",
       "      <th>product_id</th>\n",
       "      <th>score</th>\n",
       "      <th>Rank</th>\n",
       "    </tr>\n",
       "  </thead>\n",
       "  <tbody>\n",
       "    <tr>\n",
       "      <th>6124</th>\n",
       "      <td>A36K2N527TXXJN</td>\n",
       "      <td>B003ES5ZUU</td>\n",
       "      <td>25</td>\n",
       "      <td>1.0</td>\n",
       "    </tr>\n",
       "    <tr>\n",
       "      <th>6903</th>\n",
       "      <td>A36K2N527TXXJN</td>\n",
       "      <td>B004CLYEDC</td>\n",
       "      <td>23</td>\n",
       "      <td>2.0</td>\n",
       "    </tr>\n",
       "    <tr>\n",
       "      <th>8843</th>\n",
       "      <td>A36K2N527TXXJN</td>\n",
       "      <td>B00829TIEK</td>\n",
       "      <td>21</td>\n",
       "      <td>3.0</td>\n",
       "    </tr>\n",
       "    <tr>\n",
       "      <th>6905</th>\n",
       "      <td>A36K2N527TXXJN</td>\n",
       "      <td>B004CLYEFK</td>\n",
       "      <td>19</td>\n",
       "      <td>4.0</td>\n",
       "    </tr>\n",
       "    <tr>\n",
       "      <th>8847</th>\n",
       "      <td>A36K2N527TXXJN</td>\n",
       "      <td>B0082E9K7U</td>\n",
       "      <td>19</td>\n",
       "      <td>5.0</td>\n",
       "    </tr>\n",
       "    <tr>\n",
       "      <th>8901</th>\n",
       "      <td>A36K2N527TXXJN</td>\n",
       "      <td>B0088CJT4U</td>\n",
       "      <td>19</td>\n",
       "      <td>6.0</td>\n",
       "    </tr>\n",
       "    <tr>\n",
       "      <th>9916</th>\n",
       "      <td>A36K2N527TXXJN</td>\n",
       "      <td>B00BOHNYTW</td>\n",
       "      <td>19</td>\n",
       "      <td>7.0</td>\n",
       "    </tr>\n",
       "    <tr>\n",
       "      <th>5516</th>\n",
       "      <td>A36K2N527TXXJN</td>\n",
       "      <td>B002R5AM7C</td>\n",
       "      <td>18</td>\n",
       "      <td>8.0</td>\n",
       "    </tr>\n",
       "    <tr>\n",
       "      <th>6904</th>\n",
       "      <td>A36K2N527TXXJN</td>\n",
       "      <td>B004CLYEE6</td>\n",
       "      <td>18</td>\n",
       "      <td>9.0</td>\n",
       "    </tr>\n",
       "    <tr>\n",
       "      <th>2675</th>\n",
       "      <td>A36K2N527TXXJN</td>\n",
       "      <td>B000JMJWV2</td>\n",
       "      <td>17</td>\n",
       "      <td>10.0</td>\n",
       "    </tr>\n",
       "  </tbody>\n",
       "</table>\n",
       "</div>"
      ],
      "text/plain": [
       "             user_id  product_id  score  Rank\n",
       "6124  A36K2N527TXXJN  B003ES5ZUU     25   1.0\n",
       "6903  A36K2N527TXXJN  B004CLYEDC     23   2.0\n",
       "8843  A36K2N527TXXJN  B00829TIEK     21   3.0\n",
       "6905  A36K2N527TXXJN  B004CLYEFK     19   4.0\n",
       "8847  A36K2N527TXXJN  B0082E9K7U     19   5.0\n",
       "8901  A36K2N527TXXJN  B0088CJT4U     19   6.0\n",
       "9916  A36K2N527TXXJN  B00BOHNYTW     19   7.0\n",
       "5516  A36K2N527TXXJN  B002R5AM7C     18   8.0\n",
       "6904  A36K2N527TXXJN  B004CLYEE6     18   9.0\n",
       "2675  A36K2N527TXXJN  B000JMJWV2     17  10.0"
      ]
     },
     "execution_count": 102,
     "metadata": {},
     "output_type": "execute_result"
    }
   ],
   "source": [
    "user_id = users[6]\n",
    "pr.recommend(user_id)"
   ]
  },
  {
   "cell_type": "markdown",
   "metadata": {},
   "source": [
    "### we can seee that recommendation is same for all the users in popularity model."
   ]
  },
  {
   "cell_type": "code",
   "execution_count": 61,
   "metadata": {},
   "outputs": [],
   "source": [
    "is_model = Recommenders.item_similarity_recommender_py()\n",
    "is_model.create(train_data, 'user_id', 'product_id')"
   ]
  },
  {
   "cell_type": "code",
   "execution_count": 62,
   "metadata": {
    "colab": {
     "base_uri": "https://localhost:8080/",
     "height": 2467
    },
    "colab_type": "code",
    "id": "brtyfrD67D4t",
    "outputId": "c1ac940a-b9d3-40c5-c678-36ec36239408"
   },
   "outputs": [
    {
     "name": "stdout",
     "output_type": "stream",
     "text": [
      "------------------------------------------------------------------------------------\n",
      "Training data products for the user userid: A1VQHH85U7PX0:\n",
      "------------------------------------------------------------------------------------\n",
      "B0015EWMX8\n",
      "B001B8EOMU\n",
      "B001T0HFNA\n",
      "B00008OE46\n",
      "B001PY41YQ\n",
      "B00CRJWW2G\n",
      "B00009R6GE\n",
      "B0035NXR8G\n",
      "B00G76VT9W\n",
      "B000HZI2YY\n",
      "B000FOYMKU\n",
      "B008X9Z7N0\n",
      "B008X9Z9ZQ\n",
      "B00188RK9M\n",
      "B002SZEOLG\n",
      "B0009JO2YC\n",
      "B0011E4N5C\n",
      "B006WHPQD6\n",
      "B008X9Z8NE\n",
      "B0038KY38Y\n",
      "B00080SBD0\n",
      "B0097CXWUW\n",
      "B007STRVTY\n",
      "B000VXHCQG\n",
      "B005ZLOW8K\n",
      "B00HMREOLK\n",
      "B00009M6UM\n",
      "B000FGGG34\n",
      "B000BHQCP4\n",
      "B00007E7JU\n",
      "B008RW6RGE\n",
      "B0011FQUQG\n",
      "B0009XVGMO\n",
      "B00008XETO\n",
      "B000VX6XL6\n",
      "B000OLDG60\n",
      "B00B7XC6PQ\n",
      "B0002V9IKK\n",
      "B003CJTQJC\n",
      "B00829TIEK\n",
      "B007PJ4P4G\n",
      "B0044WWLW0\n",
      "B00181C9LS\n",
      "B001TH7GSW\n",
      "B00168YB78\n",
      "B00HRQB28Y\n",
      "B004DI7CWE\n",
      "B001GKRM90\n",
      "B005276QS6\n",
      "B004VEJYEO\n",
      "B000RB7C4E\n",
      "B00FFZD51Q\n",
      "B00IDYRZ0S\n",
      "B004ALM80A\n",
      "B004R739LE\n",
      "B008ULPD0S\n",
      "B00CRY250U\n",
      "B00007EDM8\n",
      "B00020E4QO\n",
      "B004T9RR6I\n",
      "B0002855KK\n",
      "B0006LSINO\n",
      "B00CXADBRY\n",
      "B0039BPG1U\n",
      "B00000K13I\n",
      "B00004ZCJE\n",
      "B004CLYEAK\n",
      "B006M1MW1Q\n",
      "B0041L3JS4\n",
      "9043413585\n",
      "B005RCVC4E\n",
      "B001M4XCHQ\n",
      "B001GECECQ\n",
      "B0097CZHAU\n",
      "B005KAK2FI\n",
      "B00AB3CGF8\n",
      "B00009R6UU\n",
      "B002QUZL10\n",
      "B00109Y2DQ\n",
      "B0000A98AC\n",
      "B005ELV3HE\n",
      "B000V5G4TK\n",
      "B000V9D5LG\n",
      "B007LK5S0E\n",
      "B00G6CLNCK\n",
      "B00J3HMY1E\n",
      "B000AKK71C\n",
      "B002MUGUFK\n",
      "B001TOD7ME\n",
      "B001DL9WDG\n",
      "B008ULPAT2\n",
      "B002NDBD8K\n",
      "B007X3VEBG\n",
      "B0012V3D3C\n",
      "B002VPE1Z2\n",
      "B002JCSCYS\n",
      "B000BKJZ9Q\n",
      "B002DW96R6\n",
      "B002ISV344\n",
      "B003IE49T8\n",
      "B00DS4LJYG\n",
      "B001MYL1BA\n",
      "B000BUK7KW\n",
      "B000FNDWLQ\n",
      "B008ULPCB8\n",
      "B009NHWVIA\n",
      "B000ZLULOY\n",
      "B002LITT42\n",
      "B001TYRYHS\n",
      "B000KEGCC6\n",
      "B0019RGQVU\n",
      "B000N8OFIW\n",
      "B00076TK6M\n",
      "B003ZLISZU\n",
      "B000YQUTVK\n",
      "B00004Z64Y\n",
      "B003DSCU72\n",
      "B0012MXZ3Y\n",
      "B0099SMFVQ\n",
      "B009H0XQRI\n",
      "B0041H8PH8\n",
      "B003XDE8TK\n",
      "B000066HO4\n",
      "B008HK3SSG\n",
      "B005DLDO4U\n",
      "B00017LRF4\n",
      "B000OTF6G0\n",
      "B000NP3DJW\n",
      "B0001YFXCA\n",
      "B007PJ4PKK\n",
      "B008C4JA66\n",
      "B001D60LG8\n",
      "B004R6WWK4\n",
      "B0006HBCL8\n",
      "B0062XB9FE\n",
      "B002UT42UI\n",
      "B00004TS3Y\n",
      "B000HCT12O\n",
      "B0001YGIB0\n",
      "B001GKJ9EQ\n",
      "B000V5K3FG\n",
      "B00EO96W2I\n",
      "B008MF3X9K\n",
      "B001DULYZG\n",
      "B001BTWOJO\n",
      "B00005QBUU\n",
      "B00170MYIS\n",
      "B00HPM1G8Q\n",
      "B004JJN262\n",
      "B000I81KS0\n",
      "B00009U0XI\n",
      "B0036Q7MV0\n",
      "B000L47AHG\n",
      "B00011R2VS\n",
      "B00074O4UG\n",
      "B001TH7GUU\n",
      "B00BOHNYTW\n",
      "B002LAS1DU\n",
      "B00IVFDZBC\n",
      "B000AZ57M6\n",
      "B001PL951I\n",
      "B002O0L0GC\n",
      "B009YE461C\n",
      "B008ULPA2O\n",
      "B0043T7FXE\n",
      "B00D8X9FSY\n",
      "B000VXIJ3Q\n",
      "B00006JI6E\n",
      "B000EY5F5C\n",
      "B002SIMPXM\n",
      "B000TXZIDM\n",
      "B00E87E1OM\n",
      "B003CJTQJW\n",
      "B000EW8074\n",
      "B009WZRCO6\n",
      "B005OFFH5Y\n",
      "B0015A6YN6\n",
      "B0000BZL5A\n",
      "B00263D7A4\n",
      "B0049SKIDI\n",
      "B00GJO7GOE\n",
      "B000EON3WY\n",
      "B0009EQL5A\n",
      "B000VU0CQG\n",
      "B0031RG29M\n",
      "B0025VKUQQ\n",
      "----------------------------------------------------------------------\n",
      "Recommendation process going on:\n",
      "----------------------------------------------------------------------\n",
      "No. of unique products for the user: 186\n",
      "no. of unique products in the training set: 11347\n",
      "Non zero values in cooccurence_matrix :96384\n"
     ]
    },
    {
     "data": {
      "text/html": [
       "<div>\n",
       "<style scoped>\n",
       "    .dataframe tbody tr th:only-of-type {\n",
       "        vertical-align: middle;\n",
       "    }\n",
       "\n",
       "    .dataframe tbody tr th {\n",
       "        vertical-align: top;\n",
       "    }\n",
       "\n",
       "    .dataframe thead th {\n",
       "        text-align: right;\n",
       "    }\n",
       "</style>\n",
       "<table border=\"1\" class=\"dataframe\">\n",
       "  <thead>\n",
       "    <tr style=\"text-align: right;\">\n",
       "      <th></th>\n",
       "      <th>user_id</th>\n",
       "      <th>product_id</th>\n",
       "      <th>score</th>\n",
       "      <th>rank</th>\n",
       "    </tr>\n",
       "  </thead>\n",
       "  <tbody>\n",
       "    <tr>\n",
       "      <th>0</th>\n",
       "      <td>A1VQHH85U7PX0</td>\n",
       "      <td>B008ULPE70</td>\n",
       "      <td>0.024662</td>\n",
       "      <td>1</td>\n",
       "    </tr>\n",
       "    <tr>\n",
       "      <th>1</th>\n",
       "      <td>A1VQHH85U7PX0</td>\n",
       "      <td>B009O7XO8U</td>\n",
       "      <td>0.023947</td>\n",
       "      <td>2</td>\n",
       "    </tr>\n",
       "    <tr>\n",
       "      <th>2</th>\n",
       "      <td>A1VQHH85U7PX0</td>\n",
       "      <td>B008X9Z528</td>\n",
       "      <td>0.023887</td>\n",
       "      <td>3</td>\n",
       "    </tr>\n",
       "    <tr>\n",
       "      <th>3</th>\n",
       "      <td>A1VQHH85U7PX0</td>\n",
       "      <td>B00F3F0EIU</td>\n",
       "      <td>0.023841</td>\n",
       "      <td>4</td>\n",
       "    </tr>\n",
       "    <tr>\n",
       "      <th>4</th>\n",
       "      <td>A1VQHH85U7PX0</td>\n",
       "      <td>B002R5AM7C</td>\n",
       "      <td>0.022939</td>\n",
       "      <td>5</td>\n",
       "    </tr>\n",
       "    <tr>\n",
       "      <th>5</th>\n",
       "      <td>A1VQHH85U7PX0</td>\n",
       "      <td>B004TPJKEY</td>\n",
       "      <td>0.022818</td>\n",
       "      <td>6</td>\n",
       "    </tr>\n",
       "    <tr>\n",
       "      <th>6</th>\n",
       "      <td>A1VQHH85U7PX0</td>\n",
       "      <td>B0079UAT0A</td>\n",
       "      <td>0.022563</td>\n",
       "      <td>7</td>\n",
       "    </tr>\n",
       "    <tr>\n",
       "      <th>7</th>\n",
       "      <td>A1VQHH85U7PX0</td>\n",
       "      <td>B004CLYEH8</td>\n",
       "      <td>0.022244</td>\n",
       "      <td>8</td>\n",
       "    </tr>\n",
       "    <tr>\n",
       "      <th>8</th>\n",
       "      <td>A1VQHH85U7PX0</td>\n",
       "      <td>B008HK3WK0</td>\n",
       "      <td>0.022017</td>\n",
       "      <td>9</td>\n",
       "    </tr>\n",
       "    <tr>\n",
       "      <th>9</th>\n",
       "      <td>A1VQHH85U7PX0</td>\n",
       "      <td>B0012GK3MQ</td>\n",
       "      <td>0.021549</td>\n",
       "      <td>10</td>\n",
       "    </tr>\n",
       "  </tbody>\n",
       "</table>\n",
       "</div>"
      ],
      "text/plain": [
       "         user_id  product_id     score rank\n",
       "0  A1VQHH85U7PX0  B008ULPE70  0.024662    1\n",
       "1  A1VQHH85U7PX0  B009O7XO8U  0.023947    2\n",
       "2  A1VQHH85U7PX0  B008X9Z528  0.023887    3\n",
       "3  A1VQHH85U7PX0  B00F3F0EIU  0.023841    4\n",
       "4  A1VQHH85U7PX0  B002R5AM7C  0.022939    5\n",
       "5  A1VQHH85U7PX0  B004TPJKEY  0.022818    6\n",
       "6  A1VQHH85U7PX0  B0079UAT0A  0.022563    7\n",
       "7  A1VQHH85U7PX0  B004CLYEH8  0.022244    8\n",
       "8  A1VQHH85U7PX0  B008HK3WK0  0.022017    9\n",
       "9  A1VQHH85U7PX0  B0012GK3MQ  0.021549   10"
      ]
     },
     "execution_count": 62,
     "metadata": {},
     "output_type": "execute_result"
    }
   ],
   "source": [
    "#personalized model to recommed some products\n",
    "user_id = users[5]\n",
    "user_items = is_model.get_user_items(user_id)\n",
    "#\n",
    "print(\"------------------------------------------------------------------------------------\")\n",
    "print(\"Training data products for the user userid: %s:\" % user_id)\n",
    "print(\"------------------------------------------------------------------------------------\")\n",
    "\n",
    "for user_item in user_items:\n",
    "    print(user_item)\n",
    "\n",
    "print(\"----------------------------------------------------------------------\")\n",
    "print(\"Recommendation process going on:\")\n",
    "print(\"----------------------------------------------------------------------\")\n",
    "\n",
    "#Recommend songs for the user using personalized model\n",
    "is_model.recommend(user_id)"
   ]
  },
  {
   "cell_type": "code",
   "execution_count": 63,
   "metadata": {
    "colab": {},
    "colab_type": "code",
    "id": "r4_a7m097uiZ"
   },
   "outputs": [],
   "source": [
    "#for different user"
   ]
  },
  {
   "cell_type": "code",
   "execution_count": 64,
   "metadata": {
    "colab": {
     "base_uri": "https://localhost:8080/",
     "height": 2433
    },
    "colab_type": "code",
    "id": "wNCdjK_77iRI",
    "outputId": "98ae09fb-308a-42d4-a446-831f67d45eea"
   },
   "outputs": [
    {
     "name": "stdout",
     "output_type": "stream",
     "text": [
      "------------------------------------------------------------------------------------\n",
      "Training data songs for the user userid: ADLVFFE4VBT8:\n",
      "------------------------------------------------------------------------------------\n",
      "B008MF465K\n",
      "B008R7EVE4\n",
      "B001T9NUJE\n",
      "B00EMHVVNM\n",
      "B002XGDU9M\n",
      "B000M4XMGI\n",
      "B00BGGDVOO\n",
      "B000PKC102\n",
      "B000FNBYKW\n",
      "B00093IIRA\n",
      "B003ES5ZSW\n",
      "B002U0KGEI\n",
      "B00165XQWW\n",
      "B004P4HFX2\n",
      "B0079TOEQQ\n",
      "B0043WJRRS\n",
      "B0079MX4Q4\n",
      "B0023MYNCE\n",
      "B000LQFI2I\n",
      "B001DDUV20\n",
      "B000067SGI\n",
      "B001CK9760\n",
      "B0014Z29U4\n",
      "B00E362W9O\n",
      "B003Y74AX4\n",
      "B00DK2JQOQ\n",
      "B004Z0KPUG\n",
      "B005FDXZJU\n",
      "B006G9VQV6\n",
      "B00H7GU5QO\n",
      "B000Y16TY6\n",
      "B001E25JOA\n",
      "B002SQK2F2\n",
      "B001N0DQOS\n",
      "B00GJMD08M\n",
      "B001XUR5FO\n",
      "B001TK3ACA\n",
      "B009X3UW2G\n",
      "B009WZRCO6\n",
      "B0041BT21M\n",
      "B00BB5ZQC0\n",
      "B000FITJ04\n",
      "B001Q3MA80\n",
      "B00C8OT7FK\n",
      "B00FSDKBYY\n",
      "B001SGY2X6\n",
      "B004CLYEDC\n",
      "B001NEJO18\n",
      "B001HA51Z6\n",
      "B000FVGM38\n",
      "B0019M9ESC\n",
      "B000MF7R4K\n",
      "B00IF0KJTE\n",
      "B00CBD2X5E\n",
      "B008X9Z528\n",
      "B00GSEOV7U\n",
      "B00FENIPQ4\n",
      "B002WE4HE2\n",
      "B0053R0WWG\n",
      "B00EE18LRU\n",
      "B009C98NPY\n",
      "B000JVCPEY\n",
      "B001P05NBA\n",
      "B001RB1QWW\n",
      "B001GXUCNU\n",
      "B000HEANB0\n",
      "B00006343P\n",
      "B00123WZWK\n",
      "B00005114Z\n",
      "B003O8682Y\n",
      "B003DZ165W\n",
      "B00BZC31WQ\n",
      "B0055QYJIS\n",
      "B005FDXMJS\n",
      "B002PHLZE6\n",
      "B004Q3R9AQ\n",
      "B003VWY0VY\n",
      "B001LF4130\n",
      "B005EWB37S\n",
      "B001GQ39N2\n",
      "B00923G46U\n",
      "B00GPKLWKQ\n",
      "B004CLYJ1Y\n",
      "B000JMJWV2\n",
      "B00006B8K2\n",
      "B004E8Z8Q0\n",
      "B00B588HY2\n",
      "B001PMTAFI\n",
      "B00C57P2BI\n",
      "B001XXAZH6\n",
      "B0011FQUUW\n",
      "B002P3KO8I\n",
      "B008PWUPVY\n",
      "B005KELR3A\n",
      "B001MYLBKG\n",
      "B002C1B9QY\n",
      "B001FRRD48\n",
      "B001RNNXQM\n",
      "B00AQDG9BA\n",
      "B00JWXTOIA\n",
      "B0011U65F2\n",
      "B007PTCFFW\n",
      "B005NHR6KM\n",
      "B008AGP5H4\n",
      "B000BYA5NC\n",
      "B00DR8LAE2\n",
      "B0019M9ENM\n",
      "B0019K3VBU\n",
      "B002BDU89M\n",
      "B002Y6CJJ8\n",
      "B002DEM9G4\n",
      "B0073FE1F0\n",
      "B00608WXGA\n",
      "B00113X7Q4\n",
      "B00G500AE0\n",
      "B002WDMMFO\n",
      "B005GL0H24\n",
      "B002CZ1E2O\n",
      "B00H7FYEPI\n",
      "B00HQ883T4\n",
      "B00JP12170\n",
      "B000M6RX7K\n",
      "B008AF383S\n",
      "B004J4VYG2\n",
      "B0019EHU8G\n",
      "B00BD7L16G\n",
      "B0049MOJ2U\n",
      "B001CCGYJG\n",
      "B00HZT1T5E\n",
      "B000QJ6KXQ\n",
      "B00AYTW80M\n",
      "B00EI4V3FU\n",
      "B002QQ7TLY\n",
      "B008CXTX5U\n",
      "B007XDFNB8\n",
      "B004SD2562\n",
      "B005FDXF2C\n",
      "B00E43JYVU\n",
      "B00F9ZQQ8Q\n",
      "B000DZKUHA\n",
      "B008WAMTZY\n",
      "B00316263Y\n",
      "B00DY2Y28M\n",
      "B00104XCVO\n",
      "B005DM9BGE\n",
      "B003NVMHKY\n",
      "B002WPTMPK\n",
      "B003VAM32E\n",
      "B00685ZCZY\n",
      "B00INNP5VU\n",
      "B0007SKSES\n",
      "B0021AFZBQ\n",
      "B001RKS7AC\n",
      "B005I6EU48\n",
      "B005KELVDG\n",
      "B006GWO5WK\n",
      "B000W5RBQE\n",
      "B002Y27P4Q\n",
      "B005KAK2FI\n",
      "B00178HN0O\n",
      "B001VFNAPU\n",
      "B001B16ZOC\n",
      "B00AOYX2DO\n",
      "B000VMU9VC\n",
      "B00127VF68\n",
      "B00ECERI32\n",
      "B0086V5TVU\n",
      "B000JLU2AI\n",
      "B002LARRDK\n",
      "B009QV72VY\n",
      "B005YQY5TM\n",
      "B004T9RR7C\n",
      "B002ZCXJZE\n",
      "B0019M9EQ4\n",
      "B000RPTUQS\n",
      "B001250KX4\n",
      "B0053NBLFW\n",
      "B0014Z29OU\n",
      "B001RUMW1C\n",
      "B003EYVEUO\n",
      "B0041Q38NU\n",
      "B0016PFBB6\n",
      "B005QBK5V2\n",
      "B002HMWQE2\n",
      "B0018DVX72\n",
      "B003ES5ZUU\n",
      "B000M2GYF6\n",
      "B000EF3YQI\n",
      "B00AEZIESG\n",
      "B001F9IH8M\n",
      "B009LL9VDG\n",
      "B007F9XHBI\n",
      "B00DVFLJDS\n",
      "B001O7F5PI\n",
      "B004TUPCFK\n",
      "B000VCHII4\n",
      "B002MW3G78\n",
      "B00CDIK908\n",
      "B00JP7R7DC\n",
      "B00L1I80K2\n",
      "B0015EXQW4\n",
      "B003YH9EZ8\n",
      "B001DJ7Y2O\n",
      "B00HLDFUM2\n",
      "B00DWMPM92\n",
      "B001JKIHAU\n",
      "B008H7MC2W\n",
      "B001CJRKDS\n",
      "B005FFVTC8\n",
      "B0009MFTSW\n",
      "B00CD8ADKO\n",
      "B003I4FHNA\n",
      "B0039BPG1K\n",
      "B000Y8EXSS\n",
      "B00HL7Z46K\n",
      "B001CTRNYE\n",
      "B0071BTJPI\n",
      "B00EO0MKMI\n",
      "B00CAXC986\n",
      "B000FZX9I0\n",
      "B007M506WS\n",
      "B000NWBVHQ\n",
      "B00AYQ433U\n",
      "B00BJOVUKK\n",
      "B00DQZOIOU\n",
      "B003TNMABW\n",
      "B0079UAT0A\n",
      "B007JIBAZA\n",
      "B0000VP1WQ\n",
      "B000UZH7P6\n",
      "B001D8GR00\n",
      "B000VG0NAU\n",
      "B009NHWVIA\n",
      "B00CHH0JF0\n",
      "B005G0CUP2\n",
      "B00BGCQ3T8\n",
      "B00L3YHF6O\n",
      "B004IM35F8\n",
      "B001CJNWX0\n",
      "B009NUWRF4\n",
      "B00FJXVRM8\n",
      "B005GI2VMG\n",
      "B00A7PPLP2\n",
      "B000Y138EK\n",
      "B0019M4FRW\n",
      "B001XURP7W\n",
      "B0073ESZ58\n",
      "B0019M6GP6\n",
      "B000SY1PQ6\n",
      "B00HHRP11C\n",
      "B008PWUS4I\n",
      "B005Q0WDZE\n",
      "B002MCZJ78\n",
      "B007OY5V68\n",
      "B00HJ4GX10\n",
      "B000HPV3RW\n",
      "B008S2DC84\n",
      "B003ES5ZR8\n",
      "B000OEOMOW\n",
      "B00873ABC4\n",
      "B00139S3U6\n",
      "B001AATTD8\n",
      "B001D7REIK\n",
      "B003MX9L84\n",
      "B002C73WRW\n",
      "B004CLYEH8\n",
      "B004CLYEI2\n",
      "B00267S7XW\n",
      "B00020BJA8\n",
      "B00HK0E0A4\n",
      "B0040702HA\n",
      "B002KBSOXM\n",
      "B00A1EQ950\n",
      "B001TH7GUK\n",
      "B00F6J484O\n",
      "B008X9ZBVI\n",
      "B00JXVPHC8\n",
      "B0026MF17C\n",
      "B001FN2PDG\n",
      "B00E8CF0CE\n",
      "B0007LJHVA\n",
      "B004U78J1G\n",
      "B000HKGK8Y\n",
      "B00ENZRS76\n",
      "B001V9LPT4\n",
      "B0001IXUDK\n",
      "B0054L8MR8\n",
      "B00FDK2OAG\n",
      "B000FDVK2E\n",
      "B005EJLFXI\n",
      "B004J4VYEY\n",
      "B008HK3WK0\n",
      "B00GVRHON2\n",
      "B001OC6DCW\n",
      "B0015HYPOO\n",
      "B000YQSKPM\n",
      "B00EUZV546\n",
      "B0014J07R2\n",
      "B001JTQCU8\n",
      "B0002L5R78\n",
      "B005HGZF7U\n",
      "B0051OKCHG\n",
      "B007KZQM9G\n",
      "B007Y4TTWU\n",
      "B000RPXE74\n",
      "B00DB3SH2G\n",
      "B00B4QESVQ\n",
      "B00CJRZ31S\n",
      "B002YZ3J0W\n",
      "B00CHRID4Y\n",
      "B001F7AJKI\n",
      "B000M51NRM\n",
      "B0081TXIXI\n",
      "B001K7I62Q\n",
      "B008X9Z7N0\n",
      "B00E3K94T6\n",
      "B000F7UXAA\n",
      "B0015GPP5S\n",
      "B004CLYE8C\n",
      "B00834SJSK\n",
      "B00EAR8S76\n",
      "B005IZ65G0\n",
      "B002DEM9HI\n",
      "B00HWSXVDG\n",
      "B002BFA91C\n",
      "B000UF3FT8\n",
      "B005EJLFXS\n",
      "B004T9RR6I\n",
      "B00EFE9OAE\n",
      "B00D5EO27U\n",
      "B002JMYCTC\n",
      "B002PJVUFS\n",
      "B00JX1ZS5O\n",
      "B005KQ2O26\n",
      "B004TPJKEY\n",
      "B0002KKIUA\n",
      "B000A0K4EC\n",
      "B000OH56ZS\n",
      "B002MAPSQM\n",
      "B00HRO3IBA\n",
      "B0032ZZP82\n",
      "B0015AARJI\n",
      "B000TXZIDM\n",
      "B00FDL8TF4\n",
      "B007X3VEBG\n",
      "B002R5AM7C\n",
      "B00FGOTA6K\n",
      "B0043T7FXE\n",
      "B001A5FH9S\n",
      "B008ULPBJG\n",
      "B004XZL980\n",
      "B000069V21\n",
      "B001TH7GUU\n",
      "B000NO8GNG\n",
      "B009O7XO8U\n",
      "B00180B1KO\n",
      "B002XJSB9S\n",
      "B007B6YPAW\n",
      "B0097CXWUW\n",
      "B004GK0GKO\n",
      "B001PTHRL0\n",
      "B004FRSVPU\n",
      "B00EZJQY0C\n",
      "B00BVTLYAY\n",
      "B000Q8UAWY\n",
      "B004KPLNO8\n",
      "B005I6EVUG\n",
      "B0077BB3VA\n",
      "B00BTJIJ40\n",
      "B00JDAIMQ2\n",
      "B002FU5QMK\n",
      "B00153T624\n",
      "B00ETBHOIM\n",
      "B001F7ARTQ\n",
      "B003FMUMN0\n",
      "B000M17AVO\n",
      "B001W1XT5O\n",
      "B008CP5R8K\n",
      "B00CDY0DSA\n",
      "B003M5IQLU\n",
      "B003IT6Z40\n",
      "B0097CZHAU\n",
      "B0056H9KKI\n",
      "B003Y73Q3O\n",
      "B002C1B9PU\n",
      "B004YI9NTS\n",
      "B0045FM6SU\n",
      "B001TH7GUA\n",
      "B00275XTSQ\n",
      "B004NY9V04\n",
      "B008X9ZD5C\n",
      "B000KZ67FC\n",
      "B000CATRHK\n",
      "B0018Z0PWY\n",
      "B001VFUN82\n",
      "B002IC0YL8\n",
      "B008ULPE70\n",
      "B0019M6GS8\n",
      "B0012X5766\n",
      "B005Z6FL80\n",
      "B001CS51DK\n",
      "B005RXGZOU\n",
      "B007C81JL2\n",
      "B003U7LJJ6\n",
      "----------------------------------------------------------------------\n",
      "Recommendation process going on:\n",
      "----------------------------------------------------------------------\n",
      "No. of unique products for the user: 404\n",
      "no. of unique products in the training set: 11347\n",
      "Non zero values in cooccurence_matrix :301068\n"
     ]
    },
    {
     "data": {
      "text/html": [
       "<div>\n",
       "<style scoped>\n",
       "    .dataframe tbody tr th:only-of-type {\n",
       "        vertical-align: middle;\n",
       "    }\n",
       "\n",
       "    .dataframe tbody tr th {\n",
       "        vertical-align: top;\n",
       "    }\n",
       "\n",
       "    .dataframe thead th {\n",
       "        text-align: right;\n",
       "    }\n",
       "</style>\n",
       "<table border=\"1\" class=\"dataframe\">\n",
       "  <thead>\n",
       "    <tr style=\"text-align: right;\">\n",
       "      <th></th>\n",
       "      <th>user_id</th>\n",
       "      <th>product_id</th>\n",
       "      <th>score</th>\n",
       "      <th>rank</th>\n",
       "    </tr>\n",
       "  </thead>\n",
       "  <tbody>\n",
       "    <tr>\n",
       "      <th>0</th>\n",
       "      <td>ADLVFFE4VBT8</td>\n",
       "      <td>B00CZDT30S</td>\n",
       "      <td>0.029695</td>\n",
       "      <td>1</td>\n",
       "    </tr>\n",
       "    <tr>\n",
       "      <th>1</th>\n",
       "      <td>ADLVFFE4VBT8</td>\n",
       "      <td>B00HFFDDLG</td>\n",
       "      <td>0.024535</td>\n",
       "      <td>2</td>\n",
       "    </tr>\n",
       "    <tr>\n",
       "      <th>2</th>\n",
       "      <td>ADLVFFE4VBT8</td>\n",
       "      <td>B0082E9K7U</td>\n",
       "      <td>0.024343</td>\n",
       "      <td>3</td>\n",
       "    </tr>\n",
       "    <tr>\n",
       "      <th>3</th>\n",
       "      <td>ADLVFFE4VBT8</td>\n",
       "      <td>B004CLYEE6</td>\n",
       "      <td>0.024312</td>\n",
       "      <td>4</td>\n",
       "    </tr>\n",
       "    <tr>\n",
       "      <th>4</th>\n",
       "      <td>ADLVFFE4VBT8</td>\n",
       "      <td>B00FSA8VQ2</td>\n",
       "      <td>0.023818</td>\n",
       "      <td>5</td>\n",
       "    </tr>\n",
       "    <tr>\n",
       "      <th>5</th>\n",
       "      <td>ADLVFFE4VBT8</td>\n",
       "      <td>B00BB72WX4</td>\n",
       "      <td>0.023655</td>\n",
       "      <td>6</td>\n",
       "    </tr>\n",
       "    <tr>\n",
       "      <th>6</th>\n",
       "      <td>ADLVFFE4VBT8</td>\n",
       "      <td>B005QCDY50</td>\n",
       "      <td>0.023482</td>\n",
       "      <td>7</td>\n",
       "    </tr>\n",
       "    <tr>\n",
       "      <th>7</th>\n",
       "      <td>ADLVFFE4VBT8</td>\n",
       "      <td>B00GMTN96U</td>\n",
       "      <td>0.023176</td>\n",
       "      <td>8</td>\n",
       "    </tr>\n",
       "    <tr>\n",
       "      <th>8</th>\n",
       "      <td>ADLVFFE4VBT8</td>\n",
       "      <td>B00ARB5FLQ</td>\n",
       "      <td>0.023031</td>\n",
       "      <td>9</td>\n",
       "    </tr>\n",
       "    <tr>\n",
       "      <th>9</th>\n",
       "      <td>ADLVFFE4VBT8</td>\n",
       "      <td>B00BB6LTI4</td>\n",
       "      <td>0.022936</td>\n",
       "      <td>10</td>\n",
       "    </tr>\n",
       "  </tbody>\n",
       "</table>\n",
       "</div>"
      ],
      "text/plain": [
       "        user_id  product_id     score rank\n",
       "0  ADLVFFE4VBT8  B00CZDT30S  0.029695    1\n",
       "1  ADLVFFE4VBT8  B00HFFDDLG  0.024535    2\n",
       "2  ADLVFFE4VBT8  B0082E9K7U  0.024343    3\n",
       "3  ADLVFFE4VBT8  B004CLYEE6  0.024312    4\n",
       "4  ADLVFFE4VBT8  B00FSA8VQ2  0.023818    5\n",
       "5  ADLVFFE4VBT8  B00BB72WX4  0.023655    6\n",
       "6  ADLVFFE4VBT8  B005QCDY50  0.023482    7\n",
       "7  ADLVFFE4VBT8  B00GMTN96U  0.023176    8\n",
       "8  ADLVFFE4VBT8  B00ARB5FLQ  0.023031    9\n",
       "9  ADLVFFE4VBT8  B00BB6LTI4  0.022936   10"
      ]
     },
     "execution_count": 64,
     "metadata": {},
     "output_type": "execute_result"
    }
   ],
   "source": [
    "user_id = users[7]\n",
    "#Fill in the code here\n",
    "user_items = is_model.get_user_items(user_id)\n",
    "#\n",
    "print(\"------------------------------------------------------------------------------------\")\n",
    "print(\"Training data songs for the user userid: %s:\" % user_id)\n",
    "print(\"------------------------------------------------------------------------------------\")\n",
    "\n",
    "for user_item in user_items:\n",
    "    print(user_item)\n",
    "\n",
    "print(\"----------------------------------------------------------------------\")\n",
    "print(\"Recommendation process going on:\")\n",
    "print(\"----------------------------------------------------------------------\")\n",
    "\n",
    "#Recommend songs for the user using personalized model\n",
    "is_model.recommend(user_id)"
   ]
  },
  {
   "cell_type": "markdown",
   "metadata": {
    "colab": {},
    "colab_type": "code",
    "id": "Akk5IG8N7iMd"
   },
   "source": [
    "### Evaluate both the models. (Once the model is trained on the training data, it can be used to compute the error (RMSE) on predictions made on the test data.)\n"
   ]
  },
  {
   "cell_type": "code",
   "execution_count": 65,
   "metadata": {},
   "outputs": [
    {
     "data": {
      "text/plain": [
       "<Recommenders.popularity_recommender_py at 0x2a206f80828>"
      ]
     },
     "execution_count": 65,
     "metadata": {},
     "output_type": "execute_result"
    }
   ],
   "source": [
    "pr"
   ]
  },
  {
   "cell_type": "code",
   "execution_count": 66,
   "metadata": {
    "colab": {
     "base_uri": "https://localhost:8080/",
     "height": 1628
    },
    "colab_type": "code",
    "id": "SbO-uEOB7iIj",
    "outputId": "1d01b263-5cb2-4f08-9823-d3baac54abe2"
   },
   "outputs": [
    {
     "name": "stdout",
     "output_type": "stream",
     "text": [
      "Length of user_test_and_training:98\n",
      "Length of user sample:4\n",
      "Getting recommendations for user:A3OXHLG6DIBRW8\n",
      "No. of unique products for the user: 395\n",
      "no. of unique products in the training set: 11347\n",
      "Non zero values in cooccurence_matrix :263742\n",
      "user_sim_items Index(['user_id', 'product_id', 'score', 'rank'], dtype='object')\n",
      "Getting recommendations for user:A11I1I9QLMAM1A\n",
      "No. of unique products for the user: 165\n",
      "no. of unique products in the training set: 11347\n",
      "Non zero values in cooccurence_matrix :94959\n",
      "user_sim_items Index(['user_id', 'product_id', 'score', 'rank'], dtype='object')\n",
      "Getting recommendations for user:A2UOHALGF2X77Q\n",
      "No. of unique products for the user: 183\n",
      "no. of unique products in the training set: 11347\n",
      "Non zero values in cooccurence_matrix :93186\n",
      "user_sim_items Index(['user_id', 'product_id', 'score', 'rank'], dtype='object')\n",
      "Getting recommendations for user:ALDAF4VVLFRHP\n",
      "No. of unique products for the user: 130\n",
      "no. of unique products in the training set: 11347\n",
      "Non zero values in cooccurence_matrix :65984\n",
      "user_sim_items Index(['user_id', 'product_id', 'score', 'rank'], dtype='object')\n",
      "87.06861686706543\n"
     ]
    }
   ],
   "source": [
    "start = time.time()\n",
    "\n",
    "#Define what percentage of users to use for precision recall calculation\n",
    "user_sample = 0.05\n",
    "\n",
    "#Instantiate the precision_recall_calculator class\n",
    "pm = Evaluation.precision_recall_calculator(test_data, train_data, pr, is_model)\n",
    "\n",
    "#Call method to calculate precision and recall values\n",
    "(pm_avg_precision_list, pm_avg_recall_list, ism_avg_precision_list, ism_avg_recall_list) = pm.calculate_measures(user_sample)\n",
    "\n",
    "end = time.time()\n",
    "print(end - start)"
   ]
  },
  {
   "cell_type": "code",
   "execution_count": 67,
   "metadata": {
    "colab": {},
    "colab_type": "code",
    "id": "edwV9EJ49DhB"
   },
   "outputs": [
    {
     "data": {
      "text/plain": [
       "[0.0,\n",
       " 0.0,\n",
       " 0.0,\n",
       " 0.0625,\n",
       " 0.05,\n",
       " 0.041666666666666664,\n",
       " 0.03571428571428571,\n",
       " 0.0625,\n",
       " 0.05555555555555555,\n",
       " 0.05]"
      ]
     },
     "execution_count": 67,
     "metadata": {},
     "output_type": "execute_result"
    }
   ],
   "source": [
    "pm_avg_precision_list"
   ]
  },
  {
   "cell_type": "code",
   "execution_count": 68,
   "metadata": {
    "colab": {},
    "colab_type": "code",
    "id": "_FWKp6x-9Epc"
   },
   "outputs": [
    {
     "data": {
      "text/plain": [
       "[0.0,\n",
       " 0.0,\n",
       " 0.0,\n",
       " 0.0024271844660194173,\n",
       " 0.0024271844660194173,\n",
       " 0.0024271844660194173,\n",
       " 0.0024271844660194173,\n",
       " 0.0081090026478376,\n",
       " 0.0081090026478376,\n",
       " 0.0081090026478376]"
      ]
     },
     "execution_count": 68,
     "metadata": {},
     "output_type": "execute_result"
    }
   ],
   "source": [
    "pm_avg_recall_list"
   ]
  },
  {
   "cell_type": "code",
   "execution_count": 69,
   "metadata": {
    "colab": {},
    "colab_type": "code",
    "id": "IH6Q_0rT9EkF"
   },
   "outputs": [
    {
     "data": {
      "text/plain": [
       "[0.0,\n",
       " 0.0024271844660194173,\n",
       " 0.0024271844660194173,\n",
       " 0.0024271844660194173,\n",
       " 0.0024271844660194173,\n",
       " 0.0024271844660194173,\n",
       " 0.0024271844660194173,\n",
       " 0.0081090026478376,\n",
       " 0.0081090026478376,\n",
       " 0.0081090026478376]"
      ]
     },
     "execution_count": 69,
     "metadata": {},
     "output_type": "execute_result"
    }
   ],
   "source": [
    "ism_avg_precision_list"
   ]
  },
  {
   "cell_type": "code",
   "execution_count": 70,
   "metadata": {
    "colab": {},
    "colab_type": "code",
    "id": "CNBNVeE-ACey"
   },
   "outputs": [
    {
     "data": {
      "text/plain": [
       "[0.0,\n",
       " 0.125,\n",
       " 0.08333333333333333,\n",
       " 0.0625,\n",
       " 0.05,\n",
       " 0.041666666666666664,\n",
       " 0.03571428571428571,\n",
       " 0.0625,\n",
       " 0.05555555555555555,\n",
       " 0.05]"
      ]
     },
     "execution_count": 70,
     "metadata": {},
     "output_type": "execute_result"
    }
   ],
   "source": [
    "ism_avg_recall_list"
   ]
  },
  {
   "cell_type": "code",
   "execution_count": 71,
   "metadata": {
    "colab": {},
    "colab_type": "code",
    "id": "hfJIvEoXAFPi"
   },
   "outputs": [],
   "source": [
    "import pylab as pl\n",
    "\n",
    "#Method to generate precision and recall curve\n",
    "def plot_precision_recall(m1_precision_list, m1_recall_list, m1_label, m2_precision_list, m2_recall_list, m2_label):\n",
    "    pl.clf()    \n",
    "    pl.plot(m1_recall_list, m1_precision_list, label=m1_label)\n",
    "    pl.plot(m2_recall_list, m2_precision_list, label=m2_label)\n",
    "    pl.xlabel('Recall')\n",
    "    pl.ylabel('Precision')\n",
    "    pl.ylim([0.0, 0.2])\n",
    "    pl.xlim([0.0, 0.2])\n",
    "    pl.title('Precision-Recall curve')\n",
    "    #pl.legend(loc=\"upper right\")\n",
    "    pl.legend(loc=9, bbox_to_anchor=(0.5, -0.2))\n",
    "    pl.show()"
   ]
  },
  {
   "cell_type": "code",
   "execution_count": 72,
   "metadata": {
    "colab": {},
    "colab_type": "code",
    "id": "rhIoS2M0AFLj"
   },
   "outputs": [
    {
     "name": "stdout",
     "output_type": "stream",
     "text": [
      "Plotting precision recall curves.\n"
     ]
    },
    {
     "data": {
      "image/png": "[encoded data removed]",
      "text/plain": [
       "<matplotlib.figure.Figure at 0x2a206f28a20>"
      ]
     },
     "metadata": {},
     "output_type": "display_data"
    }
   ],
   "source": [
    "print(\"Plotting precision recall curves.\")\n",
    "\n",
    "plot_precision_recall(pm_avg_precision_list, pm_avg_recall_list, \"popularity_model\",\n",
    "                      ism_avg_precision_list, ism_avg_recall_list, \"item_similarity_model\")"
   ]
  },
  {
   "cell_type": "markdown",
   "metadata": {},
   "source": [
    "### comparing the models using recmetrics"
   ]
  },
  {
   "cell_type": "code",
   "execution_count": 73,
   "metadata": {},
   "outputs": [],
   "source": [
    "#!pip install recmetrics"
   ]
  },
  {
   "cell_type": "code",
   "execution_count": 74,
   "metadata": {},
   "outputs": [],
   "source": [
    "import recmetrics"
   ]
  },
  {
   "cell_type": "code",
   "execution_count": 75,
   "metadata": {},
   "outputs": [
    {
     "data": {
      "text/html": [
       "<div>\n",
       "<style scoped>\n",
       "    .dataframe tbody tr th:only-of-type {\n",
       "        vertical-align: middle;\n",
       "    }\n",
       "\n",
       "    .dataframe tbody tr th {\n",
       "        vertical-align: top;\n",
       "    }\n",
       "\n",
       "    .dataframe thead th {\n",
       "        text-align: right;\n",
       "    }\n",
       "</style>\n",
       "<table border=\"1\" class=\"dataframe\">\n",
       "  <thead>\n",
       "    <tr style=\"text-align: right;\">\n",
       "      <th></th>\n",
       "      <th>user_id</th>\n",
       "      <th>product_id</th>\n",
       "      <th>actual</th>\n",
       "      <th>cf_predictions</th>\n",
       "    </tr>\n",
       "  </thead>\n",
       "  <tbody>\n",
       "    <tr>\n",
       "      <th>0</th>\n",
       "      <td>A1ODOGXEYECQQ8</td>\n",
       "      <td>B008R7EWEI</td>\n",
       "      <td>5.0</td>\n",
       "      <td>5.000000</td>\n",
       "    </tr>\n",
       "    <tr>\n",
       "      <th>1</th>\n",
       "      <td>ARBKYIVNYWK3C</td>\n",
       "      <td>B000E120E4</td>\n",
       "      <td>2.0</td>\n",
       "      <td>4.314239</td>\n",
       "    </tr>\n",
       "    <tr>\n",
       "      <th>2</th>\n",
       "      <td>A1J75JJ0Q2OEJN</td>\n",
       "      <td>B006MBP7T0</td>\n",
       "      <td>4.0</td>\n",
       "      <td>4.000000</td>\n",
       "    </tr>\n",
       "    <tr>\n",
       "      <th>3</th>\n",
       "      <td>ABQWMANK4AR63</td>\n",
       "      <td>B00AR95ESC</td>\n",
       "      <td>5.0</td>\n",
       "      <td>5.000000</td>\n",
       "    </tr>\n",
       "    <tr>\n",
       "      <th>4</th>\n",
       "      <td>A250AXLRBVYKB4</td>\n",
       "      <td>B0008IV3XC</td>\n",
       "      <td>5.0</td>\n",
       "      <td>4.314239</td>\n",
       "    </tr>\n",
       "  </tbody>\n",
       "</table>\n",
       "</div>"
      ],
      "text/plain": [
       "          user_id  product_id  actual  cf_predictions\n",
       "0  A1ODOGXEYECQQ8  B008R7EWEI     5.0        5.000000\n",
       "1   ARBKYIVNYWK3C  B000E120E4     2.0        4.314239\n",
       "2  A1J75JJ0Q2OEJN  B006MBP7T0     4.0        4.000000\n",
       "3   ABQWMANK4AR63  B00AR95ESC     5.0        5.000000\n",
       "4  A250AXLRBVYKB4  B0008IV3XC     5.0        4.314239"
      ]
     },
     "execution_count": 75,
     "metadata": {},
     "output_type": "execute_result"
    }
   ],
   "source": [
    "test = test_pred_df.copy()\n",
    "test.drop({\"details\",\"was_impossible\"}, inplace=True, axis=1)\n",
    "test.columns = ['user_id', 'product_id', 'actual', 'cf_predictions']\n",
    "test.head()"
   ]
  },
  {
   "cell_type": "code",
   "execution_count": 76,
   "metadata": {},
   "outputs": [
    {
     "name": "stdout",
     "output_type": "stream",
     "text": [
      "MSE - 1.0560173524424636\n",
      "RMSE - 1.0276270492948614\n"
     ]
    }
   ],
   "source": [
    "print(\"MSE -\", recmetrics.mse(test.actual, test.cf_predictions))\n",
    "print(\"RMSE -\", recmetrics.rmse(test.actual, test.cf_predictions))"
   ]
  },
  {
   "cell_type": "code",
   "execution_count": 78,
   "metadata": {},
   "outputs": [
    {
     "data": {
      "text/html": [
       "<div>\n",
       "<style scoped>\n",
       "    .dataframe tbody tr th:only-of-type {\n",
       "        vertical-align: middle;\n",
       "    }\n",
       "\n",
       "    .dataframe tbody tr th {\n",
       "        vertical-align: top;\n",
       "    }\n",
       "\n",
       "    .dataframe thead th {\n",
       "        text-align: right;\n",
       "    }\n",
       "</style>\n",
       "<table border=\"1\" class=\"dataframe\">\n",
       "  <thead>\n",
       "    <tr style=\"text-align: right;\">\n",
       "      <th>product_id</th>\n",
       "      <th>0972683275</th>\n",
       "      <th>9043413585</th>\n",
       "      <th>B00000DM9W</th>\n",
       "      <th>B00000J08C</th>\n",
       "      <th>B00000J08Q</th>\n",
       "      <th>B00000J1TX</th>\n",
       "      <th>B00000J1US</th>\n",
       "      <th>B00000JBIA</th>\n",
       "      <th>B00000JDGO</th>\n",
       "      <th>B00000JFJA</th>\n",
       "      <th>...</th>\n",
       "      <th>B00L1I80K2</th>\n",
       "      <th>B00L21HC7A</th>\n",
       "      <th>B00L2442H0</th>\n",
       "      <th>B00L26YDA4</th>\n",
       "      <th>B00L2P3TRS</th>\n",
       "      <th>B00L3YHF6O</th>\n",
       "      <th>B00L8I6SFY</th>\n",
       "      <th>B00LBZ1Z7K</th>\n",
       "      <th>B00LGQ6HL8</th>\n",
       "      <th>B00LI4ZZO8</th>\n",
       "    </tr>\n",
       "    <tr>\n",
       "      <th>user_id</th>\n",
       "      <th></th>\n",
       "      <th></th>\n",
       "      <th></th>\n",
       "      <th></th>\n",
       "      <th></th>\n",
       "      <th></th>\n",
       "      <th></th>\n",
       "      <th></th>\n",
       "      <th></th>\n",
       "      <th></th>\n",
       "      <th></th>\n",
       "      <th></th>\n",
       "      <th></th>\n",
       "      <th></th>\n",
       "      <th></th>\n",
       "      <th></th>\n",
       "      <th></th>\n",
       "      <th></th>\n",
       "      <th></th>\n",
       "      <th></th>\n",
       "      <th></th>\n",
       "    </tr>\n",
       "  </thead>\n",
       "  <tbody>\n",
       "    <tr>\n",
       "      <th>A11I1I9QLMAM1A</th>\n",
       "      <td>0.0</td>\n",
       "      <td>0.0</td>\n",
       "      <td>0.0</td>\n",
       "      <td>0.0</td>\n",
       "      <td>0.0</td>\n",
       "      <td>0.0</td>\n",
       "      <td>0.0</td>\n",
       "      <td>0.0</td>\n",
       "      <td>0.0</td>\n",
       "      <td>0.0</td>\n",
       "      <td>...</td>\n",
       "      <td>0.0</td>\n",
       "      <td>0.0</td>\n",
       "      <td>0.0</td>\n",
       "      <td>0.0</td>\n",
       "      <td>0.0</td>\n",
       "      <td>0.0</td>\n",
       "      <td>0.0</td>\n",
       "      <td>0.0</td>\n",
       "      <td>0.0</td>\n",
       "      <td>0.0</td>\n",
       "    </tr>\n",
       "    <tr>\n",
       "      <th>A11KZ906QD08C5</th>\n",
       "      <td>0.0</td>\n",
       "      <td>0.0</td>\n",
       "      <td>0.0</td>\n",
       "      <td>0.0</td>\n",
       "      <td>0.0</td>\n",
       "      <td>0.0</td>\n",
       "      <td>0.0</td>\n",
       "      <td>0.0</td>\n",
       "      <td>0.0</td>\n",
       "      <td>0.0</td>\n",
       "      <td>...</td>\n",
       "      <td>0.0</td>\n",
       "      <td>0.0</td>\n",
       "      <td>0.0</td>\n",
       "      <td>0.0</td>\n",
       "      <td>0.0</td>\n",
       "      <td>0.0</td>\n",
       "      <td>0.0</td>\n",
       "      <td>0.0</td>\n",
       "      <td>0.0</td>\n",
       "      <td>0.0</td>\n",
       "    </tr>\n",
       "    <tr>\n",
       "      <th>A12DQZKRKTNF5E</th>\n",
       "      <td>0.0</td>\n",
       "      <td>0.0</td>\n",
       "      <td>0.0</td>\n",
       "      <td>0.0</td>\n",
       "      <td>0.0</td>\n",
       "      <td>0.0</td>\n",
       "      <td>0.0</td>\n",
       "      <td>0.0</td>\n",
       "      <td>0.0</td>\n",
       "      <td>0.0</td>\n",
       "      <td>...</td>\n",
       "      <td>0.0</td>\n",
       "      <td>0.0</td>\n",
       "      <td>0.0</td>\n",
       "      <td>0.0</td>\n",
       "      <td>0.0</td>\n",
       "      <td>0.0</td>\n",
       "      <td>0.0</td>\n",
       "      <td>0.0</td>\n",
       "      <td>0.0</td>\n",
       "      <td>0.0</td>\n",
       "    </tr>\n",
       "    <tr>\n",
       "      <th>A15QYHQH80W30L</th>\n",
       "      <td>0.0</td>\n",
       "      <td>0.0</td>\n",
       "      <td>0.0</td>\n",
       "      <td>0.0</td>\n",
       "      <td>0.0</td>\n",
       "      <td>0.0</td>\n",
       "      <td>0.0</td>\n",
       "      <td>0.0</td>\n",
       "      <td>0.0</td>\n",
       "      <td>0.0</td>\n",
       "      <td>...</td>\n",
       "      <td>0.0</td>\n",
       "      <td>0.0</td>\n",
       "      <td>0.0</td>\n",
       "      <td>0.0</td>\n",
       "      <td>0.0</td>\n",
       "      <td>0.0</td>\n",
       "      <td>0.0</td>\n",
       "      <td>0.0</td>\n",
       "      <td>0.0</td>\n",
       "      <td>0.0</td>\n",
       "    </tr>\n",
       "    <tr>\n",
       "      <th>A17BUUBOU0598B</th>\n",
       "      <td>0.0</td>\n",
       "      <td>0.0</td>\n",
       "      <td>0.0</td>\n",
       "      <td>0.0</td>\n",
       "      <td>0.0</td>\n",
       "      <td>0.0</td>\n",
       "      <td>0.0</td>\n",
       "      <td>0.0</td>\n",
       "      <td>0.0</td>\n",
       "      <td>0.0</td>\n",
       "      <td>...</td>\n",
       "      <td>0.0</td>\n",
       "      <td>0.0</td>\n",
       "      <td>0.0</td>\n",
       "      <td>0.0</td>\n",
       "      <td>0.0</td>\n",
       "      <td>0.0</td>\n",
       "      <td>0.0</td>\n",
       "      <td>0.0</td>\n",
       "      <td>0.0</td>\n",
       "      <td>0.0</td>\n",
       "    </tr>\n",
       "    <tr>\n",
       "      <th>A17HMM1M7T9PJ1</th>\n",
       "      <td>0.0</td>\n",
       "      <td>0.0</td>\n",
       "      <td>0.0</td>\n",
       "      <td>0.0</td>\n",
       "      <td>0.0</td>\n",
       "      <td>0.0</td>\n",
       "      <td>0.0</td>\n",
       "      <td>0.0</td>\n",
       "      <td>0.0</td>\n",
       "      <td>0.0</td>\n",
       "      <td>...</td>\n",
       "      <td>0.0</td>\n",
       "      <td>0.0</td>\n",
       "      <td>0.0</td>\n",
       "      <td>0.0</td>\n",
       "      <td>0.0</td>\n",
       "      <td>0.0</td>\n",
       "      <td>0.0</td>\n",
       "      <td>0.0</td>\n",
       "      <td>0.0</td>\n",
       "      <td>0.0</td>\n",
       "    </tr>\n",
       "    <tr>\n",
       "      <th>A18HE80910BTZI</th>\n",
       "      <td>0.0</td>\n",
       "      <td>0.0</td>\n",
       "      <td>0.0</td>\n",
       "      <td>0.0</td>\n",
       "      <td>0.0</td>\n",
       "      <td>0.0</td>\n",
       "      <td>0.0</td>\n",
       "      <td>0.0</td>\n",
       "      <td>0.0</td>\n",
       "      <td>0.0</td>\n",
       "      <td>...</td>\n",
       "      <td>0.0</td>\n",
       "      <td>0.0</td>\n",
       "      <td>0.0</td>\n",
       "      <td>0.0</td>\n",
       "      <td>0.0</td>\n",
       "      <td>0.0</td>\n",
       "      <td>0.0</td>\n",
       "      <td>0.0</td>\n",
       "      <td>0.0</td>\n",
       "      <td>0.0</td>\n",
       "    </tr>\n",
       "    <tr>\n",
       "      <th>A19W47CXJJP1MI</th>\n",
       "      <td>0.0</td>\n",
       "      <td>0.0</td>\n",
       "      <td>0.0</td>\n",
       "      <td>0.0</td>\n",
       "      <td>0.0</td>\n",
       "      <td>0.0</td>\n",
       "      <td>0.0</td>\n",
       "      <td>0.0</td>\n",
       "      <td>0.0</td>\n",
       "      <td>0.0</td>\n",
       "      <td>...</td>\n",
       "      <td>0.0</td>\n",
       "      <td>0.0</td>\n",
       "      <td>0.0</td>\n",
       "      <td>0.0</td>\n",
       "      <td>0.0</td>\n",
       "      <td>0.0</td>\n",
       "      <td>0.0</td>\n",
       "      <td>0.0</td>\n",
       "      <td>0.0</td>\n",
       "      <td>0.0</td>\n",
       "    </tr>\n",
       "    <tr>\n",
       "      <th>A1BT6TL7UCIC5Y</th>\n",
       "      <td>0.0</td>\n",
       "      <td>0.0</td>\n",
       "      <td>0.0</td>\n",
       "      <td>0.0</td>\n",
       "      <td>0.0</td>\n",
       "      <td>0.0</td>\n",
       "      <td>0.0</td>\n",
       "      <td>0.0</td>\n",
       "      <td>0.0</td>\n",
       "      <td>0.0</td>\n",
       "      <td>...</td>\n",
       "      <td>0.0</td>\n",
       "      <td>0.0</td>\n",
       "      <td>0.0</td>\n",
       "      <td>0.0</td>\n",
       "      <td>0.0</td>\n",
       "      <td>0.0</td>\n",
       "      <td>0.0</td>\n",
       "      <td>0.0</td>\n",
       "      <td>0.0</td>\n",
       "      <td>0.0</td>\n",
       "    </tr>\n",
       "    <tr>\n",
       "      <th>A1CMD08Z49PGKQ</th>\n",
       "      <td>0.0</td>\n",
       "      <td>0.0</td>\n",
       "      <td>0.0</td>\n",
       "      <td>0.0</td>\n",
       "      <td>0.0</td>\n",
       "      <td>0.0</td>\n",
       "      <td>0.0</td>\n",
       "      <td>0.0</td>\n",
       "      <td>0.0</td>\n",
       "      <td>0.0</td>\n",
       "      <td>...</td>\n",
       "      <td>0.0</td>\n",
       "      <td>0.0</td>\n",
       "      <td>0.0</td>\n",
       "      <td>0.0</td>\n",
       "      <td>0.0</td>\n",
       "      <td>0.0</td>\n",
       "      <td>0.0</td>\n",
       "      <td>0.0</td>\n",
       "      <td>0.0</td>\n",
       "      <td>0.0</td>\n",
       "    </tr>\n",
       "  </tbody>\n",
       "</table>\n",
       "<p>10 rows × 4451 columns</p>\n",
       "</div>"
      ],
      "text/plain": [
       "product_id      0972683275  9043413585  B00000DM9W  B00000J08C  B00000J08Q  \\\n",
       "user_id                                                                      \n",
       "A11I1I9QLMAM1A         0.0         0.0         0.0         0.0         0.0   \n",
       "A11KZ906QD08C5         0.0         0.0         0.0         0.0         0.0   \n",
       "A12DQZKRKTNF5E         0.0         0.0         0.0         0.0         0.0   \n",
       "A15QYHQH80W30L         0.0         0.0         0.0         0.0         0.0   \n",
       "A17BUUBOU0598B         0.0         0.0         0.0         0.0         0.0   \n",
       "A17HMM1M7T9PJ1         0.0         0.0         0.0         0.0         0.0   \n",
       "A18HE80910BTZI         0.0         0.0         0.0         0.0         0.0   \n",
       "A19W47CXJJP1MI         0.0         0.0         0.0         0.0         0.0   \n",
       "A1BT6TL7UCIC5Y         0.0         0.0         0.0         0.0         0.0   \n",
       "A1CMD08Z49PGKQ         0.0         0.0         0.0         0.0         0.0   \n",
       "\n",
       "product_id      B00000J1TX  B00000J1US  B00000JBIA  B00000JDGO  B00000JFJA  \\\n",
       "user_id                                                                      \n",
       "A11I1I9QLMAM1A         0.0         0.0         0.0         0.0         0.0   \n",
       "A11KZ906QD08C5         0.0         0.0         0.0         0.0         0.0   \n",
       "A12DQZKRKTNF5E         0.0         0.0         0.0         0.0         0.0   \n",
       "A15QYHQH80W30L         0.0         0.0         0.0         0.0         0.0   \n",
       "A17BUUBOU0598B         0.0         0.0         0.0         0.0         0.0   \n",
       "A17HMM1M7T9PJ1         0.0         0.0         0.0         0.0         0.0   \n",
       "A18HE80910BTZI         0.0         0.0         0.0         0.0         0.0   \n",
       "A19W47CXJJP1MI         0.0         0.0         0.0         0.0         0.0   \n",
       "A1BT6TL7UCIC5Y         0.0         0.0         0.0         0.0         0.0   \n",
       "A1CMD08Z49PGKQ         0.0         0.0         0.0         0.0         0.0   \n",
       "\n",
       "product_id         ...      B00L1I80K2  B00L21HC7A  B00L2442H0  B00L26YDA4  \\\n",
       "user_id            ...                                                       \n",
       "A11I1I9QLMAM1A     ...             0.0         0.0         0.0         0.0   \n",
       "A11KZ906QD08C5     ...             0.0         0.0         0.0         0.0   \n",
       "A12DQZKRKTNF5E     ...             0.0         0.0         0.0         0.0   \n",
       "A15QYHQH80W30L     ...             0.0         0.0         0.0         0.0   \n",
       "A17BUUBOU0598B     ...             0.0         0.0         0.0         0.0   \n",
       "A17HMM1M7T9PJ1     ...             0.0         0.0         0.0         0.0   \n",
       "A18HE80910BTZI     ...             0.0         0.0         0.0         0.0   \n",
       "A19W47CXJJP1MI     ...             0.0         0.0         0.0         0.0   \n",
       "A1BT6TL7UCIC5Y     ...             0.0         0.0         0.0         0.0   \n",
       "A1CMD08Z49PGKQ     ...             0.0         0.0         0.0         0.0   \n",
       "\n",
       "product_id      B00L2P3TRS  B00L3YHF6O  B00L8I6SFY  B00LBZ1Z7K  B00LGQ6HL8  \\\n",
       "user_id                                                                      \n",
       "A11I1I9QLMAM1A         0.0         0.0         0.0         0.0         0.0   \n",
       "A11KZ906QD08C5         0.0         0.0         0.0         0.0         0.0   \n",
       "A12DQZKRKTNF5E         0.0         0.0         0.0         0.0         0.0   \n",
       "A15QYHQH80W30L         0.0         0.0         0.0         0.0         0.0   \n",
       "A17BUUBOU0598B         0.0         0.0         0.0         0.0         0.0   \n",
       "A17HMM1M7T9PJ1         0.0         0.0         0.0         0.0         0.0   \n",
       "A18HE80910BTZI         0.0         0.0         0.0         0.0         0.0   \n",
       "A19W47CXJJP1MI         0.0         0.0         0.0         0.0         0.0   \n",
       "A1BT6TL7UCIC5Y         0.0         0.0         0.0         0.0         0.0   \n",
       "A1CMD08Z49PGKQ         0.0         0.0         0.0         0.0         0.0   \n",
       "\n",
       "product_id      B00LI4ZZO8  \n",
       "user_id                     \n",
       "A11I1I9QLMAM1A         0.0  \n",
       "A11KZ906QD08C5         0.0  \n",
       "A12DQZKRKTNF5E         0.0  \n",
       "A15QYHQH80W30L         0.0  \n",
       "A17BUUBOU0598B         0.0  \n",
       "A17HMM1M7T9PJ1         0.0  \n",
       "A18HE80910BTZI         0.0  \n",
       "A19W47CXJJP1MI         0.0  \n",
       "A1BT6TL7UCIC5Y         0.0  \n",
       "A1CMD08Z49PGKQ         0.0  \n",
       "\n",
       "[10 rows x 4451 columns]"
      ]
     },
     "execution_count": 78,
     "metadata": {},
     "output_type": "execute_result"
    }
   ],
   "source": [
    "cf_model = test.pivot_table(index='user_id', columns='product_id', values='cf_predictions').fillna(0)\n",
    "cf_model.head(10)"
   ]
  },
  {
   "cell_type": "code",
   "execution_count": 79,
   "metadata": {},
   "outputs": [
    {
     "data": {
      "text/plain": [
       "'ARBKYIVNYWK3C'"
      ]
     },
     "execution_count": 79,
     "metadata": {},
     "output_type": "execute_result"
    }
   ],
   "source": [
    "test_pred_df.iloc[162,0]"
   ]
  },
  {
   "cell_type": "code",
   "execution_count": 80,
   "metadata": {},
   "outputs": [],
   "source": [
    "def get_users_predictions(userId, n, model):\n",
    "    recommended_items = pd.DataFrame(model.loc[userId])\n",
    "    recommended_items.columns = [\"predicted_rating\"]\n",
    "    recommended_items = recommended_items.sort_values('predicted_rating', ascending=False)    \n",
    "    recommended_items = recommended_items.head(n)\n",
    "    return recommended_items.index.tolist()"
   ]
  },
  {
   "cell_type": "code",
   "execution_count": 81,
   "metadata": {},
   "outputs": [
    {
     "data": {
      "text/plain": [
       "['B000BQ7GW8',\n",
       " 'B001V9KG0I',\n",
       " 'B00015GYU4',\n",
       " 'B001764QQU',\n",
       " 'B0009GZAGO',\n",
       " 'B000ZMCILW',\n",
       " 'B000BY52NK',\n",
       " 'B00009MDBQ',\n",
       " 'B000W4TZSC',\n",
       " 'B000UE50O2']"
      ]
     },
     "execution_count": 81,
     "metadata": {},
     "output_type": "execute_result"
    }
   ],
   "source": [
    "# Get example prediction\n",
    "get_users_predictions('A2XRMQA6PJ5ZJ8', 10, cf_model)"
   ]
  },
  {
   "cell_type": "code",
   "execution_count": 83,
   "metadata": {},
   "outputs": [
    {
     "name": "stderr",
     "output_type": "stream",
     "text": [
      "C:\\ProgramData\\Anaconda3\\lib\\site-packages\\ipykernel_launcher.py:2: FutureWarning: using a dict on a Series for aggregation\n",
      "is deprecated and will be removed in a future version\n",
      "  \n"
     ]
    },
    {
     "data": {
      "text/html": [
       "<div>\n",
       "<style scoped>\n",
       "    .dataframe tbody tr th:only-of-type {\n",
       "        vertical-align: middle;\n",
       "    }\n",
       "\n",
       "    .dataframe tbody tr th {\n",
       "        vertical-align: top;\n",
       "    }\n",
       "\n",
       "    .dataframe thead th {\n",
       "        text-align: right;\n",
       "    }\n",
       "</style>\n",
       "<table border=\"1\" class=\"dataframe\">\n",
       "  <thead>\n",
       "    <tr style=\"text-align: right;\">\n",
       "      <th></th>\n",
       "      <th>actual</th>\n",
       "      <th>cf_predictions</th>\n",
       "    </tr>\n",
       "    <tr>\n",
       "      <th>user_id</th>\n",
       "      <th></th>\n",
       "      <th></th>\n",
       "    </tr>\n",
       "  </thead>\n",
       "  <tbody>\n",
       "    <tr>\n",
       "      <th>A11I1I9QLMAM1A</th>\n",
       "      <td>[B002HWRJBM, B004C9P9TM, B001GX6MJ8, B009AMBEK...</td>\n",
       "      <td>[B004C9P9TM, B004CLYEE6, B00E055H5O, B00BM7Y7D...</td>\n",
       "    </tr>\n",
       "    <tr>\n",
       "      <th>A11KZ906QD08C5</th>\n",
       "      <td>[B000V2MK8M, B00894YP00, B001D06BZY, B000PTFDY...</td>\n",
       "      <td>[B000JV9LUK, B001SER47O, B004J3V7RO, B00IVFDZB...</td>\n",
       "    </tr>\n",
       "    <tr>\n",
       "      <th>A12DQZKRKTNF5E</th>\n",
       "      <td>[B007Q45EF4, B00CXFH878, B00HNJWVO4, B001UI2FP...</td>\n",
       "      <td>[B003VAGXWK, B0052SCU8U, B00HG1L334, B001O94GN...</td>\n",
       "    </tr>\n",
       "    <tr>\n",
       "      <th>A15QYHQH80W30L</th>\n",
       "      <td>[B004LTM93M, B00004TX71, B001HX44A6, B0012GQZZ...</td>\n",
       "      <td>[B000144I30, B0017JY5FE, B00009WQS1, B000VDCTC...</td>\n",
       "    </tr>\n",
       "    <tr>\n",
       "      <th>A17BUUBOU0598B</th>\n",
       "      <td>[B00BVQXGUI, B004YNE7V2, B004CJ8DKE, B000VXKBZ...</td>\n",
       "      <td>[B00BVQXGUI, B0039BPG1U, B001HMVAWC, B00023CJI...</td>\n",
       "    </tr>\n",
       "  </tbody>\n",
       "</table>\n",
       "</div>"
      ],
      "text/plain": [
       "                                                           actual  \\\n",
       "user_id                                                             \n",
       "A11I1I9QLMAM1A  [B002HWRJBM, B004C9P9TM, B001GX6MJ8, B009AMBEK...   \n",
       "A11KZ906QD08C5  [B000V2MK8M, B00894YP00, B001D06BZY, B000PTFDY...   \n",
       "A12DQZKRKTNF5E  [B007Q45EF4, B00CXFH878, B00HNJWVO4, B001UI2FP...   \n",
       "A15QYHQH80W30L  [B004LTM93M, B00004TX71, B001HX44A6, B0012GQZZ...   \n",
       "A17BUUBOU0598B  [B00BVQXGUI, B004YNE7V2, B004CJ8DKE, B000VXKBZ...   \n",
       "\n",
       "                                                   cf_predictions  \n",
       "user_id                                                            \n",
       "A11I1I9QLMAM1A  [B004C9P9TM, B004CLYEE6, B00E055H5O, B00BM7Y7D...  \n",
       "A11KZ906QD08C5  [B000JV9LUK, B001SER47O, B004J3V7RO, B00IVFDZB...  \n",
       "A12DQZKRKTNF5E  [B003VAGXWK, B0052SCU8U, B00HG1L334, B001O94GN...  \n",
       "A15QYHQH80W30L  [B000144I30, B0017JY5FE, B00009WQS1, B000VDCTC...  \n",
       "A17BUUBOU0598B  [B00BVQXGUI, B0039BPG1U, B001HMVAWC, B00023CJI...  "
      ]
     },
     "execution_count": 83,
     "metadata": {},
     "output_type": "execute_result"
    }
   ],
   "source": [
    "\n",
    "test = test.copy().groupby('user_id')['product_id'].agg({'actual': (lambda x: list(set(x)))})\n",
    "# make recommendations for all members in the test data\n",
    "recs = []\n",
    "for user in test.index:\n",
    "    cf_predictions = get_users_predictions(user, 10, cf_model)\n",
    "    recs.append(cf_predictions)\n",
    "        \n",
    "test['cf_predictions'] = recs\n",
    "test.head()"
   ]
  },
  {
   "cell_type": "code",
   "execution_count": 85,
   "metadata": {},
   "outputs": [
    {
     "data": {
      "text/html": [
       "<div>\n",
       "<style scoped>\n",
       "    .dataframe tbody tr th:only-of-type {\n",
       "        vertical-align: middle;\n",
       "    }\n",
       "\n",
       "    .dataframe tbody tr th {\n",
       "        vertical-align: top;\n",
       "    }\n",
       "\n",
       "    .dataframe thead th {\n",
       "        text-align: right;\n",
       "    }\n",
       "</style>\n",
       "<table border=\"1\" class=\"dataframe\">\n",
       "  <thead>\n",
       "    <tr style=\"text-align: right;\">\n",
       "      <th></th>\n",
       "      <th>actual</th>\n",
       "      <th>cf_predictions</th>\n",
       "      <th>pop_predictions</th>\n",
       "    </tr>\n",
       "    <tr>\n",
       "      <th>user_id</th>\n",
       "      <th></th>\n",
       "      <th></th>\n",
       "      <th></th>\n",
       "    </tr>\n",
       "  </thead>\n",
       "  <tbody>\n",
       "    <tr>\n",
       "      <th>A11I1I9QLMAM1A</th>\n",
       "      <td>[B002HWRJBM, B004C9P9TM, B001GX6MJ8, B009AMBEK...</td>\n",
       "      <td>[B004C9P9TM, B004CLYEE6, B00E055H5O, B00BM7Y7D...</td>\n",
       "      <td>[B003ES5ZUU, B0088CJT4U, B004CLYEDC, B004CLYEF...</td>\n",
       "    </tr>\n",
       "    <tr>\n",
       "      <th>A11KZ906QD08C5</th>\n",
       "      <td>[B000V2MK8M, B00894YP00, B001D06BZY, B000PTFDY...</td>\n",
       "      <td>[B000JV9LUK, B001SER47O, B004J3V7RO, B00IVFDZB...</td>\n",
       "      <td>[B003ES5ZUU, B0088CJT4U, B004CLYEDC, B004CLYEF...</td>\n",
       "    </tr>\n",
       "    <tr>\n",
       "      <th>A12DQZKRKTNF5E</th>\n",
       "      <td>[B007Q45EF4, B00CXFH878, B00HNJWVO4, B001UI2FP...</td>\n",
       "      <td>[B003VAGXWK, B0052SCU8U, B00HG1L334, B001O94GN...</td>\n",
       "      <td>[B003ES5ZUU, B0088CJT4U, B004CLYEDC, B004CLYEF...</td>\n",
       "    </tr>\n",
       "    <tr>\n",
       "      <th>A15QYHQH80W30L</th>\n",
       "      <td>[B004LTM93M, B00004TX71, B001HX44A6, B0012GQZZ...</td>\n",
       "      <td>[B000144I30, B0017JY5FE, B00009WQS1, B000VDCTC...</td>\n",
       "      <td>[B003ES5ZUU, B0088CJT4U, B004CLYEDC, B004CLYEF...</td>\n",
       "    </tr>\n",
       "    <tr>\n",
       "      <th>A17BUUBOU0598B</th>\n",
       "      <td>[B00BVQXGUI, B004YNE7V2, B004CJ8DKE, B000VXKBZ...</td>\n",
       "      <td>[B00BVQXGUI, B0039BPG1U, B001HMVAWC, B00023CJI...</td>\n",
       "      <td>[B003ES5ZUU, B0088CJT4U, B004CLYEDC, B004CLYEF...</td>\n",
       "    </tr>\n",
       "  </tbody>\n",
       "</table>\n",
       "</div>"
      ],
      "text/plain": [
       "                                                           actual  \\\n",
       "user_id                                                             \n",
       "A11I1I9QLMAM1A  [B002HWRJBM, B004C9P9TM, B001GX6MJ8, B009AMBEK...   \n",
       "A11KZ906QD08C5  [B000V2MK8M, B00894YP00, B001D06BZY, B000PTFDY...   \n",
       "A12DQZKRKTNF5E  [B007Q45EF4, B00CXFH878, B00HNJWVO4, B001UI2FP...   \n",
       "A15QYHQH80W30L  [B004LTM93M, B00004TX71, B001HX44A6, B0012GQZZ...   \n",
       "A17BUUBOU0598B  [B00BVQXGUI, B004YNE7V2, B004CJ8DKE, B000VXKBZ...   \n",
       "\n",
       "                                                   cf_predictions  \\\n",
       "user_id                                                             \n",
       "A11I1I9QLMAM1A  [B004C9P9TM, B004CLYEE6, B00E055H5O, B00BM7Y7D...   \n",
       "A11KZ906QD08C5  [B000JV9LUK, B001SER47O, B004J3V7RO, B00IVFDZB...   \n",
       "A12DQZKRKTNF5E  [B003VAGXWK, B0052SCU8U, B00HG1L334, B001O94GN...   \n",
       "A15QYHQH80W30L  [B000144I30, B0017JY5FE, B00009WQS1, B000VDCTC...   \n",
       "A17BUUBOU0598B  [B00BVQXGUI, B0039BPG1U, B001HMVAWC, B00023CJI...   \n",
       "\n",
       "                                                  pop_predictions  \n",
       "user_id                                                            \n",
       "A11I1I9QLMAM1A  [B003ES5ZUU, B0088CJT4U, B004CLYEDC, B004CLYEF...  \n",
       "A11KZ906QD08C5  [B003ES5ZUU, B0088CJT4U, B004CLYEDC, B004CLYEF...  \n",
       "A12DQZKRKTNF5E  [B003ES5ZUU, B0088CJT4U, B004CLYEDC, B004CLYEF...  \n",
       "A15QYHQH80W30L  [B003ES5ZUU, B0088CJT4U, B004CLYEDC, B004CLYEF...  \n",
       "A17BUUBOU0598B  [B003ES5ZUU, B0088CJT4U, B004CLYEDC, B004CLYEF...  "
      ]
     },
     "execution_count": 85,
     "metadata": {},
     "output_type": "execute_result"
    }
   ],
   "source": [
    "# make recommendations for all members in the test data based on popularity based approach\n",
    "popularity_recs = df3.product_id.value_counts().head(10).index.tolist()\n",
    "\n",
    "recs = []\n",
    "for user in test.index:\n",
    "    pop_predictions = popularity_recs\n",
    "    recs.append(pop_predictions)\n",
    "        \n",
    "test['pop_predictions'] = recs\n",
    "test.head()"
   ]
  },
  {
   "cell_type": "code",
   "execution_count": 87,
   "metadata": {},
   "outputs": [
    {
     "data": {
      "text/html": [
       "<div>\n",
       "<style scoped>\n",
       "    .dataframe tbody tr th:only-of-type {\n",
       "        vertical-align: middle;\n",
       "    }\n",
       "\n",
       "    .dataframe tbody tr th {\n",
       "        vertical-align: top;\n",
       "    }\n",
       "\n",
       "    .dataframe thead th {\n",
       "        text-align: right;\n",
       "    }\n",
       "</style>\n",
       "<table border=\"1\" class=\"dataframe\">\n",
       "  <thead>\n",
       "    <tr style=\"text-align: right;\">\n",
       "      <th></th>\n",
       "      <th>actual</th>\n",
       "      <th>cf_predictions</th>\n",
       "      <th>pop_predictions</th>\n",
       "      <th>random_predictions</th>\n",
       "    </tr>\n",
       "    <tr>\n",
       "      <th>user_id</th>\n",
       "      <th></th>\n",
       "      <th></th>\n",
       "      <th></th>\n",
       "      <th></th>\n",
       "    </tr>\n",
       "  </thead>\n",
       "  <tbody>\n",
       "    <tr>\n",
       "      <th>A11I1I9QLMAM1A</th>\n",
       "      <td>[B002HWRJBM, B004C9P9TM, B001GX6MJ8, B009AMBEK...</td>\n",
       "      <td>[B004C9P9TM, B004CLYEE6, B00E055H5O, B00BM7Y7D...</td>\n",
       "      <td>[B003ES5ZUU, B0088CJT4U, B004CLYEDC, B004CLYEF...</td>\n",
       "      <td>[B00DUTIZJG, B009Z2FRWK, B00AAN1SVM, B0082E9K7...</td>\n",
       "    </tr>\n",
       "    <tr>\n",
       "      <th>A11KZ906QD08C5</th>\n",
       "      <td>[B000V2MK8M, B00894YP00, B001D06BZY, B000PTFDY...</td>\n",
       "      <td>[B000JV9LUK, B001SER47O, B004J3V7RO, B00IVFDZB...</td>\n",
       "      <td>[B003ES5ZUU, B0088CJT4U, B004CLYEDC, B004CLYEF...</td>\n",
       "      <td>[B000RRJOVM, B00829THO6, B00004ZCJE, B00AR95ES...</td>\n",
       "    </tr>\n",
       "    <tr>\n",
       "      <th>A12DQZKRKTNF5E</th>\n",
       "      <td>[B007Q45EF4, B00CXFH878, B00HNJWVO4, B001UI2FP...</td>\n",
       "      <td>[B003VAGXWK, B0052SCU8U, B00HG1L334, B001O94GN...</td>\n",
       "      <td>[B003ES5ZUU, B0088CJT4U, B004CLYEDC, B004CLYEF...</td>\n",
       "      <td>[B000JV9NL2, B0041NFIBS, B008X9Z3UC, B003AVN6D...</td>\n",
       "    </tr>\n",
       "    <tr>\n",
       "      <th>A15QYHQH80W30L</th>\n",
       "      <td>[B004LTM93M, B00004TX71, B001HX44A6, B0012GQZZ...</td>\n",
       "      <td>[B000144I30, B0017JY5FE, B00009WQS1, B000VDCTC...</td>\n",
       "      <td>[B003ES5ZUU, B0088CJT4U, B004CLYEDC, B004CLYEF...</td>\n",
       "      <td>[B002TJYVBO, B00KIMX4EY, B008U3038I, B000OZQL3...</td>\n",
       "    </tr>\n",
       "    <tr>\n",
       "      <th>A17BUUBOU0598B</th>\n",
       "      <td>[B00BVQXGUI, B004YNE7V2, B004CJ8DKE, B000VXKBZ...</td>\n",
       "      <td>[B00BVQXGUI, B0039BPG1U, B001HMVAWC, B00023CJI...</td>\n",
       "      <td>[B003ES5ZUU, B0088CJT4U, B004CLYEDC, B004CLYEF...</td>\n",
       "      <td>[B0000AZK1L, B009SYZ8OC, B002WE4HE2, B00009MK3...</td>\n",
       "    </tr>\n",
       "  </tbody>\n",
       "</table>\n",
       "</div>"
      ],
      "text/plain": [
       "                                                           actual  \\\n",
       "user_id                                                             \n",
       "A11I1I9QLMAM1A  [B002HWRJBM, B004C9P9TM, B001GX6MJ8, B009AMBEK...   \n",
       "A11KZ906QD08C5  [B000V2MK8M, B00894YP00, B001D06BZY, B000PTFDY...   \n",
       "A12DQZKRKTNF5E  [B007Q45EF4, B00CXFH878, B00HNJWVO4, B001UI2FP...   \n",
       "A15QYHQH80W30L  [B004LTM93M, B00004TX71, B001HX44A6, B0012GQZZ...   \n",
       "A17BUUBOU0598B  [B00BVQXGUI, B004YNE7V2, B004CJ8DKE, B000VXKBZ...   \n",
       "\n",
       "                                                   cf_predictions  \\\n",
       "user_id                                                             \n",
       "A11I1I9QLMAM1A  [B004C9P9TM, B004CLYEE6, B00E055H5O, B00BM7Y7D...   \n",
       "A11KZ906QD08C5  [B000JV9LUK, B001SER47O, B004J3V7RO, B00IVFDZB...   \n",
       "A12DQZKRKTNF5E  [B003VAGXWK, B0052SCU8U, B00HG1L334, B001O94GN...   \n",
       "A15QYHQH80W30L  [B000144I30, B0017JY5FE, B00009WQS1, B000VDCTC...   \n",
       "A17BUUBOU0598B  [B00BVQXGUI, B0039BPG1U, B001HMVAWC, B00023CJI...   \n",
       "\n",
       "                                                  pop_predictions  \\\n",
       "user_id                                                             \n",
       "A11I1I9QLMAM1A  [B003ES5ZUU, B0088CJT4U, B004CLYEDC, B004CLYEF...   \n",
       "A11KZ906QD08C5  [B003ES5ZUU, B0088CJT4U, B004CLYEDC, B004CLYEF...   \n",
       "A12DQZKRKTNF5E  [B003ES5ZUU, B0088CJT4U, B004CLYEDC, B004CLYEF...   \n",
       "A15QYHQH80W30L  [B003ES5ZUU, B0088CJT4U, B004CLYEDC, B004CLYEF...   \n",
       "A17BUUBOU0598B  [B003ES5ZUU, B0088CJT4U, B004CLYEDC, B004CLYEF...   \n",
       "\n",
       "                                               random_predictions  \n",
       "user_id                                                            \n",
       "A11I1I9QLMAM1A  [B00DUTIZJG, B009Z2FRWK, B00AAN1SVM, B0082E9K7...  \n",
       "A11KZ906QD08C5  [B000RRJOVM, B00829THO6, B00004ZCJE, B00AR95ES...  \n",
       "A12DQZKRKTNF5E  [B000JV9NL2, B0041NFIBS, B008X9Z3UC, B003AVN6D...  \n",
       "A15QYHQH80W30L  [B002TJYVBO, B00KIMX4EY, B008U3038I, B000OZQL3...  \n",
       "A17BUUBOU0598B  [B0000AZK1L, B009SYZ8OC, B002WE4HE2, B00009MK3...  "
      ]
     },
     "execution_count": 87,
     "metadata": {},
     "output_type": "execute_result"
    }
   ],
   "source": [
    "\n",
    "recs = []\n",
    "for user in test.index:\n",
    "    random_predictions = df3.product_id.sample(10).values.tolist()\n",
    "    recs.append(random_predictions)\n",
    "        \n",
    "test['random_predictions'] = recs\n",
    "test.head()"
   ]
  },
  {
   "cell_type": "code",
   "execution_count": 88,
   "metadata": {},
   "outputs": [],
   "source": [
    "actual = test.actual.values.tolist()\n",
    "cf_predictions = test.cf_predictions.values.tolist()\n",
    "pop_predictions = test.pop_predictions.values.tolist()\n",
    "random_predictions = test.random_predictions.values.tolist()"
   ]
  },
  {
   "cell_type": "code",
   "execution_count": 89,
   "metadata": {},
   "outputs": [
    {
     "data": {
      "text/plain": [
       "[0.0009530682196015896,\n",
       " 0.0016689898457506345,\n",
       " 0.0021252997515346984,\n",
       " 0.0023967689215095185,\n",
       " 0.0027014279093752615,\n",
       " 0.0028455689427291223,\n",
       " 0.0030293471391075206,\n",
       " 0.0031364928474213274,\n",
       " 0.0033241908670035274,\n",
       " 0.0035379332571796127]"
      ]
     },
     "execution_count": 89,
     "metadata": {},
     "output_type": "execute_result"
    }
   ],
   "source": [
    "pop_mark = []\n",
    "for K in np.arange(1, 11):\n",
    "    pop_mark.extend([recmetrics.mark(actual, pop_predictions, k=K)])\n",
    "pop_mark"
   ]
  },
  {
   "cell_type": "code",
   "execution_count": 90,
   "metadata": {},
   "outputs": [
    {
     "data": {
      "text/plain": [
       "[0.0002685284640171858,\n",
       " 0.00034583211274940597,\n",
       " 0.00040348229146496,\n",
       " 0.00047274076408477714,\n",
       " 0.00047274076408477714,\n",
       " 0.00047274076408477714,\n",
       " 0.00047274076408477714,\n",
       " 0.0004963613234196222,\n",
       " 0.0004963613234196222,\n",
       " 0.0004963613234196222]"
      ]
     },
     "execution_count": 90,
     "metadata": {},
     "output_type": "execute_result"
    }
   ],
   "source": [
    "random_mark = []\n",
    "for K in np.arange(1, 11):\n",
    "    random_mark.extend([recmetrics.mark(actual, random_predictions, k=K)])\n",
    "random_mark"
   ]
  },
  {
   "cell_type": "code",
   "execution_count": 91,
   "metadata": {},
   "outputs": [
    {
     "data": {
      "text/plain": [
       "[0.019790420490740538,\n",
       " 0.039580840981481076,\n",
       " 0.05937126147222162,\n",
       " 0.07916168196296215,\n",
       " 0.0989521024537027,\n",
       " 0.11874252294444324,\n",
       " 0.13853294343518377,\n",
       " 0.1583233639259243,\n",
       " 0.17811378441666484,\n",
       " 0.1979042049074054]"
      ]
     },
     "execution_count": 91,
     "metadata": {},
     "output_type": "execute_result"
    }
   ],
   "source": [
    "cf_mark = []\n",
    "for K in np.arange(1, 11):\n",
    "    cf_mark.extend([recmetrics.mark(actual, cf_predictions, k=K)])\n",
    "cf_mark"
   ]
  },
  {
   "cell_type": "code",
   "execution_count": 93,
   "metadata": {},
   "outputs": [],
   "source": [
    "catalog = df3.product_id.unique().tolist()\n",
    "random_coverage = recmetrics.coverage(random_predictions, catalog)\n",
    "pop_coverage = recmetrics.coverage(pop_predictions, catalog)\n",
    "cf_coverage = recmetrics.coverage(cf_predictions, catalog)"
   ]
  },
  {
   "cell_type": "code",
   "execution_count": 94,
   "metadata": {},
   "outputs": [
    {
     "data": {
      "image/png": "[encoded data removed]",
      "text/plain": [
       "<matplotlib.figure.Figure at 0x2a2394b8940>"
      ]
     },
     "metadata": {},
     "output_type": "display_data"
    }
   ],
   "source": [
    "coverage_scores = [random_coverage, pop_coverage, cf_coverage]\n",
    "model_names = ['Random Recommender', 'Popularity Recommender', 'Collaborative Filter']\n",
    "\n",
    "fig = plt.figure(figsize=(10, 5))\n",
    "recmetrics.coverage_plot(coverage_scores, model_names)"
   ]
  },
  {
   "cell_type": "code",
   "execution_count": 95,
   "metadata": {},
   "outputs": [
    {
     "data": {
      "text/plain": [
       "0.9959814853776562"
      ]
     },
     "execution_count": 95,
     "metadata": {},
     "output_type": "execute_result"
    }
   ],
   "source": [
    "recmetrics.personalization(cf_predictions)"
   ]
  },
  {
   "cell_type": "code",
   "execution_count": 96,
   "metadata": {},
   "outputs": [
    {
     "data": {
      "text/plain": [
       "2.220446049250313e-16"
      ]
     },
     "execution_count": 96,
     "metadata": {},
     "output_type": "execute_result"
    }
   ],
   "source": [
    "recmetrics.personalization(pop_predictions)"
   ]
  },
  {
   "cell_type": "markdown",
   "metadata": {},
   "source": [
    "### Get top - K (K = 5) recommendations. Since our goal is to recommend new products to each user based on his/her habits,we will recommend 5 new products."
   ]
  },
  {
   "cell_type": "code",
   "execution_count": 97,
   "metadata": {},
   "outputs": [],
   "source": [
    "predictions_df = pd.DataFrame([[x.uid,x.iid,x.est] for x in predictions])"
   ]
  },
  {
   "cell_type": "code",
   "execution_count": 98,
   "metadata": {},
   "outputs": [],
   "source": [
    "predictions_df.columns = [\"user_id\",\"product_id\",\"est_rating\"]\n",
    "predictions_df.sort_values(by = [\"user_id\",\"product_id\", \"est_rating\"],ascending=False,inplace=True)"
   ]
  },
  {
   "cell_type": "code",
   "execution_count": 100,
   "metadata": {},
   "outputs": [
    {
     "data": {
      "text/html": [
       "<div>\n",
       "<style scoped>\n",
       "    .dataframe tbody tr th:only-of-type {\n",
       "        vertical-align: middle;\n",
       "    }\n",
       "\n",
       "    .dataframe tbody tr th {\n",
       "        vertical-align: top;\n",
       "    }\n",
       "\n",
       "    .dataframe thead th {\n",
       "        text-align: right;\n",
       "    }\n",
       "</style>\n",
       "<table border=\"1\" class=\"dataframe\">\n",
       "  <thead>\n",
       "    <tr style=\"text-align: right;\">\n",
       "      <th></th>\n",
       "      <th>user_id</th>\n",
       "      <th>product_id</th>\n",
       "      <th>est_rating</th>\n",
       "    </tr>\n",
       "  </thead>\n",
       "  <tbody>\n",
       "    <tr>\n",
       "      <th>0</th>\n",
       "      <td>A3W4D8XOGLWUN5</td>\n",
       "      <td>B00LKG1MC8</td>\n",
       "      <td>5.0</td>\n",
       "    </tr>\n",
       "    <tr>\n",
       "      <th>1</th>\n",
       "      <td>A3W4D8XOGLWUN5</td>\n",
       "      <td>B00LGQ6HL8</td>\n",
       "      <td>5.0</td>\n",
       "    </tr>\n",
       "    <tr>\n",
       "      <th>2</th>\n",
       "      <td>A3W4D8XOGLWUN5</td>\n",
       "      <td>B00LA6T0LS</td>\n",
       "      <td>4.0</td>\n",
       "    </tr>\n",
       "    <tr>\n",
       "      <th>3</th>\n",
       "      <td>A3W4D8XOGLWUN5</td>\n",
       "      <td>B00L8I6SFY</td>\n",
       "      <td>5.0</td>\n",
       "    </tr>\n",
       "    <tr>\n",
       "      <th>4</th>\n",
       "      <td>A3W4D8XOGLWUN5</td>\n",
       "      <td>B00L43HAY6</td>\n",
       "      <td>5.0</td>\n",
       "    </tr>\n",
       "  </tbody>\n",
       "</table>\n",
       "</div>"
      ],
      "text/plain": [
       "          user_id  product_id  est_rating\n",
       "0  A3W4D8XOGLWUN5  B00LKG1MC8         5.0\n",
       "1  A3W4D8XOGLWUN5  B00LGQ6HL8         5.0\n",
       "2  A3W4D8XOGLWUN5  B00LA6T0LS         4.0\n",
       "3  A3W4D8XOGLWUN5  B00L8I6SFY         5.0\n",
       "4  A3W4D8XOGLWUN5  B00L43HAY6         5.0"
      ]
     },
     "execution_count": 100,
     "metadata": {},
     "output_type": "execute_result"
    }
   ],
   "source": [
    "top_5_recos = predictions_df.groupby(\"user_id\").head(5).reset_index(drop=True)\n",
    "top_5_recos.head(5)"
   ]
  },
  {
   "cell_type": "markdown",
   "metadata": {},
   "source": [
    "### The recall rate of collaberative filtering is more when compared to poularity model. Also coverage of collaberative filetring is better than popularity model. When the recommendation is not user's specific we can go for popularity model."
   ]
  },
  {
   "cell_type": "markdown",
   "metadata": {},
   "source": [
    "### Tried hybrid recommendation system but needs to understand more"
   ]
  },
  {
   "cell_type": "markdown",
   "metadata": {
    "colab": {},
    "colab_type": "code",
    "id": "T8L6-zdJXnev"
   },
   "source": [
    "### hybrid recommendation system"
   ]
  },
  {
   "cell_type": "code",
   "execution_count": null,
   "metadata": {
    "colab": {
     "base_uri": "https://localhost:8080/",
     "height": 34
    },
    "colab_type": "code",
    "id": "zpXd9ie89KeT",
    "outputId": "7855b027-c589-45b8-db46-746c6fa316d8"
   },
   "outputs": [],
   "source": [
    "df3.shape"
   ]
  },
  {
   "cell_type": "code",
   "execution_count": null,
   "metadata": {
    "colab": {
     "base_uri": "https://localhost:8080/",
     "height": 5494
    },
    "colab_type": "code",
    "id": "UuvPtCTSg--7",
    "outputId": "49f8ed0a-798b-4ecf-9889-a45f65e23200"
   },
   "outputs": [],
   "source": [
    "R_df = df3.pivot(index = 'user_id', columns ='product_id', values = 'ratings').fillna(0)\n",
    "R_df.head"
   ]
  },
  {
   "cell_type": "code",
   "execution_count": null,
   "metadata": {
    "colab": {},
    "colab_type": "code",
    "id": "5S2Knt7Rg_JT"
   },
   "outputs": [],
   "source": [
    "from scipy.sparse.linalg import svds\n",
    "U, sigma, Vt = svds(R_df, k = 50)"
   ]
  },
  {
   "cell_type": "code",
   "execution_count": null,
   "metadata": {
    "colab": {},
    "colab_type": "code",
    "id": "IiK0w2q8g651"
   },
   "outputs": [],
   "source": [
    "#diag\n",
    "sigma = np.diag(sigma)"
   ]
  },
  {
   "cell_type": "code",
   "execution_count": null,
   "metadata": {
    "colab": {},
    "colab_type": "code",
    "id": "6JOLt96Oamuv"
   },
   "outputs": [],
   "source": [
    "#I also need to add the user means back to get the predicted 5-star ratings\n",
    "all_user_predicted_ratings = np.dot(np.dot(U, sigma), Vt) \n",
    "preds_df = pd.DataFrame(all_user_predicted_ratings, columns = R_df.columns)"
   ]
  },
  {
   "cell_type": "code",
   "execution_count": null,
   "metadata": {
    "colab": {
     "base_uri": "https://localhost:8080/",
     "height": 253
    },
    "colab_type": "code",
    "id": "JMErsgqdWKTZ",
    "outputId": "9338b445-37f3-483f-80e1-8fe07a1a6683"
   },
   "outputs": [],
   "source": [
    "preds_df.head()"
   ]
  },
  {
   "cell_type": "code",
   "execution_count": null,
   "metadata": {
    "colab": {
     "base_uri": "https://localhost:8080/",
     "height": 238
    },
    "colab_type": "code",
    "id": "BOJfJYayh6jT",
    "outputId": "18d354a0-dd94-4810-9338-007c64c202e6"
   },
   "outputs": [],
   "source": [
    "sigma"
   ]
  },
  {
   "cell_type": "code",
   "execution_count": null,
   "metadata": {
    "colab": {
     "base_uri": "https://localhost:8080/",
     "height": 1969
    },
    "colab_type": "code",
    "id": "WhfUQvhXjnzG",
    "outputId": "fdfcc772-2f8f-41db-9275-edfb6fe528bb"
   },
   "outputs": [],
   "source": [
    "df3.sort_values(['ratings'], ascending=False)"
   ]
  },
  {
   "cell_type": "code",
   "execution_count": null,
   "metadata": {
    "colab": {
     "base_uri": "https://localhost:8080/",
     "height": 51
    },
    "colab_type": "code",
    "id": "p_bToy9Uh6cD",
    "outputId": "7cd5ecb8-74cf-4c1f-c3a3-5b605625ac1a"
   },
   "outputs": [],
   "source": [
    "# return the movies with the highest predicted rating that the specified user hasn’t already rated\n",
    "#Take specific user row from matrix from predictions\n",
    "def recommend_movies(predictions_df, userID, original_ratings_df, num_recommendations=5):\n",
    "    \n",
    "    # Get and sort the user's predictions\n",
    "    sorted_user_predictions = predictions_df.iloc[1].sort_values(ascending=False)\n",
    "    \n",
    "    # Get the user's data and merge in the movie information.\n",
    "    user_data = original_ratings_df[original_ratings_df.user_id == (userID)]\n",
    "    #Added title and genres\n",
    "    user_full = (\n",
    "                     original_ratings_df.sort_values(['ratings'], ascending=False)\n",
    "                 )\n",
    "\n",
    "    print ('User {0} has already rated {1} products.'.format(userID, user_full.shape[0]))\n",
    "    print ('Recommending the highest {0} predicted ratings product not already rated.'.format(num_recommendations))\n",
    "    \n",
    "    # Recommend the highest predicted rating movies that the user hasn't seen yet.\n",
    "    recommendations = (original_ratings_df[~original_ratings_df['product_id'].isin(user_full['product_id'])].\n",
    "         merge(pd.DataFrame(sorted_user_predictions).reset_index(), how = 'left',\n",
    "               left_on = 'product_id',\n",
    "               right_on = 'product_id').\n",
    "         rename(columns = {1: 'Predictions'}).\n",
    "         sort_values('Predictions', ascending = False).\n",
    "                       iloc[:num_recommendations, :-1]\n",
    "                      )\n",
    "\n",
    "    return user_full, recommendations, sorted_user_predictions, user_data, user_full\n",
    "\n",
    "already_rated, predictions, sorted_user_predictions, user_data, user_full = recommend_movies(preds_df, 'A2BYV7S1QP2YIG', df3, 10)"
   ]
  },
  {
   "cell_type": "code",
   "execution_count": null,
   "metadata": {
    "colab": {
     "base_uri": "https://localhost:8080/",
     "height": 1088
    },
    "colab_type": "code",
    "id": "o4i4OConh6YU",
    "outputId": "7e400f18-021b-42d9-ae17-26da50a58abd"
   },
   "outputs": [],
   "source": [
    "sorted_user_predictions"
   ]
  },
  {
   "cell_type": "code",
   "execution_count": null,
   "metadata": {
    "colab": {},
    "colab_type": "code",
    "id": "LB0HUioWoibw"
   },
   "outputs": [],
   "source": []
  }
 ],
 "metadata": {
  "colab": {
   "name": "Recommendation Systems_R5_Project.ipynb",
   "provenance": [],
   "version": "0.3.2"
  },
  "kernelspec": {
   "display_name": "Python 3",
   "language": "python",
   "name": "python3"
  },
  "language_info": {
   "codemirror_mode": {
    "name": "ipython",
    "version": 3
   },
   "file_extension": ".py",
   "mimetype": "text/x-python",
   "name": "python",
   "nbconvert_exporter": "python",
   "pygments_lexer": "ipython3",
   "version": "3.7.3"
  }
 },
 "nbformat": 4,
 "nbformat_minor": 2
}
