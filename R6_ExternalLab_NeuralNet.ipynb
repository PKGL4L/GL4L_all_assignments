{
  "nbformat": 4,
  "nbformat_minor": 0,
  "metadata": {
    "colab": {
      "name": "R6_ExternalLab_NeuralNet.ipynb",
      "version": "0.3.2",
      "provenance": [],
      "toc_visible": true
    },
    "kernelspec": {
      "display_name": "Python 3",
      "language": "python",
      "name": "python3"
    }
  },
  "cells": [
    {
      "metadata": {
        "colab_type": "text",
        "id": "YYk8NG3yOIT9"
      },
      "cell_type": "markdown",
      "source": [
        "### A MNIST-like fashion product database\n",
        "\n",
        "In this, we classify the images into respective classes given in the dataset. We use a Neural Net and a Deep Neural Net in Keras to solve this and check the accuracy scores."
      ]
    },
    {
      "metadata": {
        "colab_type": "text",
        "id": "tFO6PuxzOIT_",
        "slideshow": {
          "slide_type": "slide"
        }
      },
      "cell_type": "markdown",
      "source": [
        "### Load tensorflow"
      ]
    },
    {
      "metadata": {
        "colab_type": "code",
        "id": "efNjNImfOIUC",
        "colab": {}
      },
      "cell_type": "code",
      "source": [
        "import tensorflow as tf\n",
        "tf.set_random_seed(42)"
      ],
      "execution_count": 0,
      "outputs": []
    },
    {
      "metadata": {
        "colab_type": "code",
        "id": "l9C4aAIGOIUH",
        "outputId": "d44c587e-6661-4bf1-d385-01d7c078e2b9",
        "colab": {
          "base_uri": "https://localhost:8080/",
          "height": 34
        }
      },
      "cell_type": "code",
      "source": [
        "tf.__version__"
      ],
      "execution_count": 77,
      "outputs": [
        {
          "output_type": "execute_result",
          "data": {
            "text/plain": [
              "'1.13.1'"
            ]
          },
          "metadata": {
            "tags": []
          },
          "execution_count": 77
        }
      ]
    },
    {
      "metadata": {
        "colab_type": "text",
        "id": "HcoZBStrOIUQ",
        "slideshow": {
          "slide_type": "slide"
        }
      },
      "cell_type": "markdown",
      "source": [
        "### Collect Data"
      ]
    },
    {
      "metadata": {
        "colab_type": "code",
        "id": "XA1WsFSeOIUS",
        "colab": {}
      },
      "cell_type": "code",
      "source": [
        "import tensorflow.keras as keras"
      ],
      "execution_count": 0,
      "outputs": []
    },
    {
      "metadata": {
        "colab_type": "code",
        "id": "qnbx7TyQOIUY",
        "colab": {}
      },
      "cell_type": "code",
      "source": [
        "(trainX, trainY), (testX, testY) = keras.datasets.fashion_mnist.load_data()"
      ],
      "execution_count": 0,
      "outputs": []
    },
    {
      "metadata": {
        "colab_type": "code",
        "id": "UbiHj5YPOIUc",
        "outputId": "57cd1c02-7c93-4637-cef5-acf034f5d55d",
        "slideshow": {
          "slide_type": "fragment"
        },
        "colab": {
          "base_uri": "https://localhost:8080/",
          "height": 34
        }
      },
      "cell_type": "code",
      "source": [
        "print(testY[0:5])"
      ],
      "execution_count": 80,
      "outputs": [
        {
          "output_type": "stream",
          "text": [
            "[9 2 1 1 6]\n"
          ],
          "name": "stdout"
        }
      ]
    },
    {
      "metadata": {
        "colab_type": "text",
        "id": "lDAYzkwyOIUj",
        "slideshow": {
          "slide_type": "slide"
        }
      },
      "cell_type": "markdown",
      "source": [
        "### Convert both training and testing labels into one-hot vectors.\n",
        "\n",
        "**Hint:** check **tf.keras.utils.to_categorical()**"
      ]
    },
    {
      "metadata": {
        "colab_type": "code",
        "id": "vBlfYlANOIUk",
        "colab": {}
      },
      "cell_type": "code",
      "source": [
        "trainY = keras.utils.to_categorical(trainY)\n",
        "testY = keras.utils.to_categorical(testY)"
      ],
      "execution_count": 0,
      "outputs": []
    },
    {
      "metadata": {
        "colab_type": "code",
        "id": "RHV3b9mzOIUq",
        "outputId": "6505f36b-57bb-4b27-c6e8-d53535ff313e",
        "scrolled": true,
        "slideshow": {
          "slide_type": "fragment"
        },
        "colab": {
          "base_uri": "https://localhost:8080/",
          "height": 119
        }
      },
      "cell_type": "code",
      "source": [
        "print(trainY.shape)\n",
        "print('First 5 examples now are: ', trainY[0:5])"
      ],
      "execution_count": 82,
      "outputs": [
        {
          "output_type": "stream",
          "text": [
            "(60000, 10)\n",
            "First 5 examples now are:  [[0. 0. 0. 0. 0. 0. 0. 0. 0. 1.]\n",
            " [1. 0. 0. 0. 0. 0. 0. 0. 0. 0.]\n",
            " [1. 0. 0. 0. 0. 0. 0. 0. 0. 0.]\n",
            " [0. 0. 0. 1. 0. 0. 0. 0. 0. 0.]\n",
            " [1. 0. 0. 0. 0. 0. 0. 0. 0. 0.]]\n"
          ],
          "name": "stdout"
        }
      ]
    },
    {
      "metadata": {
        "colab_type": "text",
        "id": "FwhQ8e7VOIUw"
      },
      "cell_type": "markdown",
      "source": [
        "### Visualize the data\n",
        "\n",
        "Plot first 10 images in the triaining set and their labels."
      ]
    },
    {
      "metadata": {
        "id": "3kzr6uHmoYyr",
        "colab_type": "code",
        "colab": {}
      },
      "cell_type": "code",
      "source": [
        "import matplotlib.pyplot as plt"
      ],
      "execution_count": 0,
      "outputs": []
    },
    {
      "metadata": {
        "colab_type": "code",
        "id": "AvDML2OoOIUx",
        "outputId": "62f7ca71-02f1-4489-b4a5-bdc04aa36d3a",
        "colab": {
          "base_uri": "https://localhost:8080/",
          "height": 156
        }
      },
      "cell_type": "code",
      "source": [
        "fig=plt.figure(figsize=(15, 15))\n",
        "col = 10\n",
        "row = 1\n",
        "labels = []\n",
        "for i in range(0, col*row):\n",
        "    fig.add_subplot(row, col, i+1)\n",
        "    plt.axis('off')\n",
        "    plt.imshow(trainX[i],cmap='gray')\n",
        "    labels.append(trainY[i].tolist().index(1))\n",
        "plt.show()\n",
        "print(\"label for each of the above image:\\n\", labels)"
      ],
      "execution_count": 17,
      "outputs": [
        {
          "output_type": "display_data",
          "data": {
            "image/png": "[encoded data removed]",
            "text/plain": [
              "<Figure size 1080x1080 with 10 Axes>"
            ]
          },
          "metadata": {
            "tags": []
          }
        },
        {
          "output_type": "stream",
          "text": [
            "label for each of the above image:\n",
            " [9, 0, 0, 3, 0, 2, 7, 2, 5, 5]\n"
          ],
          "name": "stdout"
        }
      ]
    },
    {
      "metadata": {
        "id": "b_t06GfMoXKi",
        "colab_type": "code",
        "colab": {
          "base_uri": "https://localhost:8080/",
          "height": 156
        },
        "outputId": "d8f5bb14-93f9-468a-87c7-816999c46e32"
      },
      "cell_type": "code",
      "source": [
        "fig=plt.figure(figsize=(15, 15))\n",
        "col = 10\n",
        "row = 1\n",
        "labels = []\n",
        "for i in range(0, col*row):\n",
        "    fig.add_subplot(row, col, i+1)\n",
        "    plt.axis('off')\n",
        "    plt.imshow(testX[i],cmap='gray')\n",
        "    labels.append(testY[i].tolist().index(1))\n",
        "plt.show()\n",
        "print(\"label for each of the above image:\\n\", labels)"
      ],
      "execution_count": 83,
      "outputs": [
        {
          "output_type": "display_data",
          "data": {
            "image/png": "[encoded data removed]",
            "text/plain": [
              "<Figure size 1080x1080 with 10 Axes>"
            ]
          },
          "metadata": {
            "tags": []
          }
        },
        {
          "output_type": "stream",
          "text": [
            "label for each of the above image:\n",
            " [9, 2, 1, 1, 6, 1, 4, 6, 5, 7]\n"
          ],
          "name": "stdout"
        }
      ]
    },
    {
      "metadata": {
        "colab_type": "text",
        "id": "l4TbJGeSOIU4",
        "slideshow": {
          "slide_type": "slide"
        }
      },
      "cell_type": "markdown",
      "source": [
        "### Build a neural Network with a cross entropy loss function and sgd optimizer in Keras. The output layer with 10 neurons as we have 10 classes."
      ]
    },
    {
      "metadata": {
        "colab_type": "code",
        "id": "Ac06XZZTOIU6",
        "colab": {}
      },
      "cell_type": "code",
      "source": [
        "model = keras.Sequential([\n",
        "    keras.layers.Reshape((784,),input_shape=(28,28,)),\n",
        "    keras.layers.Dense(100, activation=tf.nn.sigmoid),\n",
        "    keras.layers.Dense(100, activation=tf.nn.sigmoid),\n",
        "    keras.layers.Dense(10, activation=tf.nn.softmax)\n",
        "])\n",
        "\n",
        "model.compile(optimizer='sgd', loss='categorical_crossentropy', metrics=['accuracy'])"
      ],
      "execution_count": 0,
      "outputs": []
    },
    {
      "metadata": {
        "colab_type": "text",
        "id": "3hQpLv3aOIU_",
        "slideshow": {
          "slide_type": "slide"
        }
      },
      "cell_type": "markdown",
      "source": [
        "### Execute the model using model.fit()"
      ]
    },
    {
      "metadata": {
        "colab_type": "code",
        "id": "O59C_-IgOIVB",
        "colab": {
          "base_uri": "https://localhost:8080/",
          "height": 374
        },
        "outputId": "89856ee8-fd72-4e12-f499-9e57d2d39f57"
      },
      "cell_type": "code",
      "source": [
        "model.fit(trainX, trainY, batch_size=64,epochs=10)"
      ],
      "execution_count": 34,
      "outputs": [
        {
          "output_type": "stream",
          "text": [
            "Epoch 1/10\n",
            "60000/60000 [==============================] - 3s 49us/sample - loss: 1.6574 - acc: 0.5884\n",
            "Epoch 2/10\n",
            "60000/60000 [==============================] - 3s 44us/sample - loss: 1.0328 - acc: 0.7147\n",
            "Epoch 3/10\n",
            "60000/60000 [==============================] - 3s 44us/sample - loss: 0.8016 - acc: 0.7649\n",
            "Epoch 4/10\n",
            "60000/60000 [==============================] - 3s 44us/sample - loss: 0.6875 - acc: 0.7871\n",
            "Epoch 5/10\n",
            "60000/60000 [==============================] - 3s 44us/sample - loss: 0.6253 - acc: 0.7998\n",
            "Epoch 6/10\n",
            "60000/60000 [==============================] - 3s 44us/sample - loss: 0.5884 - acc: 0.8055\n",
            "Epoch 7/10\n",
            "60000/60000 [==============================] - 3s 44us/sample - loss: 0.5680 - acc: 0.8116\n",
            "Epoch 8/10\n",
            "60000/60000 [==============================] - 3s 44us/sample - loss: 0.5448 - acc: 0.8155\n",
            "Epoch 9/10\n",
            "60000/60000 [==============================] - 3s 43us/sample - loss: 0.5385 - acc: 0.8166\n",
            "Epoch 10/10\n",
            "60000/60000 [==============================] - 3s 44us/sample - loss: 0.5274 - acc: 0.8195\n"
          ],
          "name": "stdout"
        },
        {
          "output_type": "execute_result",
          "data": {
            "text/plain": [
              "<tensorflow.python.keras.callbacks.History at 0x7f11eb3684e0>"
            ]
          },
          "metadata": {
            "tags": []
          },
          "execution_count": 34
        }
      ]
    },
    {
      "metadata": {
        "id": "PQCWMfN5urZW",
        "colab_type": "text"
      },
      "cell_type": "markdown",
      "source": [
        "Checking dropouts"
      ]
    },
    {
      "metadata": {
        "colab_type": "code",
        "id": "0P2F3IUwrjpn",
        "colab": {}
      },
      "cell_type": "code",
      "source": [
        "model = keras.Sequential([\n",
        "    keras.layers.Reshape((784,),input_shape=(28,28,)),\n",
        "    keras.layers.Dense(100, activation=tf.nn.sigmoid),\n",
        "    keras.layers.Dropout(0.2),\n",
        "    keras.layers.Dense(100, activation=tf.nn.sigmoid),\n",
        "    keras.layers.Dense(10, activation=tf.nn.softmax)\n",
        "])\n",
        "\n",
        "model.compile(optimizer='sgd', loss='categorical_crossentropy', metrics=['accuracy'])"
      ],
      "execution_count": 0,
      "outputs": []
    },
    {
      "metadata": {
        "id": "CybcnQRNsFmm",
        "colab_type": "code",
        "colab": {
          "base_uri": "https://localhost:8080/",
          "height": 374
        },
        "outputId": "16b9fc5d-df22-4bf7-b1ea-d06685afe161"
      },
      "cell_type": "code",
      "source": [
        "model.fit(trainX, trainY, batch_size=64,epochs=10)"
      ],
      "execution_count": 43,
      "outputs": [
        {
          "output_type": "stream",
          "text": [
            "Epoch 1/10\n",
            "60000/60000 [==============================] - 3s 52us/sample - loss: 1.7755 - acc: 0.5245\n",
            "Epoch 2/10\n",
            "60000/60000 [==============================] - 3s 50us/sample - loss: 1.1219 - acc: 0.6958\n",
            "Epoch 3/10\n",
            "60000/60000 [==============================] - 3s 52us/sample - loss: 0.8674 - acc: 0.7366\n",
            "Epoch 4/10\n",
            "60000/60000 [==============================] - 3s 52us/sample - loss: 0.7470 - acc: 0.7617\n",
            "Epoch 5/10\n",
            "60000/60000 [==============================] - 3s 52us/sample - loss: 0.6819 - acc: 0.7752\n",
            "Epoch 6/10\n",
            "60000/60000 [==============================] - 3s 48us/sample - loss: 0.6487 - acc: 0.7800\n",
            "Epoch 7/10\n",
            "60000/60000 [==============================] - 3s 48us/sample - loss: 0.6205 - acc: 0.7846\n",
            "Epoch 8/10\n",
            "60000/60000 [==============================] - 3s 48us/sample - loss: 0.6055 - acc: 0.7900\n",
            "Epoch 9/10\n",
            "60000/60000 [==============================] - 3s 48us/sample - loss: 0.5960 - acc: 0.7942\n",
            "Epoch 10/10\n",
            "60000/60000 [==============================] - 3s 48us/sample - loss: 0.5779 - acc: 0.7985\n"
          ],
          "name": "stdout"
        },
        {
          "output_type": "execute_result",
          "data": {
            "text/plain": [
              "<tensorflow.python.keras.callbacks.History at 0x7f11e9ffec18>"
            ]
          },
          "metadata": {
            "tags": []
          },
          "execution_count": 43
        }
      ]
    },
    {
      "metadata": {
        "id": "v5DfVeOOuwQ5",
        "colab_type": "text"
      },
      "cell_type": "markdown",
      "source": [
        "Dropouts didn't perform well"
      ]
    },
    {
      "metadata": {
        "colab_type": "text",
        "id": "JdzDtGwDOIVF",
        "slideshow": {
          "slide_type": "slide"
        }
      },
      "cell_type": "markdown",
      "source": [
        "### In the above Neural Network model add Batch Normalization layer after the input layer and repeat the steps."
      ]
    },
    {
      "metadata": {
        "id": "EreQJVW5u0hx",
        "colab_type": "text"
      },
      "cell_type": "markdown",
      "source": [
        ""
      ]
    },
    {
      "metadata": {
        "colab_type": "code",
        "id": "kndfpdidOIVI",
        "colab": {}
      },
      "cell_type": "code",
      "source": [
        "model = keras.Sequential([\n",
        "    keras.layers.Reshape((784,),input_shape=(28,28,)),\n",
        "    keras.layers.BatchNormalization(),\n",
        "    keras.layers.Dense(100, activation=tf.nn.sigmoid),\n",
        "    keras.layers.Dense(100, activation=tf.nn.sigmoid),\n",
        "    keras.layers.Dense(10, activation=tf.nn.softmax)\n",
        "])\n",
        "\n",
        "model.compile(optimizer='sgd', loss='categorical_crossentropy', metrics=['accuracy'])"
      ],
      "execution_count": 0,
      "outputs": []
    },
    {
      "metadata": {
        "id": "1OeYyt3tsfJv",
        "colab_type": "code",
        "colab": {
          "base_uri": "https://localhost:8080/",
          "height": 374
        },
        "outputId": "6e135427-9dc5-4ae9-aaf8-743457929ea6"
      },
      "cell_type": "code",
      "source": [
        "model.fit(trainX, trainY, batch_size=64,epochs=10)"
      ],
      "execution_count": 45,
      "outputs": [
        {
          "output_type": "stream",
          "text": [
            "Epoch 1/10\n",
            "60000/60000 [==============================] - 4s 69us/sample - loss: 1.8175 - acc: 0.5767\n",
            "Epoch 2/10\n",
            "60000/60000 [==============================] - 4s 63us/sample - loss: 1.1987 - acc: 0.7009\n",
            "Epoch 3/10\n",
            "60000/60000 [==============================] - 4s 64us/sample - loss: 0.9145 - acc: 0.7328\n",
            "Epoch 4/10\n",
            "60000/60000 [==============================] - 4s 63us/sample - loss: 0.7732 - acc: 0.7494\n",
            "Epoch 5/10\n",
            "60000/60000 [==============================] - 4s 64us/sample - loss: 0.6944 - acc: 0.7628\n",
            "Epoch 6/10\n",
            "60000/60000 [==============================] - 4s 63us/sample - loss: 0.6419 - acc: 0.7750\n",
            "Epoch 7/10\n",
            "60000/60000 [==============================] - 4s 63us/sample - loss: 0.6058 - acc: 0.7867\n",
            "Epoch 8/10\n",
            "60000/60000 [==============================] - 4s 63us/sample - loss: 0.5754 - acc: 0.7965\n",
            "Epoch 9/10\n",
            "60000/60000 [==============================] - 4s 64us/sample - loss: 0.5518 - acc: 0.8055\n",
            "Epoch 10/10\n",
            "60000/60000 [==============================] - 4s 64us/sample - loss: 0.5321 - acc: 0.8118\n"
          ],
          "name": "stdout"
        },
        {
          "output_type": "execute_result",
          "data": {
            "text/plain": [
              "<tensorflow.python.keras.callbacks.History at 0x7f11ea455f98>"
            ]
          },
          "metadata": {
            "tags": []
          },
          "execution_count": 45
        }
      ]
    },
    {
      "metadata": {
        "id": "OGTsQ0AWu3iF",
        "colab_type": "text"
      },
      "cell_type": "markdown",
      "source": [
        "Batch Normalization works much better than non-regularized network"
      ]
    },
    {
      "metadata": {
        "colab_type": "text",
        "id": "mwk3T5LJOIVN",
        "slideshow": {
          "slide_type": "slide"
        }
      },
      "cell_type": "markdown",
      "source": [
        "### Execute the model"
      ]
    },
    {
      "metadata": {
        "colab_type": "code",
        "id": "JNLR8tcBOIVP",
        "colab": {}
      },
      "cell_type": "code",
      "source": [
        ""
      ],
      "execution_count": 0,
      "outputs": []
    },
    {
      "metadata": {
        "colab_type": "text",
        "id": "Py-KwkmjOIVU"
      },
      "cell_type": "markdown",
      "source": [
        "### Customize the learning rate to 0.001 in sgd optimizer and run the model"
      ]
    },
    {
      "metadata": {
        "colab_type": "code",
        "id": "yLXUE9jWOIVV",
        "colab": {}
      },
      "cell_type": "code",
      "source": [
        "model = keras.Sequential([\n",
        "    keras.layers.Reshape((784,),input_shape=(28,28,)),\n",
        "    keras.layers.BatchNormalization(),\n",
        "    keras.layers.Dense(100, activation=tf.nn.sigmoid),\n",
        "    keras.layers.Dense(100, activation=tf.nn.sigmoid),\n",
        "    keras.layers.Dense(10, activation=tf.nn.softmax)\n",
        "])\n",
        "\n",
        "model.compile(optimizer=keras.optimizers.SGD(lr=0.001), loss='categorical_crossentropy', metrics=['accuracy'])"
      ],
      "execution_count": 0,
      "outputs": []
    },
    {
      "metadata": {
        "colab_type": "code",
        "id": "pJUqA5T4OIVc",
        "colab": {
          "base_uri": "https://localhost:8080/",
          "height": 374
        },
        "outputId": "9b5c02d6-0118-488b-a40a-1bbad3118095"
      },
      "cell_type": "code",
      "source": [
        "model.fit(trainX,trainY,batch_size=64,epochs=10)"
      ],
      "execution_count": 48,
      "outputs": [
        {
          "output_type": "stream",
          "text": [
            "Epoch 1/10\n",
            "60000/60000 [==============================] - 4s 69us/sample - loss: 2.2744 - acc: 0.2030\n",
            "Epoch 2/10\n",
            "60000/60000 [==============================] - 4s 65us/sample - loss: 2.1597 - acc: 0.4680\n",
            "Epoch 3/10\n",
            "60000/60000 [==============================] - 4s 64us/sample - loss: 2.0675 - acc: 0.5649\n",
            "Epoch 4/10\n",
            "60000/60000 [==============================] - 4s 64us/sample - loss: 1.9786 - acc: 0.5969\n",
            "Epoch 5/10\n",
            "60000/60000 [==============================] - 4s 64us/sample - loss: 1.8912 - acc: 0.6088\n",
            "Epoch 6/10\n",
            "60000/60000 [==============================] - 4s 65us/sample - loss: 1.8054 - acc: 0.6216\n",
            "Epoch 7/10\n",
            "60000/60000 [==============================] - 4s 65us/sample - loss: 1.7214 - acc: 0.6293\n",
            "Epoch 8/10\n",
            "60000/60000 [==============================] - 4s 64us/sample - loss: 1.6400 - acc: 0.6313\n",
            "Epoch 9/10\n",
            "60000/60000 [==============================] - 4s 68us/sample - loss: 1.5632 - acc: 0.6424\n",
            "Epoch 10/10\n",
            "60000/60000 [==============================] - 4s 65us/sample - loss: 1.4914 - acc: 0.6464\n"
          ],
          "name": "stdout"
        },
        {
          "output_type": "execute_result",
          "data": {
            "text/plain": [
              "<tensorflow.python.keras.callbacks.History at 0x7f11e9a80780>"
            ]
          },
          "metadata": {
            "tags": []
          },
          "execution_count": 48
        }
      ]
    },
    {
      "metadata": {
        "id": "LvQiAOKzvC6T",
        "colab_type": "text"
      },
      "cell_type": "markdown",
      "source": [
        "A very low learning rate shows that the model hasn't been able to reach the global minima and hence the poor accuracy after 10 epochs"
      ]
    },
    {
      "metadata": {
        "id": "rthmhE68tdk0",
        "colab_type": "code",
        "colab": {}
      },
      "cell_type": "code",
      "source": [
        "model = keras.Sequential([\n",
        "    keras.layers.Reshape((784,),input_shape=(28,28,)),\n",
        "    keras.layers.BatchNormalization(),\n",
        "    keras.layers.Dense(100, activation=tf.nn.sigmoid),\n",
        "    keras.layers.Dense(100, activation=tf.nn.sigmoid),\n",
        "    keras.layers.Dense(10, activation=tf.nn.softmax)\n",
        "])\n",
        "\n",
        "model.compile(optimizer=keras.optimizers.SGD(lr=0.01), loss='categorical_crossentropy', metrics=['accuracy'])"
      ],
      "execution_count": 0,
      "outputs": []
    },
    {
      "metadata": {
        "id": "iRDoKozTth0e",
        "colab_type": "code",
        "colab": {
          "base_uri": "https://localhost:8080/",
          "height": 374
        },
        "outputId": "2f79c3cd-ac86-4351-9233-5796e0f21a1d"
      },
      "cell_type": "code",
      "source": [
        "model.fit(trainX,trainY,batch_size=64,epochs=10)"
      ],
      "execution_count": 50,
      "outputs": [
        {
          "output_type": "stream",
          "text": [
            "Epoch 1/10\n",
            "60000/60000 [==============================] - 4s 70us/sample - loss: 1.8645 - acc: 0.5316\n",
            "Epoch 2/10\n",
            "60000/60000 [==============================] - 4s 65us/sample - loss: 1.2337 - acc: 0.6917\n",
            "Epoch 3/10\n",
            "60000/60000 [==============================] - 4s 66us/sample - loss: 0.9424 - acc: 0.7297\n",
            "Epoch 4/10\n",
            "60000/60000 [==============================] - 4s 66us/sample - loss: 0.7956 - acc: 0.7452\n",
            "Epoch 5/10\n",
            "60000/60000 [==============================] - 4s 66us/sample - loss: 0.7107 - acc: 0.7581\n",
            "Epoch 6/10\n",
            "60000/60000 [==============================] - 4s 66us/sample - loss: 0.6570 - acc: 0.7688\n",
            "Epoch 7/10\n",
            "60000/60000 [==============================] - 4s 66us/sample - loss: 0.6181 - acc: 0.7819\n",
            "Epoch 8/10\n",
            "60000/60000 [==============================] - 4s 65us/sample - loss: 0.5866 - acc: 0.7929\n",
            "Epoch 9/10\n",
            "60000/60000 [==============================] - 4s 65us/sample - loss: 0.5623 - acc: 0.8012\n",
            "Epoch 10/10\n",
            "60000/60000 [==============================] - 4s 65us/sample - loss: 0.5413 - acc: 0.8101\n"
          ],
          "name": "stdout"
        },
        {
          "output_type": "execute_result",
          "data": {
            "text/plain": [
              "<tensorflow.python.keras.callbacks.History at 0x7f11e9fb40f0>"
            ]
          },
          "metadata": {
            "tags": []
          },
          "execution_count": 50
        }
      ]
    },
    {
      "metadata": {
        "id": "cANETtlXvQnL",
        "colab_type": "text"
      },
      "cell_type": "markdown",
      "source": [
        "Accuracy improved significantly by increasing learning rate. "
      ]
    },
    {
      "metadata": {
        "id": "0rMcx4x4tyP2",
        "colab_type": "code",
        "colab": {}
      },
      "cell_type": "code",
      "source": [
        "model = keras.Sequential([\n",
        "    keras.layers.Reshape((784,),input_shape=(28,28,)),\n",
        "    keras.layers.BatchNormalization(),\n",
        "    keras.layers.Dense(100, activation=tf.nn.sigmoid),\n",
        "    keras.layers.Dense(100, activation=tf.nn.sigmoid),\n",
        "    keras.layers.Dense(10, activation=tf.nn.softmax)\n",
        "])\n",
        "\n",
        "model.compile(optimizer=keras.optimizers.SGD(lr=0.01), loss='categorical_crossentropy', metrics=['accuracy'])"
      ],
      "execution_count": 0,
      "outputs": []
    },
    {
      "metadata": {
        "id": "8PJDwMTNt3Zx",
        "colab_type": "code",
        "colab": {
          "base_uri": "https://localhost:8080/",
          "height": 544
        },
        "outputId": "ad72da7a-602c-40c4-fe25-e80f5204c323"
      },
      "cell_type": "code",
      "source": [
        "model.fit(trainX,trainY,batch_size=64,epochs=15)"
      ],
      "execution_count": 56,
      "outputs": [
        {
          "output_type": "stream",
          "text": [
            "Epoch 1/15\n",
            "60000/60000 [==============================] - 4s 70us/sample - loss: 1.8543 - acc: 0.5512\n",
            "Epoch 2/15\n",
            "60000/60000 [==============================] - 4s 66us/sample - loss: 1.2305 - acc: 0.6991\n",
            "Epoch 3/15\n",
            "60000/60000 [==============================] - 4s 65us/sample - loss: 0.9285 - acc: 0.7284\n",
            "Epoch 4/15\n",
            "60000/60000 [==============================] - 4s 66us/sample - loss: 0.7818 - acc: 0.7459\n",
            "Epoch 5/15\n",
            "60000/60000 [==============================] - 4s 67us/sample - loss: 0.7009 - acc: 0.7602\n",
            "Epoch 6/15\n",
            "60000/60000 [==============================] - 4s 67us/sample - loss: 0.6494 - acc: 0.7727\n",
            "Epoch 7/15\n",
            "60000/60000 [==============================] - 4s 69us/sample - loss: 0.6124 - acc: 0.7843\n",
            "Epoch 8/15\n",
            "60000/60000 [==============================] - 4s 65us/sample - loss: 0.5826 - acc: 0.7953\n",
            "Epoch 9/15\n",
            "60000/60000 [==============================] - 4s 66us/sample - loss: 0.5586 - acc: 0.8031\n",
            "Epoch 10/15\n",
            "60000/60000 [==============================] - 4s 66us/sample - loss: 0.5398 - acc: 0.8097\n",
            "Epoch 11/15\n",
            "60000/60000 [==============================] - 4s 67us/sample - loss: 0.5230 - acc: 0.8153\n",
            "Epoch 12/15\n",
            "60000/60000 [==============================] - 4s 66us/sample - loss: 0.5082 - acc: 0.8206\n",
            "Epoch 13/15\n",
            "60000/60000 [==============================] - 4s 67us/sample - loss: 0.4969 - acc: 0.8249\n",
            "Epoch 14/15\n",
            "60000/60000 [==============================] - 4s 67us/sample - loss: 0.4858 - acc: 0.8281\n",
            "Epoch 15/15\n",
            "60000/60000 [==============================] - 4s 66us/sample - loss: 0.4759 - acc: 0.8325\n"
          ],
          "name": "stdout"
        },
        {
          "output_type": "execute_result",
          "data": {
            "text/plain": [
              "<tensorflow.python.keras.callbacks.History at 0x7f11e83690f0>"
            ]
          },
          "metadata": {
            "tags": []
          },
          "execution_count": 56
        }
      ]
    },
    {
      "metadata": {
        "id": "n2hzpPiuvZW4",
        "colab_type": "text"
      },
      "cell_type": "markdown",
      "source": [
        "Not much improvement on LR = 0.1 when the epoch was 10. However, acuracy improved with epoch = 15\n",
        "\n",
        "\n",
        "\n"
      ]
    },
    {
      "metadata": {
        "colab_type": "text",
        "id": "j9CSqKvpOIVk",
        "slideshow": {
          "slide_type": "slide"
        }
      },
      "cell_type": "markdown",
      "source": [
        "### Build the Neural Network model with 3 Dense layers with 100,100,10 neurons respectively in each layer. Use cross entropy loss function and singmoid as activation in the hidden layers and softmax as activation function in the output layer. Use sgd optimizer with learning rate 0.03."
      ]
    },
    {
      "metadata": {
        "colab_type": "code",
        "id": "GGAad54JOIVm",
        "colab": {}
      },
      "cell_type": "code",
      "source": [
        "model = keras.Sequential([\n",
        "    keras.layers.Reshape((784,),input_shape=(28,28,)),\n",
        "    keras.layers.BatchNormalization(),\n",
        "    keras.layers.Dense(100, activation=tf.nn.sigmoid),\n",
        "    keras.layers.Dense(100, activation=tf.nn.sigmoid),\n",
        "    keras.layers.Dense(10, activation=tf.nn.softmax)\n",
        "])\n",
        "\n",
        "model.compile(optimizer=keras.optimizers.SGD(lr=0.03), loss='categorical_crossentropy', metrics=['accuracy'])"
      ],
      "execution_count": 0,
      "outputs": []
    },
    {
      "metadata": {
        "colab_type": "code",
        "id": "MQ7oIymROIVp",
        "colab": {
          "base_uri": "https://localhost:8080/",
          "height": 544
        },
        "outputId": "d4e85d37-376c-4e24-8f22-6bd378d84344"
      },
      "cell_type": "code",
      "source": [
        "model.fit(trainX, trainY, batch_size=64,epochs=15)"
      ],
      "execution_count": 58,
      "outputs": [
        {
          "output_type": "stream",
          "text": [
            "Epoch 1/15\n",
            "60000/60000 [==============================] - 4s 71us/sample - loss: 1.3217 - acc: 0.6505\n",
            "Epoch 2/15\n",
            "60000/60000 [==============================] - 4s 66us/sample - loss: 0.7085 - acc: 0.7613\n",
            "Epoch 3/15\n",
            "60000/60000 [==============================] - 4s 66us/sample - loss: 0.5798 - acc: 0.7971\n",
            "Epoch 4/15\n",
            "60000/60000 [==============================] - 4s 67us/sample - loss: 0.5190 - acc: 0.8175\n",
            "Epoch 5/15\n",
            "60000/60000 [==============================] - 4s 67us/sample - loss: 0.4863 - acc: 0.8281\n",
            "Epoch 6/15\n",
            "60000/60000 [==============================] - 4s 66us/sample - loss: 0.4621 - acc: 0.8368\n",
            "Epoch 7/15\n",
            "60000/60000 [==============================] - 4s 66us/sample - loss: 0.4456 - acc: 0.8418\n",
            "Epoch 8/15\n",
            "60000/60000 [==============================] - 4s 67us/sample - loss: 0.4282 - acc: 0.8481\n",
            "Epoch 9/15\n",
            "60000/60000 [==============================] - 4s 67us/sample - loss: 0.4166 - acc: 0.8522\n",
            "Epoch 10/15\n",
            "60000/60000 [==============================] - 4s 67us/sample - loss: 0.4062 - acc: 0.8555\n",
            "Epoch 11/15\n",
            "60000/60000 [==============================] - 4s 67us/sample - loss: 0.3976 - acc: 0.8586\n",
            "Epoch 12/15\n",
            "60000/60000 [==============================] - 4s 67us/sample - loss: 0.3892 - acc: 0.8610\n",
            "Epoch 13/15\n",
            "60000/60000 [==============================] - 4s 68us/sample - loss: 0.3840 - acc: 0.8633\n",
            "Epoch 14/15\n",
            "60000/60000 [==============================] - 4s 66us/sample - loss: 0.3753 - acc: 0.8659\n",
            "Epoch 15/15\n",
            "60000/60000 [==============================] - 4s 67us/sample - loss: 0.3686 - acc: 0.8680\n"
          ],
          "name": "stdout"
        },
        {
          "output_type": "execute_result",
          "data": {
            "text/plain": [
              "<tensorflow.python.keras.callbacks.History at 0x7f11e7d84748>"
            ]
          },
          "metadata": {
            "tags": []
          },
          "execution_count": 58
        }
      ]
    },
    {
      "metadata": {
        "id": "2RZPcMnrwhqy",
        "colab_type": "text"
      },
      "cell_type": "markdown",
      "source": [
        "Don't see significant increase in accuracy from epoch 10 to 15. "
      ]
    },
    {
      "metadata": {
        "colab_type": "text",
        "id": "Nr2YsZV0OIV0",
        "slideshow": {
          "slide_type": "slide"
        }
      },
      "cell_type": "markdown",
      "source": [
        "## Review model"
      ]
    },
    {
      "metadata": {
        "colab_type": "code",
        "id": "h4ojW6-oOIV2",
        "colab": {
          "base_uri": "https://localhost:8080/",
          "height": 306
        },
        "outputId": "8d6fbb41-4ca5-4229-8ed5-297dfaadea6e"
      },
      "cell_type": "code",
      "source": [
        "model.summary()"
      ],
      "execution_count": 66,
      "outputs": [
        {
          "output_type": "stream",
          "text": [
            "_________________________________________________________________\n",
            "Layer (type)                 Output Shape              Param #   \n",
            "=================================================================\n",
            "reshape_23 (Reshape)         (None, 784)               0         \n",
            "_________________________________________________________________\n",
            "batch_normalization_v1_7 (Ba (None, 784)               3136      \n",
            "_________________________________________________________________\n",
            "dense_69 (Dense)             (None, 100)               78500     \n",
            "_________________________________________________________________\n",
            "dense_70 (Dense)             (None, 100)               10100     \n",
            "_________________________________________________________________\n",
            "dense_71 (Dense)             (None, 10)                1010      \n",
            "=================================================================\n",
            "Total params: 92,746\n",
            "Trainable params: 91,178\n",
            "Non-trainable params: 1,568\n",
            "_________________________________________________________________\n"
          ],
          "name": "stdout"
        }
      ]
    },
    {
      "metadata": {
        "id": "iDgn-qHNwsvB",
        "colab_type": "code",
        "colab": {
          "base_uri": "https://localhost:8080/",
          "height": 34
        },
        "outputId": "627e604f-64cc-4c54-c8c0-b2b182738bc0"
      },
      "cell_type": "code",
      "source": [
        "score = model.evaluate(trainX, trainY, verbose=0)\n",
        "print('Test accuracy:', score[1])"
      ],
      "execution_count": 67,
      "outputs": [
        {
          "output_type": "stream",
          "text": [
            "Test accuracy: 0.87621665\n"
          ],
          "name": "stdout"
        }
      ]
    },
    {
      "metadata": {
        "colab_type": "text",
        "id": "gfFGmbZLOIV5",
        "slideshow": {
          "slide_type": "slide"
        }
      },
      "cell_type": "markdown",
      "source": [
        "### Run the model"
      ]
    },
    {
      "metadata": {
        "colab_type": "code",
        "id": "bIkbMEN5OIV7",
        "colab": {}
      },
      "cell_type": "code",
      "source": [
        " y_predict = model.predict(testX)"
      ],
      "execution_count": 0,
      "outputs": []
    },
    {
      "metadata": {
        "id": "h9aYd1AGw8BR",
        "colab_type": "code",
        "colab": {
          "base_uri": "https://localhost:8080/",
          "height": 68
        },
        "outputId": "c2a3c23a-7925-4ead-a47d-9c4e2361dedc"
      },
      "cell_type": "code",
      "source": [
        "y_predict[0]"
      ],
      "execution_count": 69,
      "outputs": [
        {
          "output_type": "execute_result",
          "data": {
            "text/plain": [
              "array([1.7031359e-04, 5.3359382e-04, 6.0939428e-04, 1.1697564e-03,\n",
              "       4.1722076e-04, 1.2002794e-01, 4.4108625e-04, 1.7764100e-01,\n",
              "       6.2831272e-03, 6.9270658e-01], dtype=float32)"
            ]
          },
          "metadata": {
            "tags": []
          },
          "execution_count": 69
        }
      ]
    },
    {
      "metadata": {
        "id": "r_Yr4UQNw_Lz",
        "colab_type": "code",
        "colab": {
          "base_uri": "https://localhost:8080/",
          "height": 855
        },
        "outputId": "c755743a-e37e-4343-f189-2aefc028c499"
      },
      "cell_type": "code",
      "source": [
        "fig=plt.figure(figsize=(15, 15))\n",
        "col = 5\n",
        "row = 4\n",
        "plabels=[]\n",
        "for i in range(0, col*row):\n",
        "    fig.add_subplot(row, col, i+1)\n",
        "    plt.axis('off')\n",
        "    plt.imshow(trainX[i],cmap='gray')\n",
        "    actual = testY[i].tolist().index(1)\n",
        "    predicted = y_predict[i].argmax()\n",
        "    plt.title(\"Actual: \"+ str(actual) + \"\\nPredicted: \"+ str(predicted), \n",
        "              y=-0.3, color='green' if actual == predicted else 'red')\n",
        "    labels.append(testY[i].tolist().index(1))\n",
        "    plabels.append(y_predict[i].argmax())\n",
        "plt.show()"
      ],
      "execution_count": 85,
      "outputs": [
        {
          "output_type": "display_data",
          "data": {
            "image/png": "[encoded data removed]",
            "text/plain": [
              "<Figure size 1080x1080 with 20 Axes>"
            ]
          },
          "metadata": {
            "tags": []
          }
        }
      ]
    }
  ]
}